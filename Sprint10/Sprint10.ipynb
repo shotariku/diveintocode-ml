{
 "cells": [
  {
   "cell_type": "code",
   "execution_count": 1,
   "metadata": {},
   "outputs": [],
   "source": [
    "import numpy as np\n",
    "import pandas as pd\n",
    "from matplotlib import pyplot as plt\n",
    "%matplotlib inline\n",
    "from sklearn.model_selection import train_test_split\n",
    "from sklearn.metrics import accuracy_score"
   ]
  },
  {
   "cell_type": "code",
   "execution_count": 2,
   "metadata": {},
   "outputs": [],
   "source": [
    "from sklearn.datasets import fetch_openml\n",
    "\n",
    "mnist = fetch_openml('mnist_784', version=1,)"
   ]
  },
  {
   "cell_type": "code",
   "execution_count": 3,
   "metadata": {},
   "outputs": [],
   "source": [
    "X_train = mnist.data[:60000]\n",
    "X_test = mnist.data[60000:]\n",
    "y_train = mnist.target[:60000]\n",
    "y_test = mnist.target[60000:]"
   ]
  },
  {
   "cell_type": "code",
   "execution_count": 4,
   "metadata": {},
   "outputs": [
    {
     "name": "stdout",
     "output_type": "stream",
     "text": [
      "1.0\n",
      "0.0\n"
     ]
    }
   ],
   "source": [
    "X_train = X_train.astype(np.float)\n",
    "X_test = X_test.astype(np.float)\n",
    "X_train /= 255\n",
    "X_test /= 255\n",
    "print(X_train.max()) # 1.0\n",
    "print(X_train.min()) # 0.0"
   ]
  },
  {
   "cell_type": "code",
   "execution_count": 5,
   "metadata": {},
   "outputs": [
    {
     "name": "stdout",
     "output_type": "stream",
     "text": [
      "(60000,)\n",
      "(60000, 10)\n",
      "float64\n"
     ]
    }
   ],
   "source": [
    "from sklearn.preprocessing import OneHotEncoder\n",
    "enc = OneHotEncoder(handle_unknown='ignore', sparse=False)\n",
    "y_train_one_hot = enc.fit_transform(y_train[:, np.newaxis])\n",
    "y_test_one_hot = enc.transform(y_test[:, np.newaxis])\n",
    "print(y_train.shape) # (60000,)\n",
    "print(y_train_one_hot.shape) # (60000, 10)\n",
    "print(y_train_one_hot.dtype) # float64"
   ]
  },
  {
   "cell_type": "code",
   "execution_count": 6,
   "metadata": {},
   "outputs": [],
   "source": [
    "X_tr, X_val, y_tr, y_val = train_test_split(X_train, y_train_one_hot, train_size=0.8)"
   ]
  },
  {
   "cell_type": "code",
   "execution_count": 7,
   "metadata": {},
   "outputs": [],
   "source": [
    "class GetMiniBatch:\n",
    "    \"\"\"\n",
    "    ミニバッチを取得するイテレータ\n",
    "\n",
    "    Parameters\n",
    "    ----------\n",
    "    X : 次の形のndarray, shape (n_samples, n_features)\n",
    "      訓練用データ\n",
    "    y : 次の形のndarray, shape (n_samples, 1)\n",
    "      正解値\n",
    "    batch_size : int\n",
    "      バッチサイズ\n",
    "    seed : int\n",
    "      NumPyの乱数のシード\n",
    "    \"\"\"\n",
    "    def __init__(self, X, y, batch_size = 20, seed=0):\n",
    "        self.batch_size = batch_size\n",
    "        np.random.seed(seed)\n",
    "        shuffle_index = np.random.permutation(np.arange(X.shape[0]))\n",
    "        self._X = X[shuffle_index]\n",
    "        self._y = y[shuffle_index]\n",
    "        self._stop = np.ceil(X.shape[0]/self.batch_size).astype(np.int)\n",
    "\n",
    "    def __len__(self):\n",
    "        return self._stop\n",
    "\n",
    "    def __getitem__(self,item):\n",
    "        p0 = item*self.batch_size\n",
    "        p1 = item*self.batch_size + self.batch_size\n",
    "        return self._X[p0:p1], self._y[p0:p1]        \n",
    "\n",
    "    def __iter__(self):\n",
    "        self._counter = 0\n",
    "        return self\n",
    "\n",
    "    def __next__(self):\n",
    "        if self._counter >= self._stop:\n",
    "            raise StopIteration()\n",
    "        p0 = self._counter*self.batch_size\n",
    "        p1 = self._counter*self.batch_size + self.batch_size\n",
    "        self._counter += 1\n",
    "        return self._X[p0:p1], self._y[p0:p1]"
   ]
  },
  {
   "cell_type": "markdown",
   "metadata": {},
   "source": [
    "# 【問題1】全結合層のクラス化"
   ]
  },
  {
   "cell_type": "code",
   "execution_count": 8,
   "metadata": {},
   "outputs": [],
   "source": [
    "class FC:\n",
    "    \"\"\"\n",
    "    ノード数n_nodes1からn_nodes2への全結合層\n",
    "    Parameters\n",
    "    ----------\n",
    "    n_nodes1 : int\n",
    "      前の層のノード数\n",
    "    n_nodes2 : int\n",
    "      後の層のノード数\n",
    "    initializer : 初期化方法のインスタンス\n",
    "    optimizer : 最適化手法のインスタンス\n",
    "    \"\"\"\n",
    "    def __init__(self, n_nodes1, n_nodes2, initializer, optimizer):\n",
    "        initialize_function = initializer(n_nodes1)\n",
    "        self.optimizer = optimizer()\n",
    "        self.W = initialize_function.init_weight(n_nodes1, n_nodes2)\n",
    "        self.B = initialize_function.init_bias(n_nodes2)\n",
    "        \n",
    "    def forward(self, X):\n",
    "        \"\"\"\n",
    "        フォワード\n",
    "        Parameters\n",
    "        ----------\n",
    "        X : 次の形のndarray, shape (batch_size, n_nodes1)\n",
    "            入力\n",
    "        Returns\n",
    "        ----------\n",
    "        A : 次の形のndarray, shape (batch_size, n_nodes2)\n",
    "            出力\n",
    "        \"\"\"        \n",
    "        self.X = X\n",
    "        A = np.dot(X, self.W) + self.B\n",
    "        \n",
    "        return A\n",
    "    \n",
    "    def backward(self, dA):\n",
    "        \"\"\"\n",
    "        バックワード\n",
    "        Parameters\n",
    "        ----------\n",
    "        dA : 次の形のndarray, shape (batch_size, n_nodes2)\n",
    "            後ろから流れてきた勾配\n",
    "        Returns\n",
    "        ----------\n",
    "        dZ : 次の形のndarray, shape (batch_size, n_nodes1)\n",
    "            前に流す勾配\n",
    "        \"\"\"\n",
    "        self.dB = np.sum(dA, axis=0)\n",
    "        self.dW = np.dot(self.X.T, dA)\n",
    "        dZ = np.dot(dA, self.W.T)\n",
    "        \n",
    "        # 更新\n",
    "        self = self.optimizer.update(self)\n",
    "        \n",
    "        return dZ"
   ]
  },
  {
   "cell_type": "markdown",
   "metadata": {},
   "source": [
    "# 【問題2】初期化方法のクラス化"
   ]
  },
  {
   "cell_type": "code",
   "execution_count": 9,
   "metadata": {},
   "outputs": [],
   "source": [
    "class SimpleInitializer:\n",
    "    \"\"\"\n",
    "    ガウス分布によるシンプルな初期化\n",
    "    Parameters\n",
    "    ----------\n",
    "    sigma : float\n",
    "      ガウス分布の標準偏差\n",
    "    \"\"\"\n",
    "    def __init__(self, sigma=0.01):\n",
    "        self.sigma = sigma\n",
    "        \n",
    "    def W(self, n_nodes1, n_nodes2):\n",
    "        \"\"\"\n",
    "        重みの初期化\n",
    "        Parameters\n",
    "        ----------\n",
    "        n_nodes1 : int\n",
    "          前の層のノード数\n",
    "        n_nodes2 : int\n",
    "          後の層のノード数\n",
    "\n",
    "        Returns\n",
    "        ----------\n",
    "        W :重み\n",
    "        \"\"\"\n",
    "        W = self.sigma*np.random.randn(n_nodes1, n_nodes2)\n",
    "        \n",
    "        return W\n",
    "    \n",
    "    def B(self, n_nodes2):\n",
    "        \"\"\"\n",
    "        バイアスの初期化\n",
    "        Parameters\n",
    "        ----------\n",
    "        n_nodes2 : int\n",
    "          後の層のノード数\n",
    "\n",
    "        Returns\n",
    "        ----------\n",
    "        B :バイアス\n",
    "        \"\"\"\n",
    "        B = self.sigma*np.random.randn(1, n_nodes2)\n",
    "        \n",
    "        return B"
   ]
  },
  {
   "cell_type": "markdown",
   "metadata": {},
   "source": [
    "# 【問題3】最適化手法のクラス化"
   ]
  },
  {
   "cell_type": "code",
   "execution_count": 10,
   "metadata": {},
   "outputs": [],
   "source": [
    "class SGD:\n",
    "    \"\"\"\n",
    "    確率的勾配降下法\n",
    "    Parameters\n",
    "    ----------\n",
    "    lr : 学習率\n",
    "    \"\"\"\n",
    "    def __init__(self, lr=0.01):\n",
    "        self.lr = lr\n",
    "        \n",
    "    def update(self, layer):\n",
    "        \"\"\"\n",
    "        ある層の重みやバイアスの更新\n",
    "        Parameters\n",
    "        ----------\n",
    "        layer : 更新前の層のインスタンス\n",
    "        \"\"\"\n",
    "        layer.W -= self.lr*layer.dW\n",
    "        layer.B -= self.lr*layer.dB\n",
    "        \n",
    "        return layer"
   ]
  },
  {
   "cell_type": "markdown",
   "metadata": {},
   "source": [
    "# 【問題4】活性化関数のクラス化"
   ]
  },
  {
   "cell_type": "code",
   "execution_count": 11,
   "metadata": {},
   "outputs": [],
   "source": [
    "class Sigmoid:\n",
    "    def __init__(self):\n",
    "        pass\n",
    "    \n",
    "    def forward(self, A):\n",
    "        self.A = A\n",
    "        Z = 1/(1 + np.exp(-self.A))\n",
    "        \n",
    "        return Z\n",
    "    \n",
    "    def backward(self, dZ):\n",
    "        dA = dZ*(1 - self.A)*self.A\n",
    "        \n",
    "        return dA"
   ]
  },
  {
   "cell_type": "code",
   "execution_count": 12,
   "metadata": {},
   "outputs": [],
   "source": [
    "class Tanh:\n",
    "    def __init__(self):\n",
    "        pass\n",
    "    \n",
    "    def forward(self, A):\n",
    "        self.A = A\n",
    "        Z = np.tanh(A)\n",
    "        \n",
    "        return Z\n",
    "    \n",
    "    def backward(self, dZ):\n",
    "        dA = dZ*(1 - np.tanh(self.A)**2)\n",
    "        \n",
    "        return dA"
   ]
  },
  {
   "cell_type": "code",
   "execution_count": 13,
   "metadata": {},
   "outputs": [],
   "source": [
    "class SoftmaxWithLoss:\n",
    "    def __init__(self):\n",
    "        pass\n",
    "    \n",
    "    def forward(self, A):\n",
    "        A -= np.max(A, axis=-1, keepdims=True)\n",
    "        self.softmax = np.exp(A)/np.sum(np.exp(A), axis=-1, keepdims=True)\n",
    "        \n",
    "        return self.softmax\n",
    "    \n",
    "    def backward(self, y):\n",
    "        loss = -np.sum(y*np.log(self.softmax + 1e-7))/y.shape[0]\n",
    "        dA = self.softmax - y\n",
    "        \n",
    "        return loss, dA"
   ]
  },
  {
   "cell_type": "markdown",
   "metadata": {},
   "source": [
    "# 【問題5】ReLUクラスの作成"
   ]
  },
  {
   "cell_type": "code",
   "execution_count": 14,
   "metadata": {},
   "outputs": [],
   "source": [
    "class Relu:\n",
    "    def __init__(self):\n",
    "        self.mask = None\n",
    "        \n",
    "    def forward(self, A):\n",
    "        self.mask = (A <=0)\n",
    "        Z = A.copy()\n",
    "        Z[self.mask] = 0\n",
    "        \n",
    "        return Z\n",
    "    \n",
    "    def backward(self, dZ):\n",
    "        dZ[self.mask] = 0\n",
    "        dA = dZ\n",
    "        \n",
    "        return dA"
   ]
  },
  {
   "cell_type": "markdown",
   "metadata": {},
   "source": [
    "# 【問題6】重みの初期値"
   ]
  },
  {
   "cell_type": "code",
   "execution_count": 15,
   "metadata": {},
   "outputs": [],
   "source": [
    "class XavierInitializer:\n",
    "    def __init__(self, n_nodes1):\n",
    "        self.sigma = 1/np.sqrt(n_nodes1)\n",
    "        \n",
    "    def init_weight(self, n_nodes1, n_nodes2):\n",
    "        W = self.sigma*np.random.randn(n_nodes1, n_nodes2)\n",
    "        \n",
    "        return W\n",
    "    \n",
    "    def init_bias(self, n_nodes2):\n",
    "        B = self.sigma*np.random.randn(1, n_nodes2)\n",
    "        \n",
    "        return B"
   ]
  },
  {
   "cell_type": "code",
   "execution_count": 16,
   "metadata": {},
   "outputs": [],
   "source": [
    "class HeInitializer:\n",
    "    def __init__(self, n_nodes1):\n",
    "        self.sigma = np.sqrt(2/n_nodes1)\n",
    "        \n",
    "    def init_weight(self, n_nodes1, n_nodes2):\n",
    "        W = self.sigma*np.random.randn(n_nodes1, n_nodes2)\n",
    "        \n",
    "        return W\n",
    "    \n",
    "    def init_bias(self, n_nodes2):\n",
    "        B = self.sigma*np.random.randn(1, n_nodes2)\n",
    "        \n",
    "        return B"
   ]
  },
  {
   "cell_type": "markdown",
   "metadata": {},
   "source": [
    "# 【問題7】最適化手法"
   ]
  },
  {
   "cell_type": "code",
   "execution_count": 17,
   "metadata": {},
   "outputs": [],
   "source": [
    "class AdaGrad:\n",
    "    def __init__(self, lr=0.01):\n",
    "        self.lr = lr\n",
    "        self.h_W = 0\n",
    "        self.h_B = 0\n",
    "        \n",
    "    def update(self, layer):\n",
    "        self.h_W += layer.dW**2\n",
    "        self.h_B += layer.dB**2\n",
    "        layer.W -= self.lr*layer.dW/np.sqrt(self.h_W + 1e-7)\n",
    "        layer.B -= self.lr*layer.dB/np.sqrt(self.h_B + 1e-7)\n",
    "        \n",
    "        return layer"
   ]
  },
  {
   "cell_type": "markdown",
   "metadata": {},
   "source": [
    "# 【問題8】クラスの完成"
   ]
  },
  {
   "cell_type": "code",
   "execution_count": 18,
   "metadata": {},
   "outputs": [],
   "source": [
    "class ScratchDeepNeuralNetrowkClassifier:\n",
    "    def __init__(self, epochs=10, verbose=True):\n",
    "        self.epoch = epochs\n",
    "        self.verbose = verbose\n",
    "        self.layers = {}\n",
    "        self.layers['Affine1'] =  FC(784, 400, XavierInitializer, SGD)\n",
    "        self.layers['Activation1'] = Tanh()\n",
    "        self.layers['Affine2'] =  FC(400, 200, HeInitializer, SGD)\n",
    "        self.layers['Activation2'] = Relu()\n",
    "        self.layers['Affine3'] =  FC(200, 10, HeInitializer, SGD)\n",
    "        self.last_layer = SoftmaxWithLoss()\n",
    "        \n",
    "    def fit(self, X, y, X_val=None, y_val=None):\n",
    "        self.loss_list = []\n",
    "        self.loss_epoch_list = []\n",
    "        self.loss_val_epoch_list = []\n",
    "        for i in range(self.epoch):\n",
    "            get_mini_batch = GetMiniBatch(X, y, batch_size=20, seed=i)\n",
    "            loss_tmp_list = []\n",
    "            for X_batch, y_batch in get_mini_batch:\n",
    "                for layer in self.layers.values():\n",
    "                    X_batch = layer.forward(X_batch)\n",
    "                softmax = self.last_layer.forward(X_batch)\n",
    "                loss, dA = self.last_layer.backward(y_batch)\n",
    "                self.loss_list.append(loss)\n",
    "                loss_tmp_list.append(loss)\n",
    "                layers = list(self.layers.values())\n",
    "                layers.reverse()\n",
    "                for layer in layers:\n",
    "                    dA = layer.backward(dA)\n",
    "                    \n",
    "            epoch_mean_loss = np.mean(loss_tmp_list)\n",
    "            self.loss_epoch_list.append(epoch_mean_loss)\n",
    "            if self.verbose:\n",
    "                print(epoch_mean_loss)\n",
    "            if X_val is not None and y_val is not None:\n",
    "                X_val_copy = X_val.copy()\n",
    "                for layer in self.layers.values():\n",
    "                    X_val_copy = layer.forward(X_val_copy)\n",
    "                softmax_val = self.last_layer.forward(X_val_copy)\n",
    "                loss_val = -np.sum(y_val*np.log(softmax_val + 1e-7))/y_val.shape[0]\n",
    "            self.loss_val_epoch_list.append(loss_val)\n",
    "                    \n",
    "    def predict(self, X):\n",
    "        for layer in self.layers.values():\n",
    "            X = layer.forward(X)\n",
    "        self.last_layer.forward(X)\n",
    "        y_pred = np.argmax(self.last_layer.softmax, axis=1)\n",
    "        \n",
    "        return y_pred"
   ]
  },
  {
   "cell_type": "markdown",
   "metadata": {},
   "source": [
    "# 【問題9】学習と推定"
   ]
  },
  {
   "cell_type": "code",
   "execution_count": 19,
   "metadata": {},
   "outputs": [],
   "source": [
    "scr_dnnc = ScratchDeepNeuralNetrowkClassifier()"
   ]
  },
  {
   "cell_type": "code",
   "execution_count": 20,
   "metadata": {},
   "outputs": [
    {
     "name": "stdout",
     "output_type": "stream",
     "text": [
      "0.2339422046012845\n",
      "0.11291701796962414\n",
      "0.08646956049754337\n",
      "0.06399257648350275\n",
      "0.051043704701758605\n",
      "0.04081957141773256\n",
      "0.03648029060421991\n",
      "0.026982324830177866\n",
      "0.024063102863745717\n",
      "0.02017606089741549\n"
     ]
    }
   ],
   "source": [
    "scr_dnnc.fit(X_tr, y_tr, X_val, y_val)"
   ]
  },
  {
   "cell_type": "code",
   "execution_count": 22,
   "metadata": {},
   "outputs": [
    {
     "name": "stdout",
     "output_type": "stream",
     "text": [
      "accuracy_score:0.9761666666666666\n"
     ]
    },
    {
     "data": {
      "image/png": "[encoded data removed]",
      "text/plain": [
       "<Figure size 576x288 with 2 Axes>"
      ]
     },
     "metadata": {
      "needs_background": "light"
     },
     "output_type": "display_data"
    }
   ],
   "source": [
    "fig, ax = plt.subplots(1, 2, figsize=(8, 4))\n",
    "ax[0].plot(scr_dnnc.loss_list)\n",
    "ax[1].plot(scr_dnnc.loss_epoch_list, label='train')\n",
    "ax[1].plot(scr_dnnc.loss_val_epoch_list, label='validation')\n",
    "ax[1].legend()\n",
    "y_pred = scr_dnnc.predict(X_val)\n",
    "y_val_label = np.argmax(y_val, axis=1)\n",
    "accuracy = accuracy_score(y_val_label, y_pred)\n",
    "print('accuracy_score:{}'.format(accuracy))"
   ]
  },
  {
   "cell_type": "markdown",
   "metadata": {},
   "source": [
    "## 層と活性化関数とoptimizerを変えてみる"
   ]
  },
  {
   "cell_type": "code",
   "execution_count": 23,
   "metadata": {},
   "outputs": [],
   "source": [
    "class ScratchDeepNeuralNetrowkClassifier_AdaGrad:\n",
    "    def __init__(self, epochs=10, verbose=True):\n",
    "        self.epoch = epochs\n",
    "        self.verbose = verbose\n",
    "        self.layers = {}\n",
    "        self.layers['Affine1'] =  FC(784, 400, XavierInitializer, AdaGrad)\n",
    "        self.layers['Activation1'] = Tanh()\n",
    "        self.layers['Affine2'] =  FC(400, 200, XavierInitializer, AdaGrad)\n",
    "        self.layers['Activation2'] = Sigmoid()\n",
    "        self.layers['Affine3'] =  FC(200, 100, HeInitializer, AdaGrad)\n",
    "        self.layers['Activation2'] = Relu()\n",
    "        self.layers['Affine3'] =  FC(200, 10, HeInitializer, AdaGrad)\n",
    "        self.last_layer = SoftmaxWithLoss()\n",
    "        \n",
    "    def fit(self, X, y, X_val=None, y_val=None):\n",
    "        self.loss_list = []\n",
    "        self.loss_epoch_list = []\n",
    "        self.loss_val_epoch_list = []\n",
    "        for i in range(self.epoch):\n",
    "            get_mini_batch = GetMiniBatch(X, y, batch_size=20, seed=i)\n",
    "            loss_tmp_list = []\n",
    "            for X_batch, y_batch in get_mini_batch:\n",
    "                for layer in self.layers.values():\n",
    "                    X_batch = layer.forward(X_batch)\n",
    "                softmax = self.last_layer.forward(X_batch)\n",
    "                loss, dA = self.last_layer.backward(y_batch)\n",
    "                self.loss_list.append(loss)\n",
    "                loss_tmp_list.append(loss)\n",
    "                layers = list(self.layers.values())\n",
    "                layers.reverse()\n",
    "                for layer in layers:\n",
    "                    dA = layer.backward(dA)\n",
    "                    \n",
    "            epoch_mean_loss = np.mean(loss_tmp_list)\n",
    "            self.loss_epoch_list.append(epoch_mean_loss)\n",
    "            if self.verbose:\n",
    "                print(epoch_mean_loss)\n",
    "            if X_val is not None and y_val is not None:\n",
    "                X_val_copy = X_val.copy()\n",
    "                for layer in self.layers.values():\n",
    "                    X_val_copy = layer.forward(X_val_copy)\n",
    "                softmax_val = self.last_layer.forward(X_val_copy)\n",
    "                loss_val = -np.sum(y_val*np.log(softmax_val + 1e-7))/y_val.shape[0]\n",
    "            self.loss_val_epoch_list.append(loss_val)\n",
    "                    \n",
    "    def predict(self, X):\n",
    "        for layer in self.layers.values():\n",
    "            X = layer.forward(X)\n",
    "        self.last_layer.forward(X)\n",
    "        y_pred = np.argmax(self.last_layer.softmax, axis=1)\n",
    "        \n",
    "        return y_pred"
   ]
  },
  {
   "cell_type": "code",
   "execution_count": 24,
   "metadata": {},
   "outputs": [],
   "source": [
    "scr_dnnc_adagrad = ScratchDeepNeuralNetrowkClassifier_AdaGrad()"
   ]
  },
  {
   "cell_type": "code",
   "execution_count": 25,
   "metadata": {},
   "outputs": [
    {
     "name": "stdout",
     "output_type": "stream",
     "text": [
      "0.20810097514351883\n",
      "0.10068872970362312\n",
      "0.07626730707935536\n",
      "0.06165398467750866\n",
      "0.05143348352212578\n",
      "0.04458596977831997\n",
      "0.03846525997178905\n",
      "0.03376980434010303\n",
      "0.029869326141410562\n",
      "0.026557291361158773\n"
     ]
    }
   ],
   "source": [
    "scr_dnnc_adagrad.fit(X_tr, y_tr, X_val, y_val)"
   ]
  },
  {
   "cell_type": "code",
   "execution_count": 26,
   "metadata": {},
   "outputs": [
    {
     "name": "stdout",
     "output_type": "stream",
     "text": [
      "accuracy_score:0.978\n"
     ]
    },
    {
     "data": {
      "image/png": "[encoded data removed]",
      "text/plain": [
       "<Figure size 576x288 with 2 Axes>"
      ]
     },
     "metadata": {
      "needs_background": "light"
     },
     "output_type": "display_data"
    }
   ],
   "source": [
    "fig, ax = plt.subplots(1, 2, figsize=(8, 4))\n",
    "ax[0].plot(scr_dnnc_adagrad.loss_list)\n",
    "ax[1].plot(scr_dnnc_adagrad.loss_epoch_list, label='train')\n",
    "ax[1].plot(scr_dnnc_adagrad.loss_val_epoch_list, label='validation')\n",
    "ax[1].legend()\n",
    "y_pred_adagrad = scr_dnnc_adagrad.predict(X_val)\n",
    "accuracy_adagrad = accuracy_score(y_val_label, y_pred_adagrad)\n",
    "print('accuracy_score:{}'.format(accuracy_adagrad))"
   ]
  },
  {
   "cell_type": "markdown",
   "metadata": {},
   "source": [
    "## validationデータからAdaGradの方がSGDに比べて過学習を起こしにくいと考えられる。"
   ]
  },
  {
   "cell_type": "code",
   "execution_count": null,
   "metadata": {},
   "outputs": [],
   "source": []
  }
 ],
 "metadata": {
  "kernelspec": {
   "display_name": "Python 3",
   "language": "python",
   "name": "python3"
  },
  "language_info": {
   "codemirror_mode": {
    "name": "ipython",
    "version": 3
   },
   "file_extension": ".py",
   "mimetype": "text/x-python",
   "name": "python",
   "nbconvert_exporter": "python",
   "pygments_lexer": "ipython3",
   "version": "3.7.4"
  }
 },
 "nbformat": 4,
 "nbformat_minor": 2
}
