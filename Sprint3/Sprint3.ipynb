{
 "cells": [
  {
   "cell_type": "code",
   "execution_count": 1,
   "metadata": {},
   "outputs": [],
   "source": [
    "import numpy as np\n",
    "import pandas as pd\n",
    "from matplotlib import pyplot as plt\n",
    "%matplotlib inline"
   ]
  },
  {
   "cell_type": "code",
   "execution_count": 2,
   "metadata": {},
   "outputs": [],
   "source": [
    "class ScratchLinearRegression():\n",
    "    \"\"\"\n",
    "    線形回帰のスクラッチ実装\n",
    "\n",
    "    Parameters\n",
    "    ----------\n",
    "    num_iter : int\n",
    "      イテレーション数\n",
    "    lr : float\n",
    "      学習率\n",
    "    no_bias : bool\n",
    "      バイアス項を入れない場合はTrue\n",
    "    verbose : bool\n",
    "      学習過程を出力する場合はTrue\n",
    "\n",
    "    Attributes\n",
    "    ----------\n",
    "    self.coef_ : 次の形のndarray, shape (n_features,)\n",
    "      パラメータ\n",
    "    self.loss : 次の形のndarray, shape (self.iter,)\n",
    "      訓練データに対する損失の記録\n",
    "    self.val_loss : 次の形のndarray, shape (self.iter,)\n",
    "      検証データに対する損失の記録\n",
    "\n",
    "    \"\"\"\n",
    "    def __init__(self, num_iter, lr, no_bias, verbose):\n",
    "        # ハイパーパラメータを属性として記録\n",
    "        self.iter = num_iter\n",
    "        self.lr = lr\n",
    "        self.no_bias = no_bias\n",
    "        self.verbose = verbose\n",
    "        # 損失を記録する配列を用意\n",
    "        self.loss = np.zeros(self.iter)\n",
    "        self.val_loss = np.zeros(self.iter)\n",
    "    def fit(self, X, y, X_val=None, y_val=None):\n",
    "        \"\"\"\n",
    "        線形回帰を学習する。検証データが入力された場合はそれに対する損失と精度もイテレーションごとに計算する。\n",
    "\n",
    "        Parameters\n",
    "        ----------\n",
    "        X : 次の形のndarray, shape (n_samples, n_features)\n",
    "            訓練データの特徴量\n",
    "        y : 次の形のndarray, shape (n_samples, )\n",
    "            訓練データの正解値\n",
    "        X_val : 次の形のndarray, shape (n_samples, n_features)\n",
    "            検証データの特徴量\n",
    "        y_val : 次の形のndarray, shape (n_samples, )\n",
    "            検証データの正解値\n",
    "        \"\"\"\n",
    "        if self.no_bias == False:\n",
    "            X = np.concatenate([np.ones(X.shape[0]).reshape(-1, 1), X], axis=1)\n",
    "            if X_val is not None:\n",
    "                X_val = np.concatenate([np.ones(X_val.shape[0]).reshape(-1, 1), X_val], axis=1)\n",
    "        self.coef_ = np.zeros(X.shape[1]).reshape(-1, 1)\n",
    "        if self.verbose:\n",
    "            for i in range(self.iter):\n",
    "                error = self._linear_hypothesis(X) - y\n",
    "                self.coef_ = self._gradient_descent(X, error)\n",
    "                j_theta = self._compute_cost(X, y)\n",
    "                self.loss[i] = j_theta\n",
    "                print('{}回目、theta:{}、j_theta:{}'.format(i, self.coef_, j_theta))\n",
    "                if X_val is not None and y_val is not None:\n",
    "                    j_theta_val = self._compute_cost(X_val, y_val)\n",
    "                    self.val_loss[i] = j_theta_val\n",
    "                    print('{}回目、theta:{}、j_theta_val:{}'.format(i, self.coef_, j_theta_val))\n",
    "        \n",
    "        else:\n",
    "            for i in range(self.iter):\n",
    "                error = self._linear_hypothesis(X) - y\n",
    "                self.coef_ = self._gradient_descent(X, error)\n",
    "                self.loss[i] = self._compute_cost(X, y)\n",
    "                if X_val is not None and y_val is not None:\n",
    "                    j_theta_val = self._compute_cost(X_val, y_val)\n",
    "                    self.val_loss[i] = j_theta_val\n",
    "\n",
    "    def predict(self, X):\n",
    "        \"\"\"\n",
    "        線形回帰を使い推定する。\n",
    "\n",
    "        Parameters\n",
    "        ----------\n",
    "        X : 次の形のndarray, shape (n_samples, n_features)\n",
    "            サンプル\n",
    "\n",
    "        Returns\n",
    "        -------\n",
    "            次の形のndarray, shape (n_samples, 1)\n",
    "            線形回帰による推定結果\n",
    "        \"\"\"\n",
    "        if self.no_bias == False:\n",
    "            X = np.concatenate([np.ones(X.shape[0]).reshape(-1, 1), X], axis=1)\n",
    "        h_theta = np.dot(X, self.coef_)\n",
    "        \n",
    "        return h_theta\n",
    "    \n",
    "    def _linear_hypothesis(self, X):\n",
    "        \"\"\"\n",
    "        線形の仮定関数を計算する\n",
    "\n",
    "        Parameters\n",
    "        ----------\n",
    "        X : 次の形のndarray, shape (n_samples, n_features)\n",
    "          訓練データ\n",
    "\n",
    "        Returns\n",
    "        -------\n",
    "          次の形のndarray, shape (n_samples, 1)\n",
    "          線形の仮定関数による推定結果\n",
    "\n",
    "        \"\"\"\n",
    "        h_theta = np.dot(X, self.coef_)\n",
    "        \n",
    "        return h_theta\n",
    "    \n",
    "    def _gradient_descent(self, X, error):\n",
    "        \"\"\"\n",
    "        勾配降下法を用いて特徴量の重みのパラメータを更新する\n",
    "\n",
    "        Parameters\n",
    "        ----------\n",
    "        X : 次の形のndarray, shape (n_samples, n_features)\n",
    "          訓練データ\n",
    "\n",
    "        Returns\n",
    "        -------\n",
    "          次の形のndarray, shape (n_samples, 1)\n",
    "          線形の仮定関数による推定結果\n",
    "\n",
    "        \"\"\"\n",
    "        self.coef_ -= self.lr*np.dot(X.T, error)/X.shape[0]\n",
    "\n",
    "        return self.coef_\n",
    "\n",
    "    def _compute_cost(self, X, y):\n",
    "        \"\"\"\n",
    "        勾配降下法を用いて特徴量の重みのパラメータを更新する\n",
    "\n",
    "        Parameters\n",
    "        ----------\n",
    "        X : 次の形のndarray, shape (n_samples, n_features)\n",
    "          訓練データ\n",
    "        y : 次の形のndarray, shape (n_samples, )\n",
    "\n",
    "        Returns\n",
    "        -------\n",
    "          次の形のndarray, shape (1, 1)\n",
    "          目的関数の値\n",
    "\n",
    "        \"\"\"\n",
    "        j_theta = MSE(self._linear_hypothesis(X), y)\n",
    "\n",
    "        return j_theta"
   ]
  },
  {
   "cell_type": "markdown",
   "metadata": {},
   "source": [
    "# 【問題1】仮定関数"
   ]
  },
  {
   "cell_type": "markdown",
   "metadata": {},
   "source": [
    "## class ScratchLinearRegression()にdef _linear_hypothesis(self, X)を追加。中身は下記コード\n",
    "        h_theta = np.dot(X, self.coef_)\n",
    "        \n",
    "        return h_theta"
   ]
  },
  {
   "cell_type": "markdown",
   "metadata": {},
   "source": [
    "# 【問題2】最急降下法"
   ]
  },
  {
   "cell_type": "markdown",
   "metadata": {},
   "source": [
    "## class ScratchLinearRegression()にdef _gradient_descent(self, X, error)を追加。中身は下記コード\n",
    "        self.coef_ -= self.lr*np.dot(X.T, error)/X.shape[0]\n",
    "\n",
    "        return self.coef_\n",
    "## fit(self, X, y, X_val=None, y_val=None)に下記コードを追加\n",
    "        if self.no_bias == False:\n",
    "            X = np.concatenate([np.ones(X.shape[0]).reshape(-1, 1), X], axis=1)\n",
    "            if X_val is not None:\n",
    "                X_val = np.concatenate([np.ones(X_val.shape[0]).reshape(-1, 1), X_val], axis=1)\n",
    "        self.coef_ = np.zeros(X.shape[1]).reshape(-1, 1)\n",
    "        if self.verbose:\n",
    "            for i in range(self.iter):\n",
    "                error = self._linear_hypothesis(X) - y\n",
    "                self.coef_ = self._gradient_descent(X, error)\n",
    "                self.loss[i] = self._compute_cost(X, y)\n",
    "                print('{}回目、theta:{}、j_theta:{}'.format(i, self.coef_, j_theta))\n",
    "                if X_val is not None and y_val is not None:\n",
    "                    j_theta_val = self._compute_cost(X_val, y_val)\n",
    "                    self.val_loss[i] = j_theta_val\n",
    "                    print('{}回目、theta:{}、j_theta_val:{}'.format(i, self.coef_, j_theta_val))\n",
    "        \n",
    "        else:\n",
    "            for i in range(self.iter):\n",
    "                error = self._linear_hypothesis(X) - y\n",
    "                self.coef_ = self._gradient_descent(X, error)\n",
    "                self.loss[i] = self._compute_cost(X, y)\n",
    "                if X_val is not None and y_val is not None:\n",
    "                    j_theta_val = self._compute_cost(X_val, y_val)\n",
    "                    self.val_loss[i] = j_theta_val\n"
   ]
  },
  {
   "cell_type": "markdown",
   "metadata": {},
   "source": [
    "# 【問題3】推定"
   ]
  },
  {
   "cell_type": "markdown",
   "metadata": {},
   "source": [
    "## def predict(self, X)に下記コードを追加\n",
    "        h_theta = np.dot(X, self.coef_)\n",
    "        \n",
    "        return h_theta"
   ]
  },
  {
   "cell_type": "markdown",
   "metadata": {},
   "source": [
    "# 【問題4】平均二乗誤差"
   ]
  },
  {
   "cell_type": "code",
   "execution_count": 3,
   "metadata": {},
   "outputs": [],
   "source": [
    "def MSE(y_pred, y):\n",
    "    \"\"\"\n",
    "    平均二乗誤差の計算\n",
    "\n",
    "    Parameters\n",
    "    ----------\n",
    "    y_pred : 次の形のndarray, shape (n_samples,)\n",
    "      推定した値\n",
    "    y : 次の形のndarray, shape (n_samples,)\n",
    "      正解値\n",
    "\n",
    "    Returns\n",
    "    ----------\n",
    "    mse : numpy.float\n",
    "      平均二乗誤差\n",
    "    \"\"\"\n",
    "    mse = np.dot((y_pred-y).T, y_pred-y)/len(y)\n",
    "    \n",
    "    return mse"
   ]
  },
  {
   "cell_type": "markdown",
   "metadata": {},
   "source": [
    "# 【問題5】目的関数"
   ]
  },
  {
   "cell_type": "markdown",
   "metadata": {},
   "source": [
    "## class ScratchLinearRegression()にdef _compute_cost(self, X, y)を追加。中身は下記コード。\n",
    "        j_theta = MSE(self._linear_hypothesis(X), y)\n",
    "        \n",
    "        return j_theta"
   ]
  },
  {
   "cell_type": "markdown",
   "metadata": {},
   "source": [
    "# 【問題6】学習と推定"
   ]
  },
  {
   "cell_type": "code",
   "execution_count": 4,
   "metadata": {},
   "outputs": [],
   "source": [
    "df = pd.read_csv('train.csv')"
   ]
  },
  {
   "cell_type": "code",
   "execution_count": 5,
   "metadata": {},
   "outputs": [],
   "source": [
    "X = df[['GrLivArea', 'YearBuilt']]"
   ]
  },
  {
   "cell_type": "code",
   "execution_count": 6,
   "metadata": {},
   "outputs": [],
   "source": [
    "y = df['SalePrice']"
   ]
  },
  {
   "cell_type": "code",
   "execution_count": 7,
   "metadata": {},
   "outputs": [],
   "source": [
    "from sklearn.model_selection import train_test_split\n",
    "from sklearn.preprocessing import StandardScaler"
   ]
  },
  {
   "cell_type": "code",
   "execution_count": 8,
   "metadata": {},
   "outputs": [],
   "source": [
    "X = df[['GrLivArea', 'YearBuilt']]\n",
    "y = df['SalePrice']"
   ]
  },
  {
   "cell_type": "code",
   "execution_count": 9,
   "metadata": {},
   "outputs": [],
   "source": [
    "X = np.array(X)\n",
    "y = np.log(y)\n",
    "y = np.array(y)\n",
    "y = y.reshape(-1,1)"
   ]
  },
  {
   "cell_type": "code",
   "execution_count": 10,
   "metadata": {},
   "outputs": [],
   "source": [
    "X_train, X_test, y_train, y_test = train_test_split(X, y, train_size=0.8)"
   ]
  },
  {
   "cell_type": "code",
   "execution_count": 11,
   "metadata": {},
   "outputs": [],
   "source": [
    "ss_X = StandardScaler()"
   ]
  },
  {
   "cell_type": "code",
   "execution_count": 12,
   "metadata": {},
   "outputs": [
    {
     "data": {
      "text/plain": [
       "StandardScaler(copy=True, with_mean=True, with_std=True)"
      ]
     },
     "execution_count": 12,
     "metadata": {},
     "output_type": "execute_result"
    }
   ],
   "source": [
    "ss_X.fit(X_train)"
   ]
  },
  {
   "cell_type": "code",
   "execution_count": 13,
   "metadata": {},
   "outputs": [],
   "source": [
    "X_train = ss_X.transform(X_train)\n",
    "X_test = ss_X.transform(X_test)"
   ]
  },
  {
   "cell_type": "code",
   "execution_count": 14,
   "metadata": {},
   "outputs": [],
   "source": [
    "scr_lr = ScratchLinearRegression(1000, 0.01, False, False)"
   ]
  },
  {
   "cell_type": "code",
   "execution_count": 15,
   "metadata": {},
   "outputs": [],
   "source": [
    "scr_lr.fit(X_train, y_train, X_test, y_test)"
   ]
  },
  {
   "cell_type": "code",
   "execution_count": 16,
   "metadata": {},
   "outputs": [],
   "source": [
    "y_pred_scr = scr_lr.predict(X_test)"
   ]
  },
  {
   "cell_type": "code",
   "execution_count": 17,
   "metadata": {},
   "outputs": [],
   "source": [
    "y_pred_scr = np.exp(y_pred_scr)"
   ]
  },
  {
   "cell_type": "code",
   "execution_count": 18,
   "metadata": {},
   "outputs": [],
   "source": [
    "from sklearn.linear_model import SGDRegressor"
   ]
  },
  {
   "cell_type": "code",
   "execution_count": 19,
   "metadata": {},
   "outputs": [],
   "source": [
    "lr = SGDRegressor()"
   ]
  },
  {
   "cell_type": "code",
   "execution_count": 20,
   "metadata": {},
   "outputs": [
    {
     "name": "stderr",
     "output_type": "stream",
     "text": [
      "C:\\Anaconda\\lib\\site-packages\\sklearn\\utils\\validation.py:724: DataConversionWarning: A column-vector y was passed when a 1d array was expected. Please change the shape of y to (n_samples, ), for example using ravel().\n",
      "  y = column_or_1d(y, warn=True)\n"
     ]
    },
    {
     "data": {
      "text/plain": [
       "SGDRegressor(alpha=0.0001, average=False, early_stopping=False, epsilon=0.1,\n",
       "             eta0=0.01, fit_intercept=True, l1_ratio=0.15,\n",
       "             learning_rate='invscaling', loss='squared_loss', max_iter=1000,\n",
       "             n_iter_no_change=5, penalty='l2', power_t=0.25, random_state=None,\n",
       "             shuffle=True, tol=0.001, validation_fraction=0.1, verbose=0,\n",
       "             warm_start=False)"
      ]
     },
     "execution_count": 20,
     "metadata": {},
     "output_type": "execute_result"
    }
   ],
   "source": [
    "lr.fit(X_train, y_train)"
   ]
  },
  {
   "cell_type": "code",
   "execution_count": 21,
   "metadata": {},
   "outputs": [],
   "source": [
    "y_pred = lr.predict(X_test)\n",
    "y_pred = np.exp(y_pred)"
   ]
  },
  {
   "cell_type": "code",
   "execution_count": 22,
   "metadata": {},
   "outputs": [],
   "source": [
    "y_test_exp = np.exp(y_test)"
   ]
  },
  {
   "cell_type": "code",
   "execution_count": 23,
   "metadata": {},
   "outputs": [
    {
     "data": {
      "text/plain": [
       "<matplotlib.collections.PathCollection at 0x23c7e5ed088>"
      ]
     },
     "execution_count": 23,
     "metadata": {},
     "output_type": "execute_result"
    },
    {
     "data": {
      "image/png": "[encoded data removed]",
      "text/plain": [
       "<Figure size 432x288 with 1 Axes>"
      ]
     },
     "metadata": {
      "needs_background": "light"
     },
     "output_type": "display_data"
    }
   ],
   "source": [
    "plt.scatter(y_pred_scr, y_test_exp)"
   ]
  },
  {
   "cell_type": "code",
   "execution_count": 24,
   "metadata": {},
   "outputs": [
    {
     "data": {
      "text/plain": [
       "<matplotlib.collections.PathCollection at 0x23c7e699248>"
      ]
     },
     "execution_count": 24,
     "metadata": {},
     "output_type": "execute_result"
    },
    {
     "data": {
      "image/png": "[encoded data removed]",
      "text/plain": [
       "<Figure size 432x288 with 1 Axes>"
      ]
     },
     "metadata": {
      "needs_background": "light"
     },
     "output_type": "display_data"
    }
   ],
   "source": [
    "plt.scatter(y_pred, y_test_exp)"
   ]
  },
  {
   "cell_type": "code",
   "execution_count": 25,
   "metadata": {},
   "outputs": [
    {
     "data": {
      "text/plain": [
       "<matplotlib.collections.PathCollection at 0x23c7e711148>"
      ]
     },
     "execution_count": 25,
     "metadata": {},
     "output_type": "execute_result"
    },
    {
     "data": {
      "image/png": "[encoded data removed]",
      "text/plain": [
       "<Figure size 432x288 with 1 Axes>"
      ]
     },
     "metadata": {
      "needs_background": "light"
     },
     "output_type": "display_data"
    }
   ],
   "source": [
    "plt.scatter(y_pred_scr, y_pred)"
   ]
  },
  {
   "cell_type": "code",
   "execution_count": 26,
   "metadata": {},
   "outputs": [
    {
     "data": {
      "text/plain": [
       "<matplotlib.collections.PathCollection at 0x23c7e774688>"
      ]
     },
     "execution_count": 26,
     "metadata": {},
     "output_type": "execute_result"
    },
    {
     "data": {
      "image/png": "[encoded data removed]",
      "text/plain": [
       "<Figure size 432x288 with 1 Axes>"
      ]
     },
     "metadata": {
      "needs_background": "light"
     },
     "output_type": "display_data"
    }
   ],
   "source": [
    "plt.scatter(y_pred_scr[y_pred_scr < 700000], y_pred[y_pred < 700000])"
   ]
  },
  {
   "cell_type": "markdown",
   "metadata": {},
   "source": [
    "## 大体はy=x上に乗っているので同じような性能を持っていると考えられる。"
   ]
  },
  {
   "cell_type": "markdown",
   "metadata": {},
   "source": [
    "# 【問題7】学習曲線のプロット"
   ]
  },
  {
   "cell_type": "code",
   "execution_count": 27,
   "metadata": {},
   "outputs": [
    {
     "data": {
      "text/plain": [
       "<matplotlib.legend.Legend at 0x23c7e7dfbc8>"
      ]
     },
     "execution_count": 27,
     "metadata": {},
     "output_type": "execute_result"
    },
    {
     "data": {
      "image/png": "[encoded data removed]",
      "text/plain": [
       "<Figure size 432x288 with 1 Axes>"
      ]
     },
     "metadata": {
      "needs_background": "light"
     },
     "output_type": "display_data"
    }
   ],
   "source": [
    "plt.plot(scr_lr.loss, label='train_loss')\n",
    "plt.plot(scr_lr.val_loss, label='val_loss')\n",
    "plt.legend()"
   ]
  },
  {
   "cell_type": "markdown",
   "metadata": {},
   "source": [
    "# 【問題8】（アドバンス課題）バイアス項の除去"
   ]
  },
  {
   "cell_type": "code",
   "execution_count": 28,
   "metadata": {},
   "outputs": [],
   "source": [
    "scr_lr_no_bias = ScratchLinearRegression(1000, 0.01, True, False)"
   ]
  },
  {
   "cell_type": "code",
   "execution_count": 29,
   "metadata": {},
   "outputs": [],
   "source": [
    "scr_lr_no_bias.fit(X_train, y_train, X_test, y_test)"
   ]
  },
  {
   "cell_type": "code",
   "execution_count": 30,
   "metadata": {},
   "outputs": [
    {
     "data": {
      "text/plain": [
       "array([[ 2.42642487e-01],\n",
       "       [ 1.57419378e-01],\n",
       "       [-1.31066683e-01],\n",
       "       [ 1.71382563e+00],\n",
       "       [ 2.63133214e-01],\n",
       "       [-7.92680798e-02],\n",
       "       [-1.55589277e-01],\n",
       "       [ 5.38396979e-02],\n",
       "       [ 3.88053291e-01],\n",
       "       [ 3.63987268e-02],\n",
       "       [-5.77002920e-02],\n",
       "       [ 2.41755326e-01],\n",
       "       [ 1.93303397e-01],\n",
       "       [-7.08450640e-01],\n",
       "       [-1.91049970e-01],\n",
       "       [-3.03980888e-01],\n",
       "       [ 1.46291380e-01],\n",
       "       [-5.84486674e-01],\n",
       "       [-1.24745236e-01],\n",
       "       [ 1.83275442e-01],\n",
       "       [ 1.78016547e-01],\n",
       "       [-2.02880687e-01],\n",
       "       [-1.92216523e-01],\n",
       "       [-1.52902372e-01],\n",
       "       [ 2.43958430e-01],\n",
       "       [-2.83742382e-03],\n",
       "       [-1.18492739e-01],\n",
       "       [-3.64233883e-02],\n",
       "       [ 1.10395869e-01],\n",
       "       [-3.71207257e-01],\n",
       "       [ 4.30342214e-01],\n",
       "       [ 1.89596889e-01],\n",
       "       [ 2.44070906e-01],\n",
       "       [-4.45028601e-03],\n",
       "       [ 7.54449776e-02],\n",
       "       [ 3.92183124e-01],\n",
       "       [-2.82908393e-01],\n",
       "       [-2.96616855e-01],\n",
       "       [-2.35228132e-01],\n",
       "       [ 2.75629157e-01],\n",
       "       [ 4.58189133e-02],\n",
       "       [-5.78551061e-01],\n",
       "       [ 3.22364799e-01],\n",
       "       [-1.59284294e-01],\n",
       "       [ 1.12466532e-01],\n",
       "       [ 5.43399539e-01],\n",
       "       [ 6.68662501e-01],\n",
       "       [ 4.80020519e-02],\n",
       "       [-1.93123650e-01],\n",
       "       [-8.02042242e-02],\n",
       "       [-4.80627601e-01],\n",
       "       [ 2.34564244e-01],\n",
       "       [ 4.00151908e-01],\n",
       "       [ 5.28812968e-01],\n",
       "       [ 8.81368549e-02],\n",
       "       [-1.35076219e-02],\n",
       "       [-2.48418319e-01],\n",
       "       [-2.60531445e-01],\n",
       "       [ 5.10251410e-01],\n",
       "       [-2.11854565e-01],\n",
       "       [ 4.61344698e-01],\n",
       "       [-2.75011575e-01],\n",
       "       [ 2.35097029e-01],\n",
       "       [ 5.74275615e-01],\n",
       "       [-6.34914315e-01],\n",
       "       [-3.61844529e-01],\n",
       "       [-5.14936250e-01],\n",
       "       [-8.26625275e-03],\n",
       "       [ 2.93346503e-01],\n",
       "       [ 5.99161060e-01],\n",
       "       [-1.26041214e-01],\n",
       "       [ 5.07119406e-02],\n",
       "       [-3.80060185e-01],\n",
       "       [ 2.49254817e-01],\n",
       "       [ 2.90829532e-01],\n",
       "       [-2.78427199e-01],\n",
       "       [ 5.34478296e-02],\n",
       "       [-3.39075713e-01],\n",
       "       [ 4.07127090e-01],\n",
       "       [ 3.15208192e-01],\n",
       "       [ 2.58942905e-01],\n",
       "       [ 2.72639876e-01],\n",
       "       [-2.22899105e-01],\n",
       "       [-1.30703832e-01],\n",
       "       [-2.47329766e-01],\n",
       "       [ 5.90794951e-01],\n",
       "       [ 4.99348363e-01],\n",
       "       [ 1.92026733e-02],\n",
       "       [ 3.11478701e-01],\n",
       "       [ 2.99440559e-01],\n",
       "       [ 3.47967471e-01],\n",
       "       [-5.89693568e-01],\n",
       "       [-4.44014864e-01],\n",
       "       [ 1.37377977e-01],\n",
       "       [ 1.71271866e-03],\n",
       "       [-2.45365545e-01],\n",
       "       [-4.02754017e-01],\n",
       "       [-1.75947563e-01],\n",
       "       [-1.81978126e-01],\n",
       "       [ 5.73682356e-01],\n",
       "       [ 2.39748155e-01],\n",
       "       [ 2.48963933e-01],\n",
       "       [ 2.15441461e-01],\n",
       "       [-3.37820244e-01],\n",
       "       [-5.91170971e-01],\n",
       "       [-5.43467727e-01],\n",
       "       [-3.44743425e-01],\n",
       "       [-2.03874289e-01],\n",
       "       [-3.46624188e-01],\n",
       "       [ 2.52897833e-01],\n",
       "       [ 1.03273737e-01],\n",
       "       [-3.61761070e-01],\n",
       "       [ 4.23888326e-01],\n",
       "       [-5.21439122e-01],\n",
       "       [-4.77174485e-01],\n",
       "       [-2.65787323e-01],\n",
       "       [ 6.45171001e-01],\n",
       "       [-2.46382131e-01],\n",
       "       [ 2.56399933e-01],\n",
       "       [ 2.61002076e-01],\n",
       "       [-4.73269566e-03],\n",
       "       [ 7.58048111e-02],\n",
       "       [-2.70363466e-01],\n",
       "       [ 3.98976881e-01],\n",
       "       [ 4.17929730e-01],\n",
       "       [-4.22081208e-01],\n",
       "       [ 2.66730263e-01],\n",
       "       [ 2.48673049e-01],\n",
       "       [-6.30051535e-02],\n",
       "       [ 1.96658546e-01],\n",
       "       [ 1.39871966e-01],\n",
       "       [-3.93186879e-01],\n",
       "       [-4.20229462e-01],\n",
       "       [-1.83432546e-01],\n",
       "       [ 2.02432700e-01],\n",
       "       [-2.32734143e-01],\n",
       "       [ 5.00595357e-01],\n",
       "       [-4.59529105e-01],\n",
       "       [-1.65703708e-01],\n",
       "       [-3.09550633e-01],\n",
       "       [-2.94837076e-01],\n",
       "       [-9.25302335e-02],\n",
       "       [-5.10745941e-01],\n",
       "       [-3.66423689e-01],\n",
       "       [-7.37866262e-01],\n",
       "       [-3.46246829e-01],\n",
       "       [ 2.33196300e-01],\n",
       "       [-2.45195611e-01],\n",
       "       [-1.09461403e-01],\n",
       "       [ 1.75514084e-01],\n",
       "       [ 9.66583891e-02],\n",
       "       [ 2.86503764e-01],\n",
       "       [-2.28834718e-01],\n",
       "       [ 1.37472927e-01],\n",
       "       [-2.04407074e-01],\n",
       "       [-1.91983097e-01],\n",
       "       [ 7.63865791e-02],\n",
       "       [-3.12796323e-01],\n",
       "       [ 2.55455314e-01],\n",
       "       [-2.95966138e-01],\n",
       "       [ 6.34005510e-01],\n",
       "       [ 1.37956728e-01],\n",
       "       [ 4.00926593e-01],\n",
       "       [-3.66982474e-01],\n",
       "       [-8.30725550e-02],\n",
       "       [-3.84515377e-01],\n",
       "       [-2.53080937e-01],\n",
       "       [-1.97008566e-01],\n",
       "       [-1.89999432e-02],\n",
       "       [ 3.37879041e-01],\n",
       "       [ 5.19427256e-01],\n",
       "       [-2.58930074e-01],\n",
       "       [ 7.12420354e-01],\n",
       "       [ 3.61683179e-02],\n",
       "       [ 1.54913898e-01],\n",
       "       [-3.40821017e-01],\n",
       "       [ 2.83261091e-01],\n",
       "       [ 2.94245156e-01],\n",
       "       [-1.89923926e-01],\n",
       "       [-1.06529580e-01],\n",
       "       [-3.23650964e-01],\n",
       "       [-2.91556911e-01],\n",
       "       [ 9.59804418e-03],\n",
       "       [ 9.14400031e-02],\n",
       "       [-3.18150168e-01],\n",
       "       [-3.20670157e-01],\n",
       "       [-3.12070622e-01],\n",
       "       [ 1.24565150e-01],\n",
       "       [ 1.65607079e-01],\n",
       "       [ 5.00886241e-01],\n",
       "       [-7.43405779e-02],\n",
       "       [ 3.64086464e-01],\n",
       "       [ 4.77601515e-02],\n",
       "       [-2.73073354e-01],\n",
       "       [ 1.86909984e-01],\n",
       "       [ 1.24622608e-01],\n",
       "       [-7.14492639e-02],\n",
       "       [-1.90577661e-01],\n",
       "       [-2.43211424e-01],\n",
       "       [ 1.53470970e-01],\n",
       "       [ 3.55463946e-01],\n",
       "       [-1.51810802e-01],\n",
       "       [-2.14578962e-01],\n",
       "       [ 1.90734425e-01],\n",
       "       [-2.70991200e-01],\n",
       "       [ 2.71801699e-01],\n",
       "       [ 5.28280183e-01],\n",
       "       [ 2.85729079e-01],\n",
       "       [-1.60168437e-01],\n",
       "       [ 2.06746976e-01],\n",
       "       [-9.76663907e-03],\n",
       "       [ 1.56221368e-01],\n",
       "       [-3.33267085e-01],\n",
       "       [ 4.84053038e-01],\n",
       "       [ 1.29129801e-01],\n",
       "       [-4.23947462e-01],\n",
       "       [ 3.51564521e-01],\n",
       "       [ 6.97772655e-02],\n",
       "       [ 3.05755896e-02],\n",
       "       [ 3.27367285e-01],\n",
       "       [-2.34755822e-01],\n",
       "       [ 5.95808928e-01],\n",
       "       [-2.52510661e-01],\n",
       "       [-1.98580919e-01],\n",
       "       [-6.20598084e-01],\n",
       "       [ 4.34054180e-01],\n",
       "       [ 1.51437799e-01],\n",
       "       [-7.09249538e-02],\n",
       "       [-2.96616855e-01],\n",
       "       [ 1.51060440e-01],\n",
       "       [ 1.18131227e-01],\n",
       "       [-3.15546721e-01],\n",
       "       [ 8.07468219e-02],\n",
       "       [ 3.61252608e-01],\n",
       "       [ 9.82567425e-02],\n",
       "       [ 9.23735549e-01],\n",
       "       [ 3.13730789e-01],\n",
       "       [-3.19287704e-01],\n",
       "       [ 5.01963302e-01],\n",
       "       [ 1.47904298e-02],\n",
       "       [-4.48208190e-01],\n",
       "       [ 1.45222794e-01],\n",
       "       [-2.69041488e-01],\n",
       "       [-1.04035592e-01],\n",
       "       [ 1.66826844e-02],\n",
       "       [-1.89100258e-01],\n",
       "       [-2.58832107e-01],\n",
       "       [-1.50638792e-01],\n",
       "       [ 2.18286809e-01],\n",
       "       [-4.13147839e-01],\n",
       "       [ 3.20634004e-01],\n",
       "       [ 6.85593671e-01],\n",
       "       [-3.24134765e-01],\n",
       "       [ 6.55089497e-01],\n",
       "       [-5.60168488e-01],\n",
       "       [ 2.47751414e-01],\n",
       "       [-3.60367125e-01],\n",
       "       [ 4.71361161e-01],\n",
       "       [ 2.39117404e-01],\n",
       "       [-1.06140729e-01],\n",
       "       [ 2.41561757e-02],\n",
       "       [ 1.46121446e-01],\n",
       "       [-1.20505944e-01],\n",
       "       [-2.66728924e-01],\n",
       "       [ 2.60953093e-01],\n",
       "       [-1.54809135e-01],\n",
       "       [ 2.19280411e-01],\n",
       "       [ 1.32210940e-02],\n",
       "       [ 1.87975553e-01],\n",
       "       [ 4.89294407e-01],\n",
       "       [-2.32446928e-02],\n",
       "       [ 3.54228443e-01],\n",
       "       [-2.73756107e-01],\n",
       "       [ 3.58889254e-02],\n",
       "       [ 2.21218632e-01],\n",
       "       [-1.41215588e-01],\n",
       "       [ 3.19168092e-01],\n",
       "       [ 1.99333960e-01],\n",
       "       [ 3.67332154e-01],\n",
       "       [-1.88627948e-01],\n",
       "       [ 1.64008726e-01],\n",
       "       [ 4.59311527e-01],\n",
       "       [ 2.27589063e-01],\n",
       "       [-1.31550484e-01],\n",
       "       [ 1.61405279e-01],\n",
       "       [-4.70186024e-02],\n",
       "       [ 2.24132929e-01],\n",
       "       [ 2.44456740e-01],\n",
       "       [-1.02909492e-02],\n",
       "       [-4.39499196e-01],\n",
       "       [-1.88835374e-01],\n",
       "       [ 1.95532502e-01]])"
      ]
     },
     "execution_count": 30,
     "metadata": {},
     "output_type": "execute_result"
    }
   ],
   "source": [
    "scr_lr_no_bias.predict(X_test)"
   ]
  },
  {
   "cell_type": "code",
   "execution_count": 31,
   "metadata": {},
   "outputs": [
    {
     "data": {
      "text/plain": [
       "<matplotlib.legend.Legend at 0x23c7e869fc8>"
      ]
     },
     "execution_count": 31,
     "metadata": {},
     "output_type": "execute_result"
    },
    {
     "data": {
      "image/png": "[encoded data removed]",
      "text/plain": [
       "<Figure size 432x288 with 1 Axes>"
      ]
     },
     "metadata": {
      "needs_background": "light"
     },
     "output_type": "display_data"
    }
   ],
   "source": [
    "plt.plot(scr_lr_no_bias.loss, label='train_loss')\n",
    "plt.plot(scr_lr_no_bias.val_loss, label='val_loss')\n",
    "plt.legend()"
   ]
  },
  {
   "cell_type": "code",
   "execution_count": 32,
   "metadata": {},
   "outputs": [
    {
     "data": {
      "text/plain": [
       "<matplotlib.collections.PathCollection at 0x23c7e89d2c8>"
      ]
     },
     "execution_count": 32,
     "metadata": {},
     "output_type": "execute_result"
    },
    {
     "data": {
      "image/png": "[encoded data removed]",
      "text/plain": [
       "<Figure size 864x288 with 2 Axes>"
      ]
     },
     "metadata": {
      "needs_background": "light"
     },
     "output_type": "display_data"
    }
   ],
   "source": [
    "fig, ax = plt.subplots(1, 2, figsize=(12, 4))\n",
    "ax[0].scatter(X[:, 0], y)\n",
    "ax[1].scatter(X[:, 1], y)"
   ]
  },
  {
   "cell_type": "markdown",
   "metadata": {},
   "source": [
    "## 考察　各特徴量とtargetの関係をプロットすると原点を通らない直線が引けそうな関係なので、バイアス項がないとうまく学習を行うことができない。"
   ]
  },
  {
   "cell_type": "markdown",
   "metadata": {},
   "source": [
    "# 【問題9】（アドバンス課題）特徴量の多次元化"
   ]
  },
  {
   "cell_type": "markdown",
   "metadata": {},
   "source": [
    "## 特徴量の二乗"
   ]
  },
  {
   "cell_type": "code",
   "execution_count": 33,
   "metadata": {},
   "outputs": [],
   "source": [
    "X_train_square = X_train**2\n",
    "X_test_square = X_test**2\n",
    "X_train_cube = X_train**3\n",
    "X_test_cube = X_test**3"
   ]
  },
  {
   "cell_type": "code",
   "execution_count": 34,
   "metadata": {},
   "outputs": [],
   "source": [
    "scr_lr_square = ScratchLinearRegression(1000, 0.01, False, False)\n",
    "scr_lr_cube = ScratchLinearRegression(1000, 0.01, False, False)"
   ]
  },
  {
   "cell_type": "code",
   "execution_count": 35,
   "metadata": {},
   "outputs": [],
   "source": [
    "scr_lr_square.fit(X_train_square, y_train, X_test_square, y_test)\n",
    "scr_lr_cube.fit(X_train_cube, y_train, X_test_cube, y_test)"
   ]
  },
  {
   "cell_type": "code",
   "execution_count": 36,
   "metadata": {},
   "outputs": [
    {
     "data": {
      "text/plain": [
       "<matplotlib.legend.Legend at 0x23c7e9f6fc8>"
      ]
     },
     "execution_count": 36,
     "metadata": {},
     "output_type": "execute_result"
    },
    {
     "data": {
      "image/png": "[encoded data removed]",
      "text/plain": [
       "<Figure size 864x288 with 2 Axes>"
      ]
     },
     "metadata": {
      "needs_background": "light"
     },
     "output_type": "display_data"
    }
   ],
   "source": [
    "fig, ax = plt.subplots(1, 2, figsize=(12, 4))\n",
    "ax[0].plot(scr_lr.loss, label='X')\n",
    "ax[0].plot(scr_lr_square.loss, label='X**2')\n",
    "ax[1].plot(scr_lr_cube.loss, label='X**3')\n",
    "ax[0].legend()\n",
    "ax[1].legend()"
   ]
  },
  {
   "cell_type": "markdown",
   "metadata": {},
   "source": [
    "## 特徴量を３乗したものが収束しなかったので、学習率を小さくする"
   ]
  },
  {
   "cell_type": "code",
   "execution_count": 37,
   "metadata": {},
   "outputs": [
    {
     "data": {
      "text/plain": [
       "<matplotlib.legend.Legend at 0x23c7ea631c8>"
      ]
     },
     "execution_count": 37,
     "metadata": {},
     "output_type": "execute_result"
    },
    {
     "data": {
      "image/png": "[encoded data removed]",
      "text/plain": [
       "<Figure size 432x288 with 1 Axes>"
      ]
     },
     "metadata": {
      "needs_background": "light"
     },
     "output_type": "display_data"
    }
   ],
   "source": [
    "scr_lr_cube = ScratchLinearRegression(1000, 0.001, False, False)\n",
    "scr_lr_cube.fit(X_train_cube, y_train, X_test_cube, y_test)\n",
    "plt.plot(scr_lr_cube.loss, label='X**3')\n",
    "plt.legend()"
   ]
  },
  {
   "cell_type": "markdown",
   "metadata": {},
   "source": [
    "## 考察\n",
    "## 特徴量の値が２乗、３乗と分散が大きくなるにしたがって、収束するのに回数が必要になり、学習率も小さくする必要がある。"
   ]
  },
  {
   "cell_type": "markdown",
   "metadata": {},
   "source": [
    "# 【問題10】（アドバンス課題）更新式の導出"
   ]
  },
  {
   "cell_type": "markdown",
   "metadata": {},
   "source": [
    "## 各θは目的関数が小さくなるように更新されるので、目的関数を各θで偏微分したものを各θから引けばよい。その時に学習率をかけることで、更新する度合いを変える。\n",
    "## 例えば特徴量が２個、サンプル数5のデータがあるとすると、仮定関数は$ \\theta_0x_0^i + \\theta_1x_1^i + \\theta_2x_2^i$(iは0から4)とかける。これを目的関数に入れてθ1について偏微分すると$ (\\theta_1x_1^i + \\theta_0x_0^i + \\theta_2x_2^i - y)x_1^i/5$(iは0から4)となり、()の中身が仮定関数-yとなりこれをθ0からθ2まで行えばよいので、勾配降下法の式が求まる。"
   ]
  },
  {
   "cell_type": "markdown",
   "metadata": {},
   "source": [
    "# 【問題11】（アドバンス課題）局所最適解の問題"
   ]
  },
  {
   "cell_type": "markdown",
   "metadata": {},
   "source": [
    "## 線形回帰では目的関数の各θの次数は２であるため、どのθについても下に凸のグラフを描くことになる。よって、極小値=最小値となるため、局所最適解が起こることはない。"
   ]
  },
  {
   "cell_type": "code",
   "execution_count": null,
   "metadata": {},
   "outputs": [],
   "source": []
  }
 ],
 "metadata": {
  "kernelspec": {
   "display_name": "Python 3",
   "language": "python",
   "name": "python3"
  },
  "language_info": {
   "codemirror_mode": {
    "name": "ipython",
    "version": 3
   },
   "file_extension": ".py",
   "mimetype": "text/x-python",
   "name": "python",
   "nbconvert_exporter": "python",
   "pygments_lexer": "ipython3",
   "version": "3.7.4"
  }
 },
 "nbformat": 4,
 "nbformat_minor": 2
}
