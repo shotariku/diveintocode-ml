{
 "cells": [
  {
   "cell_type": "code",
   "execution_count": 1,
   "metadata": {},
   "outputs": [],
   "source": [
    "import numpy as np\n",
    "import pandas as pd\n",
    "from matplotlib import pyplot as plt\n",
    "%matplotlib inline"
   ]
  },
  {
   "cell_type": "code",
   "execution_count": 2,
   "metadata": {},
   "outputs": [],
   "source": [
    "class ScratchLinearRegression():\n",
    "    \"\"\"\n",
    "    線形回帰のスクラッチ実装\n",
    "\n",
    "    Parameters\n",
    "    ----------\n",
    "    num_iter : int\n",
    "      イテレーション数\n",
    "    lr : float\n",
    "      学習率\n",
    "    no_bias : bool\n",
    "      バイアス項を入れない場合はTrue\n",
    "    verbose : bool\n",
    "      学習過程を出力する場合はTrue\n",
    "\n",
    "    Attributes\n",
    "    ----------\n",
    "    self.coef_ : 次の形のndarray, shape (n_features,)\n",
    "      パラメータ\n",
    "    self.loss : 次の形のndarray, shape (self.iter,)\n",
    "      訓練データに対する損失の記録\n",
    "    self.val_loss : 次の形のndarray, shape (self.iter,)\n",
    "      検証データに対する損失の記録\n",
    "\n",
    "    \"\"\"\n",
    "    def __init__(self, num_iter, lr, no_bias, verbose):\n",
    "        # ハイパーパラメータを属性として記録\n",
    "        self.iter = num_iter\n",
    "        self.lr = lr\n",
    "        self.no_bias = no_bias\n",
    "        self.verbose = verbose\n",
    "        # 損失を記録する配列を用意\n",
    "        self.loss = np.zeros(self.iter)\n",
    "        self.val_loss = np.zeros(self.iter)\n",
    "    def fit(self, X, y, X_val=None, y_val=None):\n",
    "        \"\"\"\n",
    "        線形回帰を学習する。検証データが入力された場合はそれに対する損失と精度もイテレーションごとに計算する。\n",
    "\n",
    "        Parameters\n",
    "        ----------\n",
    "        X : 次の形のndarray, shape (n_samples, n_features)\n",
    "            訓練データの特徴量\n",
    "        y : 次の形のndarray, shape (n_samples, )\n",
    "            訓練データの正解値\n",
    "        X_val : 次の形のndarray, shape (n_samples, n_features)\n",
    "            検証データの特徴量\n",
    "        y_val : 次の形のndarray, shape (n_samples, )\n",
    "            検証データの正解値\n",
    "        \"\"\"\n",
    "        if self.no_bias == False:\n",
    "            X = np.concatenate([np.ones(X.shape[0]).reshape(-1, 1), X], axis=1)\n",
    "            if X_val is not None:\n",
    "                X_val = np.concatenate([np.ones(X_val.shape[0]).reshape(-1, 1), X_val], axis=1)\n",
    "        self.coef_ = np.zeros(X.shape[1]).reshape(-1, 1)\n",
    "        if self.verbose:\n",
    "            for i in range(self.iter):\n",
    "                error = self._linear_hypothesis(X) - y\n",
    "                self.coef_ = self._gradient_descent(X, error)\n",
    "                j_theta = self._compute_cost(X, y)\n",
    "                self.loss[i] = j_theta\n",
    "                print('{}回目、theta:{}、j_theta:{}'.format(i, self.coef_, j_theta))\n",
    "                if X_val is not None and y_val is not None:\n",
    "                    j_theta_val = self._compute_cost(X_val, y_val)\n",
    "                    self.val_loss[i] = j_theta_val\n",
    "                    print('{}回目、theta:{}、j_theta_val:{}'.format(i, self.coef_, j_theta_val))\n",
    "        \n",
    "        else:\n",
    "            for i in range(self.iter):\n",
    "                error = self._linear_hypothesis(X) - y\n",
    "                self.coef_ = self._gradient_descent(X, error)\n",
    "                self.loss[i] = self._compute_cost(X, y)\n",
    "                if X_val is not None and y_val is not None:\n",
    "                    j_theta_val = self._compute_cost(X_val, y_val)\n",
    "                    self.val_loss[i] = j_theta_val\n",
    "\n",
    "    def predict(self, X):\n",
    "        \"\"\"\n",
    "        線形回帰を使い推定する。\n",
    "\n",
    "        Parameters\n",
    "        ----------\n",
    "        X : 次の形のndarray, shape (n_samples, n_features)\n",
    "            サンプル\n",
    "\n",
    "        Returns\n",
    "        -------\n",
    "            次の形のndarray, shape (n_samples, 1)\n",
    "            線形回帰による推定結果\n",
    "        \"\"\"\n",
    "        if self.no_bias == False:\n",
    "            X = np.concatenate([np.ones(X.shape[0]).reshape(-1, 1), X], axis=1)\n",
    "        h_theta = np.dot(X, self.coef_)\n",
    "        \n",
    "        return h_theta\n",
    "    \n",
    "    def _linear_hypothesis(self, X):\n",
    "        \"\"\"\n",
    "        線形の仮定関数を計算する\n",
    "\n",
    "        Parameters\n",
    "        ----------\n",
    "        X : 次の形のndarray, shape (n_samples, n_features)\n",
    "          訓練データ\n",
    "\n",
    "        Returns\n",
    "        -------\n",
    "          次の形のndarray, shape (n_samples, 1)\n",
    "          線形の仮定関数による推定結果\n",
    "\n",
    "        \"\"\"\n",
    "        h_theta = np.dot(X, self.coef_)\n",
    "        \n",
    "        return h_theta\n",
    "    \n",
    "    def _gradient_descent(self, X, error):\n",
    "        \"\"\"\n",
    "        勾配降下法を用いて特徴量の重みのパラメータを更新する\n",
    "\n",
    "        Parameters\n",
    "        ----------\n",
    "        X : 次の形のndarray, shape (n_samples, n_features)\n",
    "          訓練データ\n",
    "\n",
    "        Returns\n",
    "        -------\n",
    "          次の形のndarray, shape (n_samples, 1)\n",
    "          線形の仮定関数による推定結果\n",
    "\n",
    "        \"\"\"\n",
    "        self.coef_ -= self.lr*np.dot(X.T, error)/X.shape[0]\n",
    "\n",
    "        return self.coef_\n",
    "\n",
    "    def _compute_cost(self, X, y):\n",
    "        \"\"\"\n",
    "        勾配降下法を用いて特徴量の重みのパラメータを更新する\n",
    "\n",
    "        Parameters\n",
    "        ----------\n",
    "        X : 次の形のndarray, shape (n_samples, n_features)\n",
    "          訓練データ\n",
    "        y : 次の形のndarray, shape (n_samples, )\n",
    "\n",
    "        Returns\n",
    "        -------\n",
    "          次の形のndarray, shape (1, 1)\n",
    "          目的関数の値\n",
    "\n",
    "        \"\"\"\n",
    "        j_theta = MSE(self._linear_hypothesis(X), y)\n",
    "\n",
    "        return j_theta"
   ]
  },
  {
   "cell_type": "markdown",
   "metadata": {},
   "source": [
    "# 【問題1】仮定関数"
   ]
  },
  {
   "cell_type": "markdown",
   "metadata": {},
   "source": [
    "## class ScratchLinearRegression()にdef _linear_hypothesis(self, X)を追加。中身は下記コード\n",
    "        h_theta = np.dot(X, self.coef_)\n",
    "        \n",
    "        return h_theta"
   ]
  },
  {
   "cell_type": "markdown",
   "metadata": {},
   "source": [
    "# 【問題2】最急降下法"
   ]
  },
  {
   "cell_type": "markdown",
   "metadata": {},
   "source": [
    "## class ScratchLinearRegression()にdef _gradient_descent(self, X, error)を追加。中身は下記コード\n",
    "        self.coef_ -= self.lr*np.dot(X.T, error)/X.shape[0]\n",
    "\n",
    "        return self.coef_\n",
    "## fit(self, X, y, X_val=None, y_val=None)に下記コードを追加\n",
    "        if self.no_bias == False:\n",
    "            X = np.concatenate([np.ones(X.shape[0]).reshape(-1, 1), X], axis=1)\n",
    "            if X_val is not None:\n",
    "                X_val = np.concatenate([np.ones(X_val.shape[0]).reshape(-1, 1), X_val], axis=1)\n",
    "        self.coef_ = np.zeros(X.shape[1]).reshape(-1, 1)\n",
    "        if self.verbose:\n",
    "            for i in range(self.iter):\n",
    "                error = self._linear_hypothesis(X) - y\n",
    "                self.coef_ = self._gradient_descent(X, error)\n",
    "                self.loss[i] = self._compute_cost(X, y)\n",
    "                print('{}回目、theta:{}、j_theta:{}'.format(i, self.coef_, j_theta))\n",
    "                if X_val is not None and y_val is not None:\n",
    "                    j_theta_val = self._compute_cost(X_val, y_val)\n",
    "                    self.val_loss[i] = j_theta_val\n",
    "                    print('{}回目、theta:{}、j_theta_val:{}'.format(i, self.coef_, j_theta_val))\n",
    "        \n",
    "        else:\n",
    "            for i in range(self.iter):\n",
    "                error = self._linear_hypothesis(X) - y\n",
    "                self.coef_ = self._gradient_descent(X, error)\n",
    "                self.loss[i] = self._compute_cost(X, y)\n",
    "                if X_val is not None and y_val is not None:\n",
    "                    j_theta_val = self._compute_cost(X_val, y_val)\n",
    "                    self.val_loss[i] = j_theta_val\n"
   ]
  },
  {
   "cell_type": "markdown",
   "metadata": {},
   "source": [
    "# 【問題3】推定"
   ]
  },
  {
   "cell_type": "markdown",
   "metadata": {},
   "source": [
    "## def predict(self, X)に下記コードを追加\n",
    "        h_theta = np.dot(X, self.coef_)\n",
    "        \n",
    "        return h_theta"
   ]
  },
  {
   "cell_type": "markdown",
   "metadata": {},
   "source": [
    "# 【問題4】平均二乗誤差"
   ]
  },
  {
   "cell_type": "code",
   "execution_count": 3,
   "metadata": {},
   "outputs": [],
   "source": [
    "def MSE(y_pred, y):\n",
    "    \"\"\"\n",
    "    平均二乗誤差の計算\n",
    "\n",
    "    Parameters\n",
    "    ----------\n",
    "    y_pred : 次の形のndarray, shape (n_samples,)\n",
    "      推定した値\n",
    "    y : 次の形のndarray, shape (n_samples,)\n",
    "      正解値\n",
    "\n",
    "    Returns\n",
    "    ----------\n",
    "    mse : numpy.float\n",
    "      平均二乗誤差\n",
    "    \"\"\"\n",
    "    mse = np.dot((y_pred-y).T, y_pred-y)/len(y)\n",
    "    \n",
    "    return mse"
   ]
  },
  {
   "cell_type": "markdown",
   "metadata": {},
   "source": [
    "# 【問題5】目的関数"
   ]
  },
  {
   "cell_type": "markdown",
   "metadata": {},
   "source": [
    "## class ScratchLinearRegression()にdef _compute_cost(self, X, y)を追加。中身は下記コード。\n",
    "        j_theta = MSE(self._linear_hypothesis(X), y)\n",
    "        \n",
    "        return j_theta"
   ]
  },
  {
   "cell_type": "markdown",
   "metadata": {},
   "source": [
    "# 【問題6】学習と推定"
   ]
  },
  {
   "cell_type": "code",
   "execution_count": 4,
   "metadata": {},
   "outputs": [],
   "source": [
    "df = pd.read_csv('train.csv')"
   ]
  },
  {
   "cell_type": "code",
   "execution_count": 5,
   "metadata": {},
   "outputs": [],
   "source": [
    "X = df[['GrLivArea', 'YearBuilt']]"
   ]
  },
  {
   "cell_type": "code",
   "execution_count": 6,
   "metadata": {},
   "outputs": [],
   "source": [
    "y = df['SalePrice']"
   ]
  },
  {
   "cell_type": "code",
   "execution_count": 7,
   "metadata": {},
   "outputs": [],
   "source": [
    "from sklearn.model_selection import train_test_split\n",
    "from sklearn.preprocessing import StandardScaler"
   ]
  },
  {
   "cell_type": "code",
   "execution_count": 8,
   "metadata": {},
   "outputs": [],
   "source": [
    "X = df[['GrLivArea', 'YearBuilt']]\n",
    "y = df['SalePrice']"
   ]
  },
  {
   "cell_type": "code",
   "execution_count": 9,
   "metadata": {},
   "outputs": [],
   "source": [
    "X = np.array(X)\n",
    "y = np.log(y)\n",
    "y = np.array(y)\n",
    "y = y.reshape(-1,1)"
   ]
  },
  {
   "cell_type": "code",
   "execution_count": 10,
   "metadata": {},
   "outputs": [],
   "source": [
    "X_train, X_test, y_train, y_test = train_test_split(X, y, train_size=0.8)"
   ]
  },
  {
   "cell_type": "code",
   "execution_count": 11,
   "metadata": {},
   "outputs": [],
   "source": [
    "ss_X = StandardScaler()"
   ]
  },
  {
   "cell_type": "code",
   "execution_count": 12,
   "metadata": {},
   "outputs": [
    {
     "data": {
      "text/plain": [
       "StandardScaler(copy=True, with_mean=True, with_std=True)"
      ]
     },
     "execution_count": 12,
     "metadata": {},
     "output_type": "execute_result"
    }
   ],
   "source": [
    "ss_X.fit(X_train)"
   ]
  },
  {
   "cell_type": "code",
   "execution_count": 13,
   "metadata": {},
   "outputs": [],
   "source": [
    "X_train = ss_X.transform(X_train)\n",
    "X_test = ss_X.transform(X_test)"
   ]
  },
  {
   "cell_type": "code",
   "execution_count": 14,
   "metadata": {},
   "outputs": [],
   "source": [
    "scr_lr = ScratchLinearRegression(1000, 0.01, False, False)"
   ]
  },
  {
   "cell_type": "code",
   "execution_count": 15,
   "metadata": {},
   "outputs": [],
   "source": [
    "scr_lr.fit(X_train, y_train, X_test, y_test)"
   ]
  },
  {
   "cell_type": "code",
   "execution_count": 16,
   "metadata": {},
   "outputs": [],
   "source": [
    "y_pred_scr = scr_lr.predict(X_test)"
   ]
  },
  {
   "cell_type": "code",
   "execution_count": 17,
   "metadata": {},
   "outputs": [],
   "source": [
    "y_pred_scr = np.exp(y_pred_scr)"
   ]
  },
  {
   "cell_type": "code",
   "execution_count": 18,
   "metadata": {},
   "outputs": [],
   "source": [
    "from sklearn.linear_model import SGDRegressor"
   ]
  },
  {
   "cell_type": "code",
   "execution_count": 19,
   "metadata": {},
   "outputs": [],
   "source": [
    "lr = SGDRegressor()"
   ]
  },
  {
   "cell_type": "code",
   "execution_count": 20,
   "metadata": {},
   "outputs": [
    {
     "name": "stderr",
     "output_type": "stream",
     "text": [
      "C:\\Anaconda\\lib\\site-packages\\sklearn\\utils\\validation.py:724: DataConversionWarning: A column-vector y was passed when a 1d array was expected. Please change the shape of y to (n_samples, ), for example using ravel().\n",
      "  y = column_or_1d(y, warn=True)\n"
     ]
    },
    {
     "data": {
      "text/plain": [
       "SGDRegressor(alpha=0.0001, average=False, early_stopping=False, epsilon=0.1,\n",
       "             eta0=0.01, fit_intercept=True, l1_ratio=0.15,\n",
       "             learning_rate='invscaling', loss='squared_loss', max_iter=1000,\n",
       "             n_iter_no_change=5, penalty='l2', power_t=0.25, random_state=None,\n",
       "             shuffle=True, tol=0.001, validation_fraction=0.1, verbose=0,\n",
       "             warm_start=False)"
      ]
     },
     "execution_count": 20,
     "metadata": {},
     "output_type": "execute_result"
    }
   ],
   "source": [
    "lr.fit(X_train, y_train)"
   ]
  },
  {
   "cell_type": "code",
   "execution_count": 21,
   "metadata": {},
   "outputs": [],
   "source": [
    "y_pred = lr.predict(X_test)\n",
    "y_pred = np.exp(y_pred)"
   ]
  },
  {
   "cell_type": "code",
   "execution_count": 22,
   "metadata": {},
   "outputs": [],
   "source": [
    "y_test_exp = np.exp(y_test)"
   ]
  },
  {
   "cell_type": "code",
   "execution_count": 23,
   "metadata": {},
   "outputs": [
    {
     "data": {
      "text/plain": [
       "<matplotlib.collections.PathCollection at 0x29958b6f888>"
      ]
     },
     "execution_count": 23,
     "metadata": {},
     "output_type": "execute_result"
    },
    {
     "data": {
      "image/png": "[encoded data removed]",
      "text/plain": [
       "<Figure size 432x288 with 1 Axes>"
      ]
     },
     "metadata": {
      "needs_background": "light"
     },
     "output_type": "display_data"
    }
   ],
   "source": [
    "plt.scatter(y_pred_scr, y_test_exp)"
   ]
  },
  {
   "cell_type": "code",
   "execution_count": 24,
   "metadata": {},
   "outputs": [
    {
     "data": {
      "text/plain": [
       "<matplotlib.collections.PathCollection at 0x29958c29188>"
      ]
     },
     "execution_count": 24,
     "metadata": {},
     "output_type": "execute_result"
    },
    {
     "data": {
      "image/png": "[encoded data removed]",
      "text/plain": [
       "<Figure size 432x288 with 1 Axes>"
      ]
     },
     "metadata": {
      "needs_background": "light"
     },
     "output_type": "display_data"
    }
   ],
   "source": [
    "plt.scatter(y_pred, y_test_exp)"
   ]
  },
  {
   "cell_type": "code",
   "execution_count": 25,
   "metadata": {},
   "outputs": [
    {
     "data": {
      "text/plain": [
       "<matplotlib.collections.PathCollection at 0x29958c94b08>"
      ]
     },
     "execution_count": 25,
     "metadata": {},
     "output_type": "execute_result"
    },
    {
     "data": {
      "image/png": "[encoded data removed]",
      "text/plain": [
       "<Figure size 432x288 with 1 Axes>"
      ]
     },
     "metadata": {
      "needs_background": "light"
     },
     "output_type": "display_data"
    }
   ],
   "source": [
    "plt.scatter(y_pred_scr, y_pred)"
   ]
  },
  {
   "cell_type": "code",
   "execution_count": 26,
   "metadata": {},
   "outputs": [
    {
     "data": {
      "text/plain": [
       "<matplotlib.collections.PathCollection at 0x29958cf9f08>"
      ]
     },
     "execution_count": 26,
     "metadata": {},
     "output_type": "execute_result"
    },
    {
     "data": {
      "image/png": "[encoded data removed]",
      "text/plain": [
       "<Figure size 432x288 with 1 Axes>"
      ]
     },
     "metadata": {
      "needs_background": "light"
     },
     "output_type": "display_data"
    }
   ],
   "source": [
    "plt.scatter(y_pred_scr[y_pred_scr < 700000], y_pred[y_pred < 700000])"
   ]
  },
  {
   "cell_type": "markdown",
   "metadata": {},
   "source": [
    "## 大体はy=x上に乗っているので同じような性能を持っていると考えられる。"
   ]
  },
  {
   "cell_type": "markdown",
   "metadata": {},
   "source": [
    "# 【問題7】学習曲線のプロット"
   ]
  },
  {
   "cell_type": "code",
   "execution_count": 27,
   "metadata": {},
   "outputs": [
    {
     "data": {
      "text/plain": [
       "<matplotlib.legend.Legend at 0x29958d6d408>"
      ]
     },
     "execution_count": 27,
     "metadata": {},
     "output_type": "execute_result"
    },
    {
     "data": {
      "image/png": "[encoded data removed]",
      "text/plain": [
       "<Figure size 432x288 with 1 Axes>"
      ]
     },
     "metadata": {
      "needs_background": "light"
     },
     "output_type": "display_data"
    }
   ],
   "source": [
    "plt.plot(scr_lr.loss, label='train_loss')\n",
    "plt.plot(scr_lr.val_loss, label='val_loss')\n",
    "plt.legend()"
   ]
  },
  {
   "cell_type": "markdown",
   "metadata": {},
   "source": [
    "# 【問題8】（アドバンス課題）バイアス項の除去"
   ]
  },
  {
   "cell_type": "code",
   "execution_count": 28,
   "metadata": {},
   "outputs": [],
   "source": [
    "scr_lr_no_bias = ScratchLinearRegression(1000, 0.01, True, False)"
   ]
  },
  {
   "cell_type": "code",
   "execution_count": 29,
   "metadata": {},
   "outputs": [],
   "source": [
    "scr_lr_no_bias.fit(X_train, y_train, X_test, y_test)"
   ]
  },
  {
   "cell_type": "code",
   "execution_count": 30,
   "metadata": {},
   "outputs": [
    {
     "data": {
      "text/plain": [
       "array([[-0.19009432],\n",
       "       [ 0.20276367],\n",
       "       [ 0.50053749],\n",
       "       [ 0.1331078 ],\n",
       "       [-0.51885303],\n",
       "       [ 0.34864312],\n",
       "       [-0.06081041],\n",
       "       [-0.2865277 ],\n",
       "       [-0.48695468],\n",
       "       [-0.11352054],\n",
       "       [ 0.19918813],\n",
       "       [ 0.25634854],\n",
       "       [-0.1706172 ],\n",
       "       [-0.09126433],\n",
       "       [-0.02890319],\n",
       "       [ 0.68488781],\n",
       "       [ 0.48676383],\n",
       "       [ 0.76422132],\n",
       "       [ 0.64276311],\n",
       "       [-0.32521805],\n",
       "       [ 0.09239928],\n",
       "       [-0.21388373],\n",
       "       [-0.20928819],\n",
       "       [-0.21813549],\n",
       "       [ 0.30343672],\n",
       "       [-0.12829077],\n",
       "       [-0.37599719],\n",
       "       [-0.47508217],\n",
       "       [ 0.14612213],\n",
       "       [ 0.04143456],\n",
       "       [-0.06817777],\n",
       "       [ 0.06647875],\n",
       "       [-0.41963166],\n",
       "       [ 0.1887318 ],\n",
       "       [-0.58272233],\n",
       "       [ 0.4763075 ],\n",
       "       [ 0.71299272],\n",
       "       [ 0.39619691],\n",
       "       [-0.28364934],\n",
       "       [-0.24727248],\n",
       "       [ 0.01269054],\n",
       "       [ 0.039882  ],\n",
       "       [ 0.24795798],\n",
       "       [-0.42147794],\n",
       "       [ 0.30143631],\n",
       "       [ 0.1044808 ],\n",
       "       [-0.15554598],\n",
       "       [ 0.19393253],\n",
       "       [-0.15705415],\n",
       "       [-0.46388588],\n",
       "       [ 0.54856738],\n",
       "       [ 0.11841019],\n",
       "       [ 0.03239602],\n",
       "       [-0.45339404],\n",
       "       [-0.29650067],\n",
       "       [-0.02645493],\n",
       "       [ 0.17242677],\n",
       "       [ 0.09266316],\n",
       "       [-0.52961922],\n",
       "       [ 0.17748224],\n",
       "       [-0.1596404 ],\n",
       "       [ 0.91854781],\n",
       "       [ 0.04075995],\n",
       "       [ 0.19864101],\n",
       "       [-0.24030859],\n",
       "       [ 1.09276214],\n",
       "       [-0.09443802],\n",
       "       [ 0.24918291],\n",
       "       [ 0.28069715],\n",
       "       [ 0.26128379],\n",
       "       [-0.55634507],\n",
       "       [ 0.24566385],\n",
       "       [ 0.07892661],\n",
       "       [ 0.0564154 ],\n",
       "       [ 0.09821087],\n",
       "       [-0.00277366],\n",
       "       [-0.15151532],\n",
       "       [ 0.06319693],\n",
       "       [-0.08505976],\n",
       "       [-0.08607409],\n",
       "       [ 0.31801891],\n",
       "       [-0.2140677 ],\n",
       "       [-0.3476284 ],\n",
       "       [ 0.18108281],\n",
       "       [ 0.24168805],\n",
       "       [-0.30378492],\n",
       "       [-0.2875985 ],\n",
       "       [-0.22629768],\n",
       "       [-0.22192891],\n",
       "       [-0.19716796],\n",
       "       [ 0.2946443 ],\n",
       "       [ 0.01652996],\n",
       "       [-0.04897502],\n",
       "       [-0.58043708],\n",
       "       [-0.18408987],\n",
       "       [ 0.04143617],\n",
       "       [ 0.31181841],\n",
       "       [ 0.62874172],\n",
       "       [-0.32763808],\n",
       "       [ 0.23093073],\n",
       "       [ 0.40744808],\n",
       "       [ 0.40715596],\n",
       "       [ 0.10205189],\n",
       "       [-0.51683325],\n",
       "       [ 0.13749433],\n",
       "       [-0.01025964],\n",
       "       [-0.51208038],\n",
       "       [-0.24650428],\n",
       "       [-0.11209548],\n",
       "       [-0.04873617],\n",
       "       [-0.31034696],\n",
       "       [-0.32172562],\n",
       "       [ 0.30645306],\n",
       "       [ 0.30164532],\n",
       "       [-0.08449329],\n",
       "       [ 0.71970162],\n",
       "       [-0.09443802],\n",
       "       [-0.5444992 ],\n",
       "       [-0.10209749],\n",
       "       [ 0.5934623 ],\n",
       "       [ 0.39176439],\n",
       "       [-0.03065909],\n",
       "       [-0.50981288],\n",
       "       [ 0.15205395],\n",
       "       [ 0.21912197],\n",
       "       [-0.34404558],\n",
       "       [-0.25983897],\n",
       "       [ 0.55852986],\n",
       "       [ 0.22920307],\n",
       "       [ 0.35857897],\n",
       "       [-0.140758  ],\n",
       "       [-0.04414951],\n",
       "       [-0.24131403],\n",
       "       [ 0.36165745],\n",
       "       [-0.38289894],\n",
       "       [ 0.28377724],\n",
       "       [-0.6258896 ],\n",
       "       [ 0.27393338],\n",
       "       [ 0.19213224],\n",
       "       [-0.35172281],\n",
       "       [ 0.18262649],\n",
       "       [-0.16471363],\n",
       "       [ 0.24258375],\n",
       "       [ 0.25892591],\n",
       "       [-0.26164086],\n",
       "       [ 0.00143938],\n",
       "       [-0.71563344],\n",
       "       [-0.22060311],\n",
       "       [-0.24694486],\n",
       "       [-0.10584331],\n",
       "       [-0.2955041 ],\n",
       "       [ 0.41471457],\n",
       "       [-0.22647118],\n",
       "       [-0.00705205],\n",
       "       [ 0.63316537],\n",
       "       [ 0.33215411],\n",
       "       [-0.31624166],\n",
       "       [-0.13918608],\n",
       "       [-0.6263552 ],\n",
       "       [-0.25934673],\n",
       "       [-0.05751244],\n",
       "       [ 0.51079209],\n",
       "       [ 0.31804234],\n",
       "       [ 0.21850063],\n",
       "       [-0.30697475],\n",
       "       [-0.28928904],\n",
       "       [-0.52499545],\n",
       "       [ 0.00924571],\n",
       "       [-0.59623052],\n",
       "       [ 0.19583368],\n",
       "       [-0.1906963 ],\n",
       "       [ 0.24651516],\n",
       "       [-0.4103454 ],\n",
       "       [-0.74635124],\n",
       "       [-0.44643902],\n",
       "       [-0.24494284],\n",
       "       [-0.11861153],\n",
       "       [ 0.32974136],\n",
       "       [ 0.02956205],\n",
       "       [-0.24684239],\n",
       "       [-0.35837684],\n",
       "       [-0.17435576],\n",
       "       [-0.3026786 ],\n",
       "       [ 0.00810228],\n",
       "       [-0.15912719],\n",
       "       [-0.20002856],\n",
       "       [ 0.13917599],\n",
       "       [ 0.09554312],\n",
       "       [-0.07711705],\n",
       "       [ 0.34982206],\n",
       "       [-0.41855199],\n",
       "       [-0.07482292],\n",
       "       [ 0.19158353],\n",
       "       [-0.41072062],\n",
       "       [-0.11735996],\n",
       "       [ 0.04155318],\n",
       "       [-0.49702691],\n",
       "       [-0.0483448 ],\n",
       "       [-0.23056559],\n",
       "       [ 0.48223044],\n",
       "       [-0.01649245],\n",
       "       [-0.2881101 ],\n",
       "       [-0.28123659],\n",
       "       [-0.33128625],\n",
       "       [ 0.05475149],\n",
       "       [-0.15155971],\n",
       "       [-0.09588244],\n",
       "       [-0.82059377],\n",
       "       [ 0.60191661],\n",
       "       [ 0.08398936],\n",
       "       [-0.27953717],\n",
       "       [ 0.89542413],\n",
       "       [ 0.55925207],\n",
       "       [-0.49165269],\n",
       "       [ 0.00582591],\n",
       "       [ 0.31086783],\n",
       "       [-0.2552983 ],\n",
       "       [ 0.31064835],\n",
       "       [ 0.53644875],\n",
       "       [ 0.46550419],\n",
       "       [ 0.56623533],\n",
       "       [-0.34393584],\n",
       "       [-0.25867939],\n",
       "       [-0.07441219],\n",
       "       [-0.20374936],\n",
       "       [-0.19681209],\n",
       "       [-0.30004637],\n",
       "       [ 0.23834408],\n",
       "       [ 0.05397441],\n",
       "       [-0.39020982],\n",
       "       [ 0.21691095],\n",
       "       [ 0.1274221 ],\n",
       "       [-0.25030819],\n",
       "       [-0.57970599],\n",
       "       [ 0.23702716],\n",
       "       [-0.35216179],\n",
       "       [ 0.03182067],\n",
       "       [ 0.23776713],\n",
       "       [-0.08719816],\n",
       "       [ 0.07583764],\n",
       "       [ 0.07386387],\n",
       "       [ 0.47362039],\n",
       "       [ 0.34747306],\n",
       "       [-0.37040348],\n",
       "       [ 0.21003744],\n",
       "       [-0.41811462],\n",
       "       [-0.23822507],\n",
       "       [-0.20563275],\n",
       "       [-0.16764686],\n",
       "       [ 0.06631413],\n",
       "       [ 0.13265107],\n",
       "       [-0.15189054],\n",
       "       [-0.42564499],\n",
       "       [-0.18062568],\n",
       "       [ 0.52718911],\n",
       "       [-0.30640667],\n",
       "       [ 1.39511696],\n",
       "       [-0.31582204],\n",
       "       [ 0.05279547],\n",
       "       [-0.23835257],\n",
       "       [-0.2875985 ],\n",
       "       [ 0.31875567],\n",
       "       [ 0.20854702],\n",
       "       [ 0.69043552],\n",
       "       [-0.179291  ],\n",
       "       [-0.2642731 ],\n",
       "       [ 0.19516634],\n",
       "       [ 0.14150724],\n",
       "       [ 0.38255396],\n",
       "       [-0.14562949],\n",
       "       [ 0.19666724],\n",
       "       [ 0.6421224 ],\n",
       "       [ 0.25945687],\n",
       "       [-0.25844214],\n",
       "       [-0.62449117],\n",
       "       [-0.06686973],\n",
       "       [-0.1202488 ],\n",
       "       [ 0.58938564],\n",
       "       [ 0.01703108],\n",
       "       [ 0.5192924 ],\n",
       "       [-0.26045143],\n",
       "       [ 0.37889531],\n",
       "       [ 0.30838245],\n",
       "       [ 0.56322786],\n",
       "       [-0.087692  ],\n",
       "       [-0.14760327],\n",
       "       [-0.57012761],\n",
       "       [-0.04603291],\n",
       "       [ 0.16107473],\n",
       "       [ 0.08582676],\n",
       "       [-0.08822296],\n",
       "       [ 0.31871856]])"
      ]
     },
     "execution_count": 30,
     "metadata": {},
     "output_type": "execute_result"
    }
   ],
   "source": [
    "scr_lr_no_bias.predict(X_test)"
   ]
  },
  {
   "cell_type": "code",
   "execution_count": 31,
   "metadata": {},
   "outputs": [
    {
     "data": {
      "text/plain": [
       "<matplotlib.legend.Legend at 0x29958df36c8>"
      ]
     },
     "execution_count": 31,
     "metadata": {},
     "output_type": "execute_result"
    },
    {
     "data": {
      "image/png": "[encoded data removed]",
      "text/plain": [
       "<Figure size 432x288 with 1 Axes>"
      ]
     },
     "metadata": {
      "needs_background": "light"
     },
     "output_type": "display_data"
    }
   ],
   "source": [
    "plt.plot(scr_lr_no_bias.loss, label='train_loss')\n",
    "plt.plot(scr_lr_no_bias.val_loss, label='val_loss')\n",
    "plt.legend()"
   ]
  },
  {
   "cell_type": "code",
   "execution_count": 32,
   "metadata": {},
   "outputs": [
    {
     "data": {
      "text/plain": [
       "<matplotlib.collections.PathCollection at 0x29958ea4d08>"
      ]
     },
     "execution_count": 32,
     "metadata": {},
     "output_type": "execute_result"
    },
    {
     "data": {
      "image/png": "[encoded data removed]",
      "text/plain": [
       "<Figure size 864x288 with 2 Axes>"
      ]
     },
     "metadata": {
      "needs_background": "light"
     },
     "output_type": "display_data"
    }
   ],
   "source": [
    "fig, ax = plt.subplots(1, 2, figsize=(12, 4))\n",
    "ax[0].scatter(X[:, 0], y)\n",
    "ax[1].scatter(X[:, 1], y)"
   ]
  },
  {
   "cell_type": "markdown",
   "metadata": {},
   "source": [
    "## 各特徴量とtargetの関係をプロットすると原点を通らない直線が引けそうな関係なので、バイアス項がないとうまく学習を行うことができない。"
   ]
  },
  {
   "cell_type": "markdown",
   "metadata": {},
   "source": [
    "# 【問題9】（アドバンス課題）特徴量の多次元化"
   ]
  },
  {
   "cell_type": "markdown",
   "metadata": {},
   "source": [
    "## 特徴量の二乗"
   ]
  },
  {
   "cell_type": "code",
   "execution_count": 33,
   "metadata": {},
   "outputs": [],
   "source": [
    "X_train_square = X_train**2\n",
    "X_test_square = X_test**2\n",
    "X_train_cube = X_train**3\n",
    "X_test_cube = X_test**3"
   ]
  },
  {
   "cell_type": "code",
   "execution_count": 34,
   "metadata": {},
   "outputs": [],
   "source": [
    "scr_lr_square = ScratchLinearRegression(1000, 0.01, False, False)\n",
    "scr_lr_cube = ScratchLinearRegression(1000, 0.01, False, False)"
   ]
  },
  {
   "cell_type": "code",
   "execution_count": 35,
   "metadata": {},
   "outputs": [
    {
     "name": "stderr",
     "output_type": "stream",
     "text": [
      "C:\\Anaconda\\lib\\site-packages\\ipykernel_launcher.py:130: RuntimeWarning: invalid value encountered in subtract\n"
     ]
    }
   ],
   "source": [
    "scr_lr_square.fit(X_train_square, y_train, X_test_square, y_test)\n",
    "scr_lr_cube.fit(X_train_cube, y_train, X_test_cube, y_test)"
   ]
  },
  {
   "cell_type": "code",
   "execution_count": 36,
   "metadata": {},
   "outputs": [
    {
     "data": {
      "text/plain": [
       "<matplotlib.legend.Legend at 0x29958f83c88>"
      ]
     },
     "execution_count": 36,
     "metadata": {},
     "output_type": "execute_result"
    },
    {
     "data": {
      "image/png": "[encoded data removed]",
      "text/plain": [
       "<Figure size 864x288 with 2 Axes>"
      ]
     },
     "metadata": {
      "needs_background": "light"
     },
     "output_type": "display_data"
    }
   ],
   "source": [
    "fig, ax = plt.subplots(1, 2, figsize=(12, 4))\n",
    "ax[0].plot(scr_lr.loss, label='X')\n",
    "ax[0].plot(scr_lr_square.loss, label='X**2')\n",
    "ax[1].plot(scr_lr_cube.loss, label='X**3')\n",
    "ax[0].legend()\n",
    "ax[1].legend()"
   ]
  },
  {
   "cell_type": "markdown",
   "metadata": {},
   "source": [
    "## 特徴量を３乗したものが収束しなかったので、学習率を小さくする"
   ]
  },
  {
   "cell_type": "code",
   "execution_count": 37,
   "metadata": {},
   "outputs": [
    {
     "data": {
      "text/plain": [
       "<matplotlib.legend.Legend at 0x29958fd1788>"
      ]
     },
     "execution_count": 37,
     "metadata": {},
     "output_type": "execute_result"
    },
    {
     "data": {
      "image/png": "[encoded data removed]",
      "text/plain": [
       "<Figure size 432x288 with 1 Axes>"
      ]
     },
     "metadata": {
      "needs_background": "light"
     },
     "output_type": "display_data"
    }
   ],
   "source": [
    "scr_lr_cube = ScratchLinearRegression(1000, 0.001, False, False)\n",
    "scr_lr_cube.fit(X_train_cube, y_train, X_test_cube, y_test)\n",
    "plt.plot(scr_lr_cube.loss, label='X**3')\n",
    "plt.legend()"
   ]
  },
  {
   "cell_type": "markdown",
   "metadata": {},
   "source": [
    "## 考察\n",
    "## 特徴量の値が２乗、３乗と分散が大きくなるにしたがって、収束するのに回数が必要になり、学習率も小さくする必要がある。"
   ]
  },
  {
   "cell_type": "markdown",
   "metadata": {},
   "source": [
    "# 【問題10】（アドバンス課題）更新式の導出"
   ]
  },
  {
   "cell_type": "markdown",
   "metadata": {},
   "source": [
    "## 各θは目的関数が小さくなるように更新されるので、目的関数を各θで偏微分したものを各θから引けばよい。その時に学習率をかけることで、更新する度合いを変える。\n",
    "## 例えば特徴量が２個、サンプル数5のデータがあるとすると、仮定関数は$ \\theta_0x_0^i + \\theta_1x_1^i + \\theta_2x_2^i$(iは0から4)とかける。これを目的関数に入れてθ1について偏微分すると$ (\\theta_1x_1^i + \\theta_0x_0^i + \\theta_2x_2^i - y)x_1^i/5$(iは0から4)となり、()の中身が仮定関数-yとなりこれをθ0からθ2まで行えばよいので、勾配降下法の式が求まる。"
   ]
  },
  {
   "cell_type": "markdown",
   "metadata": {},
   "source": [
    "# 【問題11】（アドバンス課題）局所最適解の問題"
   ]
  },
  {
   "cell_type": "markdown",
   "metadata": {},
   "source": [
    "## 線形回帰では目的関数の各θの次数は２であるため、どのθについても下に凸のグラフを描くことになる。よって、極小値=最小値となるため、局所最適解が起こることはない。"
   ]
  },
  {
   "cell_type": "code",
   "execution_count": null,
   "metadata": {},
   "outputs": [],
   "source": []
  }
 ],
 "metadata": {
  "kernelspec": {
   "display_name": "Python 3",
   "language": "python",
   "name": "python3"
  },
  "language_info": {
   "codemirror_mode": {
    "name": "ipython",
    "version": 3
   },
   "file_extension": ".py",
   "mimetype": "text/x-python",
   "name": "python",
   "nbconvert_exporter": "python",
   "pygments_lexer": "ipython3",
   "version": "3.7.4"
  }
 },
 "nbformat": 4,
 "nbformat_minor": 2
}
