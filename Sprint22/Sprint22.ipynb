{
 "cells": [
  {
   "cell_type": "code",
   "execution_count": 345,
   "metadata": {},
   "outputs": [],
   "source": [
    "import numpy as np\n",
    "import re\n",
    "from gensim.models import Word2Vec\n",
    "from sklearn.metrics import accuracy_score\n",
    "from matplotlib import pyplot as plt\n",
    "%matplotlib inline"
   ]
  },
  {
   "cell_type": "markdown",
   "metadata": {},
   "source": [
    "# 【問題2】小さな配列でのフォワードプロパゲーションの実験"
   ]
  },
  {
   "cell_type": "code",
   "execution_count": 232,
   "metadata": {},
   "outputs": [],
   "source": [
    "x = np.array([[[1, 2], [2, 3], [3, 4]]])/100 # (batch_size, n_sequences, n_features)\n",
    "w_x = np.array([[1, 3, 5, 7], [3, 5, 7, 8]])/100 # (n_features, n_nodes)\n",
    "w_h = np.array([[1, 3, 5, 7], [2, 4, 6, 8], [3, 5, 7, 8], [4, 6, 8, 10]])/100 # (n_nodes, n_nodes)\n",
    "batch_size = x.shape[0] # 1\n",
    "n_sequences = x.shape[1] # 3\n",
    "n_features = x.shape[2] # 2\n",
    "n_nodes = w_x.shape[1] # 4\n",
    "h = np.zeros((batch_size, n_nodes)) # (batch_size, n_nodes)\n",
    "b = np.array([1, 1, 1, 1]) # (n_nodes,)"
   ]
  },
  {
   "cell_type": "code",
   "execution_count": 237,
   "metadata": {},
   "outputs": [],
   "source": [
    "def forward(x, w_x, w_h, b):\n",
    "    h_prev = np.zeros([batch_size, n_sequences+1, n_nodes])\n",
    "    h_tmp = np.zeros([batch_size, n_sequences, n_nodes])\n",
    "    h_next = np.zeros([batch_size, n_sequences, n_nodes])\n",
    "    for t in range(n_sequences):\n",
    "        h_tmp[:, t, :] = np.dot(x[:,t,:], w_x) + np.dot(h_prev[:,t,:], w_h) + b\n",
    "        h_next[:, t, :] = np.tanh(h_tmp[:, t, :])\n",
    "        h_prev[:, t+1, :] = h_next[:, t, :]\n",
    "    \n",
    "    return h_next, h_prev"
   ]
  },
  {
   "cell_type": "code",
   "execution_count": 239,
   "metadata": {},
   "outputs": [],
   "source": [
    "h_next, h_prev = forward(x, w_x, w_h, b)"
   ]
  },
  {
   "cell_type": "code",
   "execution_count": 249,
   "metadata": {},
   "outputs": [
    {
     "name": "stdout",
     "output_type": "stream",
     "text": [
      "[[[0.76188798 0.76213958 0.76239095 0.76255841]\n",
      "  [0.792209   0.8141834  0.83404912 0.84977719]\n",
      "  [0.79494228 0.81839002 0.83939649 0.85584174]]]\n"
     ]
    }
   ],
   "source": [
    "print(h_next)"
   ]
  },
  {
   "cell_type": "code",
   "execution_count": 252,
   "metadata": {},
   "outputs": [],
   "source": [
    "def backward(X, w_x, w_h, h_prev, dht):\n",
    "    \"\"\"\n",
    "    バックワード\n",
    "    Parameters\n",
    "    ----------\n",
    "    dA : 次の形のndarray, shape (batch_size, n_nodes2)\n",
    "        後ろから流れてきた勾配\n",
    "    Returns\n",
    "    ----------\n",
    "    dZ : 次の形のndarray, shape (batch_size, n_nodes1)\n",
    "        前に流す勾配\n",
    "    \"\"\"\n",
    "    dX = np.zeros([*X.shape])\n",
    "    dh_next = np.zeros([X.shape[0], X.shape[1]+1, w_x.shape[1]])\n",
    "    for t in reversed(range(X.shape[1])):\n",
    "        dh = dht[:, t, :] + dh_next[:, t+1, :]\n",
    "        dB = np.sum(dh, axis=0)\n",
    "        dWh = np.dot(h_prev[:, t, :].T, dh)\n",
    "        dh_next[:, t, :] = np.dot(dh, w_h.T)\n",
    "        dWx = np.dot(X[:, t, :].T, dh)\n",
    "        dX[:, t, :] = np.dot(dh, w_x.T)\n",
    "\n",
    "    return dX"
   ]
  },
  {
   "cell_type": "code",
   "execution_count": 255,
   "metadata": {},
   "outputs": [
    {
     "data": {
      "text/plain": [
       "array([[[0.657394, 0.86843 ],\n",
       "        [1.3629  , 1.8783  ],\n",
       "        [1.62    , 2.27    ]]])"
      ]
     },
     "execution_count": 255,
     "metadata": {},
     "output_type": "execute_result"
    }
   ],
   "source": [
    "backward(x, w_x, w_h, h_prev, np.arange(12).reshape(1, 3, 4))"
   ]
  },
  {
   "cell_type": "markdown",
   "metadata": {},
   "source": [
    "# 問題1】SimpleRNNのフォワードプロパゲーション実装"
   ]
  },
  {
   "cell_type": "code",
   "execution_count": 416,
   "metadata": {},
   "outputs": [],
   "source": [
    "class SimpleRNN:\n",
    "    \"\"\"\n",
    "    Parameters\n",
    "    ----------\n",
    "    n_features : int\n",
    "      分散表現の次数\n",
    "    n_nodes : int\n",
    "      outputの次数\n",
    "    initializer : 初期化方法のインスタンス\n",
    "    optimizer : 最適化手法のインスタンス\n",
    "    \"\"\"\n",
    "    def __init__(self, n_features, n_nodes, initializer, optimizer):\n",
    "        self.optimizer = optimizer()\n",
    "        self.Wx = initializer(n_features).init_weight([n_features, n_nodes])\n",
    "        self.Wh = initializer(n_nodes).init_weight([n_nodes, n_nodes])\n",
    "        self.B = initializer(n_features).init_bias(n_nodes)\n",
    "        self.h_prev = None\n",
    "        \n",
    "    def forward(self, X):\n",
    "        \"\"\"\n",
    "        フォワード\n",
    "        Parameters\n",
    "        ----------\n",
    "        X : 次の形のndarray, shape (batch_size, n_sequences, n_features)\n",
    "            入力\n",
    "        Returns\n",
    "        ----------\n",
    "        h_next : 次の形のndarray, shape (batch_size, n_sequences, n_nodes)\n",
    "                出力\n",
    "        \"\"\"\n",
    "        if self.h_prev is None:\n",
    "            self.h_prev = np.zeros([X.shape[0], X.shape[1]+1, self.Wx.shape[1]])\n",
    "        self.h_tmp = np.zeros([X.shape[0], X.shape[1], self.Wx.shape[1]])\n",
    "        h_next = np.zeros([X.shape[0], X.shape[1], self.Wx.shape[1]])\n",
    "        for t in range(X.shape[1]):\n",
    "            self.h_tmp[:, t, :] = np.dot(X[:,t,:], self.Wx) + np.dot(self.h_prev[:,t,:], self.Wh) + self.B\n",
    "            h_next[:, t, :] = np.tanh(self.h_tmp[:, t, :])\n",
    "            self.h_prev[:, t+1, :] = h_next[:, t, :]\n",
    "        \n",
    "        self.X = X\n",
    "            \n",
    "        return h_next\n",
    "    \n",
    "    def backward(self, dht):\n",
    "        \"\"\"\n",
    "        バックワード\n",
    "        Parameters\n",
    "        ----------\n",
    "        dht : 次の形のndarray, shape (batch_size, n_sequences, n_nodes)\n",
    "            後ろから流れてきた勾配\n",
    "        Returns\n",
    "        ----------\n",
    "        dX : 次の形のndarray, shape (batch_size, n_sequences, n_features)\n",
    "            前に流す勾配\n",
    "        \"\"\"\n",
    "        dX = np.zeros([*self.X.shape])\n",
    "        dh_next = np.zeros([self.X.shape[0], self.X.shape[1]+1, self.Wx.shape[1]])\n",
    "        for t in reversed(range(self.X.shape[1])):\n",
    "            dh = (dht[:, t, :] + dh_next[:, t+1, :])*(1 - (np.tanh(self.h_tmp[:, t, :]))**2)\n",
    "            self.dB = np.sum(dh, axis=0)\n",
    "            self.dWh = np.dot(self.h_prev[:, t, :].T, dh)\n",
    "            dh_next[:, t, :] = np.dot(dh, self.Wh.T)\n",
    "            self.dWx = np.dot(self.X[:, t, :].T, dh)\n",
    "            dX[:, t, :] = np.dot(dh, self.Wx.T)\n",
    "        \n",
    "        # 更新\n",
    "        self = self.optimizer.update(self)\n",
    "        \n",
    "        return dX"
   ]
  },
  {
   "cell_type": "markdown",
   "metadata": {},
   "source": [
    "# 【問題3】（アドバンス課題）バックプロパゲーションの実装"
   ]
  },
  {
   "cell_type": "code",
   "execution_count": 174,
   "metadata": {},
   "outputs": [],
   "source": [
    "class GetMiniBatch:\n",
    "    \"\"\"\n",
    "    ミニバッチを取得するイテレータ\n",
    "\n",
    "    Parameters\n",
    "    ----------\n",
    "    X : 次の形のndarray, shape (n_samples, n_features)\n",
    "      訓練用データ\n",
    "    y : 次の形のndarray, shape (n_samples, 1)\n",
    "      正解値\n",
    "    batch_size : int\n",
    "      バッチサイズ\n",
    "    seed : int\n",
    "      NumPyの乱数のシード\n",
    "    \"\"\"\n",
    "    def __init__(self, X, y, batch_size = 20, seed=0):\n",
    "        self.batch_size = batch_size\n",
    "        np.random.seed(seed)\n",
    "        shuffle_index = np.random.permutation(np.arange(X.shape[0]))\n",
    "        self._X = X[shuffle_index]\n",
    "        self._y = y[shuffle_index]\n",
    "        self._stop = np.ceil(X.shape[0]/self.batch_size).astype(np.int)\n",
    "\n",
    "    def __len__(self):\n",
    "        return self._stop\n",
    "\n",
    "    def __getitem__(self,item):\n",
    "        p0 = item*self.batch_size\n",
    "        p1 = item*self.batch_size + self.batch_size\n",
    "        return self._X[p0:p1], self._y[p0:p1]        \n",
    "\n",
    "    def __iter__(self):\n",
    "        self._counter = 0\n",
    "        return self\n",
    "\n",
    "    def __next__(self):\n",
    "        if self._counter >= self._stop:\n",
    "            raise StopIteration()\n",
    "        p0 = self._counter*self.batch_size\n",
    "        p1 = self._counter*self.batch_size + self.batch_size\n",
    "        self._counter += 1\n",
    "        return self._X[p0:p1], self._y[p0:p1]"
   ]
  },
  {
   "cell_type": "code",
   "execution_count": 6,
   "metadata": {},
   "outputs": [],
   "source": [
    "class XavierInitializer:\n",
    "    def __init__(self, input_nodes):\n",
    "        self.sigma = 1/np.sqrt(input_nodes)\n",
    "        \n",
    "    def init_weight(self, W_shape):\n",
    "        W = self.sigma*np.random.randn(*W_shape)\n",
    "        \n",
    "        return W\n",
    "    \n",
    "    def init_bias(self, output_nodes):\n",
    "        B = self.sigma*np.random.randn(output_nodes)\n",
    "        \n",
    "        return B"
   ]
  },
  {
   "cell_type": "code",
   "execution_count": 294,
   "metadata": {},
   "outputs": [],
   "source": [
    "class AdaGrad_rnn:\n",
    "    def __init__(self, lr=0.01):\n",
    "        self.lr = lr\n",
    "        self.h_Wh = 0\n",
    "        self.h_Wx = 0\n",
    "        self.h_B = 0\n",
    "        \n",
    "    def update(self, layer):\n",
    "        self.h_Wh += layer.dWh**2\n",
    "        self.h_Wx += layer.dWx**2\n",
    "        self.h_B += layer.dB**2\n",
    "        layer.Wh -= self.lr*layer.dWh/np.sqrt(self.h_Wh + 1e-7)\n",
    "        layer.Wx -= self.lr*layer.dWx/np.sqrt(self.h_Wx + 1e-7)\n",
    "        layer.B -= self.lr*layer.dB/np.sqrt(self.h_B + 1e-7)\n",
    "        \n",
    "        return layer"
   ]
  },
  {
   "cell_type": "code",
   "execution_count": 295,
   "metadata": {},
   "outputs": [],
   "source": [
    "class AdaGrad:\n",
    "    def __init__(self, lr=0.01):\n",
    "        self.lr = lr\n",
    "        self.h_W = 0\n",
    "        self.h_B = 0\n",
    "        \n",
    "    def update(self, layer):\n",
    "        self.h_W += layer.dW**2\n",
    "        self.h_B += layer.dB**2\n",
    "        layer.W -= self.lr*layer.dW/np.sqrt(self.h_W + 1e-7)\n",
    "        layer.B -= self.lr*layer.dB/np.sqrt(self.h_B + 1e-7)\n",
    "        \n",
    "        return layer"
   ]
  },
  {
   "cell_type": "code",
   "execution_count": 8,
   "metadata": {},
   "outputs": [],
   "source": [
    "class Tanh:\n",
    "    def __init__(self):\n",
    "        pass\n",
    "    \n",
    "    def forward(self, A):\n",
    "        self.A = A\n",
    "        Z = np.tanh(A)\n",
    "        \n",
    "        return Z\n",
    "    \n",
    "    def backward(self, dZ):\n",
    "        dA = dZ*(1 - np.tanh(self.A)**2)\n",
    "        \n",
    "        return dA"
   ]
  },
  {
   "cell_type": "code",
   "execution_count": 167,
   "metadata": {},
   "outputs": [],
   "source": [
    "class SigmoidWithLoss:\n",
    "    def __init__(self):\n",
    "        pass\n",
    "    \n",
    "    def forward(self, X):\n",
    "        self.sigmoid = 1 / (1 + np.exp(-X))\n",
    "        \n",
    "        return self.sigmoid\n",
    "    \n",
    "    def backward(self, y):\n",
    "        loss = -np.sum(y*np.log(self.sigmoid + 1e-7))/y.shape[0]\n",
    "        dX = self.sigmoid - y\n",
    "        \n",
    "        return loss, dX"
   ]
  },
  {
   "cell_type": "code",
   "execution_count": 270,
   "metadata": {},
   "outputs": [],
   "source": [
    "class FC:\n",
    "    \"\"\"\n",
    "    ノード数n_nodes1からn_nodes2への全結合層\n",
    "    Parameters\n",
    "    ----------\n",
    "    n_nodes1 : int\n",
    "      前の層のノード数\n",
    "    n_nodes2 : int\n",
    "      後の層のノード数\n",
    "    initializer : 初期化方法のインスタンス\n",
    "    optimizer : 最適化手法のインスタンス\n",
    "    \"\"\"\n",
    "    def __init__(self, batch_size, n_nodes, output, initializer, optimizer):\n",
    "        self.optimizer = optimizer()\n",
    "        self.W = initializer(n_features*n_nodes).init_weight([n_nodes, output])\n",
    "        self.B = initializer(n_features*n_nodes).init_bias(output)\n",
    "        \n",
    "    def forward(self, X):\n",
    "        \"\"\"\n",
    "        フォワード\n",
    "        Parameters\n",
    "        ----------\n",
    "        X : 次の形のndarray, shape (batch_size, n_nodes1)\n",
    "            入力\n",
    "        Returns\n",
    "        ----------\n",
    "        A : 次の形のndarray, shape (batch_size, n_nodes2)\n",
    "            出力\n",
    "        \"\"\"        \n",
    "        rX = X.reshape(X.shape[0]*X.shape[1], -1)\n",
    "        out = np.dot(rX, self.W) + self.B\n",
    "        out = out.reshape(X.shape[0], X.shape[1])\n",
    "        \n",
    "        self.X = X\n",
    "        self.rX = rX\n",
    "        \n",
    "        return out\n",
    "    \n",
    "    def backward(self, dout):\n",
    "        \"\"\"\n",
    "        バックワード\n",
    "        Parameters\n",
    "        ----------\n",
    "        dA : 次の形のndarray, shape (batch_size, n_nodes2)\n",
    "            後ろから流れてきた勾配\n",
    "        Returns\n",
    "        ----------\n",
    "        dZ : 次の形のndarray, shape (batch_size, n_nodes1)\n",
    "            前に流す勾配\n",
    "        \"\"\"\n",
    "        dout = dout.reshape(self.X.shape[0]*self.X.shape[1], -1)\n",
    "        self.dB = np.sum(dout, axis=0)\n",
    "        self.dW = np.dot(self.rX.T, dout)\n",
    "        dX = np.dot(dout, self.W.T)\n",
    "        dX = dX.reshape(self.X.shape[0], self.X.shape[1], -1)\n",
    "        \n",
    "        # 更新\n",
    "        self = self.optimizer.update(self)\n",
    "        \n",
    "        return dX"
   ]
  },
  {
   "cell_type": "code",
   "execution_count": 9,
   "metadata": {},
   "outputs": [
    {
     "name": "stderr",
     "output_type": "stream",
     "text": [
      "Using TensorFlow backend.\n"
     ]
    }
   ],
   "source": [
    "from keras.datasets import imdb"
   ]
  },
  {
   "cell_type": "code",
   "execution_count": 22,
   "metadata": {},
   "outputs": [],
   "source": [
    "from keras.preprocessing import sequence\n",
    "from keras.models import Sequential\n",
    "from keras.layers import Embedding"
   ]
  },
  {
   "cell_type": "markdown",
   "metadata": {},
   "source": [
    "## rnnに入れるデータの形式がわからないのでkerasで見てみる"
   ]
  },
  {
   "cell_type": "code",
   "execution_count": 10,
   "metadata": {},
   "outputs": [
    {
     "name": "stderr",
     "output_type": "stream",
     "text": [
      "C:\\Anaconda\\lib\\site-packages\\keras\\datasets\\imdb.py:49: UserWarning: The `nb_words` argument in `load_data` has been renamed `num_words`.\n",
      "  warnings.warn('The `nb_words` argument in `load_data` '\n"
     ]
    },
    {
     "name": "stdout",
     "output_type": "stream",
     "text": [
      "Downloading data from https://s3.amazonaws.com/text-datasets/imdb.npz\n",
      "17465344/17464789 [==============================] - 4s 0us/step\n"
     ]
    }
   ],
   "source": [
    "max_features = 20000\n",
    "\n",
    "(X_train, y_train), (X_test, y_test) = imdb.load_data(nb_words=max_features)"
   ]
  },
  {
   "cell_type": "code",
   "execution_count": 23,
   "metadata": {},
   "outputs": [
    {
     "name": "stdout",
     "output_type": "stream",
     "text": [
      "[  336   385    39     4   172  4536  1111    17   546    38    13   447\n",
      "     4   192    50    16     6   147  2025    19    14    22     4  1920\n",
      "  4613   469     4    22    71    87    12    16    43   530    38    76\n",
      "    15    13  1247     4    22    17   515    17    12    16   626    18\n",
      " 19193     5    62   386    12     8   316     8   106     5     4  2223\n",
      "  5244    16   480    66  3785    33     4   130    12    16    38   619\n",
      "     5    25   124    51    36   135    48    25  1415    33     6    22\n",
      "    12   215    28    77    52     5    14   407    16    82 10311     8\n",
      "     4   107   117  5952    15   256     4     2     7  3766     5   723\n",
      "    36    71    43   530   476    26   400   317    46     7     4 12118\n",
      "  1029    13   104    88     4   381    15   297    98    32  2071    56\n",
      "    26   141     6   194  7486    18     4   226    22    21   134   476\n",
      "    26   480     5   144    30  5535    18    51    36    28   224    92\n",
      "    25   104     4   226    65    16    38  1334    88    12    16   283\n",
      "     5    16  4472   113   103    32    15    16  5345    19   178    32]\n"
     ]
    }
   ],
   "source": [
    "print(X_train[0])"
   ]
  },
  {
   "cell_type": "code",
   "execution_count": 21,
   "metadata": {},
   "outputs": [
    {
     "name": "stdout",
     "output_type": "stream",
     "text": [
      "[   0    0    0    0    0    0    0    0    0    0    0    0    0    0\n",
      "    0    0    0    0    0    0    0    0    0    0    0    0    0    0\n",
      "    0    0    0    0    0    0    0    0    0    0    0    1   14   47\n",
      "    8   30   31    7    4  249  108    7    4 5974   54   61  369   13\n",
      "   71  149   14   22  112    4 2401  311   12   16 3711   33   75   43\n",
      " 1829  296    4   86  320   35  534   19  263 4821 1301    4 1873   33\n",
      "   89   78   12   66   16    4  360    7    4   58  316  334   11    4\n",
      " 1716   43  645  662    8  257   85 1200   42 1228 2578   83   68 3912\n",
      "   15   36  165 1539  278   36   69    2  780    8  106   14 6905 1338\n",
      "   18    6   22   12  215   28  610   40    6   87  326   23 2300   21\n",
      "   23   22   12  272   40   57   31   11    4   22   47    6 2307   51\n",
      "    9  170   23  595  116  595 1352   13  191   79  638   89    2   14\n",
      "    9    8  106  607  624   35  534    6  227    7  129  113]\n"
     ]
    }
   ],
   "source": [
    "maxlen = 180\n",
    "X_train = sequence.pad_sequences(X_train, maxlen=maxlen)\n",
    "print(X_train[2])"
   ]
  },
  {
   "cell_type": "code",
   "execution_count": 24,
   "metadata": {},
   "outputs": [
    {
     "name": "stdout",
     "output_type": "stream",
     "text": [
      "WARNING:tensorflow:From C:\\Anaconda\\lib\\site-packages\\tensorflow_core\\python\\ops\\resource_variable_ops.py:1630: calling BaseResourceVariable.__init__ (from tensorflow.python.ops.resource_variable_ops) with constraint is deprecated and will be removed in a future version.\n",
      "Instructions for updating:\n",
      "If using Keras pass *_constraint arguments to layers.\n",
      "WARNING:tensorflow:From C:\\Anaconda\\lib\\site-packages\\keras\\backend\\tensorflow_backend.py:422: The name tf.global_variables is deprecated. Please use tf.compat.v1.global_variables instead.\n",
      "\n"
     ]
    }
   ],
   "source": [
    "model = Sequential()\n",
    "model.add(Embedding(input_dim=20000, output_dim=100, input_length=180))\n",
    "model.compile('rmsprop', 'mse')\n",
    "sample_array = model.predict(X_train)"
   ]
  },
  {
   "cell_type": "code",
   "execution_count": 27,
   "metadata": {},
   "outputs": [
    {
     "name": "stdout",
     "output_type": "stream",
     "text": [
      "[[[ 1.5207518e-02 -1.8380094e-02 -9.2659593e-03 ... -1.2213148e-02\n",
      "    4.4777129e-02 -7.8227296e-03]\n",
      "  [-2.8515672e-02  2.6694026e-02 -3.4365583e-02 ... -3.1015409e-02\n",
      "    3.0296817e-03  3.7374701e-02]\n",
      "  [-9.7788572e-03  3.0138467e-02 -1.9144762e-02 ... -7.5105205e-03\n",
      "    2.8995622e-02 -4.2813636e-02]\n",
      "  ...\n",
      "  [ 2.8988410e-02 -3.3657778e-02  1.2687672e-02 ...  3.1035494e-02\n",
      "   -2.8857101e-02 -4.7386825e-02]\n",
      "  [-1.0987259e-02  4.5916442e-02  3.4396324e-02 ... -3.8171530e-02\n",
      "    1.1776589e-02 -4.9350049e-02]\n",
      "  [ 8.6442009e-03 -4.0998589e-02 -2.2517134e-02 ...  1.0025572e-02\n",
      "   -1.5979633e-03  5.8827624e-03]]\n",
      "\n",
      " [[-4.1684620e-03  7.5774677e-03  4.7578488e-02 ... -2.5565512e-03\n",
      "   -4.9309324e-02  4.4185821e-02]\n",
      "  [-7.8665987e-03 -1.7824270e-02 -3.3145964e-02 ...  4.4563416e-02\n",
      "    5.3800270e-04  1.8598769e-02]\n",
      "  [ 8.4765069e-03 -2.5460768e-02  2.9667150e-02 ...  2.7624477e-02\n",
      "    3.7509266e-02 -2.6991773e-02]\n",
      "  ...\n",
      "  [-3.4168698e-02  1.6765360e-02 -5.0863028e-03 ...  4.6335075e-02\n",
      "    8.0504641e-03  3.7264857e-02]\n",
      "  [-9.7635277e-03  4.3195952e-02  3.3262696e-02 ...  3.2077361e-02\n",
      "    3.3134151e-02 -2.0147944e-02]\n",
      "  [-1.3425279e-02 -2.9374421e-02 -4.2901039e-03 ... -4.8772883e-02\n",
      "   -2.2994652e-03  1.0824788e-02]]\n",
      "\n",
      " [[-4.8959255e-03 -4.4030871e-02  5.2684322e-03 ... -4.5700338e-02\n",
      "   -1.9938840e-02 -1.9434571e-02]\n",
      "  [-4.8959255e-03 -4.4030871e-02  5.2684322e-03 ... -4.5700338e-02\n",
      "   -1.9938840e-02 -1.9434571e-02]\n",
      "  [-4.8959255e-03 -4.4030871e-02  5.2684322e-03 ... -4.5700338e-02\n",
      "   -1.9938840e-02 -1.9434571e-02]\n",
      "  ...\n",
      "  [-3.0402351e-02  4.7968056e-02  3.9997149e-02 ... -2.1049453e-02\n",
      "    3.7974168e-02  4.2487271e-03]\n",
      "  [-5.2419305e-03  1.7981198e-02 -3.0935779e-03 ...  1.5737023e-02\n",
      "    7.9847462e-03 -2.6604295e-02]\n",
      "  [ 3.0932177e-02  3.1838406e-02 -2.5729716e-02 ...  2.5747750e-02\n",
      "    3.0736733e-02 -1.3301812e-02]]\n",
      "\n",
      " ...\n",
      "\n",
      " [[-1.8814087e-02  3.9609481e-02  3.6932472e-02 ... -1.0609925e-02\n",
      "   -4.5757081e-02 -2.0619854e-03]\n",
      "  [ 3.2715324e-02  4.7910605e-02 -2.0964695e-02 ... -1.9959344e-02\n",
      "   -6.6813938e-03  4.8406843e-02]\n",
      "  [ 1.2394559e-02  4.0528025e-02 -2.0223035e-02 ...  5.9693567e-03\n",
      "    2.2065770e-02 -3.0805517e-02]\n",
      "  ...\n",
      "  [ 1.5318636e-02 -9.0431049e-04  1.4612649e-02 ... -5.5088885e-03\n",
      "    4.1240226e-02  8.3646663e-03]\n",
      "  [-4.1118145e-02 -1.0721765e-02  6.1534345e-05 ... -4.1761506e-02\n",
      "   -2.1683777e-02 -4.5881402e-02]\n",
      "  [ 1.7072447e-03  3.9549600e-02 -3.9679240e-02 ... -3.1185262e-03\n",
      "    4.9804833e-02  1.5530810e-03]]\n",
      "\n",
      " [[-4.8959255e-03 -4.4030871e-02  5.2684322e-03 ... -4.5700338e-02\n",
      "   -1.9938840e-02 -1.9434571e-02]\n",
      "  [-4.8959255e-03 -4.4030871e-02  5.2684322e-03 ... -4.5700338e-02\n",
      "   -1.9938840e-02 -1.9434571e-02]\n",
      "  [-4.8959255e-03 -4.4030871e-02  5.2684322e-03 ... -4.5700338e-02\n",
      "   -1.9938840e-02 -1.9434571e-02]\n",
      "  ...\n",
      "  [ 3.1382553e-03  1.1783980e-02  2.1879826e-02 ...  8.4526464e-04\n",
      "    3.2148328e-02 -2.2455215e-02]\n",
      "  [ 1.2394559e-02  4.0528025e-02 -2.0223035e-02 ...  5.9693567e-03\n",
      "    2.2065770e-02 -3.0805517e-02]\n",
      "  [ 1.3172034e-02  1.1856306e-02 -1.1949014e-02 ...  4.9582433e-02\n",
      "    3.5106692e-02 -5.9006587e-03]]\n",
      "\n",
      " [[-4.8959255e-03 -4.4030871e-02  5.2684322e-03 ... -4.5700338e-02\n",
      "   -1.9938840e-02 -1.9434571e-02]\n",
      "  [-4.8959255e-03 -4.4030871e-02  5.2684322e-03 ... -4.5700338e-02\n",
      "   -1.9938840e-02 -1.9434571e-02]\n",
      "  [-4.8959255e-03 -4.4030871e-02  5.2684322e-03 ... -4.5700338e-02\n",
      "   -1.9938840e-02 -1.9434571e-02]\n",
      "  ...\n",
      "  [ 2.9529918e-02 -2.1967484e-02  4.7492456e-02 ... -2.2318555e-02\n",
      "    1.4256205e-02 -7.0876479e-03]\n",
      "  [-2.4685074e-02  1.3171051e-02  3.3382703e-02 ...  1.0880865e-02\n",
      "   -3.9312482e-02  2.2038076e-02]\n",
      "  [ 1.2394559e-02  4.0528025e-02 -2.0223035e-02 ...  5.9693567e-03\n",
      "    2.2065770e-02 -3.0805517e-02]]]\n",
      "(25000, 180, 100)\n"
     ]
    }
   ],
   "source": [
    "print(sample_array)\n",
    "print(sample_array.shape)"
   ]
  },
  {
   "cell_type": "code",
   "execution_count": 28,
   "metadata": {},
   "outputs": [],
   "source": [
    "from sklearn.datasets import load_files\n",
    "train_review = load_files('./aclImdb/train/', encoding='utf-8')\n",
    "x_train, y_train = train_review.data, train_review.target\n",
    "test_review = load_files('./aclImdb/test/', encoding='utf-8')\n",
    "x_test, y_test = test_review.data, test_review.target"
   ]
  },
  {
   "cell_type": "code",
   "execution_count": 29,
   "metadata": {},
   "outputs": [],
   "source": [
    "def separate_words(data):\n",
    "    data_list = []\n",
    "    for sentence in data:\n",
    "        words = re.split('\\W+', sentence)\n",
    "        if words[-1] == '':\n",
    "            words.remove('')\n",
    "        words_list = []\n",
    "        for word in words:\n",
    "            word = re.sub(r'https?://[\\w/:%#\\$&\\?\\(\\)~\\.=\\+\\-]+', '', word)\n",
    "            words_list.append(word)\n",
    "        data_list.append(words_list)\n",
    "    \n",
    "    return data_list"
   ]
  },
  {
   "cell_type": "code",
   "execution_count": 32,
   "metadata": {},
   "outputs": [],
   "source": [
    "X_train = separate_words(x_train)"
   ]
  },
  {
   "cell_type": "code",
   "execution_count": 46,
   "metadata": {},
   "outputs": [],
   "source": [
    "X_test = separate_words(x_test)"
   ]
  },
  {
   "cell_type": "code",
   "execution_count": 47,
   "metadata": {},
   "outputs": [
    {
     "name": "stderr",
     "output_type": "stream",
     "text": [
      "C:\\Anaconda\\lib\\site-packages\\ipykernel_launcher.py:4: DeprecationWarning: Call to deprecated `iter` (Attribute will be removed in 4.0.0, use self.epochs instead).\n",
      "  after removing the cwd from sys.path.\n"
     ]
    },
    {
     "data": {
      "text/plain": [
       "(45956965, 59894910)"
      ]
     },
     "execution_count": 47,
     "metadata": {},
     "output_type": "execute_result"
    }
   ],
   "source": [
    "sentences = X_train + X_test\n",
    "model = Word2Vec(min_count=1, size=100) # 次元数を100に設定\n",
    "model.build_vocab(sentences) # 準備\n",
    "model.train(sentences, total_examples=model.corpus_count, epochs=model.iter) # 学習"
   ]
  },
  {
   "cell_type": "code",
   "execution_count": 48,
   "metadata": {},
   "outputs": [],
   "source": [
    "def to_array(data):\n",
    "    array_data = []\n",
    "    for sentence in data:\n",
    "        array_list = []\n",
    "        for word in sentence:\n",
    "            array_list.append(model.wv[word].reshape(1, -1))\n",
    "        array = np.concatenate(array_list, axis=0)\n",
    "        array_data.append(array)\n",
    "    \n",
    "    return array_data"
   ]
  },
  {
   "cell_type": "code",
   "execution_count": 56,
   "metadata": {},
   "outputs": [],
   "source": [
    "X_train_array = to_array(X_train)"
   ]
  },
  {
   "cell_type": "code",
   "execution_count": 59,
   "metadata": {},
   "outputs": [],
   "source": [
    "X_test_array = to_array(X_test)"
   ]
  },
  {
   "cell_type": "code",
   "execution_count": 138,
   "metadata": {},
   "outputs": [],
   "source": [
    "# maxの語彙数を求める\n",
    "def max_length(data):\n",
    "    length = 0\n",
    "    for i in data:\n",
    "        length = max(length, i.shape[0])\n",
    "    \n",
    "    return length"
   ]
  },
  {
   "cell_type": "code",
   "execution_count": 139,
   "metadata": {},
   "outputs": [
    {
     "name": "stdout",
     "output_type": "stream",
     "text": [
      "2525\n",
      "2389\n"
     ]
    }
   ],
   "source": [
    "print(max_length(X_train_array))\n",
    "print(max_length(X_test_array))"
   ]
  },
  {
   "cell_type": "code",
   "execution_count": 140,
   "metadata": {},
   "outputs": [],
   "source": [
    "def padding(sentence_vec):\n",
    "    padding_list = []\n",
    "    for sentence in sentence_vec:\n",
    "        while len(sentence) < 200:\n",
    "            sentence = np.insert(sentence, 0, 0, axis=0)\n",
    "        padding_list.append(sentence)\n",
    "    \n",
    "    return padding_list"
   ]
  },
  {
   "cell_type": "code",
   "execution_count": 141,
   "metadata": {},
   "outputs": [],
   "source": [
    "X_train_array_padding = padding(X_train_array)"
   ]
  },
  {
   "cell_type": "code",
   "execution_count": 142,
   "metadata": {},
   "outputs": [],
   "source": [
    "X_test_array_padding = padding(X_test_array)"
   ]
  },
  {
   "cell_type": "code",
   "execution_count": 143,
   "metadata": {},
   "outputs": [
    {
     "name": "stdout",
     "output_type": "stream",
     "text": [
      "(200, 100)\n",
      "(200, 100)\n"
     ]
    }
   ],
   "source": [
    "print(X_train_array_padding[0].shape)\n",
    "print(X_test_array_padding[0].shape)"
   ]
  },
  {
   "cell_type": "code",
   "execution_count": 152,
   "metadata": {},
   "outputs": [],
   "source": [
    "X_train_time_list = []\n",
    "for X_array in X_train_array_padding:\n",
    "    X_train_time_list.append(X_array[-200:])"
   ]
  },
  {
   "cell_type": "code",
   "execution_count": 158,
   "metadata": {},
   "outputs": [],
   "source": [
    "X_test_time_list = []\n",
    "for X_array in X_test_array_padding:\n",
    "    X_test_time_list.append(X_array[-200:])"
   ]
  },
  {
   "cell_type": "code",
   "execution_count": 159,
   "metadata": {},
   "outputs": [
    {
     "name": "stdout",
     "output_type": "stream",
     "text": [
      "25000\n",
      "(200, 100)\n",
      "25000\n",
      "(200, 100)\n"
     ]
    }
   ],
   "source": [
    "print(len(X_train_time_list))\n",
    "print(X_train_time_list[0].shape)\n",
    "print(len(X_test_time_list))\n",
    "print(X_test_time_list[0].shape)"
   ]
  },
  {
   "cell_type": "code",
   "execution_count": 160,
   "metadata": {},
   "outputs": [],
   "source": [
    "X_train_time = np.concatenate(X_train_time_list, axis=0).reshape(25000, 200, 100)"
   ]
  },
  {
   "cell_type": "code",
   "execution_count": 163,
   "metadata": {},
   "outputs": [],
   "source": [
    "X_test_time = np.concatenate(X_test_time_list, axis=0).reshape(25000, 200, 100)"
   ]
  },
  {
   "cell_type": "code",
   "execution_count": 434,
   "metadata": {},
   "outputs": [],
   "source": [
    "class NN:\n",
    "    def __init__(self, epoch=10, verbose=True):\n",
    "        self.epoch = epoch\n",
    "        self.verbose = verbose\n",
    "        self.layers = {}\n",
    "        self.layers['RNN'] = SimpleRNN(100, 50, XavierInitializer, AdaGrad_rnn, )\n",
    "        self.layers['Affine1'] = FC(20, 50, 1, XavierInitializer, AdaGrad)\n",
    "        self.last_layer = SigmoidWithLoss()\n",
    "\n",
    "    def fit(self, X, y, X_val=None, y_val=None):\n",
    "        self.loss_list = []\n",
    "        self.loss_epoch_list = []\n",
    "        self.loss_val_epoch_list = []\n",
    "        for i in range(self.epoch):\n",
    "            get_mini_batch = GetMiniBatch(X, y, batch_size=20, seed=i)\n",
    "            loss_tmp_list = []\n",
    "            for X_batch, y_batch in get_mini_batch:\n",
    "                for layer in self.layers.values():\n",
    "                    X_batch = layer.forward(X_batch)\n",
    "                X_batch = np.sum(X_batch, axis=1)\n",
    "                sigmoid = self.last_layer.forward(X_batch)\n",
    "                loss, dA = self.last_layer.backward(y_batch)\n",
    "                self.loss_list.append(loss)\n",
    "                loss_tmp_list.append(loss)\n",
    "                layers = list(self.layers.values())\n",
    "                layers.reverse()\n",
    "                dA = np.tile(dA, X.shape[1])/X.shape[1]\n",
    "                for layer in layers:\n",
    "                    dA = layer.backward(dA)\n",
    "                    \n",
    "            epoch_mean_loss = np.mean(loss_tmp_list)\n",
    "            self.loss_epoch_list.append(epoch_mean_loss)\n",
    "            if self.verbose:\n",
    "                print(epoch_mean_loss)\n",
    "            if X_val is not None and y_val is not None:\n",
    "                X_val_copy = X_val.copy()\n",
    "                for layer in self.layers.values():\n",
    "                    X_val_copy = layer.forward(X_val_copy)\n",
    "                sigmoid_val = self.last_layer.forward(X_val_copy)\n",
    "                loss_val = -np.sum(y_val*np.log(sigmoid_val + 1e-7))/y_val.shape[0]\n",
    "                self.loss_val_epoch_list.append(loss_val)\n",
    "            \n",
    "    def predict(self, X):\n",
    "        for layer in self.layers.values():\n",
    "            X = layer.forward(X)\n",
    "        X = np.sum(X, axis=1)\n",
    "        self.last_layer.forward(X)\n",
    "        y_pred = self.last_layer.sigmoid\n",
    "        \n",
    "        return y_pred"
   ]
  },
  {
   "cell_type": "code",
   "execution_count": 435,
   "metadata": {},
   "outputs": [],
   "source": [
    "nn = NN()"
   ]
  },
  {
   "cell_type": "code",
   "execution_count": 436,
   "metadata": {},
   "outputs": [
    {
     "name": "stdout",
     "output_type": "stream",
     "text": [
      "1.9377338278926959\n",
      "1.4211128624531209\n",
      "1.299815082238432\n",
      "1.2273475488457029\n",
      "1.049520186753718\n",
      "1.0423172755700243\n",
      "1.0062245659400597\n",
      "0.984042748733296\n",
      "0.9436683066834155\n",
      "0.9428606765604549\n"
     ]
    }
   ],
   "source": [
    "nn.fit(X_train_time, y_train)"
   ]
  },
  {
   "cell_type": "code",
   "execution_count": 437,
   "metadata": {},
   "outputs": [
    {
     "data": {
      "image/png": "[encoded data removed]",
      "text/plain": [
       "<Figure size 864x288 with 2 Axes>"
      ]
     },
     "metadata": {
      "needs_background": "light"
     },
     "output_type": "display_data"
    }
   ],
   "source": [
    "fig, ax = plt.subplots(1, 2, figsize=(12, 4))\n",
    "ax[0].plot(nn.loss_list)\n",
    "ax[1].plot(nn.loss_epoch_list)\n",
    "plt.show()"
   ]
  },
  {
   "cell_type": "code",
   "execution_count": 438,
   "metadata": {},
   "outputs": [],
   "source": [
    "# h_prevがtrain時のバッチサイズを記憶しているため\n",
    "y_pred_list = []\n",
    "for i in range(1250):\n",
    "    y_pred = nn.predict(X_test_time[i*20:(i+1)*20])\n",
    "    y_pred_list.append(y_pred)\n",
    "y_pred = np.concatenate(y_pred_list, axis=0)"
   ]
  },
  {
   "cell_type": "code",
   "execution_count": 439,
   "metadata": {},
   "outputs": [
    {
     "name": "stdout",
     "output_type": "stream",
     "text": [
      "[9.48970747e-01 4.59971910e-03 8.65229629e-03 ... 4.71928047e-03\n",
      " 1.90826697e-05 9.15294403e-02]\n",
      "[1 0 1 ... 0 0 0]\n"
     ]
    }
   ],
   "source": [
    "print(y_pred)\n",
    "print(y_test)"
   ]
  },
  {
   "cell_type": "code",
   "execution_count": 440,
   "metadata": {},
   "outputs": [
    {
     "name": "stdout",
     "output_type": "stream",
     "text": [
      "[1 0 0 ... 0 0 0]\n"
     ]
    }
   ],
   "source": [
    "y_pred = np.where(y_pred>=0.5, 1, 0)\n",
    "print(y_pred)"
   ]
  },
  {
   "cell_type": "code",
   "execution_count": 441,
   "metadata": {},
   "outputs": [
    {
     "data": {
      "text/plain": [
       "0.58616"
      ]
     },
     "execution_count": 441,
     "metadata": {},
     "output_type": "execute_result"
    }
   ],
   "source": [
    "accuracy_score(y_test, y_pred)"
   ]
  },
  {
   "cell_type": "markdown",
   "metadata": {},
   "source": [
    "## 動きはしたが、スコアは悪かった。"
   ]
  },
  {
   "cell_type": "code",
   "execution_count": null,
   "metadata": {},
   "outputs": [],
   "source": []
  }
 ],
 "metadata": {
  "kernelspec": {
   "display_name": "Python 3",
   "language": "python",
   "name": "python3"
  },
  "language_info": {
   "codemirror_mode": {
    "name": "ipython",
    "version": 3
   },
   "file_extension": ".py",
   "mimetype": "text/x-python",
   "name": "python",
   "nbconvert_exporter": "python",
   "pygments_lexer": "ipython3",
   "version": "3.7.4"
  }
 },
 "nbformat": 4,
 "nbformat_minor": 2
}
