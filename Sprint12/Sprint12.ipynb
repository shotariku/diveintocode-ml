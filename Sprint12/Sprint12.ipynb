{
 "cells": [
  {
   "cell_type": "code",
   "execution_count": 1,
   "metadata": {},
   "outputs": [],
   "source": [
    "import numpy as np\n",
    "import pandas as pd\n",
    "from matplotlib import pyplot as plt\n",
    "%matplotlib inline\n",
    "from sklearn.model_selection import train_test_split\n",
    "from sklearn.metrics import accuracy_score"
   ]
  },
  {
   "cell_type": "markdown",
   "metadata": {},
   "source": [
    "# 【問題1】2次元畳み込み層の作成"
   ]
  },
  {
   "cell_type": "markdown",
   "metadata": {},
   "source": [
    "# 【問題2】2次元畳み込み後の出力サイズ"
   ]
  },
  {
   "cell_type": "code",
   "execution_count": 3,
   "metadata": {},
   "outputs": [
    {
     "data": {
      "text/plain": [
       "array([[ 1,  2,  3,  4,  5],\n",
       "       [ 6,  7,  8,  9, 10],\n",
       "       [11, 12, 13, 14, 15],\n",
       "       [16, 17, 18, 19, 20],\n",
       "       [21, 22, 23, 24, 25]])"
      ]
     },
     "metadata": {},
     "output_type": "display_data"
    },
    {
     "data": {
      "text/plain": [
       "array([[1, 2],\n",
       "       [3, 4]])"
      ]
     },
     "metadata": {},
     "output_type": "display_data"
    }
   ],
   "source": [
    "sample_X = np.arange(1, 26).reshape(5, 5)\n",
    "sample_W = np.arange(1, 5).reshape(2, 2)\n",
    "display(sample_X)\n",
    "display(sample_W)"
   ]
  },
  {
   "cell_type": "code",
   "execution_count": 4,
   "metadata": {},
   "outputs": [
    {
     "data": {
      "text/plain": [
       "array([[[[ 1.,  2.,  3.,  4.],\n",
       "         [ 6.,  7.,  8.,  9.],\n",
       "         [11., 12., 13., 14.],\n",
       "         [16., 17., 18., 19.]],\n",
       "\n",
       "        [[ 2.,  3.,  4.,  5.],\n",
       "         [ 7.,  8.,  9., 10.],\n",
       "         [12., 13., 14., 15.],\n",
       "         [17., 18., 19., 20.]]],\n",
       "\n",
       "\n",
       "       [[[ 6.,  7.,  8.,  9.],\n",
       "         [11., 12., 13., 14.],\n",
       "         [16., 17., 18., 19.],\n",
       "         [21., 22., 23., 24.]],\n",
       "\n",
       "        [[ 7.,  8.,  9., 10.],\n",
       "         [12., 13., 14., 15.],\n",
       "         [17., 18., 19., 20.],\n",
       "         [22., 23., 24., 25.]]]])"
      ]
     },
     "metadata": {},
     "output_type": "display_data"
    },
    {
     "data": {
      "text/plain": [
       "array([[ 1.,  2.,  6.,  7.],\n",
       "       [ 2.,  3.,  7.,  8.],\n",
       "       [ 3.,  4.,  8.,  9.],\n",
       "       [ 4.,  5.,  9., 10.],\n",
       "       [ 6.,  7., 11., 12.],\n",
       "       [ 7.,  8., 12., 13.],\n",
       "       [ 8.,  9., 13., 14.],\n",
       "       [ 9., 10., 14., 15.],\n",
       "       [11., 12., 16., 17.],\n",
       "       [12., 13., 17., 18.],\n",
       "       [13., 14., 18., 19.],\n",
       "       [14., 15., 19., 20.],\n",
       "       [16., 17., 21., 22.],\n",
       "       [17., 18., 22., 23.],\n",
       "       [18., 19., 23., 24.],\n",
       "       [19., 20., 24., 25.]])"
      ]
     },
     "metadata": {},
     "output_type": "display_data"
    },
    {
     "data": {
      "text/plain": [
       "array([[1],\n",
       "       [2],\n",
       "       [3],\n",
       "       [4]])"
      ]
     },
     "metadata": {},
     "output_type": "display_data"
    },
    {
     "data": {
      "text/plain": [
       "array([[ 51.],\n",
       "       [ 61.],\n",
       "       [ 71.],\n",
       "       [ 81.],\n",
       "       [101.],\n",
       "       [111.],\n",
       "       [121.],\n",
       "       [131.],\n",
       "       [151.],\n",
       "       [161.],\n",
       "       [171.],\n",
       "       [181.],\n",
       "       [201.],\n",
       "       [211.],\n",
       "       [221.],\n",
       "       [231.]])"
      ]
     },
     "metadata": {},
     "output_type": "display_data"
    },
    {
     "data": {
      "text/plain": [
       "array([[ 51.,  61.,  71.,  81.],\n",
       "       [101., 111., 121., 131.],\n",
       "       [151., 161., 171., 181.],\n",
       "       [201., 211., 221., 231.]])"
      ]
     },
     "execution_count": 4,
     "metadata": {},
     "output_type": "execute_result"
    }
   ],
   "source": [
    "col = np.zeros([2, 2, 4, 4])\n",
    "for y in range(2):\n",
    "    y_max = y + 4\n",
    "    for x in range(2):\n",
    "        x_max = x + 4\n",
    "        col[y, x, :, :] = sample_X[y:y_max, x:x_max]\n",
    "display(col)\n",
    "col_X = col.transpose(2, 3, 0, 1).reshape(-1, 2*2)\n",
    "display(col_X)\n",
    "col_W = sample_W.reshape(2*2, -1)\n",
    "display(col_W)\n",
    "sample_output = np.dot(col_X, col_W)\n",
    "display(sample_output)\n",
    "sample_output.reshape(4, 4)"
   ]
  },
  {
   "cell_type": "markdown",
   "metadata": {},
   "source": [
    "# 【問題3】最大プーリング層の作成"
   ]
  },
  {
   "cell_type": "code",
   "execution_count": 5,
   "metadata": {},
   "outputs": [],
   "source": [
    "class MaxPool2D:\n",
    "    def __init__(self, pool_h, pool_w, stride=1, pad=0):\n",
    "        self.pool_h = pool_h\n",
    "        self.pool_w = pool_w\n",
    "        self.stride = stride\n",
    "        self.pad = pad\n",
    "    \n",
    "    def forward(self, X):\n",
    "        self.in_n = X.shape[0]\n",
    "        self.in_c = X.shape[1]\n",
    "        self.in_h = X.shape[2]\n",
    "        self.in_w = X.shape[3]\n",
    "        self.out_h = (self.in_h + 2*self.pad - self.pool_h)//self.stride + 1\n",
    "        self.out_w = (self.in_w + 2*self.pad - self.pool_w)//self.stride + 1\n",
    "        # [N, C, in_h + 2*pad, in_w + 2*pad]\n",
    "        img = np.pad(X, [(0, 0),(0, 0), (self.pad, self.pad), (self.pad, self.pad)], 'constant')\n",
    "        # [N, C, pool_h, pool_w, out_h, out_w]\n",
    "        col = np.zeros([self.in_n, self.in_c, self.pool_h, self.pool_w, self.out_h, self.out_w])\n",
    "        for y in range(self.pool_h):\n",
    "            y_max = y + self.stride*self.out_h\n",
    "            for x in range(self.pool_w):\n",
    "                x_max = x + self.stride*self.out_w\n",
    "                col[:, :, y, x, :, :] = img[:, :, y:y_max:self.stride, x:x_max:self.stride]\n",
    "        # [N, C, pool_h, pool_w, out_h, out_w] → [N, C, out_h, out_w, pool_h, pool_w] → [N*C*out_h*out_w, pool_h*pool_w]\n",
    "        col_X = col.transpose(0, 1, 4, 5, 2, 3).reshape(self.in_n*self.in_c*self.out_h*self.out_w, -1)\n",
    "        # [N*C*out_h*out_w]\n",
    "        out = np.max(col_X, axis=1)\n",
    "        # [N, C, out_h, out_w]\n",
    "        out = out.reshape(self.in_n, self.in_c, self.out_h, self.out_w)\n",
    "        # [N*C*out_h*out_w]\n",
    "        self.arg_max = np.argmax(col_X, axis=1)\n",
    "        \n",
    "        return out\n",
    "    \n",
    "    def backward(self, dout):\n",
    "        pool_size = self.pool_h*self.pool_w\n",
    "        # [N * C * out_h * out_w, pool_h, pool_w]\n",
    "        dcol_X = np.zeros([dout.size, pool_size])\n",
    "        # [N * C * out_h * out_w, pool_h, pool_w]\n",
    "        dcol_X[np.arange(self.arg_max.size), self.arg_max.flatten()] = dout.flatten()\n",
    "        # [N * C * out_h * out_w, pool_h, pool_w] → [N * out_h * out_w, C * pool_h * pool_w] → [N, C, pool_h, pool_w, out_h, out_w]\n",
    "        dcol = dcol_X.reshape(self.in_n, self.in_c, self.out_h, self.out_w, self.pool_h, self.pool_w).transpose(0, 1, 4, 5, 2, 3)\n",
    "        # [N, C, in_h + 2*pad + self.stride - 1, in_w + 2*pad + self.stride - 1]\n",
    "        img = np.zeros([self.in_n, self.in_c, self.in_h + 2*self.pad + self.stride - 1, self.in_w + 2*self.pad + self.stride - 1])\n",
    "        for y in range(self.pool_h):\n",
    "            y_max = y + self.stride*self.out_h\n",
    "            for x in range(self.pool_w):\n",
    "                x_max = x + self.stride*self.out_w\n",
    "                img[:, :, y:y_max:self.stride, x:x_max:self.stride] += dcol[:, :, y, x, :, :]\n",
    "        # パディングとはみ出た分を取り除く\n",
    "        dX = img[:, :, self.pad: self.in_h + self.pad, self.pad: self.in_w + self.pad]\n",
    "        \n",
    "        return dX"
   ]
  },
  {
   "cell_type": "code",
   "execution_count": 41,
   "metadata": {},
   "outputs": [
    {
     "data": {
      "text/plain": [
       "array([[[[ 1,  2,  3,  4],\n",
       "         [ 5,  6,  7,  8],\n",
       "         [ 9, 10, 11, 12],\n",
       "         [13, 14, 15, 16]]],\n",
       "\n",
       "\n",
       "       [[[17, 18, 19, 20],\n",
       "         [21, 22, 23, 24],\n",
       "         [25, 26, 27, 28],\n",
       "         [29, 30, 31, 32]]]])"
      ]
     },
     "metadata": {},
     "output_type": "display_data"
    },
    {
     "data": {
      "text/plain": [
       "array([3, 1, 1, 3, 3, 1, 2, 3, 0, 3, 1, 0, 3, 2, 0, 1, 1, 3, 2, 1, 2, 1,\n",
       "       3, 3, 0, 1, 2, 2, 1, 3, 1, 0])"
      ]
     },
     "metadata": {},
     "output_type": "display_data"
    }
   ],
   "source": [
    "sample_dout = np.arange(1, 33).reshape(2, 1, 4, 4)\n",
    "display(sample_dout)\n",
    "sample_arg_max = np.random.choice([0, 1, 2, 3], 32)\n",
    "display(sample_arg_max)"
   ]
  },
  {
   "cell_type": "code",
   "execution_count": 42,
   "metadata": {},
   "outputs": [
    {
     "data": {
      "text/plain": [
       "array([[ 0.,  0.,  0.,  1.],\n",
       "       [ 0.,  2.,  0.,  0.],\n",
       "       [ 0.,  3.,  0.,  0.],\n",
       "       [ 0.,  0.,  0.,  4.],\n",
       "       [ 0.,  0.,  0.,  5.],\n",
       "       [ 0.,  6.,  0.,  0.],\n",
       "       [ 0.,  0.,  7.,  0.],\n",
       "       [ 0.,  0.,  0.,  8.],\n",
       "       [ 9.,  0.,  0.,  0.],\n",
       "       [ 0.,  0.,  0., 10.],\n",
       "       [ 0., 11.,  0.,  0.],\n",
       "       [12.,  0.,  0.,  0.],\n",
       "       [ 0.,  0.,  0., 13.],\n",
       "       [ 0.,  0., 14.,  0.],\n",
       "       [15.,  0.,  0.,  0.],\n",
       "       [ 0., 16.,  0.,  0.],\n",
       "       [ 0., 17.,  0.,  0.],\n",
       "       [ 0.,  0.,  0., 18.],\n",
       "       [ 0.,  0., 19.,  0.],\n",
       "       [ 0., 20.,  0.,  0.],\n",
       "       [ 0.,  0., 21.,  0.],\n",
       "       [ 0., 22.,  0.,  0.],\n",
       "       [ 0.,  0.,  0., 23.],\n",
       "       [ 0.,  0.,  0., 24.],\n",
       "       [25.,  0.,  0.,  0.],\n",
       "       [ 0., 26.,  0.,  0.],\n",
       "       [ 0.,  0., 27.,  0.],\n",
       "       [ 0.,  0., 28.,  0.],\n",
       "       [ 0., 29.,  0.,  0.],\n",
       "       [ 0.,  0.,  0., 30.],\n",
       "       [ 0., 31.,  0.,  0.],\n",
       "       [32.,  0.,  0.,  0.]])"
      ]
     },
     "execution_count": 42,
     "metadata": {},
     "output_type": "execute_result"
    }
   ],
   "source": [
    "sample_pool_size = 2*2\n",
    "sample_dcol_X = np.zeros([sample_dout.size, sample_pool_size])\n",
    "sample_dcol_X[range(sample_arg_max.size), sample_arg_max.flatten()] = sample_dout.flatten()\n",
    "sample_dcol_X"
   ]
  },
  {
   "cell_type": "markdown",
   "metadata": {},
   "source": [
    "# 【問題4】（アドバンス課題）平均プーリングの作成"
   ]
  },
  {
   "cell_type": "code",
   "execution_count": 6,
   "metadata": {},
   "outputs": [],
   "source": [
    "class AveragePool2D:\n",
    "    def __init__(self, pool_h, pool_w, stride=1, pad=0):\n",
    "        self.pool_h = pool_h\n",
    "        self.pool_w = pool_w\n",
    "        self.stride = stride\n",
    "        self.pad = pad\n",
    "        \n",
    "    def forward(self, X):\n",
    "        self.in_n = X.shape[0]\n",
    "        self.in_c = X.shape[1]\n",
    "        self.in_h = X.shape[2]\n",
    "        self.in_w = X.shape[3]\n",
    "        self.out_h = (self.in_h + 2*self.pad - self.pool_h)//self.stride + 1\n",
    "        self.out_w = (self.in_w + 2*self.pad - self.pool_w)//self.stride + 1\n",
    "        # [N, C, in_h + 2*pad, in_w + 2*pad]\n",
    "        img = np.pad(X, [(0, 0),(0, 0), (self.pad, self.pad), (self.pad, self.pad)], 'constant')\n",
    "        # [N, C, pool_h, pool_w, out_h, out_w]\n",
    "        col = np.zeros([self.in_n, self.in_c, self.pool_h, self.pool_w, self.out_h, self.out_w])\n",
    "        for y in range(self.pool_h):\n",
    "            y_max = y + self.stride*self.out_h\n",
    "            for x in range(self.pool_w):\n",
    "                x_max = x + self.stride*self.out_w\n",
    "                col[:, :, y, x, :, :] = img[:, :, y:y_max:self.stride, x:x_max:self.stride]\n",
    "        # [N, C, pool_h, pool_w, out_h, out_w] → [N, C, out_h, out_w, pool_h, pool_w] → [N*C*out_h*out_w, pool_h*pool_w]\n",
    "        col_X = col.transpose(0, 1, 4, 5, 2, 3).reshape(self.in_n*self.in_c*self.out_h*self.out_w, -1)\n",
    "        # [N*C*out_h*out_w]\n",
    "        out = np.mean(col_X, axis=1)\n",
    "        # [N, C, out_h, out_w]\n",
    "        out = out.reshape(self.in_n, self.in_c, self.out_h, self.out_w)\n",
    "        \n",
    "        return out\n",
    "    \n",
    "    def backward(self, dout):\n",
    "        pool_size = self.pool_h*self.pool_w\n",
    "        # [N * C * out_h * out_w, pool_h, pool_w]\n",
    "        dcol_X = np.zeros([dout.size, pool_size])\n",
    "        # [N * C * out_h * out_w, pool_h, pool_w]\n",
    "        dcol_X += pool_size*dout.flatten().reshape(-1, 1)\n",
    "        # [N * C * out_h * out_w, pool_h, pool_w] → [N * out_h * out_w, C * pool_h * pool_w] → [N, C, pool_h, pool_w, out_h, out_w]\n",
    "        dcol = dcol_X.reshape(self.in_n, self.in_c, self.out_h, self.out_w, self.pool_h, self.pool_w).transpose(0, 1, 4, 5, 2, 3)\n",
    "        # [N, C, in_h + 2*pad + self.stride - 1, in_w + 2*pad + self.stride - 1]\n",
    "        img = np.zeros([self.in_n, self.in_c, self.in_h + 2*self.pad + self.stride - 1, self.in_w + 2*self.pad + self.stride - 1])\n",
    "        for y in range(self.pool_h):\n",
    "            y_max = y + self.stride*self.out_h\n",
    "            for x in range(self.pool_w):\n",
    "                x_max = x + self.stride*self.out_w\n",
    "                img[:, :, y:y_max:self.stride, x:x_max:self.stride] += dcol[:, :, y, x, :, :]\n",
    "        # パディングとはみ出た分を取り除く\n",
    "        dX = img[:, :, self.pad: self.in_h + self.pad, self.pad: self.in_w + self.pad]\n",
    "        \n",
    "        return dX"
   ]
  },
  {
   "cell_type": "code",
   "execution_count": 7,
   "metadata": {},
   "outputs": [
    {
     "data": {
      "text/plain": [
       "array([[4.],\n",
       "       [4.],\n",
       "       [4.],\n",
       "       [4.],\n",
       "       [4.],\n",
       "       [4.]])"
      ]
     },
     "execution_count": 7,
     "metadata": {},
     "output_type": "execute_result"
    }
   ],
   "source": [
    "c = np.ones(6).reshape(2, 3)\n",
    "4*c.flatten().reshape(-1,1)"
   ]
  },
  {
   "cell_type": "code",
   "execution_count": 8,
   "metadata": {},
   "outputs": [
    {
     "data": {
      "text/plain": [
       "array([[1., 1., 1.],\n",
       "       [2., 2., 2.]])"
      ]
     },
     "execution_count": 8,
     "metadata": {},
     "output_type": "execute_result"
    }
   ],
   "source": [
    "c + np.arange(2).reshape(-1, 1)"
   ]
  },
  {
   "cell_type": "markdown",
   "metadata": {},
   "source": [
    "# 【問題5】平滑化"
   ]
  },
  {
   "cell_type": "code",
   "execution_count": 9,
   "metadata": {},
   "outputs": [],
   "source": [
    "class Flatten:\n",
    "    def forward(self, X):\n",
    "        self.X = X\n",
    "        N = self.X.shape[0]\n",
    "        out = self.X.reshape(N, -1)\n",
    "        \n",
    "        return out\n",
    "    \n",
    "    def backward(self, dout):\n",
    "        dZ = dout.reshape(self.X.shape)\n",
    "        \n",
    "        return dZ"
   ]
  },
  {
   "cell_type": "markdown",
   "metadata": {},
   "source": [
    "# 【問題6】学習と推定"
   ]
  },
  {
   "cell_type": "code",
   "execution_count": 10,
   "metadata": {},
   "outputs": [],
   "source": [
    "class XavierInitializer:\n",
    "    def __init__(self, input_nodes):\n",
    "        self.sigma = 1/np.sqrt(input_nodes)\n",
    "        \n",
    "    def init_weight(self, W_shape):\n",
    "        W = self.sigma*np.random.randn(*W_shape)\n",
    "        \n",
    "        return W\n",
    "    \n",
    "    def init_bias(self, output_nodes):\n",
    "        B = self.sigma*np.random.randn(output_nodes)\n",
    "        \n",
    "        return B"
   ]
  },
  {
   "cell_type": "code",
   "execution_count": 11,
   "metadata": {},
   "outputs": [],
   "source": [
    "class HeInitializer:\n",
    "    def __init__(self, input_nodes):\n",
    "        self.sigma = np.sqrt(2/input_nodes)\n",
    "        \n",
    "    def init_weight(self, W_shape):\n",
    "        W = self.sigma*np.random.randn(*W_shape)\n",
    "        \n",
    "        return W\n",
    "    \n",
    "    def init_bias(self, output_nodes):\n",
    "        B = self.sigma*np.random.randn(output_nodes)\n",
    "        \n",
    "        return B"
   ]
  },
  {
   "cell_type": "code",
   "execution_count": 12,
   "metadata": {},
   "outputs": [],
   "source": [
    "class AdaGrad:\n",
    "    def __init__(self, lr=0.01):\n",
    "        self.lr = lr\n",
    "        self.h_W = 0\n",
    "        self.h_B = 0\n",
    "        \n",
    "    def update(self, layer):\n",
    "        self.h_W += layer.dW**2\n",
    "        self.h_B += layer.dB**2\n",
    "        layer.W -= self.lr*layer.dW/np.sqrt(self.h_W + 1e-7)\n",
    "        layer.B -= self.lr*layer.dB/np.sqrt(self.h_B + 1e-7)\n",
    "        \n",
    "        return layer"
   ]
  },
  {
   "cell_type": "code",
   "execution_count": 13,
   "metadata": {},
   "outputs": [],
   "source": [
    "class Relu:\n",
    "    def __init__(self):\n",
    "        self.mask = None\n",
    "        \n",
    "    def forward(self, A):\n",
    "        self.mask = (A <=0)\n",
    "        Z = A.copy()\n",
    "        Z[self.mask] = 0\n",
    "        \n",
    "        return Z\n",
    "    \n",
    "    def backward(self, dZ):\n",
    "        dZ[self.mask] = 0\n",
    "        dA = dZ\n",
    "        \n",
    "        return dA"
   ]
  },
  {
   "cell_type": "code",
   "execution_count": 14,
   "metadata": {},
   "outputs": [],
   "source": [
    "class SoftmaxWithLoss:\n",
    "    def __init__(self):\n",
    "        pass\n",
    "    \n",
    "    def forward(self, A):\n",
    "        A -= np.max(A, axis=-1, keepdims=True)\n",
    "        self.softmax = np.exp(A)/np.sum(np.exp(A), axis=-1, keepdims=True)\n",
    "        \n",
    "        return self.softmax\n",
    "    \n",
    "    def backward(self, y):\n",
    "        loss = -np.sum(y*np.log(self.softmax + 1e-7))/y.shape[0]\n",
    "        dA = self.softmax - y\n",
    "        \n",
    "        return loss, dA"
   ]
  },
  {
   "cell_type": "code",
   "execution_count": 15,
   "metadata": {},
   "outputs": [],
   "source": [
    "class FC:\n",
    "    \"\"\"\n",
    "    ノード数n_nodes1からn_nodes2への全結合層\n",
    "    Parameters\n",
    "    ----------\n",
    "    n_nodes1 : int\n",
    "      前の層のノード数\n",
    "    n_nodes2 : int\n",
    "      後の層のノード数\n",
    "    initializer : 初期化方法のインスタンス\n",
    "    optimizer : 最適化手法のインスタンス\n",
    "    \"\"\"\n",
    "    def __init__(self, n_nodes1, n_nodes2, initializer, optimizer):\n",
    "        self.optimizer = optimizer()\n",
    "        self.W = initializer(n_nodes1).init_weight([n_nodes1, n_nodes2])\n",
    "        self.B = initializer(n_nodes1).init_bias(n_nodes2)\n",
    "        \n",
    "    def forward(self, X):\n",
    "        \"\"\"\n",
    "        フォワード\n",
    "        Parameters\n",
    "        ----------\n",
    "        X : 次の形のndarray, shape (batch_size, n_nodes1)\n",
    "            入力\n",
    "        Returns\n",
    "        ----------\n",
    "        A : 次の形のndarray, shape (batch_size, n_nodes2)\n",
    "            出力\n",
    "        \"\"\"        \n",
    "        self.X = X\n",
    "        A = np.dot(X, self.W) + self.B\n",
    "        \n",
    "        return A\n",
    "    \n",
    "    def backward(self, dA):\n",
    "        \"\"\"\n",
    "        バックワード\n",
    "        Parameters\n",
    "        ----------\n",
    "        dA : 次の形のndarray, shape (batch_size, n_nodes2)\n",
    "            後ろから流れてきた勾配\n",
    "        Returns\n",
    "        ----------\n",
    "        dZ : 次の形のndarray, shape (batch_size, n_nodes1)\n",
    "            前に流す勾配\n",
    "        \"\"\"\n",
    "        self.dB = np.sum(dA, axis=0)\n",
    "        self.dW = np.dot(self.X.T, dA)\n",
    "        dZ = np.dot(dA, self.W.T)\n",
    "        \n",
    "        # 更新\n",
    "        self = self.optimizer.update(self)\n",
    "        \n",
    "        return dZ"
   ]
  },
  {
   "cell_type": "code",
   "execution_count": 16,
   "metadata": {},
   "outputs": [],
   "source": [
    "class GetMiniBatch:\n",
    "    \"\"\"\n",
    "    ミニバッチを取得するイテレータ\n",
    "\n",
    "    Parameters\n",
    "    ----------\n",
    "    X : 次の形のndarray, shape (n_samples, n_features)\n",
    "      訓練用データ\n",
    "    y : 次の形のndarray, shape (n_samples, 1)\n",
    "      正解値\n",
    "    batch_size : int\n",
    "      バッチサイズ\n",
    "    seed : int\n",
    "      NumPyの乱数のシード\n",
    "    \"\"\"\n",
    "    def __init__(self, X, y, batch_size = 20, seed=0):\n",
    "        self.batch_size = batch_size\n",
    "        np.random.seed(seed)\n",
    "        shuffle_index = np.random.permutation(np.arange(X.shape[0]))\n",
    "        self._X = X[shuffle_index]\n",
    "        self._y = y[shuffle_index]\n",
    "        self._stop = np.ceil(X.shape[0]/self.batch_size).astype(np.int)\n",
    "\n",
    "    def __len__(self):\n",
    "        return self._stop\n",
    "\n",
    "    def __getitem__(self,item):\n",
    "        p0 = item*self.batch_size\n",
    "        p1 = item*self.batch_size + self.batch_size\n",
    "        return self._X[p0:p1], self._y[p0:p1]        \n",
    "\n",
    "    def __iter__(self):\n",
    "        self._counter = 0\n",
    "        return self\n",
    "\n",
    "    def __next__(self):\n",
    "        if self._counter >= self._stop:\n",
    "            raise StopIteration()\n",
    "        p0 = self._counter*self.batch_size\n",
    "        p1 = self._counter*self.batch_size + self.batch_size\n",
    "        self._counter += 1\n",
    "        return self._X[p0:p1], self._y[p0:p1]"
   ]
  },
  {
   "cell_type": "code",
   "execution_count": 17,
   "metadata": {},
   "outputs": [
    {
     "name": "stderr",
     "output_type": "stream",
     "text": [
      "Using TensorFlow backend.\n"
     ]
    }
   ],
   "source": [
    "from keras.datasets import mnist\n",
    "(X_train, y_train), (X_test, y_test) = mnist.load_data()"
   ]
  },
  {
   "cell_type": "code",
   "execution_count": 18,
   "metadata": {},
   "outputs": [],
   "source": [
    "X_train = X_train.reshape(-1, 1, 28, 28)\n",
    "X_test = X_test.reshape(-1, 1, 28, 28)"
   ]
  },
  {
   "cell_type": "code",
   "execution_count": 19,
   "metadata": {},
   "outputs": [
    {
     "name": "stdout",
     "output_type": "stream",
     "text": [
      "1.0\n",
      "0.0\n"
     ]
    }
   ],
   "source": [
    "X_train = X_train.astype(np.float)\n",
    "X_test = X_test.astype(np.float)\n",
    "X_train /= 255\n",
    "X_test /= 255\n",
    "print(X_train.max()) # 1.0\n",
    "print(X_train.min()) # 0.0"
   ]
  },
  {
   "cell_type": "code",
   "execution_count": 20,
   "metadata": {},
   "outputs": [
    {
     "name": "stdout",
     "output_type": "stream",
     "text": [
      "(60000,)\n",
      "(60000, 10)\n",
      "float64\n"
     ]
    }
   ],
   "source": [
    "from sklearn.preprocessing import OneHotEncoder\n",
    "enc = OneHotEncoder(handle_unknown='ignore', sparse=False)\n",
    "y_train_one_hot = enc.fit_transform(y_train[:, np.newaxis])\n",
    "y_test_one_hot = enc.transform(y_test[:, np.newaxis])\n",
    "print(y_train.shape) # (60000,)\n",
    "print(y_train_one_hot.shape) # (60000, 10)\n",
    "print(y_train_one_hot.dtype) # float64"
   ]
  },
  {
   "cell_type": "code",
   "execution_count": 21,
   "metadata": {},
   "outputs": [
    {
     "name": "stdout",
     "output_type": "stream",
     "text": [
      "(48000, 1, 28, 28)\n",
      "(12000, 1, 28, 28)\n"
     ]
    }
   ],
   "source": [
    "X_tr, X_val, y_tr, y_val = train_test_split(X_train, y_train_one_hot, test_size=0.2)\n",
    "print(X_tr.shape) # (48000, 1, 28, 28)\n",
    "print(X_val.shape) # (12000, 1, 28, 28)"
   ]
  },
  {
   "cell_type": "code",
   "execution_count": 22,
   "metadata": {},
   "outputs": [],
   "source": [
    "class cNN:\n",
    "    def __init__(self, epoch=5, verbose=True):\n",
    "        self.epoch = epoch\n",
    "        self.verbose = verbose\n",
    "        self.layers = {}\n",
    "        self.layers['Conv2d1'] = Conv2d(HeInitializer, AdaGrad, [1, 28, 28], [3, 1, 4, 4], stride=2, pad=2)\n",
    "        self.layers['Activation1'] = Relu()\n",
    "        self.layers['MaxPool2D1'] = MaxPool2D(2, 2, stride=1, pad=0)\n",
    "        self.layers['Flatten1'] = Flatten()\n",
    "        self.layers['Affine1'] =  FC(588, 10, XavierInitializer, AdaGrad)\n",
    "        self.last_layer = SoftmaxWithLoss()\n",
    "\n",
    "    def fit(self, X, y, X_val=None, y_val=None):\n",
    "        self.loss_list = []\n",
    "        self.loss_epoch_list = []\n",
    "        self.loss_val_epoch_list = []\n",
    "        for i in range(self.epoch):\n",
    "            get_mini_batch = GetMiniBatch(X, y, batch_size=20, seed=i)\n",
    "            loss_tmp_list = []\n",
    "            for X_batch, y_batch in get_mini_batch:\n",
    "                for layer in self.layers.values():\n",
    "                    X_batch = layer.forward(X_batch)\n",
    "                softmax = self.last_layer.forward(X_batch)\n",
    "                loss, dA = self.last_layer.backward(y_batch)\n",
    "                self.loss_list.append(loss)\n",
    "                loss_tmp_list.append(loss)\n",
    "                layers = list(self.layers.values())\n",
    "                layers.reverse()\n",
    "                for layer in layers:\n",
    "                    dA = layer.backward(dA)\n",
    "                    \n",
    "            epoch_mean_loss = np.mean(loss_tmp_list)\n",
    "            self.loss_epoch_list.append(epoch_mean_loss)\n",
    "            if self.verbose:\n",
    "                print(epoch_mean_loss)\n",
    "            if X_val is not None and y_val is not None:\n",
    "                X_val_copy = X_val.copy()\n",
    "                for layer in self.layers.values():\n",
    "                    X_val_copy = layer.forward(X_val_copy)\n",
    "                softmax_val = self.last_layer.forward(X_val_copy)\n",
    "                loss_val = -np.sum(y_val*np.log(softmax_val + 1e-7))/y_val.shape[0]\n",
    "                self.loss_val_epoch_list.append(loss_val)\n",
    "            \n",
    "    def predict(self, X):\n",
    "        for layer in self.layers.values():\n",
    "            X = layer.forward(X)\n",
    "        self.last_layer.forward(X)\n",
    "        y_pred = np.argmax(self.last_layer.softmax, axis=1)\n",
    "        \n",
    "        return y_pred"
   ]
  },
  {
   "cell_type": "code",
   "execution_count": 23,
   "metadata": {},
   "outputs": [],
   "source": [
    "cnn = cNN()"
   ]
  },
  {
   "cell_type": "code",
   "execution_count": 24,
   "metadata": {},
   "outputs": [
    {
     "name": "stdout",
     "output_type": "stream",
     "text": [
      "0.45292583214297366\n",
      "0.3469325638183536\n",
      "0.32943108975172064\n",
      "0.3192519331901158\n",
      "0.3121496780982247\n"
     ]
    }
   ],
   "source": [
    "cnn.fit(X_tr, y_tr, X_val, y_val)"
   ]
  },
  {
   "cell_type": "code",
   "execution_count": 25,
   "metadata": {},
   "outputs": [
    {
     "data": {
      "text/plain": [
       "array([6, 0, 8, ..., 0, 9, 4], dtype=int64)"
      ]
     },
     "execution_count": 25,
     "metadata": {},
     "output_type": "execute_result"
    }
   ],
   "source": [
    "y_pred = cnn.predict(X_val)\n",
    "y_pred"
   ]
  },
  {
   "cell_type": "code",
   "execution_count": 26,
   "metadata": {},
   "outputs": [
    {
     "data": {
      "text/plain": [
       "array([6, 0, 8, ..., 0, 9, 4], dtype=int64)"
      ]
     },
     "execution_count": 26,
     "metadata": {},
     "output_type": "execute_result"
    }
   ],
   "source": [
    "y_val_label = np.argmax(y_val, axis=1)\n",
    "y_val_label"
   ]
  },
  {
   "cell_type": "code",
   "execution_count": 27,
   "metadata": {},
   "outputs": [
    {
     "name": "stdout",
     "output_type": "stream",
     "text": [
      "accuracy_score:0.909\n"
     ]
    }
   ],
   "source": [
    "accuracy = accuracy_score(y_val_label, y_pred)\n",
    "print('accuracy_score:{}'.format(accuracy))"
   ]
  },
  {
   "cell_type": "code",
   "execution_count": 28,
   "metadata": {},
   "outputs": [
    {
     "data": {
      "image/png": "[encoded data removed]",
      "text/plain": [
       "<Figure size 864x288 with 2 Axes>"
      ]
     },
     "metadata": {
      "needs_background": "light"
     },
     "output_type": "display_data"
    }
   ],
   "source": [
    "fig, ax = plt.subplots(1, 2, figsize=(12, 4))\n",
    "ax[0].plot(cnn.loss_list)\n",
    "ax[1].plot(cnn.loss_epoch_list, label='train')\n",
    "ax[1].plot(cnn.loss_val_epoch_list, label='validation')\n",
    "ax[1].legend()\n",
    "plt.show()"
   ]
  },
  {
   "cell_type": "markdown",
   "metadata": {},
   "source": [
    "## averagepoolingを使う"
   ]
  },
  {
   "cell_type": "code",
   "execution_count": 29,
   "metadata": {},
   "outputs": [],
   "source": [
    "class cNN_averagepool:\n",
    "    def __init__(self, epoch=5, verbose=True):\n",
    "        self.epoch = epoch\n",
    "        self.verbose = verbose\n",
    "        self.layers = {}\n",
    "        self.layers['Conv2d1'] = Conv2d(HeInitializer, AdaGrad, [1, 28, 28], [3, 1, 4, 4], stride=2, pad=2)\n",
    "        self.layers['Activation1'] = Relu()\n",
    "        self.layers['AveragePool2D1'] = AveragePool2D(2, 2, stride=1, pad=0)\n",
    "        self.layers['Flatten1'] = Flatten()\n",
    "        self.layers['Affine1'] =  FC(588, 10, XavierInitializer, AdaGrad)\n",
    "        self.last_layer = SoftmaxWithLoss()\n",
    "\n",
    "    def fit(self, X, y, X_val=None, y_val=None):\n",
    "        self.loss_list = []\n",
    "        self.loss_epoch_list = []\n",
    "        self.loss_val_epoch_list = []\n",
    "        for i in range(self.epoch):\n",
    "            get_mini_batch = GetMiniBatch(X, y, batch_size=20, seed=i)\n",
    "            loss_tmp_list = []\n",
    "            for X_batch, y_batch in get_mini_batch:\n",
    "                for layer in self.layers.values():\n",
    "                    X_batch = layer.forward(X_batch)\n",
    "                softmax = self.last_layer.forward(X_batch)\n",
    "                loss, dA = self.last_layer.backward(y_batch)\n",
    "                self.loss_list.append(loss)\n",
    "                loss_tmp_list.append(loss)\n",
    "                layers = list(self.layers.values())\n",
    "                layers.reverse()\n",
    "                for layer in layers:\n",
    "                    dA = layer.backward(dA)\n",
    "                    \n",
    "            epoch_mean_loss = np.mean(loss_tmp_list)\n",
    "            self.loss_epoch_list.append(epoch_mean_loss)\n",
    "            if self.verbose:\n",
    "                print(epoch_mean_loss)\n",
    "            if X_val is not None and y_val is not None:\n",
    "                X_val_copy = X_val.copy()\n",
    "                for layer in self.layers.values():\n",
    "                    X_val_copy = layer.forward(X_val_copy)\n",
    "                softmax_val = self.last_layer.forward(X_val_copy)\n",
    "                loss_val = -np.sum(y_val*np.log(softmax_val + 1e-7))/y_val.shape[0]\n",
    "                self.loss_val_epoch_list.append(loss_val)\n",
    "            \n",
    "    def predict(self, X):\n",
    "        for layer in self.layers.values():\n",
    "            X = layer.forward(X)\n",
    "        self.last_layer.forward(X)\n",
    "        y_pred = np.argmax(self.last_layer.softmax, axis=1)\n",
    "        \n",
    "        return y_pred"
   ]
  },
  {
   "cell_type": "code",
   "execution_count": 30,
   "metadata": {},
   "outputs": [],
   "source": [
    "cnn_average = cNN_averagepool()"
   ]
  },
  {
   "cell_type": "code",
   "execution_count": 31,
   "metadata": {},
   "outputs": [
    {
     "name": "stdout",
     "output_type": "stream",
     "text": [
      "0.42089763696577476\n",
      "0.3375870024348415\n",
      "0.32565121209987563\n",
      "0.31900999945606934\n",
      "0.314577582574958\n"
     ]
    }
   ],
   "source": [
    "cnn_average.fit(X_tr, y_tr, X_val, y_val)"
   ]
  },
  {
   "cell_type": "code",
   "execution_count": 32,
   "metadata": {},
   "outputs": [
    {
     "data": {
      "text/plain": [
       "array([6, 0, 8, ..., 0, 9, 4], dtype=int64)"
      ]
     },
     "execution_count": 32,
     "metadata": {},
     "output_type": "execute_result"
    }
   ],
   "source": [
    "y_pred_average = cnn_average.predict(X_val)\n",
    "y_pred_average"
   ]
  },
  {
   "cell_type": "code",
   "execution_count": 33,
   "metadata": {},
   "outputs": [
    {
     "data": {
      "text/plain": [
       "array([6, 0, 8, ..., 0, 9, 4], dtype=int64)"
      ]
     },
     "execution_count": 33,
     "metadata": {},
     "output_type": "execute_result"
    }
   ],
   "source": [
    "y_val_label = np.argmax(y_val, axis=1)\n",
    "y_val_label"
   ]
  },
  {
   "cell_type": "code",
   "execution_count": 34,
   "metadata": {},
   "outputs": [
    {
     "name": "stdout",
     "output_type": "stream",
     "text": [
      "accuracy_score:0.9095\n"
     ]
    }
   ],
   "source": [
    "accuracy = accuracy_score(y_val_label, y_pred_average)\n",
    "print('accuracy_score:{}'.format(accuracy))"
   ]
  },
  {
   "cell_type": "code",
   "execution_count": 35,
   "metadata": {},
   "outputs": [
    {
     "data": {
      "image/png": "[encoded data removed]",
      "text/plain": [
       "<Figure size 864x288 with 2 Axes>"
      ]
     },
     "metadata": {
      "needs_background": "light"
     },
     "output_type": "display_data"
    }
   ],
   "source": [
    "fig, ax = plt.subplots(1, 2, figsize=(12, 4))\n",
    "ax[0].plot(cnn_average.loss_list)\n",
    "ax[1].plot(cnn_average.loss_epoch_list, label='train')\n",
    "ax[1].plot(cnn_average.loss_val_epoch_list, label='validation')\n",
    "ax[1].legend()\n",
    "plt.show()"
   ]
  },
  {
   "cell_type": "markdown",
   "metadata": {},
   "source": [
    "# 【問題7】（アドバンス課題）LeNet"
   ]
  },
  {
   "cell_type": "code",
   "execution_count": 36,
   "metadata": {},
   "outputs": [],
   "source": [
    "class LeNet:\n",
    "    def __init__(self, epoch=5, verbose=True):\n",
    "        self.epoch = epoch\n",
    "        self.verbose = verbose\n",
    "        self.layers = {}\n",
    "        self.layers['Conv2d1'] = Conv2d(HeInitializer, AdaGrad, [1, 28, 28], [6, 1, 5, 5], stride=1, pad=0)\n",
    "        self.layers['Activation1'] = Relu()\n",
    "        self.layers['MaxPool2D1'] = MaxPool2D(2, 2, stride=1, pad=0)\n",
    "        self.layers['Conv2d2'] = Conv2d(HeInitializer, AdaGrad, [6, 28, 28], [16, 6, 5, 5], stride=1, pad=0)\n",
    "        self.layers['Activation2'] = Relu()\n",
    "        self.layers['MaxPool2D2'] = MaxPool2D(2, 2, stride=1, pad=0)\n",
    "        self.layers['Flatten1'] = Flatten()\n",
    "        self.layers['Affine1'] =  FC(5184, 120, XavierInitializer, AdaGrad)\n",
    "        self.layers['Activation3'] = Relu()\n",
    "        self.layers['Affine2'] =  FC(120, 84, XavierInitializer, AdaGrad)\n",
    "        self.layers['Activation4'] = Relu()\n",
    "        self.layers['Affine3'] =  FC(84, 10, XavierInitializer, AdaGrad)\n",
    "        self.last_layer = SoftmaxWithLoss()\n",
    "\n",
    "    def fit(self, X, y, X_val=None, y_val=None):\n",
    "        self.loss_list = []\n",
    "        self.loss_epoch_list = []\n",
    "        self.loss_val_epoch_list = []\n",
    "        for i in range(self.epoch):\n",
    "            get_mini_batch = GetMiniBatch(X, y, batch_size=20, seed=i)\n",
    "            loss_tmp_list = []\n",
    "            for X_batch, y_batch in get_mini_batch:\n",
    "                for layer in self.layers.values():\n",
    "                    X_batch = layer.forward(X_batch)\n",
    "                softmax = self.last_layer.forward(X_batch)\n",
    "                loss, dA = self.last_layer.backward(y_batch)\n",
    "                self.loss_list.append(loss)\n",
    "                loss_tmp_list.append(loss)\n",
    "                layers = list(self.layers.values())\n",
    "                layers.reverse()\n",
    "                for layer in layers:\n",
    "                    dA = layer.backward(dA)\n",
    "                    \n",
    "            epoch_mean_loss = np.mean(loss_tmp_list)\n",
    "            self.loss_epoch_list.append(epoch_mean_loss)\n",
    "            if self.verbose:\n",
    "                print(epoch_mean_loss)\n",
    "            if X_val is not None and y_val is not None:\n",
    "                X_val_copy = X_val.copy()\n",
    "                for layer in self.layers.values():\n",
    "                    X_val_copy = layer.forward(X_val_copy)\n",
    "                softmax_val = self.last_layer.forward(X_val_copy)\n",
    "                loss_val = -np.sum(y_val*np.log(softmax_val + 1e-7))/y_val.shape[0]\n",
    "                self.loss_val_epoch_list.append(loss_val)\n",
    "            \n",
    "    def predict(self, X):\n",
    "        for layer in self.layers.values():\n",
    "            X = layer.forward(X)\n",
    "        self.last_layer.forward(X)\n",
    "        y_pred = np.argmax(self.last_layer.softmax, axis=1)\n",
    "        \n",
    "        return y_pred"
   ]
  },
  {
   "cell_type": "code",
   "execution_count": 37,
   "metadata": {},
   "outputs": [],
   "source": [
    "lenet = LeNet()"
   ]
  },
  {
   "cell_type": "code",
   "execution_count": 38,
   "metadata": {},
   "outputs": [
    {
     "name": "stdout",
     "output_type": "stream",
     "text": [
      "0.28710110424797214\n",
      "0.1263251275628177\n",
      "0.09963812704681428\n",
      "0.08360601332255599\n",
      "0.07475019777155781\n"
     ]
    }
   ],
   "source": [
    "lenet.fit(X_tr, y_tr, X_val, y_val)"
   ]
  },
  {
   "cell_type": "code",
   "execution_count": 49,
   "metadata": {},
   "outputs": [
    {
     "data": {
      "text/plain": [
       "array([6, 0, 8, ..., 0, 9, 4], dtype=int64)"
      ]
     },
     "execution_count": 49,
     "metadata": {},
     "output_type": "execute_result"
    }
   ],
   "source": [
    "y_pred_lenet = lenet.predict(X_val)\n",
    "y_pred_lenet"
   ]
  },
  {
   "cell_type": "code",
   "execution_count": 43,
   "metadata": {},
   "outputs": [
    {
     "data": {
      "text/plain": [
       "array([6, 0, 8, ..., 0, 9, 4], dtype=int64)"
      ]
     },
     "execution_count": 43,
     "metadata": {},
     "output_type": "execute_result"
    }
   ],
   "source": [
    "y_val_label = np.argmax(y_val, axis=1)\n",
    "y_val_label"
   ]
  },
  {
   "cell_type": "code",
   "execution_count": 50,
   "metadata": {},
   "outputs": [
    {
     "name": "stdout",
     "output_type": "stream",
     "text": [
      "accuracy_score:0.9698333333333333\n"
     ]
    }
   ],
   "source": [
    "accuracy = accuracy_score(y_val_label, y_pred_lenet)\n",
    "print('accuracy_score:{}'.format(accuracy))"
   ]
  },
  {
   "cell_type": "code",
   "execution_count": 45,
   "metadata": {},
   "outputs": [
    {
     "data": {
      "image/png": "[encoded data removed]",
      "text/plain": [
       "<Figure size 864x288 with 2 Axes>"
      ]
     },
     "metadata": {
      "needs_background": "light"
     },
     "output_type": "display_data"
    }
   ],
   "source": [
    "fig, ax = plt.subplots(1, 2, figsize=(12, 4))\n",
    "ax[0].plot(lenet.loss_list)\n",
    "ax[1].plot(lenet.loss_epoch_list, label='train')\n",
    "ax[1].plot(lenet.loss_val_epoch_list, label='validation')\n",
    "ax[1].legend()\n",
    "plt.show()"
   ]
  },
  {
   "cell_type": "markdown",
   "metadata": {},
   "source": [
    "# 【問題9】出力サイズとパラメータ数の計算"
   ]
  },
  {
   "cell_type": "markdown",
   "metadata": {},
   "source": [
    "1.\n",
    "入力サイズ : 144×144, 3チャンネル\n",
    "フィルタサイズ : 3×3, 6チャンネル\n",
    "ストライド : 1\n",
    "パディング : なし\n",
    "\\\n",
    "出力サイズ：142×142×6\n",
    "パラメータ数：120,984\n",
    "\\\n",
    "2.\n",
    "入力サイズ : 60×60, 24チャンネル\n",
    "フィルタサイズ : 3×3, 48チャンネル\n",
    "ストライド　: 1\n",
    "パディング : なし\n",
    "\\\n",
    "出力サイズ：58×58×48\n",
    "パラメータ数：161,472\n",
    "\\\n",
    "3.\n",
    "入力サイズ : 20×20, 10チャンネル\n",
    "フィルタサイズ: 3×3, 20チャンネル\n",
    "ストライド : 2\n",
    "パディング : なし\n",
    "\\\n",
    "出力サイズ：9×9×20\n",
    "パラメータ数：1,620"
   ]
  },
  {
   "cell_type": "markdown",
   "metadata": {},
   "source": [
    "# 【問題10】（アドバンス課題）フィルタサイズに関する調査"
   ]
  },
  {
   "cell_type": "markdown",
   "metadata": {},
   "source": [
    "- 2×2などの偶数のものではなく、3×3等の奇数のフィルタが一般的に使われる理由\n",
    "\\\n",
    "奇数サイズのフィルターサイズが使われるのは出力ピクセルを中心として入力ピクセルが対称的になるから。\n",
    "- 高さや幅方向を持たない1×1のフィルタの効果:\n",
    "\\\n",
    "DepthwiseConv2D等の出力チャンネル数を操作できないlayerの次の層として使い出力チャンネル数を増減させる。"
   ]
  },
  {
   "cell_type": "code",
   "execution_count": null,
   "metadata": {},
   "outputs": [],
   "source": []
  }
 ],
 "metadata": {
  "kernelspec": {
   "display_name": "Python 3",
   "language": "python",
   "name": "python3"
  },
  "language_info": {
   "codemirror_mode": {
    "name": "ipython",
    "version": 3
   },
   "file_extension": ".py",
   "mimetype": "text/x-python",
   "name": "python",
   "nbconvert_exporter": "python",
   "pygments_lexer": "ipython3",
   "version": "3.7.4"
  }
 },
 "nbformat": 4,
 "nbformat_minor": 2
}
