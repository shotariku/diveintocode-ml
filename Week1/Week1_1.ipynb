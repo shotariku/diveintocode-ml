{
 "cells": [
  {
   "cell_type": "markdown",
   "metadata": {},
   "source": [
    "# 【問題1】100日目の米粒の数"
   ]
  },
  {
   "cell_type": "code",
   "execution_count": 11,
   "metadata": {},
   "outputs": [
    {
     "data": {
      "image/png": "[encoded data removed]",
      "text/plain": [
       "<Figure size 432x288 with 1 Axes>"
      ]
     },
     "metadata": {
      "needs_background": "light"
     },
     "output_type": "display_data"
    }
   ],
   "source": [
    "import matplotlib.pyplot as plt\n",
    "%matplotlib inline\n",
    "\n",
    "rice = 1\n",
    "rice_count_list = [1]\n",
    "rice_accumulation_list = [1]\n",
    "for i in range(100):\n",
    "    rice *= 2\n",
    "    rice_count_list.append(rice)\n",
    "    rice_accumulation = sum(rice_count_list)\n",
    "    rice_accumulation_list.append(rice_accumulation)\n",
    "\n",
    "plt.title(\"rice_graph\")\n",
    "plt.xlabel(\"day\")\n",
    "plt.ylabel(\"rice_quantity\")\n",
    "plt.plot(rice_count_list, label='rice_count')\n",
    "plt.plot(rice_accumulation_list, label='rice_accumulation')\n",
    "plt.legend()\n",
    "plt.show()\n"
   ]
  },
  {
   "cell_type": "markdown",
   "metadata": {},
   "source": [
    "# 【問題2】100日目以外の米粒の数"
   ]
  },
  {
   "cell_type": "code",
   "execution_count": 14,
   "metadata": {},
   "outputs": [],
   "source": [
    "def compute_sorori_shinzaemon(day=100):\n",
    "    \"\"\"\n",
    "    曽呂利新左衛門の米の逸話を検証する関数。日にちごとの米の粒の数を計算する。\n",
    "\n",
    "    Parameteres\n",
    "    --------------\n",
    "    day: int\n",
    "        米を貰う日数 (default : 100)\n",
    "\n",
    "    Returns\n",
    "    --------------\n",
    "    list_n_grains : list\n",
    "        ある日に貰う米の数のリスト（リストの長さはdayに等しくなる）\n",
    "    list_total_grains : list\n",
    "        ある日までに累計で貰う米の数のリスト（リストの長さはdayに等しくなる）\n",
    "    \"\"\"\n",
    "    # ここにコードを書く。passは何もしないことを意味する命令である。\n",
    "    list_n_grains = [1]\n",
    "    list_total_grains = [1]\n",
    "    rice = 1\n",
    "    for i in range(day):\n",
    "        rice *= 2\n",
    "        list_n_grains.append(rice)\n",
    "        sum_grains = sum(list_n_grains)\n",
    "        list_total_grains.append(sum_grains)\n",
    "    \n",
    "    return list_n_grains, list_total_grains\n",
    "list_n_grains, list_total_grains = compute_sorori_shinzaemon(day=10)"
   ]
  },
  {
   "cell_type": "code",
   "execution_count": 15,
   "metadata": {},
   "outputs": [
    {
     "name": "stdout",
     "output_type": "stream",
     "text": [
      "[1, 2, 4, 8, 16, 32, 64, 128, 256, 512, 1024]\n",
      "[1, 3, 7, 15, 31, 63, 127, 255, 511, 1023, 2047]\n"
     ]
    }
   ],
   "source": [
    "print(list_n_grains)\n",
    "print(list_total_grains)"
   ]
  },
  {
   "cell_type": "markdown",
   "metadata": {},
   "source": [
    "# 【問題3】何人が何日生活できる米か"
   ]
  },
  {
   "cell_type": "markdown",
   "metadata": {},
   "source": [
    "## 調査方法：google検索\n",
    "\n",
    "## お米は炊くと約２.３倍の重さになります。お茶碗一杯分のごはんは約１５０ｇ。だから、炊く前のお米（精米）は約６５ｇ。お米１粒あたり０．０２ｇのため、６５ｇ÷０．０２ｇ＝３，２５０粒となる計算となります。（https://www.gohansaisai.com/know/entry/detail.html?i=178）\n",
    "## お茶碗一杯の米粒の数が約3,250粒なので1人の人が1日生活するのに9,650粒（3,250*3）が必要。\n"
   ]
  },
  {
   "cell_type": "code",
   "execution_count": 17,
   "metadata": {},
   "outputs": [],
   "source": [
    "def calculate_survival_days(rice, number_of_people):\n",
    "    survival_days = rice // (number_of_people*9650)\n",
    "    return survival_days"
   ]
  },
  {
   "cell_type": "code",
   "execution_count": 25,
   "metadata": {},
   "outputs": [
    {
     "name": "stdout",
     "output_type": "stream",
     "text": [
      "17217979220011863638650350521766\n"
     ]
    }
   ],
   "source": [
    "result_survival_days = calculate_survival_days(compute_sorori_shinzaemon(120)[1][-1], 16)\n",
    "print(result_survival_days)"
   ]
  },
  {
   "cell_type": "code",
   "execution_count": null,
   "metadata": {},
   "outputs": [],
   "source": []
  }
 ],
 "metadata": {
  "kernelspec": {
   "display_name": "Python 3",
   "language": "python",
   "name": "python3"
  },
  "language_info": {
   "codemirror_mode": {
    "name": "ipython",
    "version": 3
   },
   "file_extension": ".py",
   "mimetype": "text/x-python",
   "name": "python",
   "nbconvert_exporter": "python",
   "pygments_lexer": "ipython3",
   "version": "3.7.4"
  }
 },
 "nbformat": 4,
 "nbformat_minor": 2
}
