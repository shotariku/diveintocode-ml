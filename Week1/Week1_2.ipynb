{
 "cells": [
  {
   "cell_type": "markdown",
   "metadata": {},
   "source": [
    "# 【問題1】富士山を超える最小の折る回数"
   ]
  },
  {
   "cell_type": "code",
   "execution_count": 9,
   "metadata": {},
   "outputs": [
    {
     "data": {
      "text/plain": [
       "26"
      ]
     },
     "execution_count": 9,
     "metadata": {},
     "output_type": "execute_result"
    }
   ],
   "source": [
    "def number():\n",
    "    THICKNESS = 0.00008\n",
    "    MT_FUJI = 3776\n",
    "    i = 0\n",
    "    while THICKNESS <= MT_FUJI:\n",
    "        THICKNESS *= 2 \n",
    "        i += 1    \n",
    "    return i\n",
    "        \n",
    "number()"
   ]
  },
  {
   "cell_type": "markdown",
   "metadata": {},
   "source": [
    "# 【問題2】任意の厚さに対応した関数を作成"
   ]
  },
  {
   "cell_type": "code",
   "execution_count": 13,
   "metadata": {},
   "outputs": [
    {
     "name": "stdout",
     "output_type": "stream",
     "text": [
      "69\n"
     ]
    }
   ],
   "source": [
    "def number(thickness, distance):\n",
    "    i = 0\n",
    "    while thickness <= distance:\n",
    "        thickness *= 2\n",
    "        i += 1\n",
    "    return i\n",
    "    \n",
    "kentaurusu = 4.243*9.461*(10**15)\n",
    "times_fold_paper = number(0.00008, kentaurusu)\n",
    "print(times_fold_paper)"
   ]
  },
  {
   "cell_type": "markdown",
   "metadata": {},
   "source": [
    "# 【問題3】必要な紙の長さ"
   ]
  },
  {
   "cell_type": "code",
   "execution_count": 17,
   "metadata": {},
   "outputs": [],
   "source": [
    "import math\n",
    "pi = math.pi\n",
    "\n",
    "def calculate_length(thickness, distance):\n",
    "    i = 0\n",
    "    first_thickness = thickness\n",
    "    while  thickness <= distance:\n",
    "        thickness *= 2\n",
    "        i += 1\n",
    "        length = pi*first_thickness/6*(2**i + 4)*(2**i - 1)\n",
    "    return length"
   ]
  },
  {
   "cell_type": "code",
   "execution_count": 20,
   "metadata": {},
   "outputs": [
    {
     "data": {
      "text/plain": [
       "3.240919444170781e+21"
      ]
     },
     "execution_count": 20,
     "metadata": {},
     "output_type": "execute_result"
    }
   ],
   "source": [
    "# 月に届くために必要な紙の長さ\n",
    "calculate_length(0.00008, 380000000)"
   ]
  },
  {
   "cell_type": "code",
   "execution_count": 21,
   "metadata": {},
   "outputs": [
    {
     "data": {
      "text/plain": [
       "29476001174.88586"
      ]
     },
     "execution_count": 21,
     "metadata": {},
     "output_type": "execute_result"
    }
   ],
   "source": [
    "# 富士山に届くために必要な紙の長さ\n",
    "calculate_length(0.0008, 3776)"
   ]
  },
  {
   "cell_type": "code",
   "execution_count": 22,
   "metadata": {},
   "outputs": [
    {
     "data": {
      "text/plain": [
       "2.280594312671929e+36"
      ]
     },
     "execution_count": 22,
     "metadata": {},
     "output_type": "execute_result"
    }
   ],
   "source": [
    "# 最も近い太陽以外の恒星\n",
    "calculate_length(0.0008, kentaurusu)"
   ]
  },
  {
   "cell_type": "code",
   "execution_count": null,
   "metadata": {},
   "outputs": [],
   "source": []
  }
 ],
 "metadata": {
  "kernelspec": {
   "display_name": "Python 3",
   "language": "python",
   "name": "python3"
  },
  "language_info": {
   "codemirror_mode": {
    "name": "ipython",
    "version": 3
   },
   "file_extension": ".py",
   "mimetype": "text/x-python",
   "name": "python",
   "nbconvert_exporter": "python",
   "pygments_lexer": "ipython3",
   "version": "3.7.4"
  }
 },
 "nbformat": 4,
 "nbformat_minor": 2
}
