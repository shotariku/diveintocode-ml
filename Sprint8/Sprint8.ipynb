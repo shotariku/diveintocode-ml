{
 "cells": [
  {
   "cell_type": "code",
   "execution_count": 1,
   "metadata": {
    "colab": {
     "base_uri": "https://localhost:8080/",
     "height": 35
    },
    "colab_type": "code",
    "executionInfo": {
     "elapsed": 7101,
     "status": "ok",
     "timestamp": 1590132681049,
     "user": {
      "displayName": "石井翔太",
      "photoUrl": "",
      "userId": "13010506288966794666"
     },
     "user_tz": -540
    },
    "id": "PAeeu1UIIDAO",
    "outputId": "2a6f99c5-32f3-456e-efdc-3094cefa85ca"
   },
   "outputs": [
    {
     "name": "stdout",
     "output_type": "stream",
     "text": [
      "Drive already mounted at /content/drive; to attempt to forcibly remount, call drive.mount(\"/content/drive\", force_remount=True).\n"
     ]
    }
   ],
   "source": [
    "from google.colab import drive\n",
    "drive.mount('/content/drive')"
   ]
  },
  {
   "cell_type": "code",
   "execution_count": 0,
   "metadata": {
    "colab": {},
    "colab_type": "code",
    "id": "VFgAREgGJgu8"
   },
   "outputs": [],
   "source": [
    "import numpy as np\n",
    "import pandas as pd\n",
    "from matplotlib import pyplot as plt\n",
    "%matplotlib inline"
   ]
  },
  {
   "cell_type": "markdown",
   "metadata": {
    "colab": {},
    "colab_type": "code",
    "id": "Omips3hBJkhP"
   },
   "source": [
    "# 【問題1】ブレンディングのスクラッチ実装"
   ]
  },
  {
   "cell_type": "code",
   "execution_count": 0,
   "metadata": {
    "colab": {},
    "colab_type": "code",
    "id": "V40eW2qcJkka"
   },
   "outputs": [],
   "source": [
    "from sklearn.model_selection import train_test_split\n",
    "from sklearn.preprocessing import StandardScaler\n",
    "from sklearn.linear_model import LinearRegression\n",
    "from sklearn.svm import SVR\n",
    "from sklearn.tree import DecisionTreeRegressor\n",
    "from sklearn.metrics import mean_squared_error\n",
    "from sklearn.model_selection import KFold"
   ]
  },
  {
   "cell_type": "code",
   "execution_count": 5,
   "metadata": {
    "colab": {
     "base_uri": "https://localhost:8080/",
     "height": 35
    },
    "colab_type": "code",
    "executionInfo": {
     "elapsed": 11176,
     "status": "ok",
     "timestamp": 1590132685367,
     "user": {
      "displayName": "石井翔太",
      "photoUrl": "",
      "userId": "13010506288966794666"
     },
     "user_tz": -540
    },
    "id": "uZfmIFiIMnaS",
    "outputId": "08999afe-aa12-48ce-8d34-e8d754ab7088"
   },
   "outputs": [
    {
     "name": "stderr",
     "output_type": "stream",
     "text": [
      "Using TensorFlow backend.\n"
     ]
    }
   ],
   "source": [
    "from keras import models\n",
    "from keras import layers\n",
    "from keras import optimizers"
   ]
  },
  {
   "cell_type": "code",
   "execution_count": 0,
   "metadata": {
    "colab": {},
    "colab_type": "code",
    "id": "t_qdlPwCIruV"
   },
   "outputs": [],
   "source": [
    "df = pd.read_csv('/content/drive/My Drive/train.csv')"
   ]
  },
  {
   "cell_type": "code",
   "execution_count": 0,
   "metadata": {
    "colab": {},
    "colab_type": "code",
    "id": "yNaeQGSvJICt"
   },
   "outputs": [],
   "source": [
    "train = df[['GrLivArea', 'YearBuilt']]\n",
    "test = np.log(df['SalePrice'])"
   ]
  },
  {
   "cell_type": "code",
   "execution_count": 0,
   "metadata": {
    "colab": {},
    "colab_type": "code",
    "id": "OM83BGXxJz_f"
   },
   "outputs": [],
   "source": [
    "X_train, X_val, y_train, y_val = train_test_split(train, test, train_size=0.8, random_state=0)"
   ]
  },
  {
   "cell_type": "code",
   "execution_count": 0,
   "metadata": {
    "colab": {},
    "colab_type": "code",
    "id": "AHlT0gy-J4k7"
   },
   "outputs": [],
   "source": [
    "ss = StandardScaler()"
   ]
  },
  {
   "cell_type": "code",
   "execution_count": 10,
   "metadata": {
    "colab": {
     "base_uri": "https://localhost:8080/",
     "height": 35
    },
    "colab_type": "code",
    "executionInfo": {
     "elapsed": 10737,
     "status": "ok",
     "timestamp": 1590132685392,
     "user": {
      "displayName": "石井翔太",
      "photoUrl": "",
      "userId": "13010506288966794666"
     },
     "user_tz": -540
    },
    "id": "vaxeFj4mJ5y6",
    "outputId": "f38f6257-6d2a-427a-908d-516168e5a701"
   },
   "outputs": [
    {
     "data": {
      "text/plain": [
       "StandardScaler(copy=True, with_mean=True, with_std=True)"
      ]
     },
     "execution_count": 10,
     "metadata": {
      "tags": []
     },
     "output_type": "execute_result"
    }
   ],
   "source": [
    "ss.fit(X_train)"
   ]
  },
  {
   "cell_type": "code",
   "execution_count": 0,
   "metadata": {
    "colab": {},
    "colab_type": "code",
    "id": "BR-92i3SJ7CU"
   },
   "outputs": [],
   "source": [
    "X_train = ss.transform(X_train)\n",
    "X_val = ss.transform(X_val)"
   ]
  },
  {
   "cell_type": "code",
   "execution_count": 0,
   "metadata": {
    "colab": {},
    "colab_type": "code",
    "id": "5pBXukrkJ9bm"
   },
   "outputs": [],
   "source": [
    "def blending_mean_compute_mse(models, X_val, val):\n",
    "    predict_array = np.zeros([X_val.shape[0], len(models)])\n",
    "    for i, model in enumerate(models):\n",
    "        y_pred = model.predict(X_val)\n",
    "        predict_array[:, i] = y_pred.flatten()\n",
    "    y_pred = np.mean(predict_array, axis=1)\n",
    "    mse = mean_squared_error(y_val, y_pred)\n",
    "    \n",
    "    return mse"
   ]
  },
  {
   "cell_type": "code",
   "execution_count": 0,
   "metadata": {
    "colab": {},
    "colab_type": "code",
    "id": "_cRJsimFMJIH"
   },
   "outputs": [],
   "source": [
    "def compute_mse(model, X_train, y_train, X_val, y_val):\n",
    "    model.fit(X_train, y_train)\n",
    "    y_pred = model.predict(X_val)\n",
    "    mse = mean_squared_error(y_val, y_pred)\n",
    "    \n",
    "    return mse"
   ]
  },
  {
   "cell_type": "markdown",
   "metadata": {
    "colab": {},
    "colab_type": "code",
    "id": "6SITQzl7MKiD"
   },
   "source": [
    "## 線形回帰とSVMと決定木の結果を平均するブレンディングを行う"
   ]
  },
  {
   "cell_type": "code",
   "execution_count": 15,
   "metadata": {
    "colab": {
     "base_uri": "https://localhost:8080/",
     "height": 35
    },
    "colab_type": "code",
    "executionInfo": {
     "elapsed": 10355,
     "status": "ok",
     "timestamp": 1590132685405,
     "user": {
      "displayName": "石井翔太",
      "photoUrl": "",
      "userId": "13010506288966794666"
     },
     "user_tz": -540
    },
    "id": "PTooaeu5MM7P",
    "outputId": "0634ad60-08fb-42ff-f949-21cdc3ad8974"
   },
   "outputs": [
    {
     "data": {
      "text/plain": [
       "0.05730354643047342"
      ]
     },
     "execution_count": 15,
     "metadata": {
      "tags": []
     },
     "output_type": "execute_result"
    }
   ],
   "source": [
    "lr = LinearRegression()\n",
    "compute_mse(lr, X_train, y_train, X_val, y_val)"
   ]
  },
  {
   "cell_type": "code",
   "execution_count": 16,
   "metadata": {
    "colab": {
     "base_uri": "https://localhost:8080/",
     "height": 35
    },
    "colab_type": "code",
    "executionInfo": {
     "elapsed": 10248,
     "status": "ok",
     "timestamp": 1590132685408,
     "user": {
      "displayName": "石井翔太",
      "photoUrl": "",
      "userId": "13010506288966794666"
     },
     "user_tz": -540
    },
    "id": "cRUQCbX5MQZT",
    "outputId": "45318bcf-e957-4503-99f4-fba9fb972744"
   },
   "outputs": [
    {
     "data": {
      "text/plain": [
       "0.037334430784131276"
      ]
     },
     "execution_count": 16,
     "metadata": {
      "tags": []
     },
     "output_type": "execute_result"
    }
   ],
   "source": [
    "svr = SVR()\n",
    "compute_mse(svr, X_train, y_train, X_val, y_val)"
   ]
  },
  {
   "cell_type": "code",
   "execution_count": 17,
   "metadata": {
    "colab": {
     "base_uri": "https://localhost:8080/",
     "height": 35
    },
    "colab_type": "code",
    "executionInfo": {
     "elapsed": 9538,
     "status": "ok",
     "timestamp": 1590132685410,
     "user": {
      "displayName": "石井翔太",
      "photoUrl": "",
      "userId": "13010506288966794666"
     },
     "user_tz": -540
    },
    "id": "_QSCQ5vCMSHN",
    "outputId": "c5b1b87e-ca3c-4469-b2c3-6ab1f3faf1f4"
   },
   "outputs": [
    {
     "data": {
      "text/plain": [
       "0.07560855182971471"
      ]
     },
     "execution_count": 17,
     "metadata": {
      "tags": []
     },
     "output_type": "execute_result"
    }
   ],
   "source": [
    "dtr = DecisionTreeRegressor()\n",
    "compute_mse(dtr, X_train, y_train, X_val, y_val)"
   ]
  },
  {
   "cell_type": "code",
   "execution_count": 18,
   "metadata": {
    "colab": {
     "base_uri": "https://localhost:8080/",
     "height": 35
    },
    "colab_type": "code",
    "executionInfo": {
     "elapsed": 9463,
     "status": "ok",
     "timestamp": 1590132685412,
     "user": {
      "displayName": "石井翔太",
      "photoUrl": "",
      "userId": "13010506288966794666"
     },
     "user_tz": -540
    },
    "id": "A-9AwvTxQZo2",
    "outputId": "25de78ca-4dd4-41bb-cbdf-4e07b58fe36c"
   },
   "outputs": [
    {
     "data": {
      "text/plain": [
       "0.04177057821620026"
      ]
     },
     "execution_count": 18,
     "metadata": {
      "tags": []
     },
     "output_type": "execute_result"
    }
   ],
   "source": [
    "blending_mean_compute_mse([lr, svr], X_val, y_val)"
   ]
  },
  {
   "cell_type": "code",
   "execution_count": 19,
   "metadata": {
    "colab": {
     "base_uri": "https://localhost:8080/",
     "height": 35
    },
    "colab_type": "code",
    "executionInfo": {
     "elapsed": 9421,
     "status": "ok",
     "timestamp": 1590132685414,
     "user": {
      "displayName": "石井翔太",
      "photoUrl": "",
      "userId": "13010506288966794666"
     },
     "user_tz": -540
    },
    "id": "0UzlceDcMaLf",
    "outputId": "8d843b6c-7cd2-487e-d84e-79318e45efb5"
   },
   "outputs": [
    {
     "data": {
      "text/plain": [
       "0.05344813212487635"
      ]
     },
     "execution_count": 19,
     "metadata": {
      "tags": []
     },
     "output_type": "execute_result"
    }
   ],
   "source": [
    "blending_mean_compute_mse([lr, dtr], X_val, y_val)"
   ]
  },
  {
   "cell_type": "code",
   "execution_count": 20,
   "metadata": {
    "colab": {
     "base_uri": "https://localhost:8080/",
     "height": 35
    },
    "colab_type": "code",
    "executionInfo": {
     "elapsed": 9327,
     "status": "ok",
     "timestamp": 1590132685416,
     "user": {
      "displayName": "石井翔太",
      "photoUrl": "",
      "userId": "13010506288966794666"
     },
     "user_tz": -540
    },
    "id": "WRAB2KVOQfkD",
    "outputId": "3c4820a0-86da-4fca-f932-0ba09b6aacd8"
   },
   "outputs": [
    {
     "data": {
      "text/plain": [
       "0.04444868705452393"
      ]
     },
     "execution_count": 20,
     "metadata": {
      "tags": []
     },
     "output_type": "execute_result"
    }
   ],
   "source": [
    "blending_mean_compute_mse([svr, dtr], X_val, y_val)"
   ]
  },
  {
   "cell_type": "markdown",
   "metadata": {
    "colab": {},
    "colab_type": "code",
    "id": "imBFgcmjMca9"
   },
   "source": [
    "## 線形回帰と決定木をblendingすることでスコアが改善した。"
   ]
  },
  {
   "cell_type": "markdown",
   "metadata": {
    "colab": {},
    "colab_type": "code",
    "id": "ND8ySs6lQwSZ"
   },
   "source": [
    "## モデルが異なる方がよいとのことなのでニューラルネットワークを使う"
   ]
  },
  {
   "cell_type": "code",
   "execution_count": 0,
   "metadata": {
    "colab": {},
    "colab_type": "code",
    "id": "orhh-ExxMkae"
   },
   "outputs": [],
   "source": [
    "model = models.Sequential()\n",
    "model.add(layers.Dense(16, activation='relu', input_shape=(2,)))\n",
    "model.add(layers.Dense(8, activation='relu'))\n",
    "model.add(layers.Dense(1))\n",
    "model.compile(optimizer='rmsprop', loss='mse', metrics=['mae'])"
   ]
  },
  {
   "cell_type": "code",
   "execution_count": 24,
   "metadata": {
    "colab": {
     "base_uri": "https://localhost:8080/",
     "height": 1000
    },
    "colab_type": "code",
    "executionInfo": {
     "elapsed": 66878,
     "status": "ok",
     "timestamp": 1590132743228,
     "user": {
      "displayName": "石井翔太",
      "photoUrl": "",
      "userId": "13010506288966794666"
     },
     "user_tz": -540
    },
    "id": "MD29mVOdPnSl",
    "outputId": "2f515bda-8e5e-48e6-8151-3884709ddae1"
   },
   "outputs": [
    {
     "name": "stdout",
     "output_type": "stream",
     "text": [
      "Epoch 1/100\n",
      "1168/1168 [==============================] - 1s 533us/step - loss: 72.1258 - mae: 7.6157\n",
      "Epoch 2/100\n",
      "1168/1168 [==============================] - 1s 486us/step - loss: 1.3825 - mae: 0.7953\n",
      "Epoch 3/100\n",
      "1168/1168 [==============================] - 1s 480us/step - loss: 0.2967 - mae: 0.3614\n",
      "Epoch 4/100\n",
      "1168/1168 [==============================] - 1s 507us/step - loss: 0.1044 - mae: 0.2204\n",
      "Epoch 5/100\n",
      "1168/1168 [==============================] - 1s 555us/step - loss: 0.0746 - mae: 0.1931\n",
      "Epoch 6/100\n",
      "1168/1168 [==============================] - 1s 497us/step - loss: 0.0645 - mae: 0.1816\n",
      "Epoch 7/100\n",
      "1168/1168 [==============================] - 1s 540us/step - loss: 0.0592 - mae: 0.1780\n",
      "Epoch 8/100\n",
      "1168/1168 [==============================] - 1s 471us/step - loss: 0.0561 - mae: 0.1753\n",
      "Epoch 9/100\n",
      "1168/1168 [==============================] - 1s 467us/step - loss: 0.0569 - mae: 0.1759\n",
      "Epoch 10/100\n",
      "1168/1168 [==============================] - 1s 499us/step - loss: 0.0559 - mae: 0.1728\n",
      "Epoch 11/100\n",
      "1168/1168 [==============================] - 1s 495us/step - loss: 0.0526 - mae: 0.1694\n",
      "Epoch 12/100\n",
      "1168/1168 [==============================] - 1s 509us/step - loss: 0.0530 - mae: 0.1729\n",
      "Epoch 13/100\n",
      "1168/1168 [==============================] - 1s 485us/step - loss: 0.0532 - mae: 0.1707\n",
      "Epoch 14/100\n",
      "1168/1168 [==============================] - 1s 505us/step - loss: 0.0524 - mae: 0.1687\n",
      "Epoch 15/100\n",
      "1168/1168 [==============================] - 1s 501us/step - loss: 0.0525 - mae: 0.1711\n",
      "Epoch 16/100\n",
      "1168/1168 [==============================] - 1s 505us/step - loss: 0.0547 - mae: 0.1688\n",
      "Epoch 17/100\n",
      "1168/1168 [==============================] - 1s 489us/step - loss: 0.0523 - mae: 0.1701\n",
      "Epoch 18/100\n",
      "1168/1168 [==============================] - 1s 489us/step - loss: 0.0518 - mae: 0.1675\n",
      "Epoch 19/100\n",
      "1168/1168 [==============================] - 1s 501us/step - loss: 0.0533 - mae: 0.1685\n",
      "Epoch 20/100\n",
      "1168/1168 [==============================] - 1s 541us/step - loss: 0.0527 - mae: 0.1700\n",
      "Epoch 21/100\n",
      "1168/1168 [==============================] - 1s 510us/step - loss: 0.0521 - mae: 0.1705\n",
      "Epoch 22/100\n",
      "1168/1168 [==============================] - 1s 490us/step - loss: 0.0512 - mae: 0.1691\n",
      "Epoch 23/100\n",
      "1168/1168 [==============================] - 1s 490us/step - loss: 0.0508 - mae: 0.1668\n",
      "Epoch 24/100\n",
      "1168/1168 [==============================] - 1s 478us/step - loss: 0.0509 - mae: 0.1682\n",
      "Epoch 25/100\n",
      "1168/1168 [==============================] - 1s 493us/step - loss: 0.0522 - mae: 0.1676\n",
      "Epoch 26/100\n",
      "1168/1168 [==============================] - 1s 511us/step - loss: 0.0512 - mae: 0.1681\n",
      "Epoch 27/100\n",
      "1168/1168 [==============================] - 1s 484us/step - loss: 0.0521 - mae: 0.1681\n",
      "Epoch 28/100\n",
      "1168/1168 [==============================] - 1s 482us/step - loss: 0.0496 - mae: 0.1687\n",
      "Epoch 29/100\n",
      "1168/1168 [==============================] - 1s 484us/step - loss: 0.0504 - mae: 0.1680\n",
      "Epoch 30/100\n",
      "1168/1168 [==============================] - 1s 512us/step - loss: 0.0502 - mae: 0.1680\n",
      "Epoch 31/100\n",
      "1168/1168 [==============================] - 1s 477us/step - loss: 0.0505 - mae: 0.1673\n",
      "Epoch 32/100\n",
      "1168/1168 [==============================] - 1s 493us/step - loss: 0.0526 - mae: 0.1673\n",
      "Epoch 33/100\n",
      "1168/1168 [==============================] - 1s 490us/step - loss: 0.0515 - mae: 0.1691\n",
      "Epoch 34/100\n",
      "1168/1168 [==============================] - 1s 533us/step - loss: 0.0505 - mae: 0.1664\n",
      "Epoch 35/100\n",
      "1168/1168 [==============================] - 1s 500us/step - loss: 0.0499 - mae: 0.1676\n",
      "Epoch 36/100\n",
      "1168/1168 [==============================] - 1s 517us/step - loss: 0.0524 - mae: 0.1672\n",
      "Epoch 37/100\n",
      "1168/1168 [==============================] - 1s 490us/step - loss: 0.0516 - mae: 0.1685\n",
      "Epoch 38/100\n",
      "1168/1168 [==============================] - 1s 492us/step - loss: 0.0504 - mae: 0.1652\n",
      "Epoch 39/100\n",
      "1168/1168 [==============================] - 1s 492us/step - loss: 0.0503 - mae: 0.1658\n",
      "Epoch 40/100\n",
      "1168/1168 [==============================] - 1s 488us/step - loss: 0.0501 - mae: 0.1667\n",
      "Epoch 41/100\n",
      "1168/1168 [==============================] - 1s 498us/step - loss: 0.0516 - mae: 0.1690\n",
      "Epoch 42/100\n",
      "1168/1168 [==============================] - 1s 486us/step - loss: 0.0497 - mae: 0.1655\n",
      "Epoch 43/100\n",
      "1168/1168 [==============================] - 1s 491us/step - loss: 0.0503 - mae: 0.1654\n",
      "Epoch 44/100\n",
      "1168/1168 [==============================] - 1s 489us/step - loss: 0.0503 - mae: 0.1642\n",
      "Epoch 45/100\n",
      "1168/1168 [==============================] - 1s 497us/step - loss: 0.0512 - mae: 0.1678\n",
      "Epoch 46/100\n",
      "1168/1168 [==============================] - 1s 517us/step - loss: 0.0503 - mae: 0.1653\n",
      "Epoch 47/100\n",
      "1168/1168 [==============================] - 1s 479us/step - loss: 0.0518 - mae: 0.1663\n",
      "Epoch 48/100\n",
      "1168/1168 [==============================] - 1s 496us/step - loss: 0.0527 - mae: 0.1678\n",
      "Epoch 49/100\n",
      "1168/1168 [==============================] - 1s 517us/step - loss: 0.0495 - mae: 0.1655\n",
      "Epoch 50/100\n",
      "1168/1168 [==============================] - 1s 489us/step - loss: 0.0503 - mae: 0.1650\n",
      "Epoch 51/100\n",
      "1168/1168 [==============================] - 1s 488us/step - loss: 0.0532 - mae: 0.1686\n",
      "Epoch 52/100\n",
      "1168/1168 [==============================] - 1s 498us/step - loss: 0.0497 - mae: 0.1653\n",
      "Epoch 53/100\n",
      "1168/1168 [==============================] - 1s 490us/step - loss: 0.0502 - mae: 0.1668\n",
      "Epoch 54/100\n",
      "1168/1168 [==============================] - 1s 561us/step - loss: 0.0517 - mae: 0.1654\n",
      "Epoch 55/100\n",
      "1168/1168 [==============================] - 1s 493us/step - loss: 0.0508 - mae: 0.1643\n",
      "Epoch 56/100\n",
      "1168/1168 [==============================] - 1s 526us/step - loss: 0.0517 - mae: 0.1646\n",
      "Epoch 57/100\n",
      "1168/1168 [==============================] - 1s 507us/step - loss: 0.0516 - mae: 0.1693\n",
      "Epoch 58/100\n",
      "1168/1168 [==============================] - 1s 488us/step - loss: 0.0507 - mae: 0.1661\n",
      "Epoch 59/100\n",
      "1168/1168 [==============================] - 1s 493us/step - loss: 0.0504 - mae: 0.1655\n",
      "Epoch 60/100\n",
      "1168/1168 [==============================] - 1s 519us/step - loss: 0.0510 - mae: 0.1652\n",
      "Epoch 61/100\n",
      "1168/1168 [==============================] - 1s 519us/step - loss: 0.0501 - mae: 0.1648\n",
      "Epoch 62/100\n",
      "1168/1168 [==============================] - 1s 519us/step - loss: 0.0502 - mae: 0.1625\n",
      "Epoch 63/100\n",
      "1168/1168 [==============================] - 1s 493us/step - loss: 0.0527 - mae: 0.1680\n",
      "Epoch 64/100\n",
      "1168/1168 [==============================] - 1s 491us/step - loss: 0.0495 - mae: 0.1660\n",
      "Epoch 65/100\n",
      "1168/1168 [==============================] - 1s 499us/step - loss: 0.0515 - mae: 0.1680\n",
      "Epoch 66/100\n",
      "1168/1168 [==============================] - 1s 508us/step - loss: 0.0496 - mae: 0.1670\n",
      "Epoch 67/100\n",
      "1168/1168 [==============================] - 1s 496us/step - loss: 0.0511 - mae: 0.1642\n",
      "Epoch 68/100\n",
      "1168/1168 [==============================] - 1s 488us/step - loss: 0.0509 - mae: 0.1678\n",
      "Epoch 69/100\n",
      "1168/1168 [==============================] - 1s 491us/step - loss: 0.0518 - mae: 0.1681\n",
      "Epoch 70/100\n",
      "1168/1168 [==============================] - 1s 488us/step - loss: 0.0500 - mae: 0.1647\n",
      "Epoch 71/100\n",
      "1168/1168 [==============================] - 1s 502us/step - loss: 0.0489 - mae: 0.1630\n",
      "Epoch 72/100\n",
      "1168/1168 [==============================] - 1s 503us/step - loss: 0.0508 - mae: 0.1655\n",
      "Epoch 73/100\n",
      "1168/1168 [==============================] - 1s 490us/step - loss: 0.0485 - mae: 0.1651\n",
      "Epoch 74/100\n",
      "1168/1168 [==============================] - 1s 491us/step - loss: 0.0483 - mae: 0.1644\n",
      "Epoch 75/100\n",
      "1168/1168 [==============================] - 1s 528us/step - loss: 0.0498 - mae: 0.1664\n",
      "Epoch 76/100\n",
      "1168/1168 [==============================] - 1s 495us/step - loss: 0.0511 - mae: 0.1677\n",
      "Epoch 77/100\n",
      "1168/1168 [==============================] - 1s 501us/step - loss: 0.0503 - mae: 0.1646\n",
      "Epoch 78/100\n",
      "1168/1168 [==============================] - 1s 493us/step - loss: 0.0498 - mae: 0.1646\n",
      "Epoch 79/100\n",
      "1168/1168 [==============================] - 1s 517us/step - loss: 0.0523 - mae: 0.1677\n",
      "Epoch 80/100\n",
      "1168/1168 [==============================] - 1s 554us/step - loss: 0.0504 - mae: 0.1651\n",
      "Epoch 81/100\n",
      "1168/1168 [==============================] - 1s 557us/step - loss: 0.0510 - mae: 0.1678\n",
      "Epoch 82/100\n",
      "1168/1168 [==============================] - 1s 486us/step - loss: 0.0502 - mae: 0.1644\n",
      "Epoch 83/100\n",
      "1168/1168 [==============================] - 1s 492us/step - loss: 0.0496 - mae: 0.1659\n",
      "Epoch 84/100\n",
      "1168/1168 [==============================] - 1s 514us/step - loss: 0.0495 - mae: 0.1665\n",
      "Epoch 85/100\n",
      "1168/1168 [==============================] - 1s 486us/step - loss: 0.0506 - mae: 0.1654\n",
      "Epoch 86/100\n",
      "1168/1168 [==============================] - 1s 530us/step - loss: 0.0498 - mae: 0.1638\n",
      "Epoch 87/100\n",
      "1168/1168 [==============================] - 1s 486us/step - loss: 0.0509 - mae: 0.1667\n",
      "Epoch 88/100\n",
      "1168/1168 [==============================] - 1s 493us/step - loss: 0.0507 - mae: 0.1670\n",
      "Epoch 89/100\n",
      "1168/1168 [==============================] - 1s 512us/step - loss: 0.0502 - mae: 0.1645\n",
      "Epoch 90/100\n",
      "1168/1168 [==============================] - 1s 505us/step - loss: 0.0512 - mae: 0.1652\n",
      "Epoch 91/100\n",
      "1168/1168 [==============================] - 1s 498us/step - loss: 0.0514 - mae: 0.1651\n",
      "Epoch 92/100\n",
      "1168/1168 [==============================] - 1s 494us/step - loss: 0.0500 - mae: 0.1674\n",
      "Epoch 93/100\n",
      "1168/1168 [==============================] - 1s 529us/step - loss: 0.0491 - mae: 0.1643\n",
      "Epoch 94/100\n",
      "1168/1168 [==============================] - 1s 489us/step - loss: 0.0508 - mae: 0.1660\n",
      "Epoch 95/100\n",
      "1168/1168 [==============================] - 1s 491us/step - loss: 0.0501 - mae: 0.1653\n",
      "Epoch 96/100\n",
      "1168/1168 [==============================] - 1s 496us/step - loss: 0.0499 - mae: 0.1649\n",
      "Epoch 97/100\n",
      "1168/1168 [==============================] - 1s 488us/step - loss: 0.0511 - mae: 0.1674\n",
      "Epoch 98/100\n",
      "1168/1168 [==============================] - 1s 539us/step - loss: 0.0499 - mae: 0.1655\n",
      "Epoch 99/100\n",
      "1168/1168 [==============================] - 1s 490us/step - loss: 0.0498 - mae: 0.1637\n",
      "Epoch 100/100\n",
      "1168/1168 [==============================] - 1s 495us/step - loss: 0.0516 - mae: 0.1666\n"
     ]
    },
    {
     "data": {
      "text/plain": [
       "<keras.callbacks.callbacks.History at 0x7f5897d39a90>"
      ]
     },
     "execution_count": 24,
     "metadata": {
      "tags": []
     },
     "output_type": "execute_result"
    }
   ],
   "source": [
    "model.fit(X_train, y_train, batch_size=2, epochs=100)"
   ]
  },
  {
   "cell_type": "code",
   "execution_count": 0,
   "metadata": {
    "colab": {},
    "colab_type": "code",
    "id": "NejY0ovJQ4O5"
   },
   "outputs": [],
   "source": [
    "y_pred_nn = model.predict(X_val)"
   ]
  },
  {
   "cell_type": "code",
   "execution_count": 26,
   "metadata": {
    "colab": {
     "base_uri": "https://localhost:8080/",
     "height": 35
    },
    "colab_type": "code",
    "executionInfo": {
     "elapsed": 66673,
     "status": "ok",
     "timestamp": 1590132743233,
     "user": {
      "displayName": "石井翔太",
      "photoUrl": "",
      "userId": "13010506288966794666"
     },
     "user_tz": -540
    },
    "id": "OUmOrCDARLS4",
    "outputId": "56181d27-07d9-412b-f1a4-72863e69eedc"
   },
   "outputs": [
    {
     "data": {
      "text/plain": [
       "0.05252956149323265"
      ]
     },
     "execution_count": 26,
     "metadata": {
      "tags": []
     },
     "output_type": "execute_result"
    }
   ],
   "source": [
    "mean_squared_error(y_val, y_pred_nn)"
   ]
  },
  {
   "cell_type": "code",
   "execution_count": 27,
   "metadata": {
    "colab": {
     "base_uri": "https://localhost:8080/",
     "height": 35
    },
    "colab_type": "code",
    "executionInfo": {
     "elapsed": 66628,
     "status": "ok",
     "timestamp": 1590132743242,
     "user": {
      "displayName": "石井翔太",
      "photoUrl": "",
      "userId": "13010506288966794666"
     },
     "user_tz": -540
    },
    "id": "KlPVCgsCTPIq",
    "outputId": "b478f513-407e-489f-e4c9-f87375bd9bbf"
   },
   "outputs": [
    {
     "data": {
      "text/plain": [
       "0.054030767261114845"
      ]
     },
     "execution_count": 27,
     "metadata": {
      "tags": []
     },
     "output_type": "execute_result"
    }
   ],
   "source": [
    "blending_mean_compute_mse([lr, model], X_val, y_val)"
   ]
  },
  {
   "cell_type": "code",
   "execution_count": 28,
   "metadata": {
    "colab": {
     "base_uri": "https://localhost:8080/",
     "height": 35
    },
    "colab_type": "code",
    "executionInfo": {
     "elapsed": 66597,
     "status": "ok",
     "timestamp": 1590132743244,
     "user": {
      "displayName": "石井翔太",
      "photoUrl": "",
      "userId": "13010506288966794666"
     },
     "user_tz": -540
    },
    "id": "bnAXxkz-RjZp",
    "outputId": "5aea5a80-3947-4042-f16d-ad52c3ea96a8"
   },
   "outputs": [
    {
     "data": {
      "text/plain": [
       "0.04014395906406692"
      ]
     },
     "execution_count": 28,
     "metadata": {
      "tags": []
     },
     "output_type": "execute_result"
    }
   ],
   "source": [
    "blending_mean_compute_mse([svr, model], X_val, y_val)"
   ]
  },
  {
   "cell_type": "code",
   "execution_count": 29,
   "metadata": {
    "colab": {
     "base_uri": "https://localhost:8080/",
     "height": 35
    },
    "colab_type": "code",
    "executionInfo": {
     "elapsed": 66529,
     "status": "ok",
     "timestamp": 1590132743246,
     "user": {
      "displayName": "石井翔太",
      "photoUrl": "",
      "userId": "13010506288966794666"
     },
     "user_tz": -540
    },
    "id": "uWqiRScZRjTe",
    "outputId": "c1bf35a8-4f69-40ff-84b3-dd23e71f045c"
   },
   "outputs": [
    {
     "data": {
      "text/plain": [
       "0.05206289136289062"
      ]
     },
     "execution_count": 29,
     "metadata": {
      "tags": []
     },
     "output_type": "execute_result"
    }
   ],
   "source": [
    "blending_mean_compute_mse([dtr, model], X_val, y_val)"
   ]
  },
  {
   "cell_type": "markdown",
   "metadata": {
    "colab": {},
    "colab_type": "code",
    "id": "Rv9d_sy0TeD2"
   },
   "source": [
    "## 決定木とニューラルネットワークでblendingすることでスコアが改善された。"
   ]
  },
  {
   "cell_type": "markdown",
   "metadata": {
    "colab": {},
    "colab_type": "code",
    "id": "L_VBn00vi0xb"
   },
   "source": [
    "## 決定木のrandom_stateを変えたものをblendingしてみる。"
   ]
  },
  {
   "cell_type": "code",
   "execution_count": 0,
   "metadata": {
    "colab": {},
    "colab_type": "code",
    "id": "r7ZVLqD9gzBg"
   },
   "outputs": [],
   "source": [
    "dtr_0 = DecisionTreeRegressor(random_state=0)\n",
    "dtr_1 = DecisionTreeRegressor(random_state=1)\n",
    "dtr_2 = DecisionTreeRegressor(random_state=2)"
   ]
  },
  {
   "cell_type": "code",
   "execution_count": 33,
   "metadata": {
    "colab": {
     "base_uri": "https://localhost:8080/",
     "height": 125
    },
    "colab_type": "code",
    "executionInfo": {
     "elapsed": 66888,
     "status": "ok",
     "timestamp": 1590132743722,
     "user": {
      "displayName": "石井翔太",
      "photoUrl": "",
      "userId": "13010506288966794666"
     },
     "user_tz": -540
    },
    "id": "OEAWTqm6gzNF",
    "outputId": "8606b947-7057-419d-8625-a1aebf8155b2"
   },
   "outputs": [
    {
     "data": {
      "text/plain": [
       "DecisionTreeRegressor(ccp_alpha=0.0, criterion='mse', max_depth=None,\n",
       "                      max_features=None, max_leaf_nodes=None,\n",
       "                      min_impurity_decrease=0.0, min_impurity_split=None,\n",
       "                      min_samples_leaf=1, min_samples_split=2,\n",
       "                      min_weight_fraction_leaf=0.0, presort='deprecated',\n",
       "                      random_state=2, splitter='best')"
      ]
     },
     "execution_count": 33,
     "metadata": {
      "tags": []
     },
     "output_type": "execute_result"
    }
   ],
   "source": [
    "dtr_0.fit(X_train, y_train)\n",
    "dtr_1.fit(X_train, y_train)\n",
    "dtr_2.fit(X_train, y_train)"
   ]
  },
  {
   "cell_type": "code",
   "execution_count": 0,
   "metadata": {
    "colab": {},
    "colab_type": "code",
    "id": "CjdbctaUgzWp"
   },
   "outputs": [],
   "source": [
    "y_pred_dtr_0 = dtr_0.predict(X_val)\n",
    "y_pred_dtr_1 = dtr_1.predict(X_val)\n",
    "y_pred_dtr_2 = dtr_2.predict(X_val)"
   ]
  },
  {
   "cell_type": "code",
   "execution_count": 35,
   "metadata": {
    "colab": {
     "base_uri": "https://localhost:8080/",
     "height": 71
    },
    "colab_type": "code",
    "executionInfo": {
     "elapsed": 66812,
     "status": "ok",
     "timestamp": 1590132743725,
     "user": {
      "displayName": "石井翔太",
      "photoUrl": "",
      "userId": "13010506288966794666"
     },
     "user_tz": -540
    },
    "id": "Xk20eGmagzSe",
    "outputId": "6f5036bf-6d08-47fe-d961-00dca56de84d"
   },
   "outputs": [
    {
     "name": "stdout",
     "output_type": "stream",
     "text": [
      "0.07500705427483274\n",
      "0.07318031851080452\n",
      "0.07581118123447245\n"
     ]
    }
   ],
   "source": [
    "print(mean_squared_error(y_val, y_pred_dtr_0))\n",
    "print(mean_squared_error(y_val, y_pred_dtr_1))\n",
    "print(mean_squared_error(y_val, y_pred_dtr_2))"
   ]
  },
  {
   "cell_type": "code",
   "execution_count": 36,
   "metadata": {
    "colab": {
     "base_uri": "https://localhost:8080/",
     "height": 35
    },
    "colab_type": "code",
    "executionInfo": {
     "elapsed": 66748,
     "status": "ok",
     "timestamp": 1590132743726,
     "user": {
      "displayName": "石井翔太",
      "photoUrl": "",
      "userId": "13010506288966794666"
     },
     "user_tz": -540
    },
    "id": "3A1jJIjzgy-g",
    "outputId": "c779edfa-52fa-49d2-d695-d56cd4b3173a"
   },
   "outputs": [
    {
     "data": {
      "text/plain": [
       "0.07357241926016397"
      ]
     },
     "execution_count": 36,
     "metadata": {
      "tags": []
     },
     "output_type": "execute_result"
    }
   ],
   "source": [
    "blending_mean_compute_mse([dtr_0, dtr_1, dtr_2], X_val, y_val)"
   ]
  },
  {
   "cell_type": "markdown",
   "metadata": {
    "colab": {},
    "colab_type": "code",
    "id": "H1nNQQuhi9rj"
   },
   "source": [
    "## 悪い結果となった"
   ]
  },
  {
   "cell_type": "markdown",
   "metadata": {
    "colab": {},
    "colab_type": "code",
    "id": "-h_i_7JgaREm"
   },
   "source": [
    "## SVMのCを1,10,100に変えてblendingする"
   ]
  },
  {
   "cell_type": "code",
   "execution_count": 39,
   "metadata": {
    "colab": {
     "base_uri": "https://localhost:8080/",
     "height": 35
    },
    "colab_type": "code",
    "executionInfo": {
     "elapsed": 66665,
     "status": "ok",
     "timestamp": 1590132743728,
     "user": {
      "displayName": "石井翔太",
      "photoUrl": "",
      "userId": "13010506288966794666"
     },
     "user_tz": -540
    },
    "id": "EDyAF1ArcgA8",
    "outputId": "45d70752-af5a-403c-88ef-cd923f112a5f"
   },
   "outputs": [
    {
     "data": {
      "text/plain": [
       "0.037334430784131276"
      ]
     },
     "execution_count": 39,
     "metadata": {
      "tags": []
     },
     "output_type": "execute_result"
    }
   ],
   "source": [
    "svr_rbf_C_1 = SVR(C=1)\n",
    "svr_rbf_C_1.fit(X_train, y_train)\n",
    "y_pred_svr_rbf_C_1 = svr_rbf_C_1.predict(X_val)\n",
    "mean_squared_error(y_val, y_pred_svr_rbf_C_1)"
   ]
  },
  {
   "cell_type": "code",
   "execution_count": 40,
   "metadata": {
    "colab": {
     "base_uri": "https://localhost:8080/",
     "height": 35
    },
    "colab_type": "code",
    "executionInfo": {
     "elapsed": 66631,
     "status": "ok",
     "timestamp": 1590132743729,
     "user": {
      "displayName": "石井翔太",
      "photoUrl": "",
      "userId": "13010506288966794666"
     },
     "user_tz": -540
    },
    "id": "l3GdwlqWfXJK",
    "outputId": "17d121b6-804f-4910-bd52-d0cb1af63916"
   },
   "outputs": [
    {
     "data": {
      "text/plain": [
       "0.0359508129963376"
      ]
     },
     "execution_count": 40,
     "metadata": {
      "tags": []
     },
     "output_type": "execute_result"
    }
   ],
   "source": [
    "svr_rbf_C_10 = SVR(C=10)\n",
    "svr_rbf_C_10.fit(X_train, y_train)\n",
    "y_pred_svr_rbf_C_10 = svr_rbf_C_10.predict(X_val)\n",
    "mean_squared_error(y_val, y_pred_svr_rbf_C_10)"
   ]
  },
  {
   "cell_type": "code",
   "execution_count": 41,
   "metadata": {
    "colab": {
     "base_uri": "https://localhost:8080/",
     "height": 35
    },
    "colab_type": "code",
    "executionInfo": {
     "elapsed": 67276,
     "status": "ok",
     "timestamp": 1590132744432,
     "user": {
      "displayName": "石井翔太",
      "photoUrl": "",
      "userId": "13010506288966794666"
     },
     "user_tz": -540
    },
    "id": "KdCh0cXZgO1Q",
    "outputId": "67de2c28-0598-4340-b39b-9868462389d7"
   },
   "outputs": [
    {
     "data": {
      "text/plain": [
       "0.03498448289133197"
      ]
     },
     "execution_count": 41,
     "metadata": {
      "tags": []
     },
     "output_type": "execute_result"
    }
   ],
   "source": [
    "svr_rbf_C_100 = SVR(C=100)\n",
    "svr_rbf_C_100.fit(X_train, y_train)\n",
    "y_pred_svr_rbf_C_100 = svr_rbf_C_100.predict(X_val)\n",
    "mean_squared_error(y_val, y_pred_svr_rbf_C_100)"
   ]
  },
  {
   "cell_type": "code",
   "execution_count": 42,
   "metadata": {
    "colab": {
     "base_uri": "https://localhost:8080/",
     "height": 35
    },
    "colab_type": "code",
    "executionInfo": {
     "elapsed": 67232,
     "status": "ok",
     "timestamp": 1590132744437,
     "user": {
      "displayName": "石井翔太",
      "photoUrl": "",
      "userId": "13010506288966794666"
     },
     "user_tz": -540
    },
    "id": "kVT9KwkUcI-K",
    "outputId": "5e3a4860-83ba-48ab-bb31-4c5b4c3e3511"
   },
   "outputs": [
    {
     "data": {
      "text/plain": [
       "0.035666337274877606"
      ]
     },
     "execution_count": 42,
     "metadata": {
      "tags": []
     },
     "output_type": "execute_result"
    }
   ],
   "source": [
    "y_pred_svr_blending = (y_pred_svr_rbf_C_1 + y_pred_svr_rbf_C_10 + y_pred_svr_rbf_C_100)/3\n",
    "mean_squared_error(y_val, y_pred_svr_blending)"
   ]
  },
  {
   "cell_type": "markdown",
   "metadata": {
    "colab": {},
    "colab_type": "code",
    "id": "FpkHG3hgdyR0"
   },
   "source": [
    "## 悪い結果となった"
   ]
  },
  {
   "cell_type": "markdown",
   "metadata": {
    "colab": {},
    "colab_type": "code",
    "id": "BzfOBps9R60o"
   },
   "source": [
    "## ニューラルネットワークの層を増やしたものをblendingする。"
   ]
  },
  {
   "cell_type": "code",
   "execution_count": 0,
   "metadata": {
    "colab": {},
    "colab_type": "code",
    "id": "C0uIQErtjfGn"
   },
   "outputs": [],
   "source": [
    "model = models.Sequential()\n",
    "model.add(layers.Dense(64, activation='relu', input_shape=(2,)))\n",
    "model.add(layers.Dense(32, activation='relu'))\n",
    "model.add(layers.Dense(16, activation='relu'))\n",
    "model.add(layers.Dense(8, activation='relu'))\n",
    "model.add(layers.Dense(1))\n",
    "model.compile(optimizer='rmsprop', loss='mse', metrics=['mae'])"
   ]
  },
  {
   "cell_type": "code",
   "execution_count": 47,
   "metadata": {
    "colab": {
     "base_uri": "https://localhost:8080/",
     "height": 1000
    },
    "colab_type": "code",
    "executionInfo": {
     "elapsed": 67402,
     "status": "ok",
     "timestamp": 1590132911111,
     "user": {
      "displayName": "石井翔太",
      "photoUrl": "",
      "userId": "13010506288966794666"
     },
     "user_tz": -540
    },
    "id": "QqR8PyTqj1Y_",
    "outputId": "65eb49ae-7cd1-40de-c8f3-fe0d78f534be"
   },
   "outputs": [
    {
     "name": "stdout",
     "output_type": "stream",
     "text": [
      "Epoch 1/100\n",
      "1168/1168 [==============================] - 1s 632us/step - loss: 20.6123 - mae: 2.8607\n",
      "Epoch 2/100\n",
      "1168/1168 [==============================] - 1s 555us/step - loss: 0.2727 - mae: 0.3630\n",
      "Epoch 3/100\n",
      "1168/1168 [==============================] - 1s 541us/step - loss: 0.1145 - mae: 0.2581\n",
      "Epoch 4/100\n",
      "1168/1168 [==============================] - 1s 557us/step - loss: 0.1075 - mae: 0.2457\n",
      "Epoch 5/100\n",
      "1168/1168 [==============================] - 1s 553us/step - loss: 0.0946 - mae: 0.2356\n",
      "Epoch 6/100\n",
      "1168/1168 [==============================] - 1s 542us/step - loss: 0.0936 - mae: 0.2332\n",
      "Epoch 7/100\n",
      "1168/1168 [==============================] - 1s 570us/step - loss: 0.0965 - mae: 0.2300\n",
      "Epoch 8/100\n",
      "1168/1168 [==============================] - 1s 534us/step - loss: 0.0923 - mae: 0.2323\n",
      "Epoch 9/100\n",
      "1168/1168 [==============================] - 1s 553us/step - loss: 0.0912 - mae: 0.2303\n",
      "Epoch 10/100\n",
      "1168/1168 [==============================] - 1s 534us/step - loss: 0.0878 - mae: 0.2280\n",
      "Epoch 11/100\n",
      "1168/1168 [==============================] - 1s 608us/step - loss: 0.0874 - mae: 0.2286\n",
      "Epoch 12/100\n",
      "1168/1168 [==============================] - 1s 627us/step - loss: 0.0857 - mae: 0.2273\n",
      "Epoch 13/100\n",
      "1168/1168 [==============================] - 1s 627us/step - loss: 0.0824 - mae: 0.2208\n",
      "Epoch 14/100\n",
      "1168/1168 [==============================] - 1s 579us/step - loss: 0.0837 - mae: 0.2246\n",
      "Epoch 15/100\n",
      "1168/1168 [==============================] - 1s 538us/step - loss: 0.0820 - mae: 0.2207\n",
      "Epoch 16/100\n",
      "1168/1168 [==============================] - 1s 551us/step - loss: 0.0805 - mae: 0.2182\n",
      "Epoch 17/100\n",
      "1168/1168 [==============================] - 1s 547us/step - loss: 0.0793 - mae: 0.2138\n",
      "Epoch 18/100\n",
      "1168/1168 [==============================] - 1s 630us/step - loss: 0.0809 - mae: 0.2146\n",
      "Epoch 19/100\n",
      "1168/1168 [==============================] - 1s 592us/step - loss: 0.0773 - mae: 0.2153\n",
      "Epoch 20/100\n",
      "1168/1168 [==============================] - 1s 545us/step - loss: 0.0784 - mae: 0.2167\n",
      "Epoch 21/100\n",
      "1168/1168 [==============================] - 1s 540us/step - loss: 0.0759 - mae: 0.2137\n",
      "Epoch 22/100\n",
      "1168/1168 [==============================] - 1s 557us/step - loss: 0.0733 - mae: 0.2088\n",
      "Epoch 23/100\n",
      "1168/1168 [==============================] - 1s 536us/step - loss: 0.0741 - mae: 0.2084\n",
      "Epoch 24/100\n",
      "1168/1168 [==============================] - 1s 540us/step - loss: 0.0754 - mae: 0.2121\n",
      "Epoch 25/100\n",
      "1168/1168 [==============================] - 1s 543us/step - loss: 0.0720 - mae: 0.2084\n",
      "Epoch 26/100\n",
      "1168/1168 [==============================] - 1s 586us/step - loss: 0.0744 - mae: 0.2118\n",
      "Epoch 27/100\n",
      "1168/1168 [==============================] - 1s 594us/step - loss: 0.0751 - mae: 0.2112\n",
      "Epoch 28/100\n",
      "1168/1168 [==============================] - 1s 555us/step - loss: 0.0703 - mae: 0.2054\n",
      "Epoch 29/100\n",
      "1168/1168 [==============================] - 1s 555us/step - loss: 0.0750 - mae: 0.2089\n",
      "Epoch 30/100\n",
      "1168/1168 [==============================] - 1s 591us/step - loss: 0.0745 - mae: 0.2089\n",
      "Epoch 31/100\n",
      "1168/1168 [==============================] - 1s 557us/step - loss: 0.0755 - mae: 0.2066\n",
      "Epoch 32/100\n",
      "1168/1168 [==============================] - 1s 573us/step - loss: 0.0735 - mae: 0.2056\n",
      "Epoch 33/100\n",
      "1168/1168 [==============================] - 1s 546us/step - loss: 0.0753 - mae: 0.2063\n",
      "Epoch 34/100\n",
      "1168/1168 [==============================] - 1s 615us/step - loss: 0.0697 - mae: 0.2028\n",
      "Epoch 35/100\n",
      "1168/1168 [==============================] - 1s 542us/step - loss: 0.0695 - mae: 0.2013\n",
      "Epoch 36/100\n",
      "1168/1168 [==============================] - 1s 548us/step - loss: 0.0712 - mae: 0.2013\n",
      "Epoch 37/100\n",
      "1168/1168 [==============================] - 1s 553us/step - loss: 0.0752 - mae: 0.2083\n",
      "Epoch 38/100\n",
      "1168/1168 [==============================] - 1s 574us/step - loss: 0.0708 - mae: 0.2028\n",
      "Epoch 39/100\n",
      "1168/1168 [==============================] - 1s 544us/step - loss: 0.0706 - mae: 0.2003\n",
      "Epoch 40/100\n",
      "1168/1168 [==============================] - 1s 604us/step - loss: 0.0690 - mae: 0.1997\n",
      "Epoch 41/100\n",
      "1168/1168 [==============================] - 1s 568us/step - loss: 0.0719 - mae: 0.2028\n",
      "Epoch 42/100\n",
      "1168/1168 [==============================] - 1s 562us/step - loss: 0.0699 - mae: 0.1994\n",
      "Epoch 43/100\n",
      "1168/1168 [==============================] - 1s 568us/step - loss: 0.0717 - mae: 0.2056\n",
      "Epoch 44/100\n",
      "1168/1168 [==============================] - 1s 546us/step - loss: 0.0693 - mae: 0.2032\n",
      "Epoch 45/100\n",
      "1168/1168 [==============================] - 1s 568us/step - loss: 0.0700 - mae: 0.2005\n",
      "Epoch 46/100\n",
      "1168/1168 [==============================] - 1s 563us/step - loss: 0.0689 - mae: 0.2009\n",
      "Epoch 47/100\n",
      "1168/1168 [==============================] - 1s 589us/step - loss: 0.0689 - mae: 0.1983\n",
      "Epoch 48/100\n",
      "1168/1168 [==============================] - 1s 599us/step - loss: 0.0688 - mae: 0.1948\n",
      "Epoch 49/100\n",
      "1168/1168 [==============================] - 1s 594us/step - loss: 0.0684 - mae: 0.1979\n",
      "Epoch 50/100\n",
      "1168/1168 [==============================] - 1s 608us/step - loss: 0.0693 - mae: 0.1993\n",
      "Epoch 51/100\n",
      "1168/1168 [==============================] - 1s 610us/step - loss: 0.0726 - mae: 0.2040\n",
      "Epoch 52/100\n",
      "1168/1168 [==============================] - 1s 631us/step - loss: 0.0658 - mae: 0.1959\n",
      "Epoch 53/100\n",
      "1168/1168 [==============================] - 1s 635us/step - loss: 0.0669 - mae: 0.1962\n",
      "Epoch 54/100\n",
      "1168/1168 [==============================] - 1s 598us/step - loss: 0.0689 - mae: 0.1982\n",
      "Epoch 55/100\n",
      "1168/1168 [==============================] - 1s 593us/step - loss: 0.0666 - mae: 0.1979\n",
      "Epoch 56/100\n",
      "1168/1168 [==============================] - 1s 569us/step - loss: 0.0665 - mae: 0.1977\n",
      "Epoch 57/100\n",
      "1168/1168 [==============================] - 1s 581us/step - loss: 0.0668 - mae: 0.1968\n",
      "Epoch 58/100\n",
      "1168/1168 [==============================] - 1s 578us/step - loss: 0.0663 - mae: 0.1958\n",
      "Epoch 59/100\n",
      "1168/1168 [==============================] - 1s 592us/step - loss: 0.0664 - mae: 0.1931\n",
      "Epoch 60/100\n",
      "1168/1168 [==============================] - 1s 559us/step - loss: 0.0664 - mae: 0.1978\n",
      "Epoch 61/100\n",
      "1168/1168 [==============================] - 1s 615us/step - loss: 0.0665 - mae: 0.1933\n",
      "Epoch 62/100\n",
      "1168/1168 [==============================] - 1s 542us/step - loss: 0.0701 - mae: 0.1984\n",
      "Epoch 63/100\n",
      "1168/1168 [==============================] - 1s 576us/step - loss: 0.0659 - mae: 0.1976\n",
      "Epoch 64/100\n",
      "1168/1168 [==============================] - 1s 546us/step - loss: 0.0663 - mae: 0.1963\n",
      "Epoch 65/100\n",
      "1168/1168 [==============================] - 1s 551us/step - loss: 0.0643 - mae: 0.1957\n",
      "Epoch 66/100\n",
      "1168/1168 [==============================] - 1s 555us/step - loss: 0.0647 - mae: 0.1957\n",
      "Epoch 67/100\n",
      "1168/1168 [==============================] - 1s 561us/step - loss: 0.0642 - mae: 0.1922\n",
      "Epoch 68/100\n",
      "1168/1168 [==============================] - 1s 573us/step - loss: 0.0659 - mae: 0.1968\n",
      "Epoch 69/100\n",
      "1168/1168 [==============================] - 1s 558us/step - loss: 0.0664 - mae: 0.1945\n",
      "Epoch 70/100\n",
      "1168/1168 [==============================] - 1s 572us/step - loss: 0.0670 - mae: 0.1951\n",
      "Epoch 71/100\n",
      "1168/1168 [==============================] - 1s 548us/step - loss: 0.0635 - mae: 0.1916\n",
      "Epoch 72/100\n",
      "1168/1168 [==============================] - 1s 546us/step - loss: 0.0638 - mae: 0.1897\n",
      "Epoch 73/100\n",
      "1168/1168 [==============================] - 1s 581us/step - loss: 0.0634 - mae: 0.1895\n",
      "Epoch 74/100\n",
      "1168/1168 [==============================] - 1s 555us/step - loss: 0.0647 - mae: 0.1911\n",
      "Epoch 75/100\n",
      "1168/1168 [==============================] - 1s 548us/step - loss: 0.0627 - mae: 0.1898\n",
      "Epoch 76/100\n",
      "1168/1168 [==============================] - 1s 541us/step - loss: 0.0662 - mae: 0.1911\n",
      "Epoch 77/100\n",
      "1168/1168 [==============================] - 1s 544us/step - loss: 0.0647 - mae: 0.1922\n",
      "Epoch 78/100\n",
      "1168/1168 [==============================] - 1s 549us/step - loss: 0.0636 - mae: 0.1926\n",
      "Epoch 79/100\n",
      "1168/1168 [==============================] - 1s 553us/step - loss: 0.0644 - mae: 0.1923\n",
      "Epoch 80/100\n",
      "1168/1168 [==============================] - 1s 575us/step - loss: 0.0666 - mae: 0.1927\n",
      "Epoch 81/100\n",
      "1168/1168 [==============================] - 1s 540us/step - loss: 0.0675 - mae: 0.1991\n",
      "Epoch 82/100\n",
      "1168/1168 [==============================] - 1s 542us/step - loss: 0.0634 - mae: 0.1922\n",
      "Epoch 83/100\n",
      "1168/1168 [==============================] - 1s 548us/step - loss: 0.0636 - mae: 0.1902\n",
      "Epoch 84/100\n",
      "1168/1168 [==============================] - 1s 536us/step - loss: 0.0618 - mae: 0.1903\n",
      "Epoch 85/100\n",
      "1168/1168 [==============================] - 1s 591us/step - loss: 0.0632 - mae: 0.1928\n",
      "Epoch 86/100\n",
      "1168/1168 [==============================] - 1s 564us/step - loss: 0.0635 - mae: 0.1899\n",
      "Epoch 87/100\n",
      "1168/1168 [==============================] - 1s 576us/step - loss: 0.0630 - mae: 0.1903\n",
      "Epoch 88/100\n",
      "1168/1168 [==============================] - 1s 625us/step - loss: 0.0626 - mae: 0.1895\n",
      "Epoch 89/100\n",
      "1168/1168 [==============================] - 1s 618us/step - loss: 0.0600 - mae: 0.1889\n",
      "Epoch 90/100\n",
      "1168/1168 [==============================] - 1s 598us/step - loss: 0.0606 - mae: 0.1894\n",
      "Epoch 91/100\n",
      "1168/1168 [==============================] - 1s 556us/step - loss: 0.0609 - mae: 0.1878\n",
      "Epoch 92/100\n",
      "1168/1168 [==============================] - 1s 550us/step - loss: 0.0633 - mae: 0.1893\n",
      "Epoch 93/100\n",
      "1168/1168 [==============================] - 1s 581us/step - loss: 0.0646 - mae: 0.1902\n",
      "Epoch 94/100\n",
      "1168/1168 [==============================] - 1s 552us/step - loss: 0.0620 - mae: 0.1913\n",
      "Epoch 95/100\n",
      "1168/1168 [==============================] - 1s 547us/step - loss: 0.0629 - mae: 0.1886\n",
      "Epoch 96/100\n",
      "1168/1168 [==============================] - 1s 562us/step - loss: 0.0599 - mae: 0.1873\n",
      "Epoch 97/100\n",
      "1168/1168 [==============================] - 1s 552us/step - loss: 0.0583 - mae: 0.1839\n",
      "Epoch 98/100\n",
      "1168/1168 [==============================] - 1s 563us/step - loss: 0.0602 - mae: 0.1858\n",
      "Epoch 99/100\n",
      "1168/1168 [==============================] - 1s 544us/step - loss: 0.0584 - mae: 0.1859\n",
      "Epoch 100/100\n",
      "1168/1168 [==============================] - 1s 575us/step - loss: 0.0604 - mae: 0.1863\n"
     ]
    },
    {
     "data": {
      "text/plain": [
       "<keras.callbacks.callbacks.History at 0x7f5897c38668>"
      ]
     },
     "execution_count": 47,
     "metadata": {
      "tags": []
     },
     "output_type": "execute_result"
    }
   ],
   "source": [
    "model.fit(X_train, y_train, batch_size=2, epochs=100)"
   ]
  },
  {
   "cell_type": "code",
   "execution_count": 0,
   "metadata": {
    "colab": {},
    "colab_type": "code",
    "id": "keO7b1CHj-YQ"
   },
   "outputs": [],
   "source": [
    "y_pred_nn_2 = model.predict(X_val)"
   ]
  },
  {
   "cell_type": "code",
   "execution_count": 49,
   "metadata": {
    "colab": {
     "base_uri": "https://localhost:8080/",
     "height": 53
    },
    "colab_type": "code",
    "executionInfo": {
     "elapsed": 65293,
     "status": "ok",
     "timestamp": 1590132911658,
     "user": {
      "displayName": "石井翔太",
      "photoUrl": "",
      "userId": "13010506288966794666"
     },
     "user_tz": -540
    },
    "id": "XWvorPQJkZXV",
    "outputId": "224730a7-a01b-4cc9-af11-0e8f04e294fa"
   },
   "outputs": [
    {
     "name": "stdout",
     "output_type": "stream",
     "text": [
      "0.05252956149323265\n",
      "0.08875823898361623\n"
     ]
    }
   ],
   "source": [
    "print(mean_squared_error(y_val, y_pred_nn))\n",
    "print(mean_squared_error(y_val, y_pred_nn_2))"
   ]
  },
  {
   "cell_type": "code",
   "execution_count": 0,
   "metadata": {
    "colab": {},
    "colab_type": "code",
    "id": "kCWD6pYeknWW"
   },
   "outputs": [],
   "source": [
    "y_pred_nn_blending = (y_pred_nn + y_pred_nn_2)/2"
   ]
  },
  {
   "cell_type": "code",
   "execution_count": 51,
   "metadata": {
    "colab": {
     "base_uri": "https://localhost:8080/",
     "height": 35
    },
    "colab_type": "code",
    "executionInfo": {
     "elapsed": 64313,
     "status": "ok",
     "timestamp": 1590132911660,
     "user": {
      "displayName": "石井翔太",
      "photoUrl": "",
      "userId": "13010506288966794666"
     },
     "user_tz": -540
    },
    "id": "LpTSYkqqklNt",
    "outputId": "1b4c9b6b-ce06-4c2a-d886-c00c1f7fb838"
   },
   "outputs": [
    {
     "data": {
      "text/plain": [
       "0.05995268036474417"
      ]
     },
     "execution_count": 51,
     "metadata": {
      "tags": []
     },
     "output_type": "execute_result"
    }
   ],
   "source": [
    "mean_squared_error(y_val, y_pred_nn_blending)"
   ]
  },
  {
   "cell_type": "markdown",
   "metadata": {
    "colab": {},
    "colab_type": "code",
    "id": "xlCJM6YUSE9q"
   },
   "source": [
    "## ４層と２層のニューラルネットワークをblendingすることでスコアが改善された。(再起動したらスコアが悪くなりました。)"
   ]
  },
  {
   "cell_type": "markdown",
   "metadata": {
    "colab": {},
    "colab_type": "code",
    "id": "k_n_9jVemNK2"
   },
   "source": [
    "# 【問題2】バギングのスクラッチ実装"
   ]
  },
  {
   "cell_type": "markdown",
   "metadata": {
    "colab": {},
    "colab_type": "code",
    "id": "5ip9I__vsmiX"
   },
   "source": [
    "## svmでtrainデータの７割ずつで学習を行い、最後に平均する。"
   ]
  },
  {
   "cell_type": "code",
   "execution_count": 55,
   "metadata": {
    "colab": {
     "base_uri": "https://localhost:8080/",
     "height": 35
    },
    "colab_type": "code",
    "executionInfo": {
     "elapsed": 62340,
     "status": "ok",
     "timestamp": 1590132911663,
     "user": {
      "displayName": "石井翔太",
      "photoUrl": "",
      "userId": "13010506288966794666"
     },
     "user_tz": -540
    },
    "id": "kMUwNozfnHQw",
    "outputId": "83fdd176-84bc-4795-b610-21d23e98af9f"
   },
   "outputs": [
    {
     "data": {
      "text/plain": [
       "0.03924901834813996"
      ]
     },
     "execution_count": 55,
     "metadata": {
      "tags": []
     },
     "output_type": "execute_result"
    }
   ],
   "source": [
    "X_tr, _, y_tr, _ = train_test_split(X_train, y_train, train_size=0.7, shuffle=True)\n",
    "svr_0 = SVR()\n",
    "svr_0.fit(X_tr, y_tr)\n",
    "y_pred_svr_0 = svr_0.predict(X_val)\n",
    "mean_squared_error(y_val, y_pred_svr_0)"
   ]
  },
  {
   "cell_type": "code",
   "execution_count": 56,
   "metadata": {
    "colab": {
     "base_uri": "https://localhost:8080/",
     "height": 35
    },
    "colab_type": "code",
    "executionInfo": {
     "elapsed": 61965,
     "status": "ok",
     "timestamp": 1590132911664,
     "user": {
      "displayName": "石井翔太",
      "photoUrl": "",
      "userId": "13010506288966794666"
     },
     "user_tz": -540
    },
    "id": "bgNx8TDgnbr3",
    "outputId": "686e6351-dcae-4d38-a539-b66ac746a1a8"
   },
   "outputs": [
    {
     "data": {
      "text/plain": [
       "0.037514832344930304"
      ]
     },
     "execution_count": 56,
     "metadata": {
      "tags": []
     },
     "output_type": "execute_result"
    }
   ],
   "source": [
    "X_tr, _, y_tr, _ = train_test_split(X_train, y_train, train_size=0.7, shuffle=True)\n",
    "svr_1 = SVR()\n",
    "svr_1.fit(X_tr, y_tr)\n",
    "y_pred_svr_1 = svr_1.predict(X_val)\n",
    "mean_squared_error(y_val, y_pred_svr_1)"
   ]
  },
  {
   "cell_type": "code",
   "execution_count": 57,
   "metadata": {
    "colab": {
     "base_uri": "https://localhost:8080/",
     "height": 35
    },
    "colab_type": "code",
    "executionInfo": {
     "elapsed": 61703,
     "status": "ok",
     "timestamp": 1590132911664,
     "user": {
      "displayName": "石井翔太",
      "photoUrl": "",
      "userId": "13010506288966794666"
     },
     "user_tz": -540
    },
    "id": "CWmXsWc4o-WO",
    "outputId": "8c7ff20f-0b27-412e-f93b-1ee76dbf6ce3"
   },
   "outputs": [
    {
     "data": {
      "text/plain": [
       "0.03841772436371518"
      ]
     },
     "execution_count": 57,
     "metadata": {
      "tags": []
     },
     "output_type": "execute_result"
    }
   ],
   "source": [
    "X_tr, _, y_tr, _ = train_test_split(X_train, y_train, train_size=0.7, shuffle=True)\n",
    "svr_2 = SVR()\n",
    "svr_2.fit(X_tr, y_tr)\n",
    "y_pred_svr_2 = svr_2.predict(X_val)\n",
    "mean_squared_error(y_val, y_pred_svr_2)"
   ]
  },
  {
   "cell_type": "code",
   "execution_count": 58,
   "metadata": {
    "colab": {
     "base_uri": "https://localhost:8080/",
     "height": 35
    },
    "colab_type": "code",
    "executionInfo": {
     "elapsed": 61492,
     "status": "ok",
     "timestamp": 1590132911669,
     "user": {
      "displayName": "石井翔太",
      "photoUrl": "",
      "userId": "13010506288966794666"
     },
     "user_tz": -540
    },
    "id": "Rw9bmLBxpCjr",
    "outputId": "56efc529-6223-4540-d460-9fe39265b2b4"
   },
   "outputs": [
    {
     "data": {
      "text/plain": [
       "0.035666337274877606"
      ]
     },
     "execution_count": 58,
     "metadata": {
      "tags": []
     },
     "output_type": "execute_result"
    }
   ],
   "source": [
    "y_pred_svr_bagging = (y_pred_svr_0 + y_pred_svr_1 + y_pred_svr_2)/3\n",
    "mean_squared_error(y_val, y_pred_svr_blending)"
   ]
  },
  {
   "cell_type": "markdown",
   "metadata": {
    "colab": {},
    "colab_type": "code",
    "id": "kkBhXsT0pfY7"
   },
   "source": [
    "## baggingすることで結果を改善することができた"
   ]
  },
  {
   "cell_type": "markdown",
   "metadata": {
    "colab": {},
    "colab_type": "code",
    "id": "M7Hb9C70s0tc"
   },
   "source": [
    "# 【問題3】スタッキングのスクラッチ実装"
   ]
  },
  {
   "cell_type": "markdown",
   "metadata": {
    "colab": {},
    "colab_type": "code",
    "id": "dyADANngs6M7"
   },
   "source": [
    "## svrのハイパーパラメータを変更したものを使って予測値を計算し、それを使って、svmで推測する"
   ]
  },
  {
   "cell_type": "code",
   "execution_count": 0,
   "metadata": {
    "colab": {},
    "colab_type": "code",
    "id": "WXFcu8vGA1HO"
   },
   "outputs": [],
   "source": [
    "X_train, X_val, y_train, y_val = train_test_split(train, test, train_size=0.8, random_state=0)\n",
    "ss = StandardScaler()\n",
    "ss.fit(X_train)\n",
    "X_train = ss.transform(X_train)\n",
    "X_val = ss.transform(X_val)\n",
    "y_train = np.array(y_train)\n",
    "y_val = np.array(y_val)"
   ]
  },
  {
   "cell_type": "code",
   "execution_count": 63,
   "metadata": {
    "colab": {
     "base_uri": "https://localhost:8080/",
     "height": 35
    },
    "colab_type": "code",
    "executionInfo": {
     "elapsed": 60741,
     "status": "ok",
     "timestamp": 1590132912245,
     "user": {
      "displayName": "石井翔太",
      "photoUrl": "",
      "userId": "13010506288966794666"
     },
     "user_tz": -540
    },
    "id": "hGFhG_vTMnNy",
    "outputId": "f7c70f68-ef26-439f-8acc-5c2e7494961c"
   },
   "outputs": [
    {
     "data": {
      "text/plain": [
       "0.037334430784131276"
      ]
     },
     "execution_count": 63,
     "metadata": {
      "tags": []
     },
     "output_type": "execute_result"
    }
   ],
   "source": [
    "svr = SVR()\n",
    "svr.fit(X_train, y_train)\n",
    "y_pred_svr = svr.predict(X_val)\n",
    "mean_squared_error(y_val, y_pred_svr)"
   ]
  },
  {
   "cell_type": "code",
   "execution_count": 0,
   "metadata": {
    "colab": {},
    "colab_type": "code",
    "id": "MimKQJnM-TRD"
   },
   "outputs": [],
   "source": [
    "kf = KFold(n_splits=3, shuffle=True, random_state=0)"
   ]
  },
  {
   "cell_type": "code",
   "execution_count": 0,
   "metadata": {
    "colab": {},
    "colab_type": "code",
    "id": "3rhpZxh__W2z"
   },
   "outputs": [],
   "source": [
    "svr_1 = SVR(C=1)\n",
    "svr_10 = SVR(C=10)\n",
    "model_list = list([svr_1, svr_10])\n",
    "S_train = np.zeros([X_train.shape[0], len(model_list)])\n",
    "S_test = np.zeros([y_val.shape[0], len(model_list)])\n",
    "for i, model in enumerate(model_list):\n",
    "  S_test_split = np.zeros([y_val.shape[0], 3]) \n",
    "  for j, (train_index, val_index) in enumerate(kf.split(X_train)):\n",
    "    X_tr = X_train[train_index]\n",
    "    y_tr = y_train[train_index]\n",
    "    X_va = X_train[val_index]\n",
    "    model.fit(X_tr, y_tr)\n",
    "    y_pred = model.predict(X_va)\n",
    "    S_train[val_index, i] = y_pred\n",
    "    S_test_split[:, j] = model.predict(X_val)\n",
    "  S_test[:, i] = np.mean(S_test_split, axis=1) \n",
    "  "
   ]
  },
  {
   "cell_type": "code",
   "execution_count": 66,
   "metadata": {
    "colab": {
     "base_uri": "https://localhost:8080/",
     "height": 53
    },
    "colab_type": "code",
    "executionInfo": {
     "elapsed": 59304,
     "status": "ok",
     "timestamp": 1590132912251,
     "user": {
      "displayName": "石井翔太",
      "photoUrl": "",
      "userId": "13010506288966794666"
     },
     "user_tz": -540
    },
    "id": "IzAwF7DbHUwG",
    "outputId": "ae2962c7-e30d-40e1-9fbe-358ff9973919"
   },
   "outputs": [
    {
     "data": {
      "text/plain": [
       "SVR(C=1.0, cache_size=200, coef0=0.0, degree=3, epsilon=0.1, gamma='scale',\n",
       "    kernel='rbf', max_iter=-1, shrinking=True, tol=0.001, verbose=False)"
      ]
     },
     "execution_count": 66,
     "metadata": {
      "tags": []
     },
     "output_type": "execute_result"
    }
   ],
   "source": [
    "svr_stacking = SVR()\n",
    "svr_stacking.fit(S_train, y_train)"
   ]
  },
  {
   "cell_type": "code",
   "execution_count": 0,
   "metadata": {
    "colab": {},
    "colab_type": "code",
    "id": "rujn1UpWF70_"
   },
   "outputs": [],
   "source": [
    "y_pred_stacking = svr_stacking.predict(S_test)"
   ]
  },
  {
   "cell_type": "code",
   "execution_count": 68,
   "metadata": {
    "colab": {
     "base_uri": "https://localhost:8080/",
     "height": 35
    },
    "colab_type": "code",
    "executionInfo": {
     "elapsed": 59397,
     "status": "ok",
     "timestamp": 1590132912678,
     "user": {
      "displayName": "石井翔太",
      "photoUrl": "",
      "userId": "13010506288966794666"
     },
     "user_tz": -540
    },
    "id": "ElsPbBZoGRVh",
    "outputId": "bc10bae5-b7a9-4935-cd38-fe0ef81f3b44"
   },
   "outputs": [
    {
     "data": {
      "text/plain": [
       "0.03652644459019285"
      ]
     },
     "execution_count": 68,
     "metadata": {
      "tags": []
     },
     "output_type": "execute_result"
    }
   ],
   "source": [
    "mean_squared_error(y_val, y_pred_stacking)"
   ]
  },
  {
   "cell_type": "markdown",
   "metadata": {
    "colab": {},
    "colab_type": "code",
    "id": "zpnjrwj2GSv7"
   },
   "source": [
    "## stackingすることで0.0373から0.0365にスコアが改善された"
   ]
  },
  {
   "cell_type": "code",
   "execution_count": 0,
   "metadata": {
    "colab": {},
    "colab_type": "code",
    "id": "D3SAsxvKMCwN"
   },
   "outputs": [],
   "source": []
  }
 ],
 "metadata": {
  "colab": {
   "authorship_tag": "ABX9TyMzfuAVQOlZ2cYTYfaBkzwB",
   "collapsed_sections": [],
   "name": "Untitled3.ipynb",
   "provenance": []
  },
  "kernelspec": {
   "display_name": "Python 3",
   "language": "python",
   "name": "python3"
  },
  "language_info": {
   "codemirror_mode": {
    "name": "ipython",
    "version": 3
   },
   "file_extension": ".py",
   "mimetype": "text/x-python",
   "name": "python",
   "nbconvert_exporter": "python",
   "pygments_lexer": "ipython3",
   "version": "3.7.4"
  }
 },
 "nbformat": 4,
 "nbformat_minor": 1
}
