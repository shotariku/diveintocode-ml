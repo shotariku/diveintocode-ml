{
 "cells": [
  {
   "cell_type": "code",
   "execution_count": 1,
   "metadata": {},
   "outputs": [],
   "source": [
    "import numpy as np\n",
    "import pandas as pd\n",
    "from matplotlib import pyplot as plt\n",
    "%matplotlib inline"
   ]
  },
  {
   "cell_type": "code",
   "execution_count": 2,
   "metadata": {},
   "outputs": [],
   "source": [
    "from sklearn.model_selection import train_test_split\n",
    "from sklearn.preprocessing import StandardScaler\n",
    "from sklearn.metrics import accuracy_score\n",
    "from sklearn.tree import DecisionTreeClassifier"
   ]
  },
  {
   "cell_type": "code",
   "execution_count": 3,
   "metadata": {},
   "outputs": [],
   "source": [
    "class ScratchDecesionTreeClassifierDepth1():\n",
    "    \"\"\"\n",
    "    深さ1の決定木分類器のスクラッチ実装\n",
    "\n",
    "    Parameters\n",
    "    ----------\n",
    "    verbose : bool\n",
    "      学習過程を出力する場合はTrue\n",
    "    \"\"\"\n",
    "    def __init__(self, verbose=False):\n",
    "        # ハイパーパラメータを属性として記録\n",
    "        self.verbose = verbose\n",
    "    def fit(self, X, y):\n",
    "        \"\"\"\n",
    "        決定木分類器を学習する\n",
    "        Parameters\n",
    "        ----------\n",
    "        X : 次の形のndarray, shape (n_samples, n_features)\n",
    "            訓練データの特徴量\n",
    "        y : 次の形のndarray, shape (n_samples, )\n",
    "            訓練データの正解値\n",
    "        \"\"\"\n",
    "        n_features = X.shape[1]\n",
    "        self.criterion_list = []\n",
    "        self.ig_score_list = []\n",
    "        for feature in range(n_features):\n",
    "            uniques = np.unique(X[:, feature])\n",
    "            ig_score_iteration_list = []\n",
    "            for unique in uniques:\n",
    "                left_iteration = y[X[:, feature] >= unique]\n",
    "                right_iteration = y[X[:, feature] < unique]\n",
    "                ig_score = self._information_gain(y, left_iteration, right_iteration)\n",
    "                ig_score_iteration_list.append(ig_score)\n",
    "            criterion_row = np.argmax(ig_score_iteration_list)\n",
    "            self.criterion_list.append(X[criterion_row, feature])\n",
    "            self.ig_score_list.append(max(ig_score_iteration_list))\n",
    "            if self.verbose:\n",
    "                print(X[criterion_row, feature])\n",
    "                print(self.ig_score_list)\n",
    "        \n",
    "        self.selected_feature = np.argmax(self.ig_score_list)\n",
    "        self.threshold = self.criterion_list[self.selected_feature]\n",
    "        X_left, X_right, y_left, y_right = self._divide(X, y, self.selected_feature, self. threshold)  \n",
    "        left_number_1 = np.count_nonzero(y_left)\n",
    "        left_number_0 = len(y_left) - left_number_1\n",
    "        right_number_1 = np.count_nonzero(y_right)\n",
    "        right_number_0 = len(y_right) - right_number_1\n",
    "        if left_number_1 >= left_number_0:\n",
    "            self.left_y_label = 1\n",
    "        else:\n",
    "            self.left_y_label = 0\n",
    "        if right_number_1 >= right_number_0:\n",
    "            self.right_y_label = 1\n",
    "        else:\n",
    "            self.right_y_label = 0\n",
    "        \n",
    "        return X_left, X_right, y_left, y_right\n",
    "        \n",
    "    def predict(self, X):\n",
    "        \"\"\"\n",
    "        決定木分類器を使いラベルを推定する\n",
    "        \"\"\"\n",
    "        y_pred = np.zeros(X.shape[0])\n",
    "        left_index = X[:, self.selected_feature] >= self.threshold\n",
    "        right_index = X[:, self.selected_feature] < self.threshold\n",
    "        y_pred[left_index] = self.left_y_label\n",
    "        y_pred[right_index] = self.right_y_label\n",
    "        \n",
    "        return y_pred\n",
    "    \n",
    "    def _gini_score(self, y):\n",
    "        labels = np.unique(y)\n",
    "        sum_rate = 0\n",
    "        for label in labels:\n",
    "            sum_rate += (len(y[y == label])/len(labels))**2\n",
    "        gini_score = 1 - sum_rate\n",
    "        \n",
    "        return gini_score\n",
    "    \n",
    "    def _information_gain(self, root, left, right):\n",
    "        ig = self._gini_score(root) - len(left)/len(root)*self._gini_score(left) - len(right)*len(root)*self._gini_score(right)\n",
    "        \n",
    "        return ig\n",
    "    \n",
    "    def _divide(self, X, y, feature, threshold):\n",
    "        self.left_index = np.where(X[:, feature] >= threshold)[0]\n",
    "        self.right_index = np.where(X[:, feature] < threshold)[0]\n",
    "        X_left = X[self.left_index]\n",
    "        X_right = X[self.right_index]\n",
    "        y_left = y[self.left_index]\n",
    "        y_right = y[self.right_index]\n",
    "        \n",
    "        return X_left, X_right, y_left, y_right"
   ]
  },
  {
   "cell_type": "markdown",
   "metadata": {},
   "source": [
    "# 【問題1】不純度を求める関数"
   ]
  },
  {
   "cell_type": "markdown",
   "metadata": {},
   "source": [
    "class ScratchDecesionTreeClassifierDepth1()に下記コードを追加。\n",
    "```python\n",
    "def gini_score(self, y):\n",
    "    labels = np.unique(y)\n",
    "    sum_rate = 0\n",
    "    for i in labels:\n",
    "        sum_rate += (len(y[y == label])/len(labels))**2\n",
    "    gini_score = 1 - sum_rate\n",
    "\n",
    "    return gini_score\n",
    "```"
   ]
  },
  {
   "cell_type": "markdown",
   "metadata": {},
   "source": [
    "# 【問題2】情報利得を求める関数"
   ]
  },
  {
   "cell_type": "markdown",
   "metadata": {},
   "source": [
    "class ScratchDecesionTreeClassifierDepth1()に下記コードを追加。\n",
    "```python\n",
    "    def _information_gain(self, root, left, right):\n",
    "        ig = self._gini_score(root) - len(left)/len(root)*self._gini_score(left) - len(right)*len(root)*self._gini_score(right)\n",
    "        \n",
    "        return ig\n",
    "```"
   ]
  },
  {
   "cell_type": "markdown",
   "metadata": {},
   "source": [
    "# 【問題3】学習"
   ]
  },
  {
   "cell_type": "markdown",
   "metadata": {},
   "source": [
    "class ScratchDecesionTreeClassifierDepth1()に下記コードを追加。\n",
    "```python\n",
    "    def __init__(self, verbose=False):\n",
    "        # ハイパーパラメータを属性として記録\n",
    "        self.verbose = verbose\n",
    "    def fit(self, X, y):\n",
    "        \"\"\"\n",
    "        決定木分類器を学習する\n",
    "        Parameters\n",
    "        ----------\n",
    "        X : 次の形のndarray, shape (n_samples, n_features)\n",
    "            訓練データの特徴量\n",
    "        y : 次の形のndarray, shape (n_samples, )\n",
    "            訓練データの正解値\n",
    "        \"\"\"\n",
    "        n_features = X.shape[1]\n",
    "        self.criterion_list = []\n",
    "        self.ig_score_list = []\n",
    "        for feature in range(n_features):\n",
    "            uniques = np.unique(X[:, feature])\n",
    "            ig_score_iteration_list = []\n",
    "            for unique in uniques:\n",
    "                left_iteration = y[X[:, feature] >= unique]\n",
    "                right_iteration = y[X[:, feature] < unique]\n",
    "                ig_score = self._information_gain(y, left_iteration, right_iteration)\n",
    "                ig_score_iteration_list.append(ig_score)\n",
    "            criterion_row = np.argmax(ig_score_iteration_list)\n",
    "            self.criterion_list.append(X[criterion_row, feature])\n",
    "            self.ig_score_list.append(max(ig_score_iteration_list))\n",
    "            if self.verbose:\n",
    "                print(X[criterion_row, feature])\n",
    "                print(self.ig_score_list)\n",
    "        \n",
    "        self.selected_feature = np.argmax(self.ig_score_list)\n",
    "        self.threshold = self.criterion_list[self.selected_feature]\n",
    "        X_left, X_right, y_left, y_right = self._divide(X, y, self.selected_feature, self. threshold)  \n",
    "        left_number_1 = np.count_nonzero(y_left)\n",
    "        left_number_0 = len(y_left) - left_number_1\n",
    "        right_number_1 = np.count_nonzero(y_right)\n",
    "        right_number_0 = len(y_right) - right_number_1\n",
    "        if left_number_1 >= left_number_0:\n",
    "            self.left_y_label = 1\n",
    "        else:\n",
    "            self.left_y_label = 0\n",
    "        if right_number_1 >= right_number_0:\n",
    "            self.right_y_label = 1\n",
    "        else:\n",
    "            self.right_y_label = 0\n",
    "        \n",
    "        return X_left, X_right, y_left, y_right\n",
    "```"
   ]
  },
  {
   "cell_type": "markdown",
   "metadata": {},
   "source": [
    "# 【問題4】推定"
   ]
  },
  {
   "cell_type": "markdown",
   "metadata": {},
   "source": [
    "class ScratchDecesionTreeClassifierDepth1()に下記コードを追加。\n",
    "```python\n",
    "def predict(self, X):\n",
    "    \"\"\"\n",
    "    決定木分類器を使いラベルを推定する\n",
    "    \"\"\"\n",
    "    y_pred = np.zeros(X.shape[0])\n",
    "    left_index = np.where(X[:, self.selected_feature] >= self.threshold)[0]\n",
    "    right_index = np.where(X[:, self.selected_feature] < self.threshold)[0]\n",
    "    y_pred[left_index] = self.left_y_label\n",
    "    y_pred[right_index] = self.right_y_label\n",
    "\n",
    "    return y_pred\n",
    "```"
   ]
  },
  {
   "cell_type": "markdown",
   "metadata": {},
   "source": [
    "# 【問題5】学習と推定"
   ]
  },
  {
   "cell_type": "code",
   "execution_count": 4,
   "metadata": {},
   "outputs": [],
   "source": [
    "X = np.array([[-0.44699 , -2.8073  ],[-1.4621  , -2.4586  ],\n",
    "       [ 0.10645 ,  1.9242  ],[-3.5944  , -4.0112  ],\n",
    "       [-0.9888  ,  4.5718  ],[-3.1625  , -3.9606  ],\n",
    "       [ 0.56421 ,  0.72888 ],[-0.60216 ,  8.4636  ],\n",
    "       [-0.61251 , -0.75345 ],[-0.73535 , -2.2718  ],\n",
    "       [-0.80647 , -2.2135  ],[ 0.86291 ,  2.3946  ],\n",
    "       [-3.1108  ,  0.15394 ],[-2.9362  ,  2.5462  ],\n",
    "       [-0.57242 , -2.9915  ],[ 1.4771  ,  3.4896  ],\n",
    "       [ 0.58619 ,  0.37158 ],[ 0.6017  ,  4.3439  ],\n",
    "       [-2.1086  ,  8.3428  ],[-4.1013  , -4.353   ],\n",
    "       [-1.9948  , -1.3927  ],[ 0.35084 , -0.031994],\n",
    "       [ 0.96765 ,  7.8929  ],[-1.281   , 15.6824  ],\n",
    "       [ 0.96765 , 10.083   ],[ 1.3763  ,  1.3347  ],\n",
    "       [-2.234   , -2.5323  ],[-2.9452  , -1.8219  ],\n",
    "       [ 0.14654 , -0.28733 ],[ 0.5461  ,  5.8245  ],\n",
    "       [-0.65259 ,  9.3444  ],[ 0.59912 ,  5.3524  ],\n",
    "       [ 0.50214 , -0.31818 ],[-3.0603  , -3.6461  ],\n",
    "       [-6.6797  ,  0.67661 ],[-2.353   , -0.72261 ],\n",
    "       [ 1.1319  ,  2.4023  ],[-0.12243 ,  9.0162  ],\n",
    "       [-2.5677  , 13.1779  ],[ 0.057313,  5.4681  ]])\n",
    "y = np.array([0, 0, 0, 0, 0, 0, 0, 0, 0, 0, 0, 0, 0, 0, 0, 0, 0, 0, 0, 0, 1, 1,\n",
    "       1, 1, 1, 1, 1, 1, 1, 1, 1, 1, 1, 1, 1, 1, 1, 1, 1, 1])"
   ]
  },
  {
   "cell_type": "code",
   "execution_count": 5,
   "metadata": {},
   "outputs": [],
   "source": [
    "X_train, X_val, y_train, y_val = train_test_split(X, y, random_state=0)"
   ]
  },
  {
   "cell_type": "markdown",
   "metadata": {},
   "source": [
    "## sklearnの決定木を使う"
   ]
  },
  {
   "cell_type": "code",
   "execution_count": 6,
   "metadata": {},
   "outputs": [],
   "source": [
    "dtc = DecisionTreeClassifier()"
   ]
  },
  {
   "cell_type": "code",
   "execution_count": 7,
   "metadata": {},
   "outputs": [
    {
     "data": {
      "text/plain": [
       "DecisionTreeClassifier(class_weight=None, criterion='gini', max_depth=None,\n",
       "                       max_features=None, max_leaf_nodes=None,\n",
       "                       min_impurity_decrease=0.0, min_impurity_split=None,\n",
       "                       min_samples_leaf=1, min_samples_split=2,\n",
       "                       min_weight_fraction_leaf=0.0, presort=False,\n",
       "                       random_state=None, splitter='best')"
      ]
     },
     "execution_count": 7,
     "metadata": {},
     "output_type": "execute_result"
    }
   ],
   "source": [
    "dtc.fit(X_train, y_train)"
   ]
  },
  {
   "cell_type": "code",
   "execution_count": 8,
   "metadata": {},
   "outputs": [
    {
     "data": {
      "text/plain": [
       "array([0, 1, 1, 0, 0, 1, 0, 0, 0, 1])"
      ]
     },
     "execution_count": 8,
     "metadata": {},
     "output_type": "execute_result"
    }
   ],
   "source": [
    "y_pred = dtc.predict(X_val)\n",
    "y_pred"
   ]
  },
  {
   "cell_type": "code",
   "execution_count": 9,
   "metadata": {},
   "outputs": [
    {
     "data": {
      "text/plain": [
       "0.7"
      ]
     },
     "execution_count": 9,
     "metadata": {},
     "output_type": "execute_result"
    }
   ],
   "source": [
    "accuracy_score(y_val, y_pred)"
   ]
  },
  {
   "cell_type": "markdown",
   "metadata": {},
   "source": [
    "## スクラッチの決定木を使う"
   ]
  },
  {
   "cell_type": "code",
   "execution_count": 10,
   "metadata": {},
   "outputs": [],
   "source": [
    "scr_dtc = ScratchDecesionTreeClassifierDepth1(True)"
   ]
  },
  {
   "cell_type": "code",
   "execution_count": 11,
   "metadata": {},
   "outputs": [
    {
     "name": "stdout",
     "output_type": "stream",
     "text": [
      "-0.44699\n",
      "[90586.0]\n",
      "-2.8073\n",
      "[90586.0, 90586.0]\n"
     ]
    },
    {
     "data": {
      "text/plain": [
       "(array([[-0.12243 ,  9.0162  ],\n",
       "        [ 0.10645 ,  1.9242  ],\n",
       "        [ 0.057313,  5.4681  ],\n",
       "        [ 0.58619 ,  0.37158 ],\n",
       "        [ 1.1319  ,  2.4023  ],\n",
       "        [ 0.6017  ,  4.3439  ],\n",
       "        [ 0.50214 , -0.31818 ],\n",
       "        [ 0.59912 ,  5.3524  ],\n",
       "        [ 0.96765 , 10.083   ],\n",
       "        [ 0.56421 ,  0.72888 ],\n",
       "        [ 0.35084 , -0.031994],\n",
       "        [-0.44699 , -2.8073  ]]), array([[-2.9452 , -1.8219 ],\n",
       "        [-2.353  , -0.72261],\n",
       "        [-0.65259,  9.3444 ],\n",
       "        [-6.6797 ,  0.67661],\n",
       "        [-0.61251, -0.75345],\n",
       "        [-2.9362 ,  2.5462 ],\n",
       "        [-3.1625 , -3.9606 ],\n",
       "        [-0.57242, -2.9915 ],\n",
       "        [-3.0603 , -3.6461 ],\n",
       "        [-0.60216,  8.4636 ],\n",
       "        [-1.4621 , -2.4586 ],\n",
       "        [-2.234  , -2.5323 ],\n",
       "        [-3.1108 ,  0.15394],\n",
       "        [-1.281  , 15.6824 ],\n",
       "        [-4.1013 , -4.353  ],\n",
       "        [-0.73535, -2.2718 ],\n",
       "        [-2.5677 , 13.1779 ],\n",
       "        [-3.5944 , -4.0112 ]]), array([1, 0, 1, 0, 1, 0, 1, 1, 1, 0, 1, 0]), array([1, 1, 1, 1, 0, 0, 0, 0, 1, 0, 0, 1, 0, 1, 0, 0, 1, 0]))"
      ]
     },
     "execution_count": 11,
     "metadata": {},
     "output_type": "execute_result"
    }
   ],
   "source": [
    "scr_dtc.fit(X_train, y_train)"
   ]
  },
  {
   "cell_type": "code",
   "execution_count": 12,
   "metadata": {},
   "outputs": [
    {
     "data": {
      "text/plain": [
       "array([1., 0., 1., 0., 0., 1., 1., 1., 0., 1.])"
      ]
     },
     "execution_count": 12,
     "metadata": {},
     "output_type": "execute_result"
    }
   ],
   "source": [
    "y_pred_scr = scr_dtc.predict(X_val)\n",
    "y_pred_scr"
   ]
  },
  {
   "cell_type": "code",
   "execution_count": 13,
   "metadata": {},
   "outputs": [
    {
     "data": {
      "text/plain": [
       "0.7"
      ]
     },
     "execution_count": 13,
     "metadata": {},
     "output_type": "execute_result"
    }
   ],
   "source": [
    "accuracy_score(y_val, y_pred_scr)"
   ]
  },
  {
   "cell_type": "markdown",
   "metadata": {},
   "source": [
    "# 【問題6】決定領域の可視化"
   ]
  },
  {
   "cell_type": "code",
   "execution_count": 14,
   "metadata": {},
   "outputs": [],
   "source": [
    "import matplotlib.pyplot as plt\n",
    "from matplotlib.colors import ListedColormap\n",
    "import matplotlib.patches as mpatches\n",
    "def decision_region(X, y, model, step=0.01, title='decision region', xlabel='X_1', ylabel='X_2', \n",
    "                    target_names=['0', '1']):\n",
    "    \"\"\"\n",
    "    2値分類を2次元の特徴量で学習したモデルの決定領域を描く。\n",
    "    背景の色が学習したモデルによる推定値から描画される。\n",
    "    散布図の点は訓練データまたは検証データである。\n",
    "\n",
    "    Parameters\n",
    "    ----------------\n",
    "    X : ndarray, shape(n_samples, 2)\n",
    "        特徴量\n",
    "    y : ndarray, shape(n_samples,)\n",
    "        ラベル\n",
    "    model : object\n",
    "        学習したモデルのインスンタスを入れる\n",
    "    step : float, (default : 0.1)\n",
    "        推定値を計算する間隔を設定する\n",
    "    title : str\n",
    "        グラフのタイトルの文章を与える\n",
    "    xlabel, ylabel : str\n",
    "        軸ラベルの文章を与える\n",
    "    target_names= : list of str\n",
    "        凡例の一覧を与える\n",
    "    \"\"\"\n",
    "    # setting\n",
    "    scatter_color = ['red', 'blue']\n",
    "    contourf_color = ['pink', 'skyblue']\n",
    "    n_class = 2\n",
    "    # pred\n",
    "    mesh_f0, mesh_f1  = np.meshgrid(np.arange(np.min(X[:,0])-0.5, np.max(X[:,0])+0.5, step), np.arange(np.min(X[:,1])-0.5, np.max(X[:,1])+0.5, step))\n",
    "    mesh = np.c_[np.ravel(mesh_f0),np.ravel(mesh_f1)]\n",
    "    y_pred = model.predict(mesh).reshape(mesh_f0.shape)\n",
    "    # plot\n",
    "    plt.title(title)\n",
    "    plt.xlabel(xlabel)\n",
    "    plt.ylabel(ylabel)\n",
    "    plt.contourf(mesh_f0, mesh_f1, y_pred, n_class-1, cmap=ListedColormap(contourf_color))\n",
    "    plt.contour(mesh_f0, mesh_f1, y_pred, n_class-1, colors='y', linewidths=3, alpha=0.5)\n",
    "    for i, target in enumerate(set(y)):\n",
    "        plt.scatter(X[y==target][:, 0], X[y==target][:, 1], s=80, color=scatter_color[i], label=target_names[i], marker='o')\n",
    "    patches = [mpatches.Patch(color=scatter_color[i], label=target_names[i]) for i in range(n_class)]\n",
    "    plt.legend(handles=patches)\n",
    "    plt.legend()\n",
    "    plt.show()"
   ]
  },
  {
   "cell_type": "markdown",
   "metadata": {},
   "source": [
    "## sklearnの決定木の可視化"
   ]
  },
  {
   "cell_type": "code",
   "execution_count": 15,
   "metadata": {},
   "outputs": [
    {
     "data": {
      "image/png": "[encoded data removed]",
      "text/plain": [
       "<Figure size 432x288 with 1 Axes>"
      ]
     },
     "metadata": {
      "needs_background": "light"
     },
     "output_type": "display_data"
    }
   ],
   "source": [
    "decision_region(X_train, y_train, dtc)"
   ]
  },
  {
   "cell_type": "code",
   "execution_count": 16,
   "metadata": {},
   "outputs": [
    {
     "data": {
      "image/png": "[encoded data removed]",
      "text/plain": [
       "<Figure size 432x288 with 1 Axes>"
      ]
     },
     "metadata": {
      "needs_background": "light"
     },
     "output_type": "display_data"
    }
   ],
   "source": [
    "decision_region(X_val, y_val, dtc)"
   ]
  },
  {
   "cell_type": "markdown",
   "metadata": {},
   "source": [
    "## スクラッチの決定木の可視化"
   ]
  },
  {
   "cell_type": "code",
   "execution_count": 17,
   "metadata": {},
   "outputs": [
    {
     "data": {
      "image/png": "[encoded data removed]",
      "text/plain": [
       "<Figure size 432x288 with 1 Axes>"
      ]
     },
     "metadata": {
      "needs_background": "light"
     },
     "output_type": "display_data"
    }
   ],
   "source": [
    "decision_region(X_train, y_train, scr_dtc)"
   ]
  },
  {
   "cell_type": "code",
   "execution_count": 18,
   "metadata": {},
   "outputs": [
    {
     "data": {
      "image/png": "[encoded data removed]",
      "text/plain": [
       "<Figure size 432x288 with 1 Axes>"
      ]
     },
     "metadata": {
      "needs_background": "light"
     },
     "output_type": "display_data"
    }
   ],
   "source": [
    "decision_region(X_val, y_val, scr_dtc)"
   ]
  },
  {
   "cell_type": "markdown",
   "metadata": {},
   "source": [
    "# 【問題7】（アドバンス課題）深さ2の決定木分類器クラスの作成"
   ]
  },
  {
   "cell_type": "code",
   "execution_count": 19,
   "metadata": {},
   "outputs": [],
   "source": [
    "class ScratchDecesionTreeClassifierDepth2():\n",
    "    \"\"\"\n",
    "    深さ1の決定木分類器のスクラッチ実装\n",
    "\n",
    "    Parameters\n",
    "    ----------\n",
    "    verbose : bool\n",
    "      学習過程を出力する場合はTrue\n",
    "    \"\"\"\n",
    "    def __init__(self, verbose=False, depth=2):\n",
    "        # ハイパーパラメータを属性として記録\n",
    "        self.verbose = verbose\n",
    "        self.layers = {}\n",
    "        for i in range(2**depth - 1):\n",
    "            self.layers[str(i)] = ScratchDecesionTreeClassifierDepth1()\n",
    "    def fit(self, X, y):\n",
    "        \"\"\"\n",
    "        決定木分類器を学習する\n",
    "        Parameters\n",
    "        ----------\n",
    "        X : 次の形のndarray, shape (n_samples, n_features)\n",
    "            訓練データの特徴量\n",
    "        y : 次の形のndarray, shape (n_samples, )\n",
    "            訓練データの正解値\n",
    "        \"\"\"\n",
    "        X_left_0, X_right_0, y_left_0, y_right_0 = self.layers['0'].fit(X, y)\n",
    "        X_left_1, X_right_1, y_left_1, y_right_1 = self.layers['1'].fit(X_left_0, y_left_0)\n",
    "        X_left_2, X_right_2, y_left_2, y_right_2 = self.layers['2'].fit(X_right_0, y_right_0)\n",
    "        \n",
    "    def predict(self, X):\n",
    "        \"\"\"\n",
    "        決定木分類器を使いラベルを推定する\n",
    "        \"\"\"\n",
    "        y_pred = np.zeros(X.shape[0])\n",
    "        #n_sample = X.shape[0]\n",
    "        #X_index = np.arange(n_sample).reshape(-1, 1)\n",
    "        #X = np.concatenate([X, X_index], axis=1)\n",
    "        X_left_0, X_right_0, left_index_0, right_index_0 = self._sort(X, self.layers['0'].selected_feature, self.layers['0'].threshold)\n",
    "        X_left_1, X_right_1, left_index_1, right_index_1 = self._sort(X_left_0, self.layers['1'].selected_feature, self.layers['1'].threshold)\n",
    "        X_left_2, X_right_2, left_index_2, right_index_2 = self._sort(X_right_0, self.layers['2'].selected_feature, self.layers['2'].threshold)\n",
    "        \n",
    "        y_pred[left_index_0[left_index_1]] = self.layers['1'].left_y_label\n",
    "        y_pred[left_index_0[right_index_1]] = self.layers['1'].right_y_label\n",
    "        y_pred[right_index_0[left_index_2]] = self.layers['2'].left_y_label\n",
    "        y_pred[right_index_0[right_index_2]] = self.layers['2'].right_y_label\n",
    "        \n",
    "        return y_pred\n",
    "    \n",
    "    def _divide(self, X, y, feature, threshold):\n",
    "        left_index = X[:, feature] >= threshold\n",
    "        right_index = X[:, feature] < threshold\n",
    "        X_left = X[left_index]\n",
    "        X_right = X[right_index]\n",
    "        y_left = y[left_index]\n",
    "        y_right = y[right_index]\n",
    "        \n",
    "        return X_left, X_right, y_left, y_right\n",
    "    \n",
    "    def _sort(self, X, feature, threshold):\n",
    "        left_index = np.where(X[:, feature] >= threshold)[0]\n",
    "        right_index = np.where(X[:, feature] < threshold)[0]\n",
    "        X_left = X[left_index]\n",
    "        X_right = X[right_index]\n",
    "\n",
    "        return X_left, X_right, left_index, right_index"
   ]
  },
  {
   "cell_type": "code",
   "execution_count": 20,
   "metadata": {},
   "outputs": [],
   "source": [
    "scr_dtc_2 = ScratchDecesionTreeClassifierDepth2()"
   ]
  },
  {
   "cell_type": "code",
   "execution_count": 21,
   "metadata": {},
   "outputs": [],
   "source": [
    "scr_dtc_2.fit(X_train, y_train)"
   ]
  },
  {
   "cell_type": "code",
   "execution_count": 22,
   "metadata": {},
   "outputs": [
    {
     "data": {
      "text/plain": [
       "array([1., 0., 1., 0., 0., 1., 1., 1., 0., 1.])"
      ]
     },
     "execution_count": 22,
     "metadata": {},
     "output_type": "execute_result"
    }
   ],
   "source": [
    "scr_dtc_2.predict(X_val)"
   ]
  },
  {
   "cell_type": "code",
   "execution_count": 23,
   "metadata": {},
   "outputs": [
    {
     "data": {
      "text/plain": [
       "array([], dtype=int32)"
      ]
     },
     "execution_count": 23,
     "metadata": {},
     "output_type": "execute_result"
    }
   ],
   "source": [
    "y_train[np.where(scr_dtc_2.layers['1'].right_index)[0]]"
   ]
  },
  {
   "cell_type": "code",
   "execution_count": 24,
   "metadata": {},
   "outputs": [
    {
     "data": {
      "text/plain": [
       "1"
      ]
     },
     "execution_count": 24,
     "metadata": {},
     "output_type": "execute_result"
    }
   ],
   "source": [
    "scr_dtc_2.layers['1'].right_y_label"
   ]
  },
  {
   "cell_type": "code",
   "execution_count": 25,
   "metadata": {},
   "outputs": [
    {
     "data": {
      "image/png": "[encoded data removed]",
      "text/plain": [
       "<Figure size 432x288 with 1 Axes>"
      ]
     },
     "metadata": {
      "needs_background": "light"
     },
     "output_type": "display_data"
    }
   ],
   "source": [
    "decision_region(X_train, y_train, scr_dtc_2)"
   ]
  },
  {
   "cell_type": "code",
   "execution_count": 26,
   "metadata": {},
   "outputs": [
    {
     "data": {
      "image/png": "[encoded data removed]",
      "text/plain": [
       "<Figure size 432x288 with 1 Axes>"
      ]
     },
     "metadata": {
      "needs_background": "light"
     },
     "output_type": "display_data"
    }
   ],
   "source": [
    "decision_region(X_val, y_val, scr_dtc)"
   ]
  },
  {
   "cell_type": "markdown",
   "metadata": {},
   "source": [
    "# 【問題8】（アドバンス課題）深さに制限のない決定木分類器クラスの作成"
   ]
  },
  {
   "cell_type": "markdown",
   "metadata": {},
   "source": [
    "## インターネットで調べたの丸写しです。関数の中でもう一度自分自身の関数を呼び出すのがとてもうまいと思いました。"
   ]
  },
  {
   "cell_type": "code",
   "execution_count": 27,
   "metadata": {},
   "outputs": [],
   "source": [
    "class DecisionTreeNode():\n",
    "    def __init__(self, X, y, max_depth):\n",
    "        self.left = None\n",
    "        self.right = None\n",
    "        self.max_depth = max_depth\n",
    "        self.depth = None\n",
    "        self.X = X\n",
    "        self.y = y\n",
    "        self.threshold = None\n",
    "        self.feature = None\n",
    "        self.gini_min = None\n",
    "        self.label = np.argmax(np.bincount(y))\n",
    "   \n",
    "    def split(self, depth):\n",
    "        self.depth = depth\n",
    "        self.gini_min, self.threshold, self.feature = self.search_best_split(self.X, self.y)\n",
    "        print('Depth: {}, Sep at Feature: {},Threshold: {}, Label: {}'.format(self.depth, self.feature, self.threshold, self.label))\n",
    "       \n",
    "        if self.depth == self.max_depth or self.gini_min == 0:\n",
    "            return      \n",
    "        idx_left = self.X[:, self.feature] >= self.threshold\n",
    "        idx_right = self.X[:, self.feature] < self.threshold\n",
    "   \n",
    "        self.left = DecisionTreeNode(self.X[idx_left],  self.y[idx_left], self.max_depth)\n",
    "        self.right = DecisionTreeNode(self.X[idx_right], self.y[idx_right], self.max_depth)\n",
    "        self.left.split(self.depth +1)\n",
    "        self.right.split(self.depth +1)\n",
    " \n",
    "    def predict(self, X):\n",
    "        if self.gini_min == 0 or self.depth == self.max_depth:\n",
    "            return self.label\n",
    "        else:\n",
    "            if X[self.feature] > self.threshold:\n",
    "                return self.left.predict(X)\n",
    "            else:\n",
    "                return self.right.predict(X)\n",
    "            \n",
    "    def gini_score(self, X, y, feat_idx, threshold):\n",
    "        gini = 0\n",
    "        sample_num = len(y)\n",
    "\n",
    "        div_y = [y[X[:, feat_idx] >= threshold], y[X[:, feat_idx] < threshold]]\n",
    "\n",
    "        for group in div_y:\n",
    "            score = 0\n",
    "            classes = np.unique(group)\n",
    "            for cls in classes:\n",
    "                p = np.sum(group == cls)/len(group)\n",
    "                score += p * p\n",
    "            gini += (1- score) * (len(group)/sample_num)\n",
    "        \n",
    "        return gini\n",
    " \n",
    "    def search_best_split(self, X, y):   \n",
    "        features = X.shape[1]\n",
    "        best_thrs = None\n",
    "        best_f = None\n",
    "        gini = None\n",
    "        gini_min = 1\n",
    "\n",
    "        for feat_idx in range(features):\n",
    "            values = X[:, feat_idx]\n",
    "            for val in values:\n",
    "                gini = self.gini_score(X, y, feat_idx, val)\n",
    "                if gini_min > gini:\n",
    "                    gini_min = gini\n",
    "                    best_thrs = val\n",
    "                    best_f = feat_idx\n",
    "                    \n",
    "        return gini_min, best_thrs, best_f  "
   ]
  },
  {
   "cell_type": "code",
   "execution_count": 28,
   "metadata": {},
   "outputs": [],
   "source": [
    " class ScratchDecesionTreeClassifierDepthInf():\n",
    "    def __init__(self, max_depth):\n",
    "        self.max_depth = max_depth\n",
    "   \n",
    "    def fit(self, X, y):\n",
    "        initial_depth = 0\n",
    "        self.tree = DecisionTreeNode(X, y, self.max_depth)\n",
    "        self.tree.split(initial_depth)\n",
    "   \n",
    "    def predict(self, X):\n",
    "        pred = []\n",
    "        for s in X:\n",
    "            pred.append(self.tree.predict(s))\n",
    "        return np.array(pred)"
   ]
  },
  {
   "cell_type": "code",
   "execution_count": 29,
   "metadata": {},
   "outputs": [],
   "source": [
    "scr_dtc_inf = ScratchDecesionTreeClassifierDepthInf(max_depth=50)"
   ]
  },
  {
   "cell_type": "code",
   "execution_count": 30,
   "metadata": {},
   "outputs": [
    {
     "name": "stdout",
     "output_type": "stream",
     "text": [
      "Depth: 0, Sep at Feature: 1,Threshold: 5.3524, Label: 0\n",
      "Depth: 1, Sep at Feature: 1,Threshold: 9.0162, Label: 1\n",
      "Depth: 2, Sep at Feature: 0,Threshold: -0.12243, Label: 1\n",
      "Depth: 2, Sep at Feature: 0,Threshold: 0.057313, Label: 1\n",
      "Depth: 1, Sep at Feature: 1,Threshold: -3.6461, Label: 0\n",
      "Depth: 2, Sep at Feature: 0,Threshold: -1.4621, Label: 0\n",
      "Depth: 3, Sep at Feature: 0,Threshold: 0.35084, Label: 0\n",
      "Depth: 4, Sep at Feature: 0,Threshold: 0.56421, Label: 0\n",
      "Depth: 5, Sep at Feature: 0,Threshold: 1.1319, Label: 0\n",
      "Depth: 5, Sep at Feature: 0,Threshold: 0.50214, Label: 1\n",
      "Depth: 4, Sep at Feature: 0,Threshold: 0.10645, Label: 0\n",
      "Depth: 3, Sep at Feature: 1,Threshold: 0.15394, Label: 1\n",
      "Depth: 4, Sep at Feature: 0,Threshold: -3.1108, Label: 0\n",
      "Depth: 4, Sep at Feature: 0,Threshold: -2.9452, Label: 1\n",
      "Depth: 2, Sep at Feature: 0,Threshold: -3.1625, Label: 0\n"
     ]
    }
   ],
   "source": [
    "scr_dtc_inf.fit(X_train, y_train)"
   ]
  },
  {
   "cell_type": "code",
   "execution_count": 31,
   "metadata": {},
   "outputs": [
    {
     "data": {
      "image/png": "[encoded data removed]",
      "text/plain": [
       "<Figure size 432x288 with 1 Axes>"
      ]
     },
     "metadata": {
      "needs_background": "light"
     },
     "output_type": "display_data"
    }
   ],
   "source": [
    "decision_region(X_train, y_train, scr_dtc_inf)"
   ]
  },
  {
   "cell_type": "code",
   "execution_count": 32,
   "metadata": {},
   "outputs": [
    {
     "data": {
      "image/png": "[encoded data removed]",
      "text/plain": [
       "<Figure size 432x288 with 1 Axes>"
      ]
     },
     "metadata": {
      "needs_background": "light"
     },
     "output_type": "display_data"
    }
   ],
   "source": [
    "decision_region(X_val, y_val, scr_dtc_inf)"
   ]
  },
  {
   "cell_type": "code",
   "execution_count": null,
   "metadata": {},
   "outputs": [],
   "source": []
  }
 ],
 "metadata": {
  "kernelspec": {
   "display_name": "Python 3",
   "language": "python",
   "name": "python3"
  },
  "language_info": {
   "codemirror_mode": {
    "name": "ipython",
    "version": 3
   },
   "file_extension": ".py",
   "mimetype": "text/x-python",
   "name": "python",
   "nbconvert_exporter": "python",
   "pygments_lexer": "ipython3",
   "version": "3.7.4"
  }
 },
 "nbformat": 4,
 "nbformat_minor": 2
}
