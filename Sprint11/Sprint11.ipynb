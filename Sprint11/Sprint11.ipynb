{
 "cells": [
  {
   "cell_type": "code",
   "execution_count": 1,
   "metadata": {},
   "outputs": [],
   "source": [
    "import numpy as np\n",
    "import pandas as pd\n",
    "from matplotlib import pyplot as plt\n",
    "%matplotlib inline\n",
    "from sklearn.model_selection import train_test_split\n",
    "from sklearn.metrics import accuracy_score"
   ]
  },
  {
   "cell_type": "markdown",
   "metadata": {},
   "source": [
    "# 【問題1】チャンネル数を1に限定した1次元畳み込み層クラスの作成"
   ]
  },
  {
   "cell_type": "markdown",
   "metadata": {},
   "source": [
    "# 【問題2】1次元畳み込み後の出力サイズの計算"
   ]
  },
  {
   "cell_type": "markdown",
   "metadata": {},
   "source": [
    "# 【問題3】小さな配列での1次元畳み込み層の実験"
   ]
  },
  {
   "cell_type": "code",
   "execution_count": 2,
   "metadata": {},
   "outputs": [],
   "source": [
    "class SimpleConv1d:\n",
    "    def __init__(self, W, B, stride=1):\n",
    "        self.W = W.reshape(1, -1)\n",
    "        self.B = B\n",
    "        self.stride = stride\n",
    "    \n",
    "    def forward(self, X):\n",
    "        self.in_h = X.shape[0]\n",
    "        self.out_h = (self.in_h - self.W.shape[1])//self.stride + 1\n",
    "        # [filter_h, out_h]\n",
    "        self.col = np.zeros([self.W.shape[1], self.out_h])\n",
    "        for y in range(self.W.shape[1]):\n",
    "            y_max = y + self.stride*self.out_h\n",
    "            self.col[y, :] = X[y:y_max:self.stride]\n",
    "        # [1, out_h]\n",
    "        out = np.dot(self.col.T, self.W.T).T + self.B\n",
    "        \n",
    "        return out\n",
    "    \n",
    "    def backward(self, dout):\n",
    "        dout = dout.reshape(1, -1)\n",
    "        # [filter_h, out_h]\n",
    "        dcol = np.dot(dout.T, self.W).T\n",
    "        # [1, filter_h]\n",
    "        self.dW = np.dot(dout, self.col.T)\n",
    "        # [filter_n]\n",
    "        self.dB = np.sum(dout,axis=1)\n",
    "        # [in_h]\n",
    "        self.dX = np.zeros(self.in_h)\n",
    "        for y in range(self.W.shape[1]):\n",
    "            y_max = y + self.stride*self.out_h\n",
    "            self.dX[y:y_max:self.stride] += dcol[y, :]\n",
    "        \n",
    "        return self.dX"
   ]
  },
  {
   "cell_type": "code",
   "execution_count": 3,
   "metadata": {},
   "outputs": [],
   "source": [
    "x = np.array([1,2,3,4])\n",
    "w = np.array([3, 5, 7])\n",
    "b = np.array([1])\n",
    "delta_a = np.array([10, 20])"
   ]
  },
  {
   "cell_type": "code",
   "execution_count": 4,
   "metadata": {},
   "outputs": [
    {
     "name": "stdout",
     "output_type": "stream",
     "text": [
      "[[1. 2.]\n",
      " [2. 3.]\n",
      " [3. 4.]]\n"
     ]
    }
   ],
   "source": [
    "columns = np.zeros([3, 2])\n",
    "for y in range(3):\n",
    "    y_max = y + 2\n",
    "    columns[y, :] = x[y:y_max]\n",
    "print(columns)"
   ]
  },
  {
   "cell_type": "code",
   "execution_count": 5,
   "metadata": {},
   "outputs": [
    {
     "data": {
      "text/plain": [
       "array([1., 4., 6., 4.])"
      ]
     },
     "execution_count": 5,
     "metadata": {},
     "output_type": "execute_result"
    }
   ],
   "source": [
    "X_sample = np.zeros(4)\n",
    "for y in range(3):\n",
    "    y_max = y + 2\n",
    "    X_sample[y:y_max] += columns[y, :]\n",
    "X_sample"
   ]
  },
  {
   "cell_type": "code",
   "execution_count": 6,
   "metadata": {},
   "outputs": [],
   "source": [
    "simple_comv1d = SimpleConv1d(w, b)"
   ]
  },
  {
   "cell_type": "code",
   "execution_count": 7,
   "metadata": {},
   "outputs": [
    {
     "name": "stdout",
     "output_type": "stream",
     "text": [
      "a:[[35. 50.]]\n"
     ]
    }
   ],
   "source": [
    "print('a:{}'.format(simple_comv1d.forward(x)))"
   ]
  },
  {
   "cell_type": "code",
   "execution_count": 8,
   "metadata": {},
   "outputs": [
    {
     "name": "stdout",
     "output_type": "stream",
     "text": [
      "delta_b:[30]\n",
      "delta_w:[[ 50.  80. 110.]]\n",
      "delta_x:[ 30. 110. 170. 140.]\n"
     ]
    }
   ],
   "source": [
    "simple_comv1d.backward(delta_a)\n",
    "print('delta_b:{}'.format(simple_comv1d.dB))\n",
    "print('delta_w:{}'.format(simple_comv1d.dW))\n",
    "print('delta_x:{}'.format(simple_comv1d.dX))"
   ]
  },
  {
   "cell_type": "markdown",
   "metadata": {},
   "source": [
    "# 【問題4】チャンネル数を限定しない1次元畳み込み層クラスの作成"
   ]
  },
  {
   "cell_type": "markdown",
   "metadata": {},
   "source": [
    "# 【問題5】（アドバンス課題）パディングの実装"
   ]
  },
  {
   "cell_type": "markdown",
   "metadata": {},
   "source": [
    "# 【問題6】（アドバンス課題）ミニバッチへの対応"
   ]
  },
  {
   "cell_type": "markdown",
   "metadata": {},
   "source": [
    "# 【問題7】（アドバンス課題）任意のストライド数"
   ]
  },
  {
   "cell_type": "code",
   "execution_count": 9,
   "metadata": {},
   "outputs": [],
   "source": [
    "class Conv1d:\n",
    "    \n",
    "    def __init__(self, initializer, optimizer, input_shape, W_shape, stride=1, pad=0):\n",
    "        self.optimizer = optimizer()\n",
    "        self.stride = stride\n",
    "        self.pad = pad\n",
    "        self.W = initializer(input_shape[0]*input_shape[1]).init_weight(W_shape)\n",
    "        self.B = initializer(input_shape[0]*input_shape[1]).init_bias(W_shape[0])\n",
    "        \n",
    "    def forward(self, X):\n",
    "        self.in_n = X.shape[0]\n",
    "        self.in_c = X.shape[1]\n",
    "        self.in_h = X.shape[2]\n",
    "        self.out_h = (self.in_h + 2*self.pad - self.W.shape[2])//self.stride + 1\n",
    "        # [N, C, in_h + 2*pad]\n",
    "        img = np.pad(X, [(0, 0),(0, 0), (self.pad, self.pad)], 'constant')\n",
    "        # [N, C, filter_h, out_h]\n",
    "        col = np.zeros([self.in_n, self.W.shape[1], self.W.shape[2], self.out_h])\n",
    "        for y in range(self.W.shape[2]):\n",
    "            y_max = y + self.stride*self.out_h\n",
    "            col[:, :, y, :] = img[:, :, y:y_max:self.stride]\n",
    "        # [α, C * filter_h]の形を作りたい\n",
    "        # [N, C, filter_h, out_h] → [N, out_h, C, filter_h] → [N * out_h, C * filter_h]\n",
    "        col_X = col.transpose(0, 3, 1, 2).reshape(self.in_n*self.out_h, -1)\n",
    "        # [C * filter_h, β]の形を作りたい\n",
    "        # [filter_n, C, filter_h] → [C * filter_h, filter_n]\n",
    "        col_W = self.W.reshape(-1, self.W.shape[0])\n",
    "        # [N * out_h, filter_n]\n",
    "        out = np.dot(col_X, col_W) + self.B\n",
    "        # (N * out_h, filter_n) → (N, out_h, filter_n) → (N, filter_n, out_h)\n",
    "        out = out.reshape(self.in_n, self.out_h, self.W.shape[0]).transpose(0, 2, 1)\n",
    "        \n",
    "        self.col_X = col_X\n",
    "        self.col_W = col_W\n",
    "        \n",
    "        return out\n",
    "    \n",
    "    def backward(self, dout):\n",
    "        # [N, filter_n, out_h] → [N, out_h, filter_n] → [N * out_h, filter_n]\n",
    "        dout = dout.transpose(0, 2, 1).reshape(-1, self.W.shape[0])\n",
    "        # [N * out_h, C * filter_h]\n",
    "        dcol_X = np.dot(dout, self.col_W.T)\n",
    "        # [C * filter_h, filter_n]\n",
    "        dcol_W = np.dot(self.col_X.T, dout)\n",
    "        # [C * filter_h, filter_n] → [filter_n, C * filter_h] → [filter_n, C, filter_h]\n",
    "        self.dW = dcol_W.transpose(1, 0).reshape(self.W.shape[0], self.W.shape[1], self.W.shape[2])\n",
    "        # [filter_n]\n",
    "        self.dB = np.sum(dout, axis=0)\n",
    "        # [N * out_h, C * filter_h] → [N, out_h, C, filter_h] → [N, C, filter_h, out_h]\n",
    "        dcol = dcol_X.reshape(self.in_n, self.out_h, self.W.shape[1], self.W.shape[2]).transpose(0, 2, 3, 1)\n",
    "        # 戻すときはstrideの分はみ出るので\n",
    "        # [N, C, in_h + 2*pad + self.stride - 1]\n",
    "        dimg = np.zeros([self.in_n, self.in_c, self.in_h + 2*self.pad + self.stride - 1])\n",
    "        for y in range(self.W.shape[2]):\n",
    "            y_max = y + self.stride*self.out_h\n",
    "            dimg[:, :, y:y_max:self.stride] += dcol[:, :, y, :]\n",
    "        # パディングとはみ出た分を取り除く\n",
    "        dX = dimg[:, :, self.pad: self.in_h + self.pad]\n",
    "        \n",
    "        self = self.optimizer.update(self)\n",
    "        \n",
    "        return dX"
   ]
  },
  {
   "cell_type": "code",
   "execution_count": 10,
   "metadata": {},
   "outputs": [
    {
     "data": {
      "text/plain": [
       "array([[[ 0,  1,  2,  3]],\n",
       "\n",
       "       [[ 4,  5,  6,  7]],\n",
       "\n",
       "       [[ 8,  9, 10, 11]]])"
      ]
     },
     "execution_count": 10,
     "metadata": {},
     "output_type": "execute_result"
    }
   ],
   "source": [
    "sample = np.arange(12).reshape(3, 1, 4)\n",
    "sample"
   ]
  },
  {
   "cell_type": "code",
   "execution_count": 11,
   "metadata": {},
   "outputs": [
    {
     "data": {
      "text/plain": [
       "array([[[ 0,  0,  0,  1,  2,  3,  0,  0]],\n",
       "\n",
       "       [[ 0,  0,  4,  5,  6,  7,  0,  0]],\n",
       "\n",
       "       [[ 0,  0,  8,  9, 10, 11,  0,  0]]])"
      ]
     },
     "execution_count": 11,
     "metadata": {},
     "output_type": "execute_result"
    }
   ],
   "source": [
    "image = np.pad(sample, [(0, 0), (0, 0), (2, 2)], 'constant')\n",
    "image"
   ]
  },
  {
   "cell_type": "markdown",
   "metadata": {},
   "source": [
    "# 【問題8】学習と推定"
   ]
  },
  {
   "cell_type": "code",
   "execution_count": 12,
   "metadata": {},
   "outputs": [],
   "source": [
    "class XavierInitializer:\n",
    "    def __init__(self, input_nodes):\n",
    "        self.sigma = 1/np.sqrt(input_nodes)\n",
    "        \n",
    "    def init_weight(self, W_shape):\n",
    "        W = self.sigma*np.random.randn(*W_shape)\n",
    "        \n",
    "        return W\n",
    "    \n",
    "    def init_bias(self, output_nodes):\n",
    "        B = self.sigma*np.random.randn(output_nodes)\n",
    "        \n",
    "        return B"
   ]
  },
  {
   "cell_type": "code",
   "execution_count": 13,
   "metadata": {},
   "outputs": [],
   "source": [
    "class HeInitializer:\n",
    "    def __init__(self, input_nodes):\n",
    "        self.sigma = np.sqrt(2/input_nodes)\n",
    "        \n",
    "    def init_weight(self, W_shape):\n",
    "        W = self.sigma*np.random.randn(*W_shape)\n",
    "        \n",
    "        return W\n",
    "    \n",
    "    def init_bias(self, output_nodes):\n",
    "        B = self.sigma*np.random.randn(output_nodes)\n",
    "        \n",
    "        return B"
   ]
  },
  {
   "cell_type": "code",
   "execution_count": 14,
   "metadata": {},
   "outputs": [],
   "source": [
    "class SGD:\n",
    "    \"\"\"\n",
    "    確率的勾配降下法\n",
    "    Parameters\n",
    "    ----------\n",
    "    lr : 学習率\n",
    "    \"\"\"\n",
    "    def __init__(self, lr=0.01):\n",
    "        self.lr = lr\n",
    "        \n",
    "    def update(self, layer):\n",
    "        \"\"\"\n",
    "        ある層の重みやバイアスの更新\n",
    "        Parameters\n",
    "        ----------\n",
    "        layer : 更新前の層のインスタンス\n",
    "        \"\"\"\n",
    "        layer.W -= self.lr*layer.dW\n",
    "        layer.B -= self.lr*layer.dB\n",
    "        \n",
    "        return layer"
   ]
  },
  {
   "cell_type": "code",
   "execution_count": 15,
   "metadata": {},
   "outputs": [],
   "source": [
    "class AdaGrad:\n",
    "    def __init__(self, lr=0.01):\n",
    "        self.lr = lr\n",
    "        self.h_W = 0\n",
    "        self.h_B = 0\n",
    "        \n",
    "    def update(self, layer):\n",
    "        self.h_W += layer.dW**2\n",
    "        self.h_B += layer.dB**2\n",
    "        layer.W -= self.lr*layer.dW/np.sqrt(self.h_W + 1e-7)\n",
    "        layer.B -= self.lr*layer.dB/np.sqrt(self.h_B + 1e-7)\n",
    "        \n",
    "        return layer"
   ]
  },
  {
   "cell_type": "code",
   "execution_count": 16,
   "metadata": {},
   "outputs": [],
   "source": [
    "class Sigmoid:\n",
    "    def __init__(self):\n",
    "        pass\n",
    "    \n",
    "    def forward(self, A):\n",
    "        self.A = A\n",
    "        Z = 1/(1 + np.exp(-self.A))\n",
    "        \n",
    "        return Z\n",
    "    \n",
    "    def backward(self, dZ):\n",
    "        dA = dZ*(1 - self.A)*self.A\n",
    "        \n",
    "        return dA"
   ]
  },
  {
   "cell_type": "code",
   "execution_count": 17,
   "metadata": {},
   "outputs": [],
   "source": [
    "class Tanh:\n",
    "    def __init__(self):\n",
    "        pass\n",
    "    \n",
    "    def forward(self, A):\n",
    "        self.A = A\n",
    "        Z = np.tanh(A)\n",
    "        \n",
    "        return Z\n",
    "    \n",
    "    def backward(self, dZ):\n",
    "        dA = dZ*(1 - np.tanh(self.A)**2)\n",
    "        \n",
    "        return dA"
   ]
  },
  {
   "cell_type": "code",
   "execution_count": 18,
   "metadata": {},
   "outputs": [],
   "source": [
    "class SoftmaxWithLoss:\n",
    "    def __init__(self):\n",
    "        pass\n",
    "    \n",
    "    def forward(self, A):\n",
    "        A -= np.max(A, axis=-1, keepdims=True)\n",
    "        self.softmax = np.exp(A)/np.sum(np.exp(A), axis=-1, keepdims=True)\n",
    "        \n",
    "        return self.softmax\n",
    "    \n",
    "    def backward(self, y):\n",
    "        loss = -np.sum(y*np.log(self.softmax + 1e-7))/y.shape[0]\n",
    "        dA = self.softmax - y\n",
    "        \n",
    "        return loss, dA"
   ]
  },
  {
   "cell_type": "code",
   "execution_count": 19,
   "metadata": {},
   "outputs": [],
   "source": [
    "class Relu:\n",
    "    def __init__(self):\n",
    "        self.mask = None\n",
    "        \n",
    "    def forward(self, A):\n",
    "        self.mask = (A <=0)\n",
    "        Z = A.copy()\n",
    "        Z[self.mask] = 0\n",
    "        \n",
    "        return Z\n",
    "    \n",
    "    def backward(self, dZ):\n",
    "        dZ[self.mask] = 0\n",
    "        dA = dZ\n",
    "        \n",
    "        return dA"
   ]
  },
  {
   "cell_type": "code",
   "execution_count": 20,
   "metadata": {},
   "outputs": [],
   "source": [
    "class FC:\n",
    "    \"\"\"\n",
    "    ノード数n_nodes1からn_nodes2への全結合層\n",
    "    Parameters\n",
    "    ----------\n",
    "    n_nodes1 : int\n",
    "      前の層のノード数\n",
    "    n_nodes2 : int\n",
    "      後の層のノード数\n",
    "    initializer : 初期化方法のインスタンス\n",
    "    optimizer : 最適化手法のインスタンス\n",
    "    \"\"\"\n",
    "    def __init__(self, n_nodes1, n_nodes2, initializer, optimizer):\n",
    "        self.optimizer = optimizer()\n",
    "        self.W = initializer(n_nodes1).init_weight([n_nodes1, n_nodes2])\n",
    "        self.B = initializer(n_nodes1).init_bias(n_nodes2)\n",
    "        \n",
    "    def forward(self, X):\n",
    "        \"\"\"\n",
    "        フォワード\n",
    "        Parameters\n",
    "        ----------\n",
    "        X : 次の形のndarray, shape (batch_size, n_nodes1)\n",
    "            入力\n",
    "        Returns\n",
    "        ----------\n",
    "        A : 次の形のndarray, shape (batch_size, n_nodes2)\n",
    "            出力\n",
    "        \"\"\"        \n",
    "        self.X = X\n",
    "        A = np.dot(X, self.W) + self.B\n",
    "        \n",
    "        return A\n",
    "    \n",
    "    def backward(self, dA):\n",
    "        \"\"\"\n",
    "        バックワード\n",
    "        Parameters\n",
    "        ----------\n",
    "        dA : 次の形のndarray, shape (batch_size, n_nodes2)\n",
    "            後ろから流れてきた勾配\n",
    "        Returns\n",
    "        ----------\n",
    "        dZ : 次の形のndarray, shape (batch_size, n_nodes1)\n",
    "            前に流す勾配\n",
    "        \"\"\"\n",
    "        self.dB = np.sum(dA, axis=0)\n",
    "        self.dW = np.dot(self.X.T, dA)\n",
    "        dZ = np.dot(dA, self.W.T)\n",
    "        \n",
    "        # 更新\n",
    "        self = self.optimizer.update(self)\n",
    "        \n",
    "        return dZ"
   ]
  },
  {
   "cell_type": "code",
   "execution_count": 21,
   "metadata": {},
   "outputs": [],
   "source": [
    "class Flatten:\n",
    "    def forward(self, X):\n",
    "        self.X = X\n",
    "        N = self.X.shape[0]\n",
    "        out = self.X.reshape(N, -1)\n",
    "        \n",
    "        return out\n",
    "    \n",
    "    def backward(self, dout):\n",
    "        dZ = dout.reshape(self.X.shape)\n",
    "        \n",
    "        return dZ"
   ]
  },
  {
   "cell_type": "code",
   "execution_count": 22,
   "metadata": {},
   "outputs": [],
   "source": [
    "class GetMiniBatch:\n",
    "    \"\"\"\n",
    "    ミニバッチを取得するイテレータ\n",
    "\n",
    "    Parameters\n",
    "    ----------\n",
    "    X : 次の形のndarray, shape (n_samples, n_features)\n",
    "      訓練用データ\n",
    "    y : 次の形のndarray, shape (n_samples, 1)\n",
    "      正解値\n",
    "    batch_size : int\n",
    "      バッチサイズ\n",
    "    seed : int\n",
    "      NumPyの乱数のシード\n",
    "    \"\"\"\n",
    "    def __init__(self, X, y, batch_size = 20, seed=0):\n",
    "        self.batch_size = batch_size\n",
    "        np.random.seed(seed)\n",
    "        shuffle_index = np.random.permutation(np.arange(X.shape[0]))\n",
    "        self._X = X[shuffle_index]\n",
    "        self._y = y[shuffle_index]\n",
    "        self._stop = np.ceil(X.shape[0]/self.batch_size).astype(np.int)\n",
    "\n",
    "    def __len__(self):\n",
    "        return self._stop\n",
    "\n",
    "    def __getitem__(self,item):\n",
    "        p0 = item*self.batch_size\n",
    "        p1 = item*self.batch_size + self.batch_size\n",
    "        return self._X[p0:p1], self._y[p0:p1]        \n",
    "\n",
    "    def __iter__(self):\n",
    "        self._counter = 0\n",
    "        return self\n",
    "\n",
    "    def __next__(self):\n",
    "        if self._counter >= self._stop:\n",
    "            raise StopIteration()\n",
    "        p0 = self._counter*self.batch_size\n",
    "        p1 = self._counter*self.batch_size + self.batch_size\n",
    "        self._counter += 1\n",
    "        return self._X[p0:p1], self._y[p0:p1]"
   ]
  },
  {
   "cell_type": "code",
   "execution_count": 23,
   "metadata": {},
   "outputs": [
    {
     "name": "stderr",
     "output_type": "stream",
     "text": [
      "Using TensorFlow backend.\n"
     ]
    }
   ],
   "source": [
    "from keras.datasets import mnist\n",
    "(X_train, y_train), (X_test, y_test) = mnist.load_data()"
   ]
  },
  {
   "cell_type": "code",
   "execution_count": 24,
   "metadata": {},
   "outputs": [],
   "source": [
    "X_train = X_train.reshape(-1, 1,  784)\n",
    "X_test = X_test.reshape(-1, 1, 784)"
   ]
  },
  {
   "cell_type": "code",
   "execution_count": 25,
   "metadata": {},
   "outputs": [
    {
     "name": "stdout",
     "output_type": "stream",
     "text": [
      "1.0\n",
      "0.0\n"
     ]
    }
   ],
   "source": [
    "X_train = X_train.astype(np.float)\n",
    "X_test = X_test.astype(np.float)\n",
    "X_train /= 255\n",
    "X_test /= 255\n",
    "print(X_train.max()) # 1.0\n",
    "print(X_train.min()) # 0.0"
   ]
  },
  {
   "cell_type": "code",
   "execution_count": 26,
   "metadata": {},
   "outputs": [
    {
     "name": "stdout",
     "output_type": "stream",
     "text": [
      "(60000,)\n",
      "(60000, 10)\n",
      "float64\n"
     ]
    }
   ],
   "source": [
    "from sklearn.preprocessing import OneHotEncoder\n",
    "enc = OneHotEncoder(handle_unknown='ignore', sparse=False)\n",
    "y_train_one_hot = enc.fit_transform(y_train[:, np.newaxis])\n",
    "y_test_one_hot = enc.transform(y_test[:, np.newaxis])\n",
    "print(y_train.shape) # (60000,)\n",
    "print(y_train_one_hot.shape) # (60000, 10)\n",
    "print(y_train_one_hot.dtype) # float64"
   ]
  },
  {
   "cell_type": "code",
   "execution_count": 27,
   "metadata": {},
   "outputs": [
    {
     "name": "stdout",
     "output_type": "stream",
     "text": [
      "(48000, 1, 784)\n",
      "(12000, 1, 784)\n"
     ]
    }
   ],
   "source": [
    "X_tr, X_val, y_tr, y_val = train_test_split(X_train, y_train_one_hot, test_size=0.2)\n",
    "print(X_tr.shape) # (48000, 1, 784)\n",
    "print(X_val.shape) # (12000, 1, 784)"
   ]
  },
  {
   "cell_type": "code",
   "execution_count": 28,
   "metadata": {},
   "outputs": [],
   "source": [
    "class cNN:\n",
    "    def __init__(self, epoch=10, verbose=True):\n",
    "        self.epoch = epoch\n",
    "        self.verbose = verbose\n",
    "        self.layers = {}\n",
    "        self.layers['Conv1d1'] = Conv1d(HeInitializer, AdaGrad, [1, 784], [3, 1, 4], stride=2, pad=2)\n",
    "        self.layers['Activation1'] = Relu()\n",
    "        self.layers['Flatten1'] = Flatten()\n",
    "        self.layers['Affine1'] =  FC(1179, 10, XavierInitializer, AdaGrad)\n",
    "        self.last_layer = SoftmaxWithLoss()\n",
    "\n",
    "    def fit(self, X, y, X_val=None, y_val=None):\n",
    "        self.loss_list = []\n",
    "        self.loss_epoch_list = []\n",
    "        self.loss_val_epoch_list = []\n",
    "        for i in range(self.epoch):\n",
    "            get_mini_batch = GetMiniBatch(X, y, batch_size=20, seed=i)\n",
    "            loss_tmp_list = []\n",
    "            for X_batch, y_batch in get_mini_batch:\n",
    "                for layer in self.layers.values():\n",
    "                    X_batch = layer.forward(X_batch)\n",
    "                softmax = self.last_layer.forward(X_batch)\n",
    "                loss, dA = self.last_layer.backward(y_batch)\n",
    "                self.loss_list.append(loss)\n",
    "                loss_tmp_list.append(loss)\n",
    "                layers = list(self.layers.values())\n",
    "                layers.reverse()\n",
    "                for layer in layers:\n",
    "                    dA = layer.backward(dA)\n",
    "                    \n",
    "            epoch_mean_loss = np.mean(loss_tmp_list)\n",
    "            self.loss_epoch_list.append(epoch_mean_loss)\n",
    "            if self.verbose:\n",
    "                print(epoch_mean_loss)\n",
    "            if X_val is not None and y_val is not None:\n",
    "                X_val_copy = X_val.copy()\n",
    "                for layer in self.layers.values():\n",
    "                    X_val_copy = layer.forward(X_val_copy)\n",
    "                softmax_val = self.last_layer.forward(X_val_copy)\n",
    "                loss_val = -np.sum(y_val*np.log(softmax_val + 1e-7))/y_val.shape[0]\n",
    "                self.loss_val_epoch_list.append(loss_val)\n",
    "            \n",
    "    def predict(self, X):\n",
    "        for layer in self.layers.values():\n",
    "            X = layer.forward(X)\n",
    "        self.last_layer.forward(X)\n",
    "        y_pred = np.argmax(self.last_layer.softmax, axis=1)\n",
    "        \n",
    "        return y_pred"
   ]
  },
  {
   "cell_type": "code",
   "execution_count": 29,
   "metadata": {},
   "outputs": [],
   "source": [
    "cnn = cNN()"
   ]
  },
  {
   "cell_type": "code",
   "execution_count": 30,
   "metadata": {},
   "outputs": [
    {
     "name": "stdout",
     "output_type": "stream",
     "text": [
      "0.4202849518662079\n",
      "0.3118601189306409\n",
      "0.29632624173179967\n",
      "0.28761080386781407\n",
      "0.28200632733015607\n",
      "0.27745729331543845\n",
      "0.2741026778635599\n",
      "0.2710399003896992\n",
      "0.2686228491816616\n",
      "0.2661080866579805\n"
     ]
    }
   ],
   "source": [
    "cnn.fit(X_tr, y_tr, X_val, y_val)"
   ]
  },
  {
   "cell_type": "code",
   "execution_count": 31,
   "metadata": {},
   "outputs": [
    {
     "data": {
      "text/plain": [
       "array([7, 0, 3, ..., 4, 6, 9], dtype=int64)"
      ]
     },
     "execution_count": 31,
     "metadata": {},
     "output_type": "execute_result"
    }
   ],
   "source": [
    "y_pred = cnn.predict(X_val)\n",
    "y_pred"
   ]
  },
  {
   "cell_type": "code",
   "execution_count": 32,
   "metadata": {},
   "outputs": [
    {
     "data": {
      "text/plain": [
       "array([7, 0, 2, ..., 4, 6, 9], dtype=int64)"
      ]
     },
     "execution_count": 32,
     "metadata": {},
     "output_type": "execute_result"
    }
   ],
   "source": [
    "y_val_label = np.argmax(y_val, axis=1)\n",
    "y_val_label"
   ]
  },
  {
   "cell_type": "code",
   "execution_count": 33,
   "metadata": {},
   "outputs": [
    {
     "name": "stdout",
     "output_type": "stream",
     "text": [
      "accuracy_score:0.9210833333333334\n"
     ]
    }
   ],
   "source": [
    "accuracy = accuracy_score(y_val_label, y_pred)\n",
    "print('accuracy_score:{}'.format(accuracy))"
   ]
  },
  {
   "cell_type": "code",
   "execution_count": 34,
   "metadata": {},
   "outputs": [
    {
     "data": {
      "image/png": "[encoded data removed]",
      "text/plain": [
       "<Figure size 864x288 with 2 Axes>"
      ]
     },
     "metadata": {
      "needs_background": "light"
     },
     "output_type": "display_data"
    }
   ],
   "source": [
    "fig, ax = plt.subplots(1, 2, figsize=(12, 4))\n",
    "ax[0].plot(cnn.loss_list)\n",
    "ax[1].plot(cnn.loss_epoch_list, label='train')\n",
    "ax[1].plot(cnn.loss_val_epoch_list, label='validation')\n",
    "ax[1].legend()\n",
    "plt.show()"
   ]
  },
  {
   "cell_type": "markdown",
   "metadata": {},
   "source": [
    "# 出力層のみと比較する"
   ]
  },
  {
   "cell_type": "code",
   "execution_count": 35,
   "metadata": {},
   "outputs": [],
   "source": [
    "class NN:\n",
    "    def __init__(self, epoch=10, verbose=True):\n",
    "        self.epoch = epoch\n",
    "        self.verbose = verbose\n",
    "        self.layers = {}\n",
    "        self.layers['Affine1'] =  FC(784, 10, XavierInitializer, AdaGrad)\n",
    "        self.last_layer = SoftmaxWithLoss()\n",
    "\n",
    "    def fit(self, X, y, X_val=None, y_val=None):\n",
    "        self.loss_list = []\n",
    "        self.loss_epoch_list = []\n",
    "        self.loss_val_epoch_list = []\n",
    "        for i in range(self.epoch):\n",
    "            get_mini_batch = GetMiniBatch(X, y, batch_size=20, seed=i)\n",
    "            loss_tmp_list = []\n",
    "            for X_batch, y_batch in get_mini_batch:\n",
    "                for layer in self.layers.values():\n",
    "                    X_batch = layer.forward(X_batch)\n",
    "                softmax = self.last_layer.forward(X_batch)\n",
    "                loss, dA = self.last_layer.backward(y_batch)\n",
    "                self.loss_list.append(loss)\n",
    "                loss_tmp_list.append(loss)\n",
    "                layers = list(self.layers.values())\n",
    "                layers.reverse()\n",
    "                for layer in layers:\n",
    "                    dA = layer.backward(dA)\n",
    "                    \n",
    "            epoch_mean_loss = np.mean(loss_tmp_list)\n",
    "            self.loss_epoch_list.append(epoch_mean_loss)\n",
    "            if self.verbose:\n",
    "                print(epoch_mean_loss)\n",
    "            if X_val is not None and y_val is not None:\n",
    "                X_val_copy = X_val.copy()\n",
    "                for layer in self.layers.values():\n",
    "                    X_val_copy = layer.forward(X_val_copy)\n",
    "                softmax_val = self.last_layer.forward(X_val_copy)\n",
    "                loss_val = -np.sum(y_val*np.log(softmax_val + 1e-7))/y_val.shape[0]\n",
    "                self.loss_val_epoch_list.append(loss_val)\n",
    "            \n",
    "    def predict(self, X):\n",
    "        for layer in self.layers.values():\n",
    "            X = layer.forward(X)\n",
    "        self.last_layer.forward(X)\n",
    "        y_pred = np.argmax(self.last_layer.softmax, axis=1)\n",
    "        \n",
    "        return y_pred"
   ]
  },
  {
   "cell_type": "code",
   "execution_count": 36,
   "metadata": {},
   "outputs": [],
   "source": [
    "from keras.datasets import mnist\n",
    "(X_train, y_train), (X_test, y_test) = mnist.load_data()"
   ]
  },
  {
   "cell_type": "code",
   "execution_count": 37,
   "metadata": {},
   "outputs": [
    {
     "name": "stdout",
     "output_type": "stream",
     "text": [
      "1.0\n",
      "0.0\n",
      "(60000,)\n",
      "(60000, 10)\n",
      "float64\n",
      "(48000, 784)\n",
      "(12000, 784)\n"
     ]
    }
   ],
   "source": [
    "X_train = X_train.reshape(-1,  784)\n",
    "X_test = X_test.reshape(-1, 784)\n",
    "X_train = X_train.astype(np.float)\n",
    "X_test = X_test.astype(np.float)\n",
    "X_train /= 255\n",
    "X_test /= 255\n",
    "print(X_train.max()) # 1.0\n",
    "print(X_train.min()) # 0.0\n",
    "from sklearn.preprocessing import OneHotEncoder\n",
    "enc = OneHotEncoder(handle_unknown='ignore', sparse=False)\n",
    "y_train_one_hot = enc.fit_transform(y_train[:, np.newaxis])\n",
    "y_test_one_hot = enc.transform(y_test[:, np.newaxis])\n",
    "print(y_train.shape) # (60000,)\n",
    "print(y_train_one_hot.shape) # (60000, 10)\n",
    "print(y_train_one_hot.dtype) # float64\n",
    "X_tr, X_val, y_tr, y_val = train_test_split(X_train, y_train_one_hot, test_size=0.2)\n",
    "print(X_tr.shape) # (48000, 784)\n",
    "print(X_val.shape) # (12000, 784)"
   ]
  },
  {
   "cell_type": "code",
   "execution_count": 38,
   "metadata": {},
   "outputs": [],
   "source": [
    "nn = NN()"
   ]
  },
  {
   "cell_type": "code",
   "execution_count": 39,
   "metadata": {},
   "outputs": [
    {
     "name": "stdout",
     "output_type": "stream",
     "text": [
      "0.4625188117344012\n",
      "0.3539084911612489\n",
      "0.3325796015092626\n",
      "0.32105549441105247\n",
      "0.3131286805325861\n",
      "0.30751144208777365\n",
      "0.30300485834457697\n",
      "0.29939529410018945\n",
      "0.2962448961660367\n",
      "0.29373901439975775\n"
     ]
    }
   ],
   "source": [
    "nn.fit(X_tr, y_tr, X_val, y_val)"
   ]
  },
  {
   "cell_type": "code",
   "execution_count": 40,
   "metadata": {},
   "outputs": [
    {
     "data": {
      "text/plain": [
       "array([1, 2, 7, ..., 4, 6, 4], dtype=int64)"
      ]
     },
     "execution_count": 40,
     "metadata": {},
     "output_type": "execute_result"
    }
   ],
   "source": [
    "y_pred_nn = nn.predict(X_val)\n",
    "y_pred_nn"
   ]
  },
  {
   "cell_type": "code",
   "execution_count": 41,
   "metadata": {},
   "outputs": [
    {
     "data": {
      "text/plain": [
       "array([1, 2, 7, ..., 4, 6, 4], dtype=int64)"
      ]
     },
     "execution_count": 41,
     "metadata": {},
     "output_type": "execute_result"
    }
   ],
   "source": [
    "y_val_label = np.argmax(y_val, axis=1)\n",
    "y_val_label"
   ]
  },
  {
   "cell_type": "code",
   "execution_count": 42,
   "metadata": {},
   "outputs": [
    {
     "name": "stdout",
     "output_type": "stream",
     "text": [
      "accuracy_score:0.9138333333333334\n"
     ]
    }
   ],
   "source": [
    "accuracy = accuracy_score(y_val_label, y_pred_nn)\n",
    "print('accuracy_score:{}'.format(accuracy))"
   ]
  },
  {
   "cell_type": "code",
   "execution_count": 43,
   "metadata": {},
   "outputs": [
    {
     "data": {
      "image/png": "[encoded data removed]",
      "text/plain": [
       "<Figure size 864x288 with 2 Axes>"
      ]
     },
     "metadata": {
      "needs_background": "light"
     },
     "output_type": "display_data"
    }
   ],
   "source": [
    "fig, ax = plt.subplots(1, 2, figsize=(12, 4))\n",
    "ax[0].plot(nn.loss_list)\n",
    "ax[1].plot(nn.loss_epoch_list, label='train')\n",
    "ax[1].plot(nn.loss_val_epoch_list, label='validation')\n",
    "ax[1].legend()\n",
    "plt.show()"
   ]
  },
  {
   "cell_type": "markdown",
   "metadata": {},
   "source": [
    "## 畳み込み層を入れても入れなくても結果はほとんど変わらなかった。画像データの1次元の畳み込みだと横関係の特徴は反映されるが、縦関係の特徴が反映されないので、全結合層とあまり変わらなかったと考える。"
   ]
  },
  {
   "cell_type": "code",
   "execution_count": null,
   "metadata": {},
   "outputs": [],
   "source": []
  }
 ],
 "metadata": {
  "kernelspec": {
   "display_name": "Python 3",
   "language": "python",
   "name": "python3"
  },
  "language_info": {
   "codemirror_mode": {
    "name": "ipython",
    "version": 3
   },
   "file_extension": ".py",
   "mimetype": "text/x-python",
   "name": "python",
   "nbconvert_exporter": "python",
   "pygments_lexer": "ipython3",
   "version": "3.7.4"
  }
 },
 "nbformat": 4,
 "nbformat_minor": 2
}
