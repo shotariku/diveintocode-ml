{
 "cells": [
  {
   "cell_type": "markdown",
   "metadata": {},
   "source": [
    "# 【問題1】行列積を手計算する\n",
    "## AとBの行列積を手計算で解いてください。計算過程もマークダウンテキストを用いて説明してください。"
   ]
  },
  {
   "cell_type": "code",
   "execution_count": 1,
   "metadata": {},
   "outputs": [
    {
     "name": "stdout",
     "output_type": "stream",
     "text": [
      "A :[[-1  2  3]\n",
      " [ 4 -5  6]\n",
      " [ 7  8 -9]]\n",
      "B :[[ 0  2  1]\n",
      " [ 0  2 -8]\n",
      " [ 2  9 -1]]\n"
     ]
    }
   ],
   "source": [
    "import numpy as np\n",
    "\n",
    "a_ndarray = np.array([[-1, 2, 3], [4, -5, 6], [7, 8, -9]])\n",
    "b_ndarray = np.array([[0, 2, 1], [0, 2, -8], [2, 9, -1]])\n",
    "print('A :{}'.format(a_ndarray))\n",
    "print('B :{}'.format(b_ndarray))"
   ]
  },
  {
   "cell_type": "markdown",
   "metadata": {},
   "source": [
    "## 計算後の行列をCとすると\n",
    "### C(1, 1)=A(1, 1) * B(1, 1) + A(1, 2) * B(2, 1) + A(1, 3) * B(3, 1) =6\n",
    "### C(1, 2)=A(1, 1) * B(1, 2) + A(1, 2) * B(2, 2) + A(1, 3) * B(3, 2) =29\n",
    "### C(1, 3)=A(1, 1) * B(1, 3) + A(1, 3) * B(2, 3) + A(1, 3) * B(3, 3) =-20\n",
    "### C(2, 1)=A(2, 1) * B(1, 1) + A(2, 2) * B(2, 1) + A(2, 3) * B(3, 1) =12\n",
    "### C(2, 2)=A(2, 1) * B(1, 2) + A(2, 2) * B(2, 2) + A(2, 3) * B(3, 2) =52\n",
    "### C(2, 3)=A(2, 1) * B(2, 3) + A(2, 3) * B(2, 3) + A(2, 3) * B(3, 3) =38\n",
    "### C(3, 1)=A(3, 1) * B(1, 1) + A(3, 2) * B(2, 1) + A(3, 3) * B(3, 1) =-18\n",
    "### C(3, 2)=A(3, 1) * B(3, 2) + A(3, 2) * B(3, 2) + A(3, 3) * B(3, 2) =-51\n",
    "### C(3, 3)=A(3, 1) * B(3, 3) + A(3, 3) * B(2, 3) + A(3, 3) * B(3, 3) =-48"
   ]
  },
  {
   "cell_type": "markdown",
   "metadata": {},
   "source": [
    "# 【問題2】NumPyの関数による計算"
   ]
  },
  {
   "cell_type": "code",
   "execution_count": 2,
   "metadata": {},
   "outputs": [
    {
     "data": {
      "text/plain": [
       "array([[  6,  29, -20],\n",
       "       [ 12,  52,  38],\n",
       "       [-18, -51, -48]])"
      ]
     },
     "execution_count": 2,
     "metadata": {},
     "output_type": "execute_result"
    }
   ],
   "source": [
    "np.matmul(a_ndarray, b_ndarray)"
   ]
  },
  {
   "cell_type": "code",
   "execution_count": 3,
   "metadata": {},
   "outputs": [
    {
     "data": {
      "text/plain": [
       "array([[  6,  29, -20],\n",
       "       [ 12,  52,  38],\n",
       "       [-18, -51, -48]])"
      ]
     },
     "execution_count": 3,
     "metadata": {},
     "output_type": "execute_result"
    }
   ],
   "source": [
    "np.dot(a_ndarray, b_ndarray)"
   ]
  },
  {
   "cell_type": "code",
   "execution_count": 4,
   "metadata": {},
   "outputs": [
    {
     "data": {
      "text/plain": [
       "array([[  6,  29, -20],\n",
       "       [ 12,  52,  38],\n",
       "       [-18, -51, -48]])"
      ]
     },
     "execution_count": 4,
     "metadata": {},
     "output_type": "execute_result"
    }
   ],
   "source": [
    "a_ndarray @ b_ndarray"
   ]
  },
  {
   "cell_type": "markdown",
   "metadata": {},
   "source": [
    "# 【問題3】ある要素の計算を実装"
   ]
  },
  {
   "cell_type": "code",
   "execution_count": 5,
   "metadata": {},
   "outputs": [
    {
     "data": {
      "text/plain": [
       "array([[  6.,  29., -20.],\n",
       "       [ 12.,  52.,  38.],\n",
       "       [-18., -51., -48.]])"
      ]
     },
     "execution_count": 5,
     "metadata": {},
     "output_type": "execute_result"
    }
   ],
   "source": [
    "calculate_matrix = np.zeros((3, 3))\n",
    "\n",
    "for i in range(3):\n",
    "    for j in range(3):\n",
    "        for k in range(3):\n",
    "            calculate_matrix[i, j] += a_ndarray[i, k] * b_ndarray[k, j]\n",
    "calculate_matrix"
   ]
  },
  {
   "cell_type": "markdown",
   "metadata": {},
   "source": [
    "# 【問題4】行列積を行う関数の作成"
   ]
  },
  {
   "cell_type": "code",
   "execution_count": 6,
   "metadata": {},
   "outputs": [],
   "source": [
    "def matrix_multiplication(a_ndarray, b_ndarray):\n",
    "    calculate_matrix = np.zeros((a_ndarray.shape[0], b_ndarray.shape[1]))\n",
    "    for i in range(a_ndarray.shape[0]):\n",
    "        for j in range(b_ndarray.shape[1]):\n",
    "            for k in range(a_ndarray.shape[1]):\n",
    "                calculate_matrix[i, j] += a_ndarray[i, k] * b_ndarray[k, j]\n",
    "    return calculate_matrix"
   ]
  },
  {
   "cell_type": "code",
   "execution_count": 7,
   "metadata": {},
   "outputs": [
    {
     "data": {
      "text/plain": [
       "array([[  6.,  29., -20.],\n",
       "       [ 12.,  52.,  38.],\n",
       "       [-18., -51., -48.]])"
      ]
     },
     "execution_count": 7,
     "metadata": {},
     "output_type": "execute_result"
    }
   ],
   "source": [
    "matrix_multiplication(a_ndarray, b_ndarray)"
   ]
  },
  {
   "cell_type": "code",
   "execution_count": 8,
   "metadata": {},
   "outputs": [],
   "source": [
    "f_ndarray = np.array([[-1, 2], [4, -5], [7, 8]])\n",
    "g_ndarray = np.array([[0, 2, 1], [0, 2, -8]])"
   ]
  },
  {
   "cell_type": "code",
   "execution_count": 9,
   "metadata": {},
   "outputs": [
    {
     "data": {
      "text/plain": [
       "array([[  0.,   2., -17.],\n",
       "       [  0.,  -2.,  44.],\n",
       "       [  0.,  30., -57.]])"
      ]
     },
     "execution_count": 9,
     "metadata": {},
     "output_type": "execute_result"
    }
   ],
   "source": [
    "matrix_multiplication(f_ndarray, g_ndarray)"
   ]
  },
  {
   "cell_type": "code",
   "execution_count": 10,
   "metadata": {},
   "outputs": [
    {
     "data": {
      "text/plain": [
       "array([[  0,   2, -17],\n",
       "       [  0,  -2,  44],\n",
       "       [  0,  30, -57]])"
      ]
     },
     "execution_count": 10,
     "metadata": {},
     "output_type": "execute_result"
    }
   ],
   "source": [
    "np.matmul(f_ndarray, g_ndarray)"
   ]
  },
  {
   "cell_type": "markdown",
   "metadata": {},
   "source": [
    "# 【問題5】計算が定義されない入力を判定する"
   ]
  },
  {
   "cell_type": "code",
   "execution_count": 11,
   "metadata": {},
   "outputs": [],
   "source": [
    "d_ndarray = np.array([[-1, 2, 3], [4, -5, 6]])\n",
    "e_ndarray = np.array([[-9, 8, 7], [6, -5, 4]])"
   ]
  },
  {
   "cell_type": "code",
   "execution_count": 13,
   "metadata": {},
   "outputs": [
    {
     "ename": "IndexError",
     "evalue": "index 2 is out of bounds for axis 0 with size 2",
     "output_type": "error",
     "traceback": [
      "\u001b[1;31m---------------------------------------------------------------------------\u001b[0m",
      "\u001b[1;31mIndexError\u001b[0m                                Traceback (most recent call last)",
      "\u001b[1;32m<ipython-input-13-695e9faa4c5e>\u001b[0m in \u001b[0;36m<module>\u001b[1;34m\u001b[0m\n\u001b[1;32m----> 1\u001b[1;33m \u001b[0mmatrix_multiplication\u001b[0m\u001b[1;33m(\u001b[0m\u001b[0md_ndarray\u001b[0m\u001b[1;33m,\u001b[0m \u001b[0me_ndarray\u001b[0m\u001b[1;33m)\u001b[0m\u001b[1;33m\u001b[0m\u001b[1;33m\u001b[0m\u001b[0m\n\u001b[0m",
      "\u001b[1;32m<ipython-input-6-87a3aa934852>\u001b[0m in \u001b[0;36mmatrix_multiplication\u001b[1;34m(a_ndarray, b_ndarray)\u001b[0m\n\u001b[0;32m      4\u001b[0m         \u001b[1;32mfor\u001b[0m \u001b[0mj\u001b[0m \u001b[1;32min\u001b[0m \u001b[0mrange\u001b[0m\u001b[1;33m(\u001b[0m\u001b[0mb_ndarray\u001b[0m\u001b[1;33m.\u001b[0m\u001b[0mshape\u001b[0m\u001b[1;33m[\u001b[0m\u001b[1;36m1\u001b[0m\u001b[1;33m]\u001b[0m\u001b[1;33m)\u001b[0m\u001b[1;33m:\u001b[0m\u001b[1;33m\u001b[0m\u001b[1;33m\u001b[0m\u001b[0m\n\u001b[0;32m      5\u001b[0m             \u001b[1;32mfor\u001b[0m \u001b[0mk\u001b[0m \u001b[1;32min\u001b[0m \u001b[0mrange\u001b[0m\u001b[1;33m(\u001b[0m\u001b[0ma_ndarray\u001b[0m\u001b[1;33m.\u001b[0m\u001b[0mshape\u001b[0m\u001b[1;33m[\u001b[0m\u001b[1;36m1\u001b[0m\u001b[1;33m]\u001b[0m\u001b[1;33m)\u001b[0m\u001b[1;33m:\u001b[0m\u001b[1;33m\u001b[0m\u001b[1;33m\u001b[0m\u001b[0m\n\u001b[1;32m----> 6\u001b[1;33m                 \u001b[0mcalculate_matrix\u001b[0m\u001b[1;33m[\u001b[0m\u001b[0mi\u001b[0m\u001b[1;33m,\u001b[0m \u001b[0mj\u001b[0m\u001b[1;33m]\u001b[0m \u001b[1;33m+=\u001b[0m \u001b[0ma_ndarray\u001b[0m\u001b[1;33m[\u001b[0m\u001b[0mi\u001b[0m\u001b[1;33m,\u001b[0m \u001b[0mk\u001b[0m\u001b[1;33m]\u001b[0m \u001b[1;33m*\u001b[0m \u001b[0mb_ndarray\u001b[0m\u001b[1;33m[\u001b[0m\u001b[0mk\u001b[0m\u001b[1;33m,\u001b[0m \u001b[0mj\u001b[0m\u001b[1;33m]\u001b[0m\u001b[1;33m\u001b[0m\u001b[1;33m\u001b[0m\u001b[0m\n\u001b[0m\u001b[0;32m      7\u001b[0m     \u001b[1;32mreturn\u001b[0m \u001b[0mcalculate_matrix\u001b[0m\u001b[1;33m\u001b[0m\u001b[1;33m\u001b[0m\u001b[0m\n",
      "\u001b[1;31mIndexError\u001b[0m: index 2 is out of bounds for axis 0 with size 2"
     ]
    }
   ],
   "source": [
    "matrix_multiplication(d_ndarray, e_ndarray)"
   ]
  },
  {
   "cell_type": "code",
   "execution_count": 14,
   "metadata": {},
   "outputs": [],
   "source": [
    "def modified_matrix_multiplication(a_ndarray, b_ndarray):\n",
    "    if a_ndarray.shape[0] == b_ndarray.shape[1]:\n",
    "        calculate_matrix = np.zeros((a_ndarray.shape[0], b_ndarray.shape[1]))\n",
    "        for i in range(a_ndarray.shape[0]):\n",
    "            for j in range(b_ndarray.shape[1]):\n",
    "                for k in range(a_ndarray.shape[1]):\n",
    "                    calculate_matrix[i, j] += a_ndarray[i, k] * b_ndarray[k, j]\n",
    "        return calculate_matrix\n",
    "    else:\n",
    "        print(\"\"\"\n",
    "        第一引数の列数と第二引数の行数が異なります。\n",
    "        Aの列数: {}\n",
    "        Bの行数: {}\n",
    "        \"\"\".format(a_ndarray.shape[0], b_ndarray.shape[1]))"
   ]
  },
  {
   "cell_type": "code",
   "execution_count": 15,
   "metadata": {},
   "outputs": [
    {
     "name": "stdout",
     "output_type": "stream",
     "text": [
      "\n",
      "        第一引数の列数と第二引数の行数が異なります。\n",
      "        Aの列数: 2\n",
      "        Bの行数: 3\n",
      "        \n"
     ]
    }
   ],
   "source": [
    "modified_matrix_multiplication(d_ndarray, e_ndarray)"
   ]
  },
  {
   "cell_type": "code",
   "execution_count": 16,
   "metadata": {},
   "outputs": [],
   "source": [
    "def modified_matrix_multiplication_2(a_ndarray, b_ndarray):\n",
    "    if a_ndarray.shape[0] != b_ndarray.shape[1]:\n",
    "        raise IndexError(\"\"\"\n",
    "        第一引数の列数と第二引数の行数が異なります。\n",
    "        Aの列数: {}\n",
    "        Bの行数: {}\n",
    "        \"\"\".format(a_ndarray.shape[0], b_ndarray.shape[1]))\n",
    "    else:\n",
    "        calculate_matrix = np.zeros((a_ndarray.shape[0], b_ndarray.shape[1]))\n",
    "        for i in range(a_ndarray.shape[0]):\n",
    "            for j in range(b_ndarray.shape[1]):\n",
    "                for k in range(a_ndarray.shape[1]):\n",
    "                    calculate_matrix[i, j] += a_ndarray[i, k] * b_ndarray[k, j]\n",
    "        return calculate_matrix"
   ]
  },
  {
   "cell_type": "code",
   "execution_count": 18,
   "metadata": {},
   "outputs": [
    {
     "ename": "IndexError",
     "evalue": "\n        第一引数の列数と第二引数の行数が異なります。\n        Aの列数: 2\n        Bの行数: 3\n        ",
     "output_type": "error",
     "traceback": [
      "\u001b[1;31m---------------------------------------------------------------------------\u001b[0m",
      "\u001b[1;31mIndexError\u001b[0m                                Traceback (most recent call last)",
      "\u001b[1;32m<ipython-input-18-73ff69475e1c>\u001b[0m in \u001b[0;36m<module>\u001b[1;34m\u001b[0m\n\u001b[1;32m----> 1\u001b[1;33m \u001b[0mmodified_matrix_multiplication_2\u001b[0m\u001b[1;33m(\u001b[0m\u001b[0md_ndarray\u001b[0m\u001b[1;33m,\u001b[0m \u001b[0me_ndarray\u001b[0m\u001b[1;33m)\u001b[0m\u001b[1;33m\u001b[0m\u001b[1;33m\u001b[0m\u001b[0m\n\u001b[0m",
      "\u001b[1;32m<ipython-input-16-a86332a56bd1>\u001b[0m in \u001b[0;36mmodified_matrix_multiplication_2\u001b[1;34m(a_ndarray, b_ndarray)\u001b[0m\n\u001b[0;32m      5\u001b[0m         \u001b[0mAの列数\u001b[0m\u001b[1;33m:\u001b[0m \u001b[1;33m{\u001b[0m\u001b[1;33m}\u001b[0m\u001b[1;33m\u001b[0m\u001b[1;33m\u001b[0m\u001b[0m\n\u001b[0;32m      6\u001b[0m         \u001b[0mBの行数\u001b[0m\u001b[1;33m:\u001b[0m \u001b[1;33m{\u001b[0m\u001b[1;33m}\u001b[0m\u001b[1;33m\u001b[0m\u001b[1;33m\u001b[0m\u001b[0m\n\u001b[1;32m----> 7\u001b[1;33m         \"\"\".format(a_ndarray.shape[0], b_ndarray.shape[1]))\n\u001b[0m\u001b[0;32m      8\u001b[0m     \u001b[1;32melse\u001b[0m\u001b[1;33m:\u001b[0m\u001b[1;33m\u001b[0m\u001b[1;33m\u001b[0m\u001b[0m\n\u001b[0;32m      9\u001b[0m         \u001b[0mcalculate_matrix\u001b[0m \u001b[1;33m=\u001b[0m \u001b[0mnp\u001b[0m\u001b[1;33m.\u001b[0m\u001b[0mzeros\u001b[0m\u001b[1;33m(\u001b[0m\u001b[1;33m(\u001b[0m\u001b[0ma_ndarray\u001b[0m\u001b[1;33m.\u001b[0m\u001b[0mshape\u001b[0m\u001b[1;33m[\u001b[0m\u001b[1;36m0\u001b[0m\u001b[1;33m]\u001b[0m\u001b[1;33m,\u001b[0m \u001b[0mb_ndarray\u001b[0m\u001b[1;33m.\u001b[0m\u001b[0mshape\u001b[0m\u001b[1;33m[\u001b[0m\u001b[1;36m1\u001b[0m\u001b[1;33m]\u001b[0m\u001b[1;33m)\u001b[0m\u001b[1;33m)\u001b[0m\u001b[1;33m\u001b[0m\u001b[1;33m\u001b[0m\u001b[0m\n",
      "\u001b[1;31mIndexError\u001b[0m: \n        第一引数の列数と第二引数の行数が異なります。\n        Aの列数: 2\n        Bの行数: 3\n        "
     ]
    }
   ],
   "source": [
    "modified_matrix_multiplication_2(d_ndarray, e_ndarray)"
   ]
  },
  {
   "cell_type": "code",
   "execution_count": 19,
   "metadata": {},
   "outputs": [
    {
     "data": {
      "text/plain": [
       "array([[ 46.,  -4.],\n",
       "       [-34.,  73.]])"
      ]
     },
     "execution_count": 19,
     "metadata": {},
     "output_type": "execute_result"
    }
   ],
   "source": [
    "modified_matrix_multiplication(d_ndarray, e_ndarray.T)"
   ]
  },
  {
   "cell_type": "code",
   "execution_count": 20,
   "metadata": {},
   "outputs": [
    {
     "data": {
      "text/plain": [
       "array([[ 46.,  -4.],\n",
       "       [-34.,  73.]])"
      ]
     },
     "execution_count": 20,
     "metadata": {},
     "output_type": "execute_result"
    }
   ],
   "source": [
    "modified_matrix_multiplication(d_ndarray, np.transpose(e_ndarray))"
   ]
  },
  {
   "cell_type": "code",
   "execution_count": null,
   "metadata": {},
   "outputs": [],
   "source": []
  }
 ],
 "metadata": {
  "kernelspec": {
   "display_name": "Python 3",
   "language": "python",
   "name": "python3"
  },
  "language_info": {
   "codemirror_mode": {
    "name": "ipython",
    "version": 3
   },
   "file_extension": ".py",
   "mimetype": "text/x-python",
   "name": "python",
   "nbconvert_exporter": "python",
   "pygments_lexer": "ipython3",
   "version": "3.7.4"
  }
 },
 "nbformat": 4,
 "nbformat_minor": 2
}
