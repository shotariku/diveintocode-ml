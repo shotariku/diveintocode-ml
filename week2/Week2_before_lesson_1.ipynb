{
 "cells": [
  {
   "cell_type": "markdown",
   "metadata": {},
   "source": [
    "# サンプルコード"
   ]
  },
  {
   "cell_type": "code",
   "execution_count": 1,
   "metadata": {},
   "outputs": [
    {
     "name": "stdout",
     "output_type": "stream",
     "text": [
      "4マスの板に小麦を並べる（リスト）：[1, 2, 4, 8]\n"
     ]
    }
   ],
   "source": [
    "n_squares = 4\n",
    "small_board_list = [1]\n",
    "for _ in range(n_squares - 1):\n",
    "    small_board_list.append(2*small_board_list[-1])\n",
    "print(\"4マスの板に小麦を並べる（リスト）：{}\".format(small_board_list))"
   ]
  },
  {
   "cell_type": "code",
   "execution_count": 2,
   "metadata": {},
   "outputs": [
    {
     "name": "stdout",
     "output_type": "stream",
     "text": [
      "４マスの板に小麦を並べる(ndarray):[1 2 4 8]\n"
     ]
    }
   ],
   "source": [
    "import numpy as np\n",
    "small_board_ndarray = np.array(small_board_list)\n",
    "print('４マスの板に小麦を並べる(ndarray):{}'.format(small_board_ndarray))"
   ]
  },
  {
   "cell_type": "markdown",
   "metadata": {},
   "source": [
    "# 【問題1】2×2マスのチェス盤の小麦の数\n",
    "## 2×2マスのチェス盤をndarrayによって表現し、各マスの小麦の数を計算してください。左上のマスに小麦を1つ置いた後、その右が2つ、左下が4つ、右下が8つという風に進みます。サンプルコードで作成したndarrayのshapeの変形を行ってください。"
   ]
  },
  {
   "cell_type": "code",
   "execution_count": 3,
   "metadata": {},
   "outputs": [
    {
     "data": {
      "text/plain": [
       "array([[1, 2],\n",
       "       [4, 8]])"
      ]
     },
     "execution_count": 3,
     "metadata": {},
     "output_type": "execute_result"
    }
   ],
   "source": [
    "small_board_ndarray_2_2 = small_board_ndarray.reshape(2,2)\n",
    "small_board_ndarray_2_2"
   ]
  },
  {
   "cell_type": "markdown",
   "metadata": {},
   "source": [
    "# 【問題2】n×mマスへの拡張\n",
    "## n×mマスのチェス盤の小麦の数を記したndarrayを返す関数を作成してください。そして、この関数を使い8×8マスのチェス盤の小麦の数を求めてください。"
   ]
  },
  {
   "cell_type": "code",
   "execution_count": 4,
   "metadata": {},
   "outputs": [],
   "source": [
    "def create_ndarray(row, column):\n",
    "    elements = row * column\n",
    "    power_2_list = [1]\n",
    "    for _ in range(elements - 1):\n",
    "        power_2_list.append(2*power_2_list[-1])\n",
    "    row_column_array = np.array(power_2_list).reshape(row, column)\n",
    "    return row_column_array"
   ]
  },
  {
   "cell_type": "code",
   "execution_count": 5,
   "metadata": {},
   "outputs": [
    {
     "data": {
      "text/plain": [
       "array([[1.00000000e+00, 2.00000000e+00, 4.00000000e+00, 8.00000000e+00,\n",
       "        1.60000000e+01, 3.20000000e+01, 6.40000000e+01, 1.28000000e+02],\n",
       "       [2.56000000e+02, 5.12000000e+02, 1.02400000e+03, 2.04800000e+03,\n",
       "        4.09600000e+03, 8.19200000e+03, 1.63840000e+04, 3.27680000e+04],\n",
       "       [6.55360000e+04, 1.31072000e+05, 2.62144000e+05, 5.24288000e+05,\n",
       "        1.04857600e+06, 2.09715200e+06, 4.19430400e+06, 8.38860800e+06],\n",
       "       [1.67772160e+07, 3.35544320e+07, 6.71088640e+07, 1.34217728e+08,\n",
       "        2.68435456e+08, 5.36870912e+08, 1.07374182e+09, 2.14748365e+09],\n",
       "       [4.29496730e+09, 8.58993459e+09, 1.71798692e+10, 3.43597384e+10,\n",
       "        6.87194767e+10, 1.37438953e+11, 2.74877907e+11, 5.49755814e+11],\n",
       "       [1.09951163e+12, 2.19902326e+12, 4.39804651e+12, 8.79609302e+12,\n",
       "        1.75921860e+13, 3.51843721e+13, 7.03687442e+13, 1.40737488e+14],\n",
       "       [2.81474977e+14, 5.62949953e+14, 1.12589991e+15, 2.25179981e+15,\n",
       "        4.50359963e+15, 9.00719925e+15, 1.80143985e+16, 3.60287970e+16],\n",
       "       [7.20575940e+16, 1.44115188e+17, 2.88230376e+17, 5.76460752e+17,\n",
       "        1.15292150e+18, 2.30584301e+18, 4.61168602e+18, 9.22337204e+18]])"
      ]
     },
     "execution_count": 5,
     "metadata": {},
     "output_type": "execute_result"
    }
   ],
   "source": [
    "create_ndarray(8, 8)"
   ]
  },
  {
   "cell_type": "markdown",
   "metadata": {},
   "source": [
    "# 【問題3】小麦の数の合計\n",
    "## 8×8マスのチェス盤の小麦の数の合計を求めてください。また、各列の平均を求め、それを棒グラフで可視化してください。\n",
    "## 棒グラフはサンプルコードを用意しています。"
   ]
  },
  {
   "cell_type": "code",
   "execution_count": 6,
   "metadata": {},
   "outputs": [
    {
     "name": "stdout",
     "output_type": "stream",
     "text": [
      "1.8446744073709552e+19\n",
      "[9.04252160e+15 1.80850432e+16 3.61700864e+16 7.23401728e+16\n",
      " 1.44680346e+17 2.89360691e+17 5.78721383e+17 1.15744277e+18]\n"
     ]
    },
    {
     "data": {
      "image/png": "[encoded data removed]",
      "text/plain": [
       "<Figure size 432x288 with 1 Axes>"
      ]
     },
     "metadata": {
      "needs_background": "light"
     },
     "output_type": "display_data"
    }
   ],
   "source": [
    "import matplotlib.pyplot as plt\n",
    "%matplotlib inline\n",
    "\n",
    "chess = create_ndarray(8, 8)\n",
    "print(np.sum(chess))\n",
    "\n",
    "column_mean = np.mean(chess, axis=0)\n",
    "print(column_mean)\n",
    "\n",
    "plt.xlabel(\"column\")\n",
    "plt.ylabel(\"number\")\n",
    "plt.title(\"number in each column\")\n",
    "plt.bar(np.arange(np.size(column_mean)) + 1, column_mean)\n",
    "plt.show()"
   ]
  },
  {
   "cell_type": "markdown",
   "metadata": {},
   "source": [
    "# 【問題4】小麦の数のヒートマップ\n",
    "## 8×8マスのチェス盤の小麦の数をヒートマップとして可視化してください。ヒートマップはサンプルコードを用意しています。《ヒートマップのサンプルコード》4行2列の配列のヒートマップです。値が小さいところが紫、大きいところが黄色になっています。"
   ]
  },
  {
   "cell_type": "code",
   "execution_count": 7,
   "metadata": {},
   "outputs": [
    {
     "data": {
      "image/png": "[encoded data removed]",
      "text/plain": [
       "<Figure size 432x288 with 1 Axes>"
      ]
     },
     "metadata": {
      "needs_background": "light"
     },
     "output_type": "display_data"
    }
   ],
   "source": [
    "plt.xlabel(\"column\")\n",
    "plt.ylabel(\"row\")\n",
    "plt.title(\"heatmap\")\n",
    "plt.pcolor(chess)\n",
    "plt.show()"
   ]
  },
  {
   "cell_type": "code",
   "execution_count": 8,
   "metadata": {},
   "outputs": [
    {
     "name": "stdout",
     "output_type": "stream",
     "text": [
      "[6.0, 4.0]\n"
     ]
    },
    {
     "data": {
      "text/plain": [
       "<matplotlib.axes._subplots.AxesSubplot at 0x2b0c12a30c8>"
      ]
     },
     "execution_count": 8,
     "metadata": {},
     "output_type": "execute_result"
    },
    {
     "data": {
      "image/png": "[encoded data removed]",
      "text/plain": [
       "<Figure size 720x576 with 2 Axes>"
      ]
     },
     "metadata": {
      "needs_background": "light"
     },
     "output_type": "display_data"
    }
   ],
   "source": [
    "import seaborn as sns\n",
    "import matplotlib as mpl\n",
    "\n",
    "current_figsize = mpl.rcParams['figure.figsize']\n",
    "print(current_figsize)\n",
    "\n",
    "plt.figure(figsize=(10, 8))\n",
    "sns.heatmap(chess, cbar=True, annot=True, square=True, cmap='Accent', linewidths=.5, linecolor='Blue')"
   ]
  },
  {
   "cell_type": "markdown",
   "metadata": {},
   "source": [
    "# 【問題5】後半は前半の何倍か\n",
    "## チェス盤の後半にある小麦の数は前半にある小麦の数の何倍かを求めてください。前半とは配列の0から3行目、後半は4から7行目です。"
   ]
  },
  {
   "cell_type": "code",
   "execution_count": 9,
   "metadata": {},
   "outputs": [],
   "source": [
    "row_sum = np.sum(chess, axis=1)"
   ]
  },
  {
   "cell_type": "code",
   "execution_count": 10,
   "metadata": {},
   "outputs": [
    {
     "data": {
      "text/plain": [
       "4294967296.0"
      ]
     },
     "execution_count": 10,
     "metadata": {},
     "output_type": "execute_result"
    }
   ],
   "source": [
    "np.sum(row_sum[4:]) / np.sum(row_sum[:4])"
   ]
  },
  {
   "cell_type": "markdown",
   "metadata": {},
   "source": [
    "# 《サンプルコード（np.append()）》"
   ]
  },
  {
   "cell_type": "code",
   "execution_count": 11,
   "metadata": {},
   "outputs": [
    {
     "name": "stdout",
     "output_type": "stream",
     "text": [
      "4マスの板に小麦を並べる（ndarray）：[1 2 4 8]\n"
     ]
    }
   ],
   "source": [
    "n_squares = 4\n",
    "small_board_ndarray = np.array([1])\n",
    "for _ in range(n_squares - 1):\n",
    "    small_board_ndarray = np.append(small_board_ndarray, 2*small_board_ndarray[-1])\n",
    "print(\"4マスの板に小麦を並べる（ndarray）：{}\".format(small_board_ndarray))"
   ]
  },
  {
   "cell_type": "markdown",
   "metadata": {},
   "source": [
    "# 《サンプルコード（ブロードキャスト）》"
   ]
  },
  {
   "cell_type": "code",
   "execution_count": 12,
   "metadata": {},
   "outputs": [
    {
     "name": "stdout",
     "output_type": "stream",
     "text": [
      "4マスの板に小麦を並べる（ndarray）：[1 2 4 8]\n"
     ]
    }
   ],
   "source": [
    "n_squares = 4\n",
    "indices_of_squares = np.arange(n_squares)\n",
    "small_board_ndarray = 2**indices_of_squares\n",
    "print(\"4マスの板に小麦を並べる（ndarray）：{}\".format(small_board_ndarray))"
   ]
  },
  {
   "cell_type": "code",
   "execution_count": 13,
   "metadata": {},
   "outputs": [
    {
     "name": "stdout",
     "output_type": "stream",
     "text": [
      "最後のマスの小麦の数：0\n"
     ]
    },
    {
     "name": "stderr",
     "output_type": "stream",
     "text": [
      "C:\\Anaconda\\lib\\site-packages\\ipykernel_launcher.py:4: RuntimeWarning: overflow encountered in long_scalars\n",
      "  after removing the cwd from sys.path.\n"
     ]
    }
   ],
   "source": [
    "n_squares = 64\n",
    "board_ndarray = np.array([1])\n",
    "for _ in range(n_squares - 1):\n",
    "    board_ndarray = np.append(board_ndarray, 2*board_ndarray[-1])\n",
    "print(\"最後のマスの小麦の数：{}\".format(board_ndarray[-1])) # -9223372036854775808"
   ]
  },
  {
   "cell_type": "code",
   "execution_count": 14,
   "metadata": {},
   "outputs": [
    {
     "name": "stdout",
     "output_type": "stream",
     "text": [
      "最後のマスの小麦の数：0\n",
      "[          1           2           4           8          16          32\n",
      "          64         128         256         512        1024        2048\n",
      "        4096        8192       16384       32768       65536      131072\n",
      "      262144      524288     1048576     2097152     4194304     8388608\n",
      "    16777216    33554432    67108864   134217728   268435456   536870912\n",
      "  1073741824 -2147483648           0           0           0           0\n",
      "           0           0           0           0           0           0\n",
      "           0           0           0           0           0           0\n",
      "           0           0           0           0           0           0\n",
      "           0           0           0           0           0           0\n",
      "           0           0           0           0]\n"
     ]
    }
   ],
   "source": [
    "n_squares = 64\n",
    "indices_of_squares = np.arange(n_squares)\n",
    "board_ndarray = 2**indices_of_squares\n",
    "print(\"最後のマスの小麦の数：{}\".format(board_ndarray[-1])) # -9223372036854775808\n",
    "print(board_ndarray)"
   ]
  },
  {
   "cell_type": "code",
   "execution_count": 15,
   "metadata": {},
   "outputs": [
    {
     "name": "stdout",
     "output_type": "stream",
     "text": [
      "int32\n"
     ]
    }
   ],
   "source": [
    "print(board_ndarray.dtype) # int64"
   ]
  },
  {
   "cell_type": "code",
   "execution_count": 16,
   "metadata": {},
   "outputs": [
    {
     "name": "stdout",
     "output_type": "stream",
     "text": [
      "最後のマスの小麦の数：9223372036854775808\n"
     ]
    }
   ],
   "source": [
    "n_squares = 64\n",
    "indices_of_squares = np.arange(n_squares).astype(np.uint64)\n",
    "board_ndarray = 2**indices_of_squares\n",
    "print(\"最後のマスの小麦の数：{}\".format(board_ndarray[-1])) # 9223372036854775808"
   ]
  },
  {
   "cell_type": "markdown",
   "metadata": {},
   "source": [
    "# 【問題6】他の計算方法によるn×mマスへの拡張\n",
    "## 問題2と同様の「n×mマスのチェス盤の小麦の数を記したndarrayを返す関数」を、np.append()を使ったものと、ブロードキャストを使ったもので新たに作成してください。それらの関数を使い8×8マスのチェス盤の小麦の数を再び求めてください。"
   ]
  },
  {
   "cell_type": "code",
   "execution_count": 17,
   "metadata": {},
   "outputs": [],
   "source": [
    "def create_ndarray_append(row, column):\n",
    "    elements = row * column\n",
    "    power_2_ndarray = np.array([1])\n",
    "    for _ in range(elements - 1):\n",
    "        power_2_ndarray = np.append(power_2_ndarray, 2*power_2_ndarray[-1]).astype(np.uint64)\n",
    "    row_column_array = np.array(power_2_ndarray).reshape(row, column)\n",
    "    return row_column_array"
   ]
  },
  {
   "cell_type": "code",
   "execution_count": 18,
   "metadata": {},
   "outputs": [
    {
     "data": {
      "text/plain": [
       "array([[                  1,                   2,                   4,\n",
       "                          8,                  16,                  32,\n",
       "                         64,                 128],\n",
       "       [                256,                 512,                1024,\n",
       "                       2048,                4096,                8192,\n",
       "                      16384,               32768],\n",
       "       [              65536,              131072,              262144,\n",
       "                     524288,             1048576,             2097152,\n",
       "                    4194304,             8388608],\n",
       "       [           16777216,            33554432,            67108864,\n",
       "                  134217728,           268435456,           536870912,\n",
       "                 1073741824,          2147483648],\n",
       "       [         4294967296,          8589934592,         17179869184,\n",
       "                34359738368,         68719476736,        137438953472,\n",
       "               274877906944,        549755813888],\n",
       "       [      1099511627776,       2199023255552,       4398046511104,\n",
       "              8796093022208,      17592186044416,      35184372088832,\n",
       "             70368744177664,     140737488355328],\n",
       "       [    281474976710656,     562949953421312,    1125899906842624,\n",
       "           2251799813685248,    4503599627370496,    9007199254740992,\n",
       "          18014398509481984,   36028797018963968],\n",
       "       [  72057594037927936,  144115188075855872,  288230376151711744,\n",
       "         576460752303423488, 1152921504606846976, 2305843009213693952,\n",
       "        4611686018427387904, 9223372036854775808]], dtype=uint64)"
      ]
     },
     "execution_count": 18,
     "metadata": {},
     "output_type": "execute_result"
    }
   ],
   "source": [
    "create_ndarray_append(8, 8)"
   ]
  },
  {
   "cell_type": "code",
   "execution_count": 19,
   "metadata": {},
   "outputs": [],
   "source": [
    "def create_ndarray_broadcast(row, column):\n",
    "    elements = row * column\n",
    "    indices_of_squares = np.arange(elements).astype(np.uint64)\n",
    "    board_ndarray = 2**indices_of_squares\n",
    "    row_column_array = np.array(board_ndarray).reshape(row, column)\n",
    "    return row_column_array"
   ]
  },
  {
   "cell_type": "code",
   "execution_count": 20,
   "metadata": {},
   "outputs": [
    {
     "data": {
      "text/plain": [
       "array([[                  1,                   2,                   4,\n",
       "                          8,                  16,                  32,\n",
       "                         64,                 128],\n",
       "       [                256,                 512,                1024,\n",
       "                       2048,                4096,                8192,\n",
       "                      16384,               32768],\n",
       "       [              65536,              131072,              262144,\n",
       "                     524288,             1048576,             2097152,\n",
       "                    4194304,             8388608],\n",
       "       [           16777216,            33554432,            67108864,\n",
       "                  134217728,           268435456,           536870912,\n",
       "                 1073741824,          2147483648],\n",
       "       [         4294967296,          8589934592,         17179869184,\n",
       "                34359738368,         68719476736,        137438953472,\n",
       "               274877906944,        549755813888],\n",
       "       [      1099511627776,       2199023255552,       4398046511104,\n",
       "              8796093022208,      17592186044416,      35184372088832,\n",
       "             70368744177664,     140737488355328],\n",
       "       [    281474976710656,     562949953421312,    1125899906842624,\n",
       "           2251799813685248,    4503599627370496,    9007199254740992,\n",
       "          18014398509481984,   36028797018963968],\n",
       "       [  72057594037927936,  144115188075855872,  288230376151711744,\n",
       "         576460752303423488, 1152921504606846976, 2305843009213693952,\n",
       "        4611686018427387904, 9223372036854775808]], dtype=uint64)"
      ]
     },
     "execution_count": 20,
     "metadata": {},
     "output_type": "execute_result"
    }
   ],
   "source": [
    "create_ndarray_broadcast(8, 8)"
   ]
  },
  {
   "cell_type": "markdown",
   "metadata": {},
   "source": [
    "# 【問題7】計算時間の比較\n",
    "## 3種類の方法を見てきました。それぞれの計算時間をJupyter Notebookの%%timeitを用いて計測し、比較と考察を行ってください。%%timeitはセル内のコードを複数回実行し、その平均実行時間を出力する働きをします。"
   ]
  },
  {
   "cell_type": "code",
   "execution_count": 21,
   "metadata": {},
   "outputs": [
    {
     "name": "stdout",
     "output_type": "stream",
     "text": [
      "58.3 µs ± 9.37 µs per loop (mean ± std. dev. of 7 runs, 10000 loops each)\n"
     ]
    }
   ],
   "source": [
    "%%timeit\n",
    "\n",
    "def create_ndarray(row, column):\n",
    "    elements = row * column\n",
    "    power_2_list = [1]\n",
    "    for _ in range(elements - 1):\n",
    "        power_2_list.append(2*power_2_list[-1])\n",
    "    row_column_array = np.array(power_2_list).reshape(row, column)\n",
    "    return row_column_array\n",
    "\n",
    "create_ndarray(8, 8)"
   ]
  },
  {
   "cell_type": "code",
   "execution_count": 22,
   "metadata": {},
   "outputs": [
    {
     "name": "stdout",
     "output_type": "stream",
     "text": [
      "2.41 ms ± 405 µs per loop (mean ± std. dev. of 7 runs, 1000 loops each)\n"
     ]
    }
   ],
   "source": [
    "%%timeit\n",
    "\n",
    "def create_ndarray_append(row, column):\n",
    "    elements = row * column\n",
    "    power_2_ndarray = np.array([1])\n",
    "    for _ in range(elements - 1):\n",
    "        power_2_ndarray = np.append(power_2_ndarray, 2*power_2_ndarray[-1]).astype(np.uint64)\n",
    "    row_column_array = np.array(power_2_ndarray).reshape(row, column)\n",
    "    return row_column_array\n",
    "\n",
    "create_ndarray_append(8, 8)"
   ]
  },
  {
   "cell_type": "code",
   "execution_count": 23,
   "metadata": {},
   "outputs": [
    {
     "name": "stdout",
     "output_type": "stream",
     "text": [
      "15.7 µs ± 1.89 µs per loop (mean ± std. dev. of 7 runs, 100000 loops each)\n"
     ]
    }
   ],
   "source": [
    "%%timeit\n",
    "\n",
    "def create_ndarray_broadcast(row, column):\n",
    "    elements = row * column\n",
    "    indices_of_squares = np.arange(elements).astype(np.uint64)\n",
    "    board_ndarray = 2**indices_of_squares\n",
    "    row_column_array = np.array(board_ndarray).reshape(row, column)\n",
    "    return row_column_array\n",
    "\n",
    "create_ndarray_broadcast(8, 8)"
   ]
  },
  {
   "cell_type": "markdown",
   "metadata": {},
   "source": [
    "## for文を使うと計算に時間がかかる。np.appendは毎回ndarrayのデータ型に追加するから時間がかかる？"
   ]
  },
  {
   "cell_type": "code",
   "execution_count": null,
   "metadata": {},
   "outputs": [],
   "source": []
  }
 ],
 "metadata": {
  "kernelspec": {
   "display_name": "Python 3",
   "language": "python",
   "name": "python3"
  },
  "language_info": {
   "codemirror_mode": {
    "name": "ipython",
    "version": 3
   },
   "file_extension": ".py",
   "mimetype": "text/x-python",
   "name": "python",
   "nbconvert_exporter": "python",
   "pygments_lexer": "ipython3",
   "version": "3.7.4"
  }
 },
 "nbformat": 4,
 "nbformat_minor": 2
}
