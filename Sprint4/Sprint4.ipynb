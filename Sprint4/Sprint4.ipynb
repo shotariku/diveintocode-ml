{
 "cells": [
  {
   "cell_type": "code",
   "execution_count": 1,
   "metadata": {},
   "outputs": [],
   "source": [
    "import numpy as np\n",
    "import pandas as pd\n",
    "from matplotlib import pyplot as plt\n",
    "%matplotlib inline"
   ]
  },
  {
   "cell_type": "code",
   "execution_count": 2,
   "metadata": {},
   "outputs": [],
   "source": [
    "class ScratchLogisticRegression():\n",
    "    \"\"\"\n",
    "    ロジスティック回帰のスクラッチ実装\n",
    "\n",
    "    Parameters\n",
    "    ----------\n",
    "    num_iter : int\n",
    "      イテレーション数\n",
    "    lr : float\n",
    "      学習率\n",
    "    bias : bool\n",
    "      バイアス項を入れない場合はFalse\n",
    "    verbose : bool\n",
    "      学習過程を出力する場合はTrue\n",
    "\n",
    "    Attributes\n",
    "    ----------\n",
    "    self.coef_ : 次の形のndarray, shape (n_features,)\n",
    "      パラメータ\n",
    "    self.loss : 次の形のndarray, shape (self.iter,)\n",
    "      訓練データに対する損失の記録\n",
    "    self.val_loss : 次の形のndarray, shape (self.iter,)\n",
    "      検証データに対する損失の記録\n",
    "\n",
    "    \"\"\"\n",
    "    def __init__(self, num_iter, lr, bias, verbose, lambda_):\n",
    "        # ハイパーパラメータを属性として記録\n",
    "        self.iter = num_iter\n",
    "        self.lr = lr\n",
    "        self.bias = bias\n",
    "        self.verbose = verbose\n",
    "        self.lambda_ = lambda_\n",
    "        # 損失を記録する配列を用意\n",
    "        self.loss = np.zeros(self.iter)\n",
    "        self.val_loss = np.zeros(self.iter)\n",
    "    def fit(self, X, y, X_val=None, y_val=None):\n",
    "        \"\"\"\n",
    "        ロジスティック回帰を学習する。検証データが入力された場合はそれに対する損失と精度もイテレーションごとに計算する。\n",
    "\n",
    "        Parameters\n",
    "        ----------\n",
    "        X : 次の形のndarray, shape (n_samples, n_features)\n",
    "            訓練データの特徴量\n",
    "        y : 次の形のndarray, shape (n_samples, )\n",
    "            訓練データの正解値\n",
    "        X_val : 次の形のndarray, shape (n_samples, n_features)\n",
    "            検証データの特徴量\n",
    "        y_val : 次の形のndarray, shape (n_samples, )\n",
    "            検証データの正解値\n",
    "        \"\"\"\n",
    "        y = y.reshape(-1, 1)\n",
    "        if self.bias == True:\n",
    "            X = np.concatenate([np.ones(X.shape[0]).reshape(-1, 1), X], axis=1)\n",
    "            if X_val is not None:\n",
    "                X_val = np.concatenate([np.ones(X_val.shape[0]).reshape(-1, 1), X_val], axis=1)\n",
    "            self.coef_ = np.random.rand(X.shape[1], 1)\n",
    "            if self.verbose:\n",
    "                for i in range(self.iter):\n",
    "                    self.coef_ = self._gradient_descent(X, y)\n",
    "                    j_theta = self._compute_cost(X, y)\n",
    "                    self.loss[i] = j_theta\n",
    "                    print('{}回目、theta:{}、j_theta:{}'.format(i+1, self.coef_, j_theta))\n",
    "                    if X_val is not None and y_val is not None:\n",
    "                        j_theta_val = self._compute_cost(X_val, y_val)\n",
    "                        self.val_loss[i] = j_theta_val\n",
    "                        print('{}回目、theta:{}、j_theta_val:{}'.format(i+1, self.coef_, j_theta_val))\n",
    "\n",
    "            else:\n",
    "                for i in range(self.iter):\n",
    "                    self.coef_ = self._gradient_descent(X, y)\n",
    "                    j_theta = self._compute_cost(X, y)\n",
    "                    self.loss[i] = j_theta\n",
    "                    if X_val is not None and y_val is not None:\n",
    "                        j_theta_val = self._compute_cost(X_val, y_val)\n",
    "                        self.val_loss[i] = j_theta_val\n",
    "        \n",
    "        elif self.bias == False:\n",
    "            self.coef_ = np.random.rand(X.shape[1], 1)\n",
    "            if self.verbose:\n",
    "                for i in range(self.iter):\n",
    "                    self.coef_ = self._gradient_descent_no_bias(X, y)\n",
    "                    j_theta = self._compute_cost_no_bias(X, y)\n",
    "                    self.loss[i] = j_theta\n",
    "                    print('{}回目、theta:{}、j_theta:{}'.format(i+1, self.coef_, j_theta))\n",
    "                    if X_val is not None and y_val is not None:\n",
    "                        j_theta_val = self._compute_cost_no_bias(X_val, y_val)\n",
    "                        self.val_loss[i] = j_theta_val\n",
    "                        print('{}回目、theta:{}、j_theta_val:{}'.format(i+1, self.coef_, j_theta_val))\n",
    "\n",
    "            else:\n",
    "                for i in range(self.iter):\n",
    "                    self.coef_ = self._gradient_descent_no_bias(X, y)\n",
    "                    j_theta = self._compute_cost_no_bias(X, y)\n",
    "                    self.loss[i] = j_theta\n",
    "                    if X_val is not None and y_val is not None:\n",
    "                        j_theta_val = self._compute_cost_no_bias(X_val, y_val)\n",
    "                        self.val_loss[i] = j_theta_val\n",
    "\n",
    "    def predict(self, X, threshold=0.5):\n",
    "        \"\"\"\n",
    "        ロジスティック回帰を使いラベルを推定する。\n",
    "\n",
    "        Parameters\n",
    "        ----------\n",
    "        X : 次の形のndarray, shape (n_samples, n_features)\n",
    "            サンプル\n",
    "\n",
    "        Returns\n",
    "        -------\n",
    "            次の形のndarray, shape (n_samples, 1)\n",
    "            ロジスティック回帰による推定結果\n",
    "        \"\"\"\n",
    "        if self.bias is True:\n",
    "            X = np.concatenate([np.ones(X.shape[0]).reshape(-1, 1), X], axis=1)\n",
    "        y_predict_proba = self._logistic_hypothsis(X)\n",
    "        y_pred = np.where(y_predict_proba >= threshold, 1, 0)\n",
    "        \n",
    "        return y_pred\n",
    "    \n",
    "    def predict_proba(self, X):\n",
    "        \"\"\"\n",
    "        ロジスティック回帰を使い確率を推定する。\n",
    "\n",
    "        Parameters\n",
    "        ----------\n",
    "        X : 次の形のndarray, shape (n_samples, n_features)\n",
    "            サンプル\n",
    "\n",
    "        Returns\n",
    "        -------\n",
    "            次の形のndarray, shape (n_samples, 1)\n",
    "            ロジスティック回帰による推定結果\n",
    "        \"\"\"\n",
    "        if self.bias is True:\n",
    "            X = np.concatenate([np.ones(X.shape[0]).reshape(-1, 1), X], axis=1)\n",
    "        y_predict_proba = self._logistic_hypothsis(X)\n",
    "        \n",
    "        return y_predict_proba\n",
    "    \n",
    "    def _logistic_hypothsis(self, X):\n",
    "        \"\"\"\n",
    "        ロジスティック回帰の仮定関数を計算する\n",
    "        \n",
    "        Parameters\n",
    "        ----------\n",
    "        X : 次の形のndarray, shape (n_samples, n_features)\n",
    "            サンプル\n",
    "\n",
    "        Returns\n",
    "        -------\n",
    "            次の形のndarray, shape (n_samples, 1)\n",
    "            ロジスティック回帰の仮定関数の値\n",
    "        \"\"\"\n",
    "        h_theta = 1/(1 + np.exp(-np.dot(X, self.coef_)))\n",
    "        \n",
    "        return h_theta\n",
    "    \n",
    "    def _gradient_descent(self, X, y):\n",
    "        \"\"\"\n",
    "        最急降下法により特徴量の重みのパラメータを更新する\n",
    "        Parameters\n",
    "        ----------\n",
    "        X : 次の形のndarray, shape (n_samples, n_features)\n",
    "            サンプル\n",
    "        \n",
    "        y : 次の形のndarray, shape (n_samples, )\n",
    "            正解値\n",
    "\n",
    "        Returns\n",
    "        -------\n",
    "            次の形のndarray, shape (n_samples, 1)\n",
    "            重み\n",
    "        \"\"\"\n",
    "        self.coef_[0] -= self.lr*(np.dot(X[:, 0].T, (self._logistic_hypothsis(X) - y))/X.shape[0])\n",
    "        self.coef_[1:] -= self.lr*(np.dot(X[:,1:].T, (self._logistic_hypothsis(X) - y))/X.shape[0]\\\n",
    "                                 + self.lambda_*self.coef_[1:]/X.shape[0])\n",
    "                                 \n",
    "        return self.coef_\n",
    "    \n",
    "    def _gradient_descent_no_bias(self, X, y):\n",
    "        \"\"\"\n",
    "        最急降下法により特徴量の重みのパラメータを更新する\n",
    "        Parameters\n",
    "        ----------\n",
    "        X : 次の形のndarray, shape (n_samples, n_features)\n",
    "            サンプル\n",
    "        \n",
    "        y : 次の形のndarray, shape (n_samples, )\n",
    "            正解値\n",
    "\n",
    "        Returns\n",
    "        -------\n",
    "            次の形のndarray, shape (n_samples, 1)\n",
    "            重み\n",
    "        \"\"\"\n",
    "        self.coef_ -= self.lr*(np.dot(X.T, (self._logistic_hypothsis(X) - y))/X.shape[0] + self.lambda_*self.coef_/X.shape[0])\n",
    "                                 \n",
    "        return self.coef_\n",
    "        \n",
    "    def _compute_cost(self, X, y):\n",
    "        j_theta = (-np.dot(y.T, np.log(self._logistic_hypothsis(X))) - np.dot((1 - y).T, np.log(1 - self._logistic_hypothsis(X))))\\\n",
    "                   /X.shape[0] + self.lambda_*(np.dot(self.coef_[1:].T, self.coef_[1:]))/2/X.shape[0]\n",
    "\n",
    "        return j_theta\n",
    "\n",
    "    def _compute_cost_no_bias(self, X, y):\n",
    "        j_theta = (-np.dot(y.T, np.log(self._logistic_hypothsis(X))) - np.dot((1 - y).T, np.log(1 - self._logistic_hypothsis(X))))\\\n",
    "                   /X.shape[0] + self.lambda_*(np.dot(self.coef_.T, self.coef_))/2/X.shape[0]\n",
    "\n",
    "        return j_theta"
   ]
  },
  {
   "cell_type": "markdown",
   "metadata": {},
   "source": [
    "# 【問題1】仮定関数"
   ]
  },
  {
   "cell_type": "markdown",
   "metadata": {},
   "source": [
    "```python\n",
    "def _logistic_hypothsis(self, X):\n",
    "    \"\"\"\n",
    "    ロジスティック回帰の仮定関数を計算する\n",
    "\n",
    "    Parameters\n",
    "    ----------\n",
    "    X : 次の形のndarray, shape (n_samples, n_features)\n",
    "        サンプル\n",
    "\n",
    "    Returns\n",
    "    -------\n",
    "        次の形のndarray, shape (n_samples, 1)\n",
    "        ロジスティック回帰の仮定関数の値\n",
    "    \"\"\"\n",
    "    h_theta = 1/(1 + np.exp(-np.dot(X, self.coef_)))\n",
    "\n",
    "    return h_theta\n",
    "```"
   ]
  },
  {
   "cell_type": "markdown",
   "metadata": {},
   "source": [
    "# 【問題2】最急降下法"
   ]
  },
  {
   "cell_type": "markdown",
   "metadata": {},
   "source": [
    "```python\n",
    "    def _gradient_descent(self, X, y):\n",
    "        \"\"\"\n",
    "        最急降下法により特徴量の重みのパラメータを更新する\n",
    "        Parameters\n",
    "        ----------\n",
    "        X : 次の形のndarray, shape (n_samples, n_features)\n",
    "            サンプル\n",
    "        \n",
    "        y : 次の形のndarray, shape (n_samples, )\n",
    "            正解値\n",
    "\n",
    "        Returns\n",
    "        -------\n",
    "            次の形のndarray, shape (n_samples, 1)\n",
    "            重み\n",
    "        \"\"\"\n",
    "        self.coef_[0] -= self.lr*(np.dot(X[:, 0].T, (self._logistic_hypothsis(X) - y))/X.shape[0])\n",
    "        self.coef_[1:] -= self.lr*(np.dot(X[:,1:].T, (self._logistic_hypothsis(X) - y))/X.shape[0]\\\n",
    "                                 + self.lambda_*self.coef_[1:]/X.shape[0])\n",
    "                                 \n",
    "        return self.coef_\n",
    "    \n",
    "    def _gradient_descent_no_bias(self, X, y):\n",
    "        \"\"\"\n",
    "        最急降下法により特徴量の重みのパラメータを更新する\n",
    "        Parameters\n",
    "        ----------\n",
    "        X : 次の形のndarray, shape (n_samples, n_features)\n",
    "            サンプル\n",
    "        \n",
    "        y : 次の形のndarray, shape (n_samples, )\n",
    "            正解値\n",
    "\n",
    "        Returns\n",
    "        -------\n",
    "            次の形のndarray, shape (n_samples, 1)\n",
    "            重み\n",
    "        \"\"\"\n",
    "        self.coef_ -= self.lr*(np.dot(X.T, (self._logistic_hypothsis(X) - y))/X.shape[0] + self.lambda_*self.coef_/X.shape[0])\n",
    "                                 \n",
    "        return self.coef_\n",
    "    \n",
    "    def fit(self, X, y, X_val=None, y_val=None):\n",
    "        \"\"\"\n",
    "        ロジスティック回帰を学習する。検証データが入力された場合はそれに対する損失と精度もイテレーションごとに計算する。\n",
    "\n",
    "        Parameters\n",
    "        ----------\n",
    "        X : 次の形のndarray, shape (n_samples, n_features)\n",
    "            訓練データの特徴量\n",
    "        y : 次の形のndarray, shape (n_samples, )\n",
    "            訓練データの正解値\n",
    "        X_val : 次の形のndarray, shape (n_samples, n_features)\n",
    "            検証データの特徴量\n",
    "        y_val : 次の形のndarray, shape (n_samples, )\n",
    "            検証データの正解値\n",
    "        \"\"\"\n",
    "        y = y.reshape(-1, 1)\n",
    "        if self.bias == True:\n",
    "            X = np.concatenate([np.ones(X.shape[0]).reshape(-1, 1), X], axis=1)\n",
    "            if X_val is not None:\n",
    "                X_val = np.concatenate([np.ones(X_val.shape[0]).reshape(-1, 1), X_val], axis=1)\n",
    "            self.coef_ = np.random.rand(X.shape[1], 1)\n",
    "            if self.verbose:\n",
    "                for i in range(self.iter):\n",
    "                    self.coef_ = self._gradient_descent(X, y)\n",
    "                    j_theta = self._compute_cost(X, y)\n",
    "                    self.loss[i] = j_theta\n",
    "                    print('{}回目、theta:{}、j_theta:{}'.format(i+1, self.coef_, j_theta))\n",
    "                    if X_val is not None and y_val is not None:\n",
    "                        j_theta_val = self._compute_cost(X_val, y_val)\n",
    "                        self.val_loss[i] = j_theta_val\n",
    "                        print('{}回目、theta:{}、j_theta_val:{}'.format(i+1, self.coef_, j_theta_val))\n",
    "\n",
    "            else:\n",
    "                for i in range(self.iter):\n",
    "                    self.coef_ = self._gradient_descent(X, y)\n",
    "                    j_theta = self._compute_cost(X, y)\n",
    "                    self.loss[i] = j_theta\n",
    "                    if X_val is not None and y_val is not None:\n",
    "                        j_theta_val = self._compute_cost(X_val, y_val)\n",
    "                        self.val_loss[i] = j_theta_val\n",
    "        \n",
    "        else:\n",
    "            self.coef_ = np.random.rand(X.shape[1], 1)\n",
    "            if self.verbose:\n",
    "                for i in range(self.iter):\n",
    "                    self.coef_ = self._gradient_descent_no_bias(X, y)\n",
    "                    j_theta = self._compute_cost_no_bias(X, y)\n",
    "                    self.loss[i] = j_theta\n",
    "                    print('{}回目、theta:{}、j_theta:{}'.format(i+1, self.coef_, j_theta))\n",
    "                    if X_val is not None and y_val is not None:\n",
    "                        j_theta_val = self._compute_cost_no_bias(X_val, y_val)\n",
    "                        self.val_loss[i] = j_theta_val\n",
    "                        print('{}回目、theta:{}、j_theta_val:{}'.format(i+1, self.coef_, j_theta_val))\n",
    "\n",
    "            else:\n",
    "                for i in range(self.iter):\n",
    "                    self.coef_ = self._gradient_descent_no_bias(X, y)\n",
    "                    j_theta = self._compute_cost_no_bias(X, y)\n",
    "                    self.loss[i] = j_theta\n",
    "                    if X_val is not None and y_val is not None:\n",
    "                        j_theta_val = self._compute_cost_no_bias(X_val, y_val)\n",
    "                        self.val_loss[i] = j_theta_val\n",
    "```"
   ]
  },
  {
   "cell_type": "markdown",
   "metadata": {},
   "source": [
    "# 【問題3】推定"
   ]
  },
  {
   "cell_type": "markdown",
   "metadata": {},
   "source": [
    "```python\n",
    "    def predict(self, X, threshold=0.5):\n",
    "        \"\"\"\n",
    "        ロジスティック回帰を使いラベルを推定する。\n",
    "\n",
    "        Parameters\n",
    "        ----------\n",
    "        X : 次の形のndarray, shape (n_samples, n_features)\n",
    "            サンプル\n",
    "\n",
    "        Returns\n",
    "        -------\n",
    "            次の形のndarray, shape (n_samples, 1)\n",
    "            ロジスティック回帰による推定結果\n",
    "        \"\"\"\n",
    "        if self.bias is True:\n",
    "            X = np.concatenate([np.ones(X.shape[0]).reshape(-1, 1), X], axis=1)\n",
    "        y_predict_proba = self._logistic_hypothsis(X)\n",
    "        y_pred = np.where(y_predict_proba >= threshold, 1, 0)\n",
    "        \n",
    "        return y_pred\n",
    "    \n",
    "    def predict_proba(self, X):\n",
    "        \"\"\"\n",
    "        ロジスティック回帰を使い確率を推定する。\n",
    "\n",
    "        Parameters\n",
    "        ----------\n",
    "        X : 次の形のndarray, shape (n_samples, n_features)\n",
    "            サンプル\n",
    "\n",
    "        Returns\n",
    "        -------\n",
    "            次の形のndarray, shape (n_samples, 1)\n",
    "            ロジスティック回帰による推定結果\n",
    "        \"\"\"\n",
    "        if self.bias is True:\n",
    "            X = np.concatenate([np.ones(X.shape[0]).reshape(-1, 1), X], axis=1)\n",
    "        y_predict_proba = self._logistic_hypothsis(X)\n",
    "        \n",
    "        return y_predict_proba\n",
    "```"
   ]
  },
  {
   "cell_type": "markdown",
   "metadata": {},
   "source": [
    "# 【問題4】目的関数"
   ]
  },
  {
   "cell_type": "markdown",
   "metadata": {},
   "source": [
    "```python\n",
    "    def _compute_cost(self, X, y):\n",
    "        j_theta = (-np.dot(y.T, np.log(self._logistic_hypothsis(X))) - np.dot((1 - y).T, np.log(1 - self._logistic_hypothsis(X))))\\\n",
    "                   /X.shape[0] + self.lambda_*(np.dot(self.coef_[1:].T, self.coef_[1:]))/2/X.shape[0]\n",
    "\n",
    "        return j_theta\n",
    "\n",
    "    def _compute_cost_no_bias(self, X, y):\n",
    "        j_theta = (-np.dot(y.T, np.log(self._logistic_hypothsis(X))) - np.dot((1 - y).T, np.log(1 - self._logistic_hypothsis(X))))\\\n",
    "                   /X.shape[0] + self.lambda_*(np.dot(self.coef_.T, self.coef_))/2/X.shape[0]\n",
    "\n",
    "        return j_theta\n",
    "```"
   ]
  },
  {
   "cell_type": "markdown",
   "metadata": {},
   "source": [
    "# 【問題5】学習と推定"
   ]
  },
  {
   "cell_type": "code",
   "execution_count": 3,
   "metadata": {},
   "outputs": [],
   "source": [
    "from sklearn.datasets import load_iris"
   ]
  },
  {
   "cell_type": "code",
   "execution_count": 4,
   "metadata": {},
   "outputs": [],
   "source": [
    "from sklearn.model_selection import train_test_split\n",
    "from sklearn.metrics import accuracy_score\n",
    "from sklearn.linear_model import SGDClassifier"
   ]
  },
  {
   "cell_type": "code",
   "execution_count": 5,
   "metadata": {},
   "outputs": [],
   "source": [
    "df = load_iris()"
   ]
  },
  {
   "cell_type": "code",
   "execution_count": 6,
   "metadata": {},
   "outputs": [],
   "source": [
    "X = df.data[50:]\n",
    "y = df.target[50:]"
   ]
  },
  {
   "cell_type": "code",
   "execution_count": 7,
   "metadata": {},
   "outputs": [],
   "source": [
    "y[y == 1] = 0\n",
    "y[y == 2] = 1"
   ]
  },
  {
   "cell_type": "code",
   "execution_count": 8,
   "metadata": {},
   "outputs": [],
   "source": [
    "X_train, X_val, y_train, y_val = train_test_split(X, y, random_state=0)"
   ]
  },
  {
   "cell_type": "code",
   "execution_count": 9,
   "metadata": {},
   "outputs": [],
   "source": [
    "scr_lr = ScratchLogisticRegression(1000, 0.01, True, False, 1)\n",
    "lr = SGDClassifier(loss='log')"
   ]
  },
  {
   "cell_type": "code",
   "execution_count": 10,
   "metadata": {},
   "outputs": [
    {
     "data": {
      "text/plain": [
       "SGDClassifier(alpha=0.0001, average=False, class_weight=None,\n",
       "              early_stopping=False, epsilon=0.1, eta0=0.0, fit_intercept=True,\n",
       "              l1_ratio=0.15, learning_rate='optimal', loss='log', max_iter=1000,\n",
       "              n_iter_no_change=5, n_jobs=None, penalty='l2', power_t=0.5,\n",
       "              random_state=None, shuffle=True, tol=0.001,\n",
       "              validation_fraction=0.1, verbose=0, warm_start=False)"
      ]
     },
     "execution_count": 10,
     "metadata": {},
     "output_type": "execute_result"
    }
   ],
   "source": [
    "scr_lr.fit(X_train, y_train, X_val, y_val)\n",
    "lr.fit(X_train, y_train)"
   ]
  },
  {
   "cell_type": "code",
   "execution_count": 11,
   "metadata": {},
   "outputs": [],
   "source": [
    "y_pred_scr = scr_lr.predict(X_val)\n",
    "y_pred = lr.predict(X_val)"
   ]
  },
  {
   "cell_type": "code",
   "execution_count": 12,
   "metadata": {},
   "outputs": [
    {
     "data": {
      "text/plain": [
       "0.92"
      ]
     },
     "execution_count": 12,
     "metadata": {},
     "output_type": "execute_result"
    }
   ],
   "source": [
    "accuracy_score(y_val, y_pred_scr)"
   ]
  },
  {
   "cell_type": "code",
   "execution_count": 13,
   "metadata": {},
   "outputs": [
    {
     "data": {
      "text/plain": [
       "0.92"
      ]
     },
     "execution_count": 13,
     "metadata": {},
     "output_type": "execute_result"
    }
   ],
   "source": [
    "accuracy_score(y_val, y_pred)"
   ]
  },
  {
   "cell_type": "markdown",
   "metadata": {},
   "source": [
    "## スクラッチしたものとsklearnのどちらもaccuracy_scoreが同じであるため、正しく実装できたと考える。"
   ]
  },
  {
   "cell_type": "markdown",
   "metadata": {},
   "source": [
    "# 【問題6】学習曲線のプロット"
   ]
  },
  {
   "cell_type": "code",
   "execution_count": 14,
   "metadata": {},
   "outputs": [
    {
     "data": {
      "text/plain": [
       "<matplotlib.legend.Legend at 0x2a20d2a3108>"
      ]
     },
     "execution_count": 14,
     "metadata": {},
     "output_type": "execute_result"
    },
    {
     "data": {
      "image/png": "[encoded data removed]",
      "text/plain": [
       "<Figure size 432x288 with 1 Axes>"
      ]
     },
     "metadata": {
      "needs_background": "light"
     },
     "output_type": "display_data"
    }
   ],
   "source": [
    "plt.plot(scr_lr.loss, label='loss')\n",
    "plt.plot(scr_lr.val_loss, label='val_loss')\n",
    "plt.legend()"
   ]
  },
  {
   "cell_type": "markdown",
   "metadata": {},
   "source": [
    "# 【問題7】決定領域の可視化"
   ]
  },
  {
   "cell_type": "code",
   "execution_count": 15,
   "metadata": {},
   "outputs": [],
   "source": [
    "import matplotlib.pyplot as plt\n",
    "from matplotlib.colors import ListedColormap\n",
    "import matplotlib.patches as mpatches\n",
    "def decision_region(X, y, model, step=0.01, title='decision region', xlabel='sepal length (cm)', ylabel='petal length (cm)', \n",
    "                    target_names=['versicolor', 'virginica']):\n",
    "    \"\"\"\n",
    "    2値分類を2次元の特徴量で学習したモデルの決定領域を描く。\n",
    "    背景の色が学習したモデルによる推定値から描画される。\n",
    "    散布図の点は訓練データまたは検証データである。\n",
    "\n",
    "    Parameters\n",
    "    ----------------\n",
    "    X : ndarray, shape(n_samples, 2)\n",
    "        特徴量\n",
    "    y : ndarray, shape(n_samples,)\n",
    "        ラベル\n",
    "    model : object\n",
    "        学習したモデルのインスンタスを入れる\n",
    "    step : float, (default : 0.1)\n",
    "        推定値を計算する間隔を設定する\n",
    "    title : str\n",
    "        グラフのタイトルの文章を与える\n",
    "    xlabel, ylabel : str\n",
    "        軸ラベルの文章を与える\n",
    "    target_names= : list of str\n",
    "        凡例の一覧を与える\n",
    "    \"\"\"\n",
    "    # setting\n",
    "    scatter_color = ['red', 'blue']\n",
    "    contourf_color = ['pink', 'skyblue']\n",
    "    n_class = 2\n",
    "    # pred\n",
    "    mesh_f0, mesh_f1  = np.meshgrid(np.arange(np.min(X[:,0])-0.5, np.max(X[:,0])+0.5, step), np.arange(np.min(X[:,1])-0.5, np.max(X[:,1])+0.5, step))\n",
    "    mesh = np.c_[np.ravel(mesh_f0),np.ravel(mesh_f1)]\n",
    "    y_pred = model.predict(mesh).reshape(mesh_f0.shape)\n",
    "    # plot\n",
    "    plt.title(title)\n",
    "    plt.xlabel(xlabel)\n",
    "    plt.ylabel(ylabel)\n",
    "    plt.contourf(mesh_f0, mesh_f1, y_pred, n_class-1, cmap=ListedColormap(contourf_color))\n",
    "    plt.contour(mesh_f0, mesh_f1, y_pred, n_class-1, colors='y', linewidths=3, alpha=0.5)\n",
    "    for i, target in enumerate(set(y)):\n",
    "        plt.scatter(X[y==target][:, 0], X[y==target][:, 1], s=80, color=scatter_color[i], label=target_names[i], marker='o')\n",
    "    patches = [mpatches.Patch(color=scatter_color[i], label=target_names[i]) for i in range(n_class)]\n",
    "    plt.legend(handles=patches)\n",
    "    plt.legend()\n",
    "    plt.show()"
   ]
  },
  {
   "cell_type": "markdown",
   "metadata": {},
   "source": [
    "## 可視化するために特徴量を２つに絞る。"
   ]
  },
  {
   "cell_type": "code",
   "execution_count": 16,
   "metadata": {},
   "outputs": [],
   "source": [
    "X_2_features = np.concatenate([X[:, 0].reshape(-1, 1), X[:, 2].reshape(-1, 1)], axis=1)"
   ]
  },
  {
   "cell_type": "code",
   "execution_count": 17,
   "metadata": {},
   "outputs": [],
   "source": [
    "X_train_2_features, X_val_2_features, y_train, y_val = train_test_split(X_2_features, y, random_state=0)"
   ]
  },
  {
   "cell_type": "code",
   "execution_count": 18,
   "metadata": {},
   "outputs": [],
   "source": [
    "scr_lr_2_features = ScratchLogisticRegression(1000, 0.01, True, False, 1)\n",
    "lr_2_features = SGDClassifier(loss='log')"
   ]
  },
  {
   "cell_type": "code",
   "execution_count": 19,
   "metadata": {},
   "outputs": [
    {
     "data": {
      "text/plain": [
       "SGDClassifier(alpha=0.0001, average=False, class_weight=None,\n",
       "              early_stopping=False, epsilon=0.1, eta0=0.0, fit_intercept=True,\n",
       "              l1_ratio=0.15, learning_rate='optimal', loss='log', max_iter=1000,\n",
       "              n_iter_no_change=5, n_jobs=None, penalty='l2', power_t=0.5,\n",
       "              random_state=None, shuffle=True, tol=0.001,\n",
       "              validation_fraction=0.1, verbose=0, warm_start=False)"
      ]
     },
     "execution_count": 19,
     "metadata": {},
     "output_type": "execute_result"
    }
   ],
   "source": [
    "scr_lr_2_features.fit(X_train_2_features, y_train, X_val_2_features, y_val)\n",
    "lr_2_features.fit(X_train_2_features, y_train)"
   ]
  },
  {
   "cell_type": "code",
   "execution_count": 20,
   "metadata": {},
   "outputs": [],
   "source": [
    "y_pred_scr_2_features = scr_lr_2_features.predict(X_val_2_features)\n",
    "y_pred_2_features = lr_2_features.predict(X_val_2_features)"
   ]
  },
  {
   "cell_type": "code",
   "execution_count": 21,
   "metadata": {},
   "outputs": [
    {
     "data": {
      "text/plain": [
       "0.84"
      ]
     },
     "execution_count": 21,
     "metadata": {},
     "output_type": "execute_result"
    }
   ],
   "source": [
    "accuracy_score(y_val, y_pred_scr_2_features)"
   ]
  },
  {
   "cell_type": "code",
   "execution_count": 22,
   "metadata": {},
   "outputs": [
    {
     "data": {
      "text/plain": [
       "0.88"
      ]
     },
     "execution_count": 22,
     "metadata": {},
     "output_type": "execute_result"
    }
   ],
   "source": [
    "accuracy_score(y_val, y_pred_2_features)"
   ]
  },
  {
   "cell_type": "code",
   "execution_count": 23,
   "metadata": {},
   "outputs": [
    {
     "data": {
      "image/png": "[encoded data removed]",
      "text/plain": [
       "<Figure size 432x288 with 1 Axes>"
      ]
     },
     "metadata": {
      "needs_background": "light"
     },
     "output_type": "display_data"
    }
   ],
   "source": [
    "decision_region(X_train_2_features, y_train, scr_lr_2_features)"
   ]
  },
  {
   "cell_type": "code",
   "execution_count": 24,
   "metadata": {},
   "outputs": [
    {
     "data": {
      "image/png": "[encoded data removed]",
      "text/plain": [
       "<Figure size 432x288 with 1 Axes>"
      ]
     },
     "metadata": {
      "needs_background": "light"
     },
     "output_type": "display_data"
    }
   ],
   "source": [
    "decision_region(X_train_2_features, y_train, lr_2_features)"
   ]
  },
  {
   "cell_type": "markdown",
   "metadata": {},
   "source": [
    "# 【問題8】（アドバンス課題）重みの保存"
   ]
  },
  {
   "cell_type": "code",
   "execution_count": 25,
   "metadata": {},
   "outputs": [],
   "source": [
    "from tempfile import TemporaryFile\n",
    "outfile = TemporaryFile()"
   ]
  },
  {
   "cell_type": "code",
   "execution_count": 26,
   "metadata": {},
   "outputs": [
    {
     "data": {
      "text/plain": [
       "array([[-0.37039629],\n",
       "       [-0.67650326],\n",
       "       [ 0.97501554]])"
      ]
     },
     "execution_count": 26,
     "metadata": {},
     "output_type": "execute_result"
    }
   ],
   "source": [
    "theta = scr_lr_2_features.coef_\n",
    "theta"
   ]
  },
  {
   "cell_type": "code",
   "execution_count": 27,
   "metadata": {},
   "outputs": [],
   "source": [
    "np.savez('theta.npz', theta)"
   ]
  },
  {
   "cell_type": "code",
   "execution_count": 28,
   "metadata": {},
   "outputs": [],
   "source": [
    "npzfile = np.load('theta.npz')"
   ]
  },
  {
   "cell_type": "code",
   "execution_count": 29,
   "metadata": {},
   "outputs": [
    {
     "data": {
      "text/plain": [
       "['arr_0']"
      ]
     },
     "execution_count": 29,
     "metadata": {},
     "output_type": "execute_result"
    }
   ],
   "source": [
    "npzfile.files"
   ]
  },
  {
   "cell_type": "code",
   "execution_count": 30,
   "metadata": {},
   "outputs": [
    {
     "data": {
      "text/plain": [
       "array([[-0.37039629],\n",
       "       [-0.67650326],\n",
       "       [ 0.97501554]])"
      ]
     },
     "execution_count": 30,
     "metadata": {},
     "output_type": "execute_result"
    }
   ],
   "source": [
    "npzfile['arr_0']"
   ]
  },
  {
   "cell_type": "markdown",
   "metadata": {},
   "source": [
    "## 今回の学習した重みをtheta.npzに保存することができた。"
   ]
  },
  {
   "cell_type": "code",
   "execution_count": null,
   "metadata": {},
   "outputs": [],
   "source": []
  }
 ],
 "metadata": {
  "kernelspec": {
   "display_name": "Python 3",
   "language": "python",
   "name": "python3"
  },
  "language_info": {
   "codemirror_mode": {
    "name": "ipython",
    "version": 3
   },
   "file_extension": ".py",
   "mimetype": "text/x-python",
   "name": "python",
   "nbconvert_exporter": "python",
   "pygments_lexer": "ipython3",
   "version": "3.7.4"
  }
 },
 "nbformat": 4,
 "nbformat_minor": 2
}
